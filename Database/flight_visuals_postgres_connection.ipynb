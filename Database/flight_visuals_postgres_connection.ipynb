{
 "cells": [
  {
   "cell_type": "code",
   "execution_count": 1,
   "metadata": {},
   "outputs": [],
   "source": [
    "#Import Dependencies\n",
    "import pandas as pd\n",
    "import sqlalchemy\n",
    "from sqlalchemy.ext.automap import automap_base\n",
    "from sqlalchemy.orm import Session\n",
    "from sqlalchemy import create_engine, func\n",
    "from config import password\n",
    "import matplotlib.pyplot as plt\n",
    "import plotly.express as px\n",
    "import plotly.graph_objects as go"
   ]
  },
  {
   "cell_type": "code",
   "execution_count": 2,
   "metadata": {},
   "outputs": [],
   "source": [
    "#Create engine using connection string\n",
    "engine = create_engine(\"postgres://postgres:\" + password + \"@flightsdata.cxtoxxxge4vx.us-east-2.rds.amazonaws.com/flightsdata\")"
   ]
  },
  {
   "cell_type": "code",
   "execution_count": 26,
   "metadata": {},
   "outputs": [
    {
     "data": {
      "text/html": [
       "<div>\n",
       "<style scoped>\n",
       "    .dataframe tbody tr th:only-of-type {\n",
       "        vertical-align: middle;\n",
       "    }\n",
       "\n",
       "    .dataframe tbody tr th {\n",
       "        vertical-align: top;\n",
       "    }\n",
       "\n",
       "    .dataframe thead th {\n",
       "        text-align: right;\n",
       "    }\n",
       "</style>\n",
       "<table border=\"1\" class=\"dataframe\">\n",
       "  <thead>\n",
       "    <tr style=\"text-align: right;\">\n",
       "      <th></th>\n",
       "      <th>op_carrier_airline_id</th>\n",
       "      <th>op_unique_carrier</th>\n",
       "      <th>op_carrier_name</th>\n",
       "    </tr>\n",
       "  </thead>\n",
       "  <tbody>\n",
       "    <tr>\n",
       "      <th>0</th>\n",
       "      <td>20363</td>\n",
       "      <td>9E</td>\n",
       "      <td>Endeavor Air</td>\n",
       "    </tr>\n",
       "    <tr>\n",
       "      <th>1</th>\n",
       "      <td>19805</td>\n",
       "      <td>AA</td>\n",
       "      <td>American Airlines</td>\n",
       "    </tr>\n",
       "    <tr>\n",
       "      <th>2</th>\n",
       "      <td>19930</td>\n",
       "      <td>AS</td>\n",
       "      <td>Alaska Airlines</td>\n",
       "    </tr>\n",
       "    <tr>\n",
       "      <th>3</th>\n",
       "      <td>20409</td>\n",
       "      <td>B6</td>\n",
       "      <td>Jet Blue</td>\n",
       "    </tr>\n",
       "    <tr>\n",
       "      <th>4</th>\n",
       "      <td>19790</td>\n",
       "      <td>DL</td>\n",
       "      <td>Delta Air Lines</td>\n",
       "    </tr>\n",
       "    <tr>\n",
       "      <th>5</th>\n",
       "      <td>20366</td>\n",
       "      <td>EV</td>\n",
       "      <td>Atlantic Southeast Airlines</td>\n",
       "    </tr>\n",
       "    <tr>\n",
       "      <th>6</th>\n",
       "      <td>20436</td>\n",
       "      <td>F9</td>\n",
       "      <td>Frontier Airlines</td>\n",
       "    </tr>\n",
       "    <tr>\n",
       "      <th>7</th>\n",
       "      <td>20368</td>\n",
       "      <td>G4</td>\n",
       "      <td>Allegiant Air</td>\n",
       "    </tr>\n",
       "    <tr>\n",
       "      <th>8</th>\n",
       "      <td>19690</td>\n",
       "      <td>HA</td>\n",
       "      <td>Hawaiian Airlines</td>\n",
       "    </tr>\n",
       "    <tr>\n",
       "      <th>9</th>\n",
       "      <td>20398</td>\n",
       "      <td>MQ</td>\n",
       "      <td>Envoy Air</td>\n",
       "    </tr>\n",
       "    <tr>\n",
       "      <th>10</th>\n",
       "      <td>20416</td>\n",
       "      <td>NK</td>\n",
       "      <td>Spirit Airlines</td>\n",
       "    </tr>\n",
       "    <tr>\n",
       "      <th>11</th>\n",
       "      <td>20397</td>\n",
       "      <td>OH</td>\n",
       "      <td>Comair</td>\n",
       "    </tr>\n",
       "    <tr>\n",
       "      <th>12</th>\n",
       "      <td>20304</td>\n",
       "      <td>OO</td>\n",
       "      <td>SkyWest Airlines</td>\n",
       "    </tr>\n",
       "    <tr>\n",
       "      <th>13</th>\n",
       "      <td>19977</td>\n",
       "      <td>UA</td>\n",
       "      <td>United Airlines</td>\n",
       "    </tr>\n",
       "    <tr>\n",
       "      <th>14</th>\n",
       "      <td>19393</td>\n",
       "      <td>WN</td>\n",
       "      <td>Southwest Airlines</td>\n",
       "    </tr>\n",
       "    <tr>\n",
       "      <th>15</th>\n",
       "      <td>20378</td>\n",
       "      <td>YV</td>\n",
       "      <td>Mesa Airlines</td>\n",
       "    </tr>\n",
       "    <tr>\n",
       "      <th>16</th>\n",
       "      <td>20452</td>\n",
       "      <td>YX</td>\n",
       "      <td>Midwest Airlines</td>\n",
       "    </tr>\n",
       "  </tbody>\n",
       "</table>\n",
       "</div>"
      ],
      "text/plain": [
       "   op_carrier_airline_id op_unique_carrier              op_carrier_name\n",
       "0                  20363                9E                 Endeavor Air\n",
       "1                  19805                AA            American Airlines\n",
       "2                  19930                AS              Alaska Airlines\n",
       "3                  20409                B6                     Jet Blue\n",
       "4                  19790                DL              Delta Air Lines\n",
       "5                  20366                EV  Atlantic Southeast Airlines\n",
       "6                  20436                F9            Frontier Airlines\n",
       "7                  20368                G4                Allegiant Air\n",
       "8                  19690                HA            Hawaiian Airlines\n",
       "9                  20398                MQ                    Envoy Air\n",
       "10                 20416                NK              Spirit Airlines\n",
       "11                 20397                OH                       Comair\n",
       "12                 20304                OO           SkyWest Airlines  \n",
       "13                 19977                UA              United Airlines\n",
       "14                 19393                WN           Southwest Airlines\n",
       "15                 20378                YV                Mesa Airlines\n",
       "16                 20452                YX             Midwest Airlines"
      ]
     },
     "execution_count": 26,
     "metadata": {},
     "output_type": "execute_result"
    }
   ],
   "source": [
    "#Create a database for 2020 flight data\n",
    "airlines pd.read_sql_query(\"SELECT * FROM airlines\", engine)\n",
    "airlines"
   ]
  },
  {
   "cell_type": "code",
   "execution_count": 27,
   "metadata": {},
   "outputs": [
    {
     "data": {
      "text/plain": [
       "op_carrier_airline_id    17\n",
       "op_unique_carrier        17\n",
       "op_carrier_name          17\n",
       "dtype: int64"
      ]
     },
     "execution_count": 27,
     "metadata": {},
     "output_type": "execute_result"
    }
   ],
   "source": [
    "airlines.count()"
   ]
  },
  {
   "cell_type": "code",
   "execution_count": 31,
   "metadata": {},
   "outputs": [
    {
     "data": {
      "text/html": [
       "<div>\n",
       "<style scoped>\n",
       "    .dataframe tbody tr th:only-of-type {\n",
       "        vertical-align: middle;\n",
       "    }\n",
       "\n",
       "    .dataframe tbody tr th {\n",
       "        vertical-align: top;\n",
       "    }\n",
       "\n",
       "    .dataframe thead th {\n",
       "        text-align: right;\n",
       "    }\n",
       "</style>\n",
       "<table border=\"1\" class=\"dataframe\">\n",
       "  <thead>\n",
       "    <tr style=\"text-align: right;\">\n",
       "      <th></th>\n",
       "      <th>op_carrier_airline_id</th>\n",
       "      <th>op_carrier</th>\n",
       "      <th>op_carrier_name</th>\n",
       "    </tr>\n",
       "  </thead>\n",
       "  <tbody>\n",
       "    <tr>\n",
       "      <th>0</th>\n",
       "      <td>20363</td>\n",
       "      <td>9E</td>\n",
       "      <td>Endeavor Air</td>\n",
       "    </tr>\n",
       "    <tr>\n",
       "      <th>1</th>\n",
       "      <td>19805</td>\n",
       "      <td>AA</td>\n",
       "      <td>American Airlines</td>\n",
       "    </tr>\n",
       "    <tr>\n",
       "      <th>2</th>\n",
       "      <td>19930</td>\n",
       "      <td>AS</td>\n",
       "      <td>Alaska Airlines</td>\n",
       "    </tr>\n",
       "    <tr>\n",
       "      <th>3</th>\n",
       "      <td>20409</td>\n",
       "      <td>B6</td>\n",
       "      <td>Jet Blue</td>\n",
       "    </tr>\n",
       "    <tr>\n",
       "      <th>4</th>\n",
       "      <td>19790</td>\n",
       "      <td>DL</td>\n",
       "      <td>Delta Air Lines</td>\n",
       "    </tr>\n",
       "    <tr>\n",
       "      <th>5</th>\n",
       "      <td>20366</td>\n",
       "      <td>EV</td>\n",
       "      <td>Atlantic Southeast Airlines</td>\n",
       "    </tr>\n",
       "    <tr>\n",
       "      <th>6</th>\n",
       "      <td>20436</td>\n",
       "      <td>F9</td>\n",
       "      <td>Frontier Airlines</td>\n",
       "    </tr>\n",
       "    <tr>\n",
       "      <th>7</th>\n",
       "      <td>20368</td>\n",
       "      <td>G4</td>\n",
       "      <td>Allegiant Air</td>\n",
       "    </tr>\n",
       "    <tr>\n",
       "      <th>8</th>\n",
       "      <td>19690</td>\n",
       "      <td>HA</td>\n",
       "      <td>Hawaiian Airlines</td>\n",
       "    </tr>\n",
       "    <tr>\n",
       "      <th>9</th>\n",
       "      <td>20398</td>\n",
       "      <td>MQ</td>\n",
       "      <td>Envoy Air</td>\n",
       "    </tr>\n",
       "    <tr>\n",
       "      <th>10</th>\n",
       "      <td>20416</td>\n",
       "      <td>NK</td>\n",
       "      <td>Spirit Airlines</td>\n",
       "    </tr>\n",
       "    <tr>\n",
       "      <th>11</th>\n",
       "      <td>20397</td>\n",
       "      <td>OH</td>\n",
       "      <td>Comair</td>\n",
       "    </tr>\n",
       "    <tr>\n",
       "      <th>12</th>\n",
       "      <td>20304</td>\n",
       "      <td>OO</td>\n",
       "      <td>SkyWest Airlines</td>\n",
       "    </tr>\n",
       "    <tr>\n",
       "      <th>13</th>\n",
       "      <td>19977</td>\n",
       "      <td>UA</td>\n",
       "      <td>United Airlines</td>\n",
       "    </tr>\n",
       "    <tr>\n",
       "      <th>14</th>\n",
       "      <td>19393</td>\n",
       "      <td>WN</td>\n",
       "      <td>Southwest Airlines</td>\n",
       "    </tr>\n",
       "    <tr>\n",
       "      <th>15</th>\n",
       "      <td>20378</td>\n",
       "      <td>YV</td>\n",
       "      <td>Mesa Airlines</td>\n",
       "    </tr>\n",
       "    <tr>\n",
       "      <th>16</th>\n",
       "      <td>20452</td>\n",
       "      <td>YX</td>\n",
       "      <td>Midwest Airlines</td>\n",
       "    </tr>\n",
       "  </tbody>\n",
       "</table>\n",
       "</div>"
      ],
      "text/plain": [
       "   op_carrier_airline_id op_carrier              op_carrier_name\n",
       "0                  20363         9E                 Endeavor Air\n",
       "1                  19805         AA            American Airlines\n",
       "2                  19930         AS              Alaska Airlines\n",
       "3                  20409         B6                     Jet Blue\n",
       "4                  19790         DL              Delta Air Lines\n",
       "5                  20366         EV  Atlantic Southeast Airlines\n",
       "6                  20436         F9            Frontier Airlines\n",
       "7                  20368         G4                Allegiant Air\n",
       "8                  19690         HA            Hawaiian Airlines\n",
       "9                  20398         MQ                    Envoy Air\n",
       "10                 20416         NK              Spirit Airlines\n",
       "11                 20397         OH                       Comair\n",
       "12                 20304         OO           SkyWest Airlines  \n",
       "13                 19977         UA              United Airlines\n",
       "14                 19393         WN           Southwest Airlines\n",
       "15                 20378         YV                Mesa Airlines\n",
       "16                 20452         YX             Midwest Airlines"
      ]
     },
     "execution_count": 31,
     "metadata": {},
     "output_type": "execute_result"
    }
   ],
   "source": [
    "airlines.columns = airlines.columns.str.replace('op_unique_carrier','op_carrier')\n",
    "airlines"
   ]
  },
  {
   "cell_type": "code",
   "execution_count": 3,
   "metadata": {},
   "outputs": [
    {
     "data": {
      "text/html": [
       "<div>\n",
       "<style scoped>\n",
       "    .dataframe tbody tr th:only-of-type {\n",
       "        vertical-align: middle;\n",
       "    }\n",
       "\n",
       "    .dataframe tbody tr th {\n",
       "        vertical-align: top;\n",
       "    }\n",
       "\n",
       "    .dataframe thead th {\n",
       "        text-align: right;\n",
       "    }\n",
       "</style>\n",
       "<table border=\"1\" class=\"dataframe\">\n",
       "  <thead>\n",
       "    <tr style=\"text-align: right;\">\n",
       "      <th></th>\n",
       "      <th>origin</th>\n",
       "      <th>origin_city</th>\n",
       "      <th>day_of_month</th>\n",
       "      <th>day_of_week</th>\n",
       "      <th>op_carrier_airline_id</th>\n",
       "      <th>op_carrier</th>\n",
       "      <th>tail_num</th>\n",
       "      <th>op_carrier_fl_num</th>\n",
       "      <th>origin_airport_id</th>\n",
       "      <th>origin_airport_seq_id</th>\n",
       "      <th>...</th>\n",
       "      <th>dest</th>\n",
       "      <th>dep_time</th>\n",
       "      <th>dep_del15</th>\n",
       "      <th>dep_time_blk</th>\n",
       "      <th>arr_time</th>\n",
       "      <th>arr_del15</th>\n",
       "      <th>cancelled</th>\n",
       "      <th>diverted</th>\n",
       "      <th>distance</th>\n",
       "      <th>dest_city</th>\n",
       "    </tr>\n",
       "  </thead>\n",
       "  <tbody>\n",
       "    <tr>\n",
       "      <th>0</th>\n",
       "      <td>ABR</td>\n",
       "      <td>aberdeen,sd</td>\n",
       "      <td>2019-01-01</td>\n",
       "      <td>2</td>\n",
       "      <td>20304</td>\n",
       "      <td>OO</td>\n",
       "      <td>N910EV</td>\n",
       "      <td>7363</td>\n",
       "      <td>10141</td>\n",
       "      <td>1014106</td>\n",
       "      <td>...</td>\n",
       "      <td>MSP</td>\n",
       "      <td>1411.0</td>\n",
       "      <td>1.0</td>\n",
       "      <td>1300-1359</td>\n",
       "      <td>1521.0</td>\n",
       "      <td>1.0</td>\n",
       "      <td>0.0</td>\n",
       "      <td>0.0</td>\n",
       "      <td>257</td>\n",
       "      <td>minneapolis,mn</td>\n",
       "    </tr>\n",
       "    <tr>\n",
       "      <th>1</th>\n",
       "      <td>ABR</td>\n",
       "      <td>aberdeen,sd</td>\n",
       "      <td>2019-01-01</td>\n",
       "      <td>2</td>\n",
       "      <td>20304</td>\n",
       "      <td>OO</td>\n",
       "      <td>N432SW</td>\n",
       "      <td>7365</td>\n",
       "      <td>10141</td>\n",
       "      <td>1014106</td>\n",
       "      <td>...</td>\n",
       "      <td>MSP</td>\n",
       "      <td>642.0</td>\n",
       "      <td>0.0</td>\n",
       "      <td>0600-0659</td>\n",
       "      <td>800.0</td>\n",
       "      <td>0.0</td>\n",
       "      <td>0.0</td>\n",
       "      <td>0.0</td>\n",
       "      <td>257</td>\n",
       "      <td>minneapolis,mn</td>\n",
       "    </tr>\n",
       "    <tr>\n",
       "      <th>2</th>\n",
       "      <td>ABR</td>\n",
       "      <td>aberdeen,sd</td>\n",
       "      <td>2019-01-02</td>\n",
       "      <td>3</td>\n",
       "      <td>20304</td>\n",
       "      <td>OO</td>\n",
       "      <td>N498CA</td>\n",
       "      <td>7363</td>\n",
       "      <td>10141</td>\n",
       "      <td>1014106</td>\n",
       "      <td>...</td>\n",
       "      <td>MSP</td>\n",
       "      <td>1310.0</td>\n",
       "      <td>0.0</td>\n",
       "      <td>1300-1359</td>\n",
       "      <td>1424.0</td>\n",
       "      <td>0.0</td>\n",
       "      <td>0.0</td>\n",
       "      <td>0.0</td>\n",
       "      <td>257</td>\n",
       "      <td>minneapolis,mn</td>\n",
       "    </tr>\n",
       "    <tr>\n",
       "      <th>3</th>\n",
       "      <td>ABR</td>\n",
       "      <td>aberdeen,sd</td>\n",
       "      <td>2019-01-02</td>\n",
       "      <td>3</td>\n",
       "      <td>20304</td>\n",
       "      <td>OO</td>\n",
       "      <td>N439SW</td>\n",
       "      <td>7365</td>\n",
       "      <td>10141</td>\n",
       "      <td>1014106</td>\n",
       "      <td>...</td>\n",
       "      <td>MSP</td>\n",
       "      <td>502.0</td>\n",
       "      <td>0.0</td>\n",
       "      <td>0001-0559</td>\n",
       "      <td>622.0</td>\n",
       "      <td>0.0</td>\n",
       "      <td>0.0</td>\n",
       "      <td>0.0</td>\n",
       "      <td>257</td>\n",
       "      <td>minneapolis,mn</td>\n",
       "    </tr>\n",
       "    <tr>\n",
       "      <th>4</th>\n",
       "      <td>ABR</td>\n",
       "      <td>aberdeen,sd</td>\n",
       "      <td>2019-01-03</td>\n",
       "      <td>4</td>\n",
       "      <td>20304</td>\n",
       "      <td>OO</td>\n",
       "      <td>N8965E</td>\n",
       "      <td>7363</td>\n",
       "      <td>10141</td>\n",
       "      <td>1014106</td>\n",
       "      <td>...</td>\n",
       "      <td>MSP</td>\n",
       "      <td>1307.0</td>\n",
       "      <td>0.0</td>\n",
       "      <td>1300-1359</td>\n",
       "      <td>1411.0</td>\n",
       "      <td>0.0</td>\n",
       "      <td>0.0</td>\n",
       "      <td>0.0</td>\n",
       "      <td>257</td>\n",
       "      <td>minneapolis,mn</td>\n",
       "    </tr>\n",
       "    <tr>\n",
       "      <th>...</th>\n",
       "      <td>...</td>\n",
       "      <td>...</td>\n",
       "      <td>...</td>\n",
       "      <td>...</td>\n",
       "      <td>...</td>\n",
       "      <td>...</td>\n",
       "      <td>...</td>\n",
       "      <td>...</td>\n",
       "      <td>...</td>\n",
       "      <td>...</td>\n",
       "      <td>...</td>\n",
       "      <td>...</td>\n",
       "      <td>...</td>\n",
       "      <td>...</td>\n",
       "      <td>...</td>\n",
       "      <td>...</td>\n",
       "      <td>...</td>\n",
       "      <td>...</td>\n",
       "      <td>...</td>\n",
       "      <td>...</td>\n",
       "      <td>...</td>\n",
       "    </tr>\n",
       "    <tr>\n",
       "      <th>563121</th>\n",
       "      <td>LYH</td>\n",
       "      <td>lynchburg,va</td>\n",
       "      <td>2019-01-29</td>\n",
       "      <td>2</td>\n",
       "      <td>20397</td>\n",
       "      <td>OH</td>\n",
       "      <td>N519AE</td>\n",
       "      <td>5174</td>\n",
       "      <td>13139</td>\n",
       "      <td>1313902</td>\n",
       "      <td>...</td>\n",
       "      <td>CLT</td>\n",
       "      <td>1108.0</td>\n",
       "      <td>0.0</td>\n",
       "      <td>1100-1159</td>\n",
       "      <td>1223.0</td>\n",
       "      <td>0.0</td>\n",
       "      <td>0.0</td>\n",
       "      <td>0.0</td>\n",
       "      <td>175</td>\n",
       "      <td>charlotte,nc</td>\n",
       "    </tr>\n",
       "    <tr>\n",
       "      <th>563122</th>\n",
       "      <td>LYH</td>\n",
       "      <td>lynchburg,va</td>\n",
       "      <td>2019-01-30</td>\n",
       "      <td>3</td>\n",
       "      <td>20397</td>\n",
       "      <td>OH</td>\n",
       "      <td>N563NN</td>\n",
       "      <td>5116</td>\n",
       "      <td>13139</td>\n",
       "      <td>1313902</td>\n",
       "      <td>...</td>\n",
       "      <td>CLT</td>\n",
       "      <td>642.0</td>\n",
       "      <td>0.0</td>\n",
       "      <td>0600-0659</td>\n",
       "      <td>744.0</td>\n",
       "      <td>0.0</td>\n",
       "      <td>0.0</td>\n",
       "      <td>0.0</td>\n",
       "      <td>175</td>\n",
       "      <td>charlotte,nc</td>\n",
       "    </tr>\n",
       "    <tr>\n",
       "      <th>563123</th>\n",
       "      <td>LYH</td>\n",
       "      <td>lynchburg,va</td>\n",
       "      <td>2019-01-30</td>\n",
       "      <td>3</td>\n",
       "      <td>20397</td>\n",
       "      <td>OH</td>\n",
       "      <td>N712PS</td>\n",
       "      <td>5174</td>\n",
       "      <td>13139</td>\n",
       "      <td>1313902</td>\n",
       "      <td>...</td>\n",
       "      <td>CLT</td>\n",
       "      <td>1102.0</td>\n",
       "      <td>0.0</td>\n",
       "      <td>1100-1159</td>\n",
       "      <td>1220.0</td>\n",
       "      <td>0.0</td>\n",
       "      <td>0.0</td>\n",
       "      <td>0.0</td>\n",
       "      <td>175</td>\n",
       "      <td>charlotte,nc</td>\n",
       "    </tr>\n",
       "    <tr>\n",
       "      <th>563124</th>\n",
       "      <td>LYH</td>\n",
       "      <td>lynchburg,va</td>\n",
       "      <td>2019-01-31</td>\n",
       "      <td>4</td>\n",
       "      <td>20397</td>\n",
       "      <td>OH</td>\n",
       "      <td>N709PS</td>\n",
       "      <td>5116</td>\n",
       "      <td>13139</td>\n",
       "      <td>1313902</td>\n",
       "      <td>...</td>\n",
       "      <td>CLT</td>\n",
       "      <td>648.0</td>\n",
       "      <td>0.0</td>\n",
       "      <td>0600-0659</td>\n",
       "      <td>746.0</td>\n",
       "      <td>0.0</td>\n",
       "      <td>0.0</td>\n",
       "      <td>0.0</td>\n",
       "      <td>175</td>\n",
       "      <td>charlotte,nc</td>\n",
       "    </tr>\n",
       "    <tr>\n",
       "      <th>563125</th>\n",
       "      <td>LYH</td>\n",
       "      <td>lynchburg,va</td>\n",
       "      <td>2019-01-31</td>\n",
       "      <td>4</td>\n",
       "      <td>20397</td>\n",
       "      <td>OH</td>\n",
       "      <td>N723PS</td>\n",
       "      <td>5174</td>\n",
       "      <td>13139</td>\n",
       "      <td>1313902</td>\n",
       "      <td>...</td>\n",
       "      <td>CLT</td>\n",
       "      <td>1107.0</td>\n",
       "      <td>0.0</td>\n",
       "      <td>1100-1159</td>\n",
       "      <td>1232.0</td>\n",
       "      <td>0.0</td>\n",
       "      <td>0.0</td>\n",
       "      <td>0.0</td>\n",
       "      <td>175</td>\n",
       "      <td>charlotte,nc</td>\n",
       "    </tr>\n",
       "  </tbody>\n",
       "</table>\n",
       "<p>563126 rows × 22 columns</p>\n",
       "</div>"
      ],
      "text/plain": [
       "       origin                               origin_city day_of_month  \\\n",
       "0         ABR  aberdeen,sd                                2019-01-01   \n",
       "1         ABR  aberdeen,sd                                2019-01-01   \n",
       "2         ABR  aberdeen,sd                                2019-01-02   \n",
       "3         ABR  aberdeen,sd                                2019-01-02   \n",
       "4         ABR  aberdeen,sd                                2019-01-03   \n",
       "...       ...                                       ...          ...   \n",
       "563121    LYH  lynchburg,va                               2019-01-29   \n",
       "563122    LYH  lynchburg,va                               2019-01-30   \n",
       "563123    LYH  lynchburg,va                               2019-01-30   \n",
       "563124    LYH  lynchburg,va                               2019-01-31   \n",
       "563125    LYH  lynchburg,va                               2019-01-31   \n",
       "\n",
       "        day_of_week op_carrier_airline_id op_carrier tail_num  \\\n",
       "0                 2                 20304         OO   N910EV   \n",
       "1                 2                 20304         OO   N432SW   \n",
       "2                 3                 20304         OO   N498CA   \n",
       "3                 3                 20304         OO   N439SW   \n",
       "4                 4                 20304         OO   N8965E   \n",
       "...             ...                   ...        ...      ...   \n",
       "563121            2                 20397         OH   N519AE   \n",
       "563122            3                 20397         OH   N563NN   \n",
       "563123            3                 20397         OH   N712PS   \n",
       "563124            4                 20397         OH   N709PS   \n",
       "563125            4                 20397         OH   N723PS   \n",
       "\n",
       "       op_carrier_fl_num origin_airport_id origin_airport_seq_id  ... dest  \\\n",
       "0                   7363             10141               1014106  ...  MSP   \n",
       "1                   7365             10141               1014106  ...  MSP   \n",
       "2                   7363             10141               1014106  ...  MSP   \n",
       "3                   7365             10141               1014106  ...  MSP   \n",
       "4                   7363             10141               1014106  ...  MSP   \n",
       "...                  ...               ...                   ...  ...  ...   \n",
       "563121              5174             13139               1313902  ...  CLT   \n",
       "563122              5116             13139               1313902  ...  CLT   \n",
       "563123              5174             13139               1313902  ...  CLT   \n",
       "563124              5116             13139               1313902  ...  CLT   \n",
       "563125              5174             13139               1313902  ...  CLT   \n",
       "\n",
       "       dep_time dep_del15  dep_time_blk  arr_time arr_del15  cancelled  \\\n",
       "0        1411.0       1.0     1300-1359    1521.0       1.0        0.0   \n",
       "1         642.0       0.0     0600-0659     800.0       0.0        0.0   \n",
       "2        1310.0       0.0     1300-1359    1424.0       0.0        0.0   \n",
       "3         502.0       0.0     0001-0559     622.0       0.0        0.0   \n",
       "4        1307.0       0.0     1300-1359    1411.0       0.0        0.0   \n",
       "...         ...       ...           ...       ...       ...        ...   \n",
       "563121   1108.0       0.0     1100-1159    1223.0       0.0        0.0   \n",
       "563122    642.0       0.0     0600-0659     744.0       0.0        0.0   \n",
       "563123   1102.0       0.0     1100-1159    1220.0       0.0        0.0   \n",
       "563124    648.0       0.0     0600-0659     746.0       0.0        0.0   \n",
       "563125   1107.0       0.0     1100-1159    1232.0       0.0        0.0   \n",
       "\n",
       "        diverted  distance                                 dest_city  \n",
       "0            0.0       257  minneapolis,mn                            \n",
       "1            0.0       257  minneapolis,mn                            \n",
       "2            0.0       257  minneapolis,mn                            \n",
       "3            0.0       257  minneapolis,mn                            \n",
       "4            0.0       257  minneapolis,mn                            \n",
       "...          ...       ...                                       ...  \n",
       "563121       0.0       175  charlotte,nc                              \n",
       "563122       0.0       175  charlotte,nc                              \n",
       "563123       0.0       175  charlotte,nc                              \n",
       "563124       0.0       175  charlotte,nc                              \n",
       "563125       0.0       175  charlotte,nc                              \n",
       "\n",
       "[563126 rows x 22 columns]"
      ]
     },
     "execution_count": 3,
     "metadata": {},
     "output_type": "execute_result"
    }
   ],
   "source": [
    "#Create a database for 2019 flight data\n",
    "flight_2019 = pd.read_sql_query(\"SELECT * FROM flight_data_2019\", engine)\n",
    "flight_2019"
   ]
  },
  {
   "cell_type": "code",
   "execution_count": 32,
   "metadata": {},
   "outputs": [
    {
     "data": {
      "text/html": [
       "<div>\n",
       "<style scoped>\n",
       "    .dataframe tbody tr th:only-of-type {\n",
       "        vertical-align: middle;\n",
       "    }\n",
       "\n",
       "    .dataframe tbody tr th {\n",
       "        vertical-align: top;\n",
       "    }\n",
       "\n",
       "    .dataframe thead th {\n",
       "        text-align: right;\n",
       "    }\n",
       "</style>\n",
       "<table border=\"1\" class=\"dataframe\">\n",
       "  <thead>\n",
       "    <tr style=\"text-align: right;\">\n",
       "      <th></th>\n",
       "      <th>origin</th>\n",
       "      <th>origin_city</th>\n",
       "      <th>day_of_month</th>\n",
       "      <th>day_of_week</th>\n",
       "      <th>op_carrier_airline_id_x</th>\n",
       "      <th>op_carrier</th>\n",
       "      <th>tail_num</th>\n",
       "      <th>op_carrier_fl_num</th>\n",
       "      <th>origin_airport_id</th>\n",
       "      <th>origin_airport_seq_id</th>\n",
       "      <th>...</th>\n",
       "      <th>dep_time_blk</th>\n",
       "      <th>arr_time</th>\n",
       "      <th>arr_del15</th>\n",
       "      <th>cancelled</th>\n",
       "      <th>diverted</th>\n",
       "      <th>distance</th>\n",
       "      <th>dest_city</th>\n",
       "      <th>weekday</th>\n",
       "      <th>op_carrier_airline_id_y</th>\n",
       "      <th>op_carrier_name</th>\n",
       "    </tr>\n",
       "  </thead>\n",
       "  <tbody>\n",
       "    <tr>\n",
       "      <th>0</th>\n",
       "      <td>ABR</td>\n",
       "      <td>aberdeen,sd</td>\n",
       "      <td>2019-01-01</td>\n",
       "      <td>2</td>\n",
       "      <td>20304</td>\n",
       "      <td>OO</td>\n",
       "      <td>N910EV</td>\n",
       "      <td>7363</td>\n",
       "      <td>10141</td>\n",
       "      <td>1014106</td>\n",
       "      <td>...</td>\n",
       "      <td>1300-1359</td>\n",
       "      <td>1521.0</td>\n",
       "      <td>1.0</td>\n",
       "      <td>0.0</td>\n",
       "      <td>0.0</td>\n",
       "      <td>257</td>\n",
       "      <td>minneapolis,mn</td>\n",
       "      <td>Tuesday</td>\n",
       "      <td>20304</td>\n",
       "      <td>SkyWest Airlines</td>\n",
       "    </tr>\n",
       "    <tr>\n",
       "      <th>1</th>\n",
       "      <td>ABR</td>\n",
       "      <td>aberdeen,sd</td>\n",
       "      <td>2019-01-01</td>\n",
       "      <td>2</td>\n",
       "      <td>20304</td>\n",
       "      <td>OO</td>\n",
       "      <td>N432SW</td>\n",
       "      <td>7365</td>\n",
       "      <td>10141</td>\n",
       "      <td>1014106</td>\n",
       "      <td>...</td>\n",
       "      <td>0600-0659</td>\n",
       "      <td>800.0</td>\n",
       "      <td>0.0</td>\n",
       "      <td>0.0</td>\n",
       "      <td>0.0</td>\n",
       "      <td>257</td>\n",
       "      <td>minneapolis,mn</td>\n",
       "      <td>Tuesday</td>\n",
       "      <td>20304</td>\n",
       "      <td>SkyWest Airlines</td>\n",
       "    </tr>\n",
       "    <tr>\n",
       "      <th>2</th>\n",
       "      <td>ABR</td>\n",
       "      <td>aberdeen,sd</td>\n",
       "      <td>2019-01-02</td>\n",
       "      <td>3</td>\n",
       "      <td>20304</td>\n",
       "      <td>OO</td>\n",
       "      <td>N498CA</td>\n",
       "      <td>7363</td>\n",
       "      <td>10141</td>\n",
       "      <td>1014106</td>\n",
       "      <td>...</td>\n",
       "      <td>1300-1359</td>\n",
       "      <td>1424.0</td>\n",
       "      <td>0.0</td>\n",
       "      <td>0.0</td>\n",
       "      <td>0.0</td>\n",
       "      <td>257</td>\n",
       "      <td>minneapolis,mn</td>\n",
       "      <td>Wednesday</td>\n",
       "      <td>20304</td>\n",
       "      <td>SkyWest Airlines</td>\n",
       "    </tr>\n",
       "    <tr>\n",
       "      <th>3</th>\n",
       "      <td>ABR</td>\n",
       "      <td>aberdeen,sd</td>\n",
       "      <td>2019-01-02</td>\n",
       "      <td>3</td>\n",
       "      <td>20304</td>\n",
       "      <td>OO</td>\n",
       "      <td>N439SW</td>\n",
       "      <td>7365</td>\n",
       "      <td>10141</td>\n",
       "      <td>1014106</td>\n",
       "      <td>...</td>\n",
       "      <td>0001-0559</td>\n",
       "      <td>622.0</td>\n",
       "      <td>0.0</td>\n",
       "      <td>0.0</td>\n",
       "      <td>0.0</td>\n",
       "      <td>257</td>\n",
       "      <td>minneapolis,mn</td>\n",
       "      <td>Wednesday</td>\n",
       "      <td>20304</td>\n",
       "      <td>SkyWest Airlines</td>\n",
       "    </tr>\n",
       "    <tr>\n",
       "      <th>4</th>\n",
       "      <td>ABR</td>\n",
       "      <td>aberdeen,sd</td>\n",
       "      <td>2019-01-03</td>\n",
       "      <td>4</td>\n",
       "      <td>20304</td>\n",
       "      <td>OO</td>\n",
       "      <td>N8965E</td>\n",
       "      <td>7363</td>\n",
       "      <td>10141</td>\n",
       "      <td>1014106</td>\n",
       "      <td>...</td>\n",
       "      <td>1300-1359</td>\n",
       "      <td>1411.0</td>\n",
       "      <td>0.0</td>\n",
       "      <td>0.0</td>\n",
       "      <td>0.0</td>\n",
       "      <td>257</td>\n",
       "      <td>minneapolis,mn</td>\n",
       "      <td>Thursday</td>\n",
       "      <td>20304</td>\n",
       "      <td>SkyWest Airlines</td>\n",
       "    </tr>\n",
       "  </tbody>\n",
       "</table>\n",
       "<p>5 rows × 25 columns</p>\n",
       "</div>"
      ],
      "text/plain": [
       "  origin                               origin_city day_of_month  day_of_week  \\\n",
       "0    ABR  aberdeen,sd                                2019-01-01            2   \n",
       "1    ABR  aberdeen,sd                                2019-01-01            2   \n",
       "2    ABR  aberdeen,sd                                2019-01-02            3   \n",
       "3    ABR  aberdeen,sd                                2019-01-02            3   \n",
       "4    ABR  aberdeen,sd                                2019-01-03            4   \n",
       "\n",
       "  op_carrier_airline_id_x op_carrier tail_num op_carrier_fl_num  \\\n",
       "0                   20304         OO   N910EV              7363   \n",
       "1                   20304         OO   N432SW              7365   \n",
       "2                   20304         OO   N498CA              7363   \n",
       "3                   20304         OO   N439SW              7365   \n",
       "4                   20304         OO   N8965E              7363   \n",
       "\n",
       "  origin_airport_id origin_airport_seq_id  ... dep_time_blk arr_time  \\\n",
       "0             10141               1014106  ...    1300-1359   1521.0   \n",
       "1             10141               1014106  ...    0600-0659    800.0   \n",
       "2             10141               1014106  ...    1300-1359   1424.0   \n",
       "3             10141               1014106  ...    0001-0559    622.0   \n",
       "4             10141               1014106  ...    1300-1359   1411.0   \n",
       "\n",
       "  arr_del15  cancelled  diverted distance  \\\n",
       "0       1.0        0.0       0.0      257   \n",
       "1       0.0        0.0       0.0      257   \n",
       "2       0.0        0.0       0.0      257   \n",
       "3       0.0        0.0       0.0      257   \n",
       "4       0.0        0.0       0.0      257   \n",
       "\n",
       "                                  dest_city    weekday  \\\n",
       "0  minneapolis,mn                              Tuesday   \n",
       "1  minneapolis,mn                              Tuesday   \n",
       "2  minneapolis,mn                            Wednesday   \n",
       "3  minneapolis,mn                            Wednesday   \n",
       "4  minneapolis,mn                             Thursday   \n",
       "\n",
       "   op_carrier_airline_id_y     op_carrier_name  \n",
       "0                    20304  SkyWest Airlines    \n",
       "1                    20304  SkyWest Airlines    \n",
       "2                    20304  SkyWest Airlines    \n",
       "3                    20304  SkyWest Airlines    \n",
       "4                    20304  SkyWest Airlines    \n",
       "\n",
       "[5 rows x 25 columns]"
      ]
     },
     "execution_count": 32,
     "metadata": {},
     "output_type": "execute_result"
    }
   ],
   "source": [
    "flight_2019 = flight_2019.merge(airlines, on =\"op_carrier\", how=\"left\")\n",
    "flight_2019.head()"
   ]
  },
  {
   "cell_type": "code",
   "execution_count": 34,
   "metadata": {},
   "outputs": [
    {
     "data": {
      "text/html": [
       "<div>\n",
       "<style scoped>\n",
       "    .dataframe tbody tr th:only-of-type {\n",
       "        vertical-align: middle;\n",
       "    }\n",
       "\n",
       "    .dataframe tbody tr th {\n",
       "        vertical-align: top;\n",
       "    }\n",
       "\n",
       "    .dataframe thead th {\n",
       "        text-align: right;\n",
       "    }\n",
       "</style>\n",
       "<table border=\"1\" class=\"dataframe\">\n",
       "  <thead>\n",
       "    <tr style=\"text-align: right;\">\n",
       "      <th></th>\n",
       "      <th>origin</th>\n",
       "      <th>origin_city</th>\n",
       "      <th>day_of_month</th>\n",
       "      <th>day_of_week</th>\n",
       "      <th>op_carrier_airline_id_x</th>\n",
       "      <th>op_carrier</th>\n",
       "      <th>tail_num</th>\n",
       "      <th>op_carrier_fl_num</th>\n",
       "      <th>origin_airport_id</th>\n",
       "      <th>origin_airport_seq_id</th>\n",
       "      <th>...</th>\n",
       "      <th>dep_del15</th>\n",
       "      <th>dep_time_blk</th>\n",
       "      <th>arr_time</th>\n",
       "      <th>arr_del15</th>\n",
       "      <th>cancelled</th>\n",
       "      <th>diverted</th>\n",
       "      <th>distance</th>\n",
       "      <th>dest_city</th>\n",
       "      <th>weekday</th>\n",
       "      <th>op_carrier_name</th>\n",
       "    </tr>\n",
       "  </thead>\n",
       "  <tbody>\n",
       "    <tr>\n",
       "      <th>0</th>\n",
       "      <td>ABR</td>\n",
       "      <td>aberdeen,sd</td>\n",
       "      <td>2019-01-01</td>\n",
       "      <td>2</td>\n",
       "      <td>20304</td>\n",
       "      <td>OO</td>\n",
       "      <td>N910EV</td>\n",
       "      <td>7363</td>\n",
       "      <td>10141</td>\n",
       "      <td>1014106</td>\n",
       "      <td>...</td>\n",
       "      <td>1.0</td>\n",
       "      <td>1300-1359</td>\n",
       "      <td>1521.0</td>\n",
       "      <td>1.0</td>\n",
       "      <td>0.0</td>\n",
       "      <td>0.0</td>\n",
       "      <td>257</td>\n",
       "      <td>minneapolis,mn</td>\n",
       "      <td>Tuesday</td>\n",
       "      <td>SkyWest Airlines</td>\n",
       "    </tr>\n",
       "    <tr>\n",
       "      <th>1</th>\n",
       "      <td>ABR</td>\n",
       "      <td>aberdeen,sd</td>\n",
       "      <td>2019-01-01</td>\n",
       "      <td>2</td>\n",
       "      <td>20304</td>\n",
       "      <td>OO</td>\n",
       "      <td>N432SW</td>\n",
       "      <td>7365</td>\n",
       "      <td>10141</td>\n",
       "      <td>1014106</td>\n",
       "      <td>...</td>\n",
       "      <td>0.0</td>\n",
       "      <td>0600-0659</td>\n",
       "      <td>800.0</td>\n",
       "      <td>0.0</td>\n",
       "      <td>0.0</td>\n",
       "      <td>0.0</td>\n",
       "      <td>257</td>\n",
       "      <td>minneapolis,mn</td>\n",
       "      <td>Tuesday</td>\n",
       "      <td>SkyWest Airlines</td>\n",
       "    </tr>\n",
       "    <tr>\n",
       "      <th>2</th>\n",
       "      <td>ABR</td>\n",
       "      <td>aberdeen,sd</td>\n",
       "      <td>2019-01-02</td>\n",
       "      <td>3</td>\n",
       "      <td>20304</td>\n",
       "      <td>OO</td>\n",
       "      <td>N498CA</td>\n",
       "      <td>7363</td>\n",
       "      <td>10141</td>\n",
       "      <td>1014106</td>\n",
       "      <td>...</td>\n",
       "      <td>0.0</td>\n",
       "      <td>1300-1359</td>\n",
       "      <td>1424.0</td>\n",
       "      <td>0.0</td>\n",
       "      <td>0.0</td>\n",
       "      <td>0.0</td>\n",
       "      <td>257</td>\n",
       "      <td>minneapolis,mn</td>\n",
       "      <td>Wednesday</td>\n",
       "      <td>SkyWest Airlines</td>\n",
       "    </tr>\n",
       "    <tr>\n",
       "      <th>3</th>\n",
       "      <td>ABR</td>\n",
       "      <td>aberdeen,sd</td>\n",
       "      <td>2019-01-02</td>\n",
       "      <td>3</td>\n",
       "      <td>20304</td>\n",
       "      <td>OO</td>\n",
       "      <td>N439SW</td>\n",
       "      <td>7365</td>\n",
       "      <td>10141</td>\n",
       "      <td>1014106</td>\n",
       "      <td>...</td>\n",
       "      <td>0.0</td>\n",
       "      <td>0001-0559</td>\n",
       "      <td>622.0</td>\n",
       "      <td>0.0</td>\n",
       "      <td>0.0</td>\n",
       "      <td>0.0</td>\n",
       "      <td>257</td>\n",
       "      <td>minneapolis,mn</td>\n",
       "      <td>Wednesday</td>\n",
       "      <td>SkyWest Airlines</td>\n",
       "    </tr>\n",
       "    <tr>\n",
       "      <th>4</th>\n",
       "      <td>ABR</td>\n",
       "      <td>aberdeen,sd</td>\n",
       "      <td>2019-01-03</td>\n",
       "      <td>4</td>\n",
       "      <td>20304</td>\n",
       "      <td>OO</td>\n",
       "      <td>N8965E</td>\n",
       "      <td>7363</td>\n",
       "      <td>10141</td>\n",
       "      <td>1014106</td>\n",
       "      <td>...</td>\n",
       "      <td>0.0</td>\n",
       "      <td>1300-1359</td>\n",
       "      <td>1411.0</td>\n",
       "      <td>0.0</td>\n",
       "      <td>0.0</td>\n",
       "      <td>0.0</td>\n",
       "      <td>257</td>\n",
       "      <td>minneapolis,mn</td>\n",
       "      <td>Thursday</td>\n",
       "      <td>SkyWest Airlines</td>\n",
       "    </tr>\n",
       "    <tr>\n",
       "      <th>...</th>\n",
       "      <td>...</td>\n",
       "      <td>...</td>\n",
       "      <td>...</td>\n",
       "      <td>...</td>\n",
       "      <td>...</td>\n",
       "      <td>...</td>\n",
       "      <td>...</td>\n",
       "      <td>...</td>\n",
       "      <td>...</td>\n",
       "      <td>...</td>\n",
       "      <td>...</td>\n",
       "      <td>...</td>\n",
       "      <td>...</td>\n",
       "      <td>...</td>\n",
       "      <td>...</td>\n",
       "      <td>...</td>\n",
       "      <td>...</td>\n",
       "      <td>...</td>\n",
       "      <td>...</td>\n",
       "      <td>...</td>\n",
       "      <td>...</td>\n",
       "    </tr>\n",
       "    <tr>\n",
       "      <th>563121</th>\n",
       "      <td>LYH</td>\n",
       "      <td>lynchburg,va</td>\n",
       "      <td>2019-01-29</td>\n",
       "      <td>2</td>\n",
       "      <td>20397</td>\n",
       "      <td>OH</td>\n",
       "      <td>N519AE</td>\n",
       "      <td>5174</td>\n",
       "      <td>13139</td>\n",
       "      <td>1313902</td>\n",
       "      <td>...</td>\n",
       "      <td>0.0</td>\n",
       "      <td>1100-1159</td>\n",
       "      <td>1223.0</td>\n",
       "      <td>0.0</td>\n",
       "      <td>0.0</td>\n",
       "      <td>0.0</td>\n",
       "      <td>175</td>\n",
       "      <td>charlotte,nc</td>\n",
       "      <td>Tuesday</td>\n",
       "      <td>Comair</td>\n",
       "    </tr>\n",
       "    <tr>\n",
       "      <th>563122</th>\n",
       "      <td>LYH</td>\n",
       "      <td>lynchburg,va</td>\n",
       "      <td>2019-01-30</td>\n",
       "      <td>3</td>\n",
       "      <td>20397</td>\n",
       "      <td>OH</td>\n",
       "      <td>N563NN</td>\n",
       "      <td>5116</td>\n",
       "      <td>13139</td>\n",
       "      <td>1313902</td>\n",
       "      <td>...</td>\n",
       "      <td>0.0</td>\n",
       "      <td>0600-0659</td>\n",
       "      <td>744.0</td>\n",
       "      <td>0.0</td>\n",
       "      <td>0.0</td>\n",
       "      <td>0.0</td>\n",
       "      <td>175</td>\n",
       "      <td>charlotte,nc</td>\n",
       "      <td>Wednesday</td>\n",
       "      <td>Comair</td>\n",
       "    </tr>\n",
       "    <tr>\n",
       "      <th>563123</th>\n",
       "      <td>LYH</td>\n",
       "      <td>lynchburg,va</td>\n",
       "      <td>2019-01-30</td>\n",
       "      <td>3</td>\n",
       "      <td>20397</td>\n",
       "      <td>OH</td>\n",
       "      <td>N712PS</td>\n",
       "      <td>5174</td>\n",
       "      <td>13139</td>\n",
       "      <td>1313902</td>\n",
       "      <td>...</td>\n",
       "      <td>0.0</td>\n",
       "      <td>1100-1159</td>\n",
       "      <td>1220.0</td>\n",
       "      <td>0.0</td>\n",
       "      <td>0.0</td>\n",
       "      <td>0.0</td>\n",
       "      <td>175</td>\n",
       "      <td>charlotte,nc</td>\n",
       "      <td>Wednesday</td>\n",
       "      <td>Comair</td>\n",
       "    </tr>\n",
       "    <tr>\n",
       "      <th>563124</th>\n",
       "      <td>LYH</td>\n",
       "      <td>lynchburg,va</td>\n",
       "      <td>2019-01-31</td>\n",
       "      <td>4</td>\n",
       "      <td>20397</td>\n",
       "      <td>OH</td>\n",
       "      <td>N709PS</td>\n",
       "      <td>5116</td>\n",
       "      <td>13139</td>\n",
       "      <td>1313902</td>\n",
       "      <td>...</td>\n",
       "      <td>0.0</td>\n",
       "      <td>0600-0659</td>\n",
       "      <td>746.0</td>\n",
       "      <td>0.0</td>\n",
       "      <td>0.0</td>\n",
       "      <td>0.0</td>\n",
       "      <td>175</td>\n",
       "      <td>charlotte,nc</td>\n",
       "      <td>Thursday</td>\n",
       "      <td>Comair</td>\n",
       "    </tr>\n",
       "    <tr>\n",
       "      <th>563125</th>\n",
       "      <td>LYH</td>\n",
       "      <td>lynchburg,va</td>\n",
       "      <td>2019-01-31</td>\n",
       "      <td>4</td>\n",
       "      <td>20397</td>\n",
       "      <td>OH</td>\n",
       "      <td>N723PS</td>\n",
       "      <td>5174</td>\n",
       "      <td>13139</td>\n",
       "      <td>1313902</td>\n",
       "      <td>...</td>\n",
       "      <td>0.0</td>\n",
       "      <td>1100-1159</td>\n",
       "      <td>1232.0</td>\n",
       "      <td>0.0</td>\n",
       "      <td>0.0</td>\n",
       "      <td>0.0</td>\n",
       "      <td>175</td>\n",
       "      <td>charlotte,nc</td>\n",
       "      <td>Thursday</td>\n",
       "      <td>Comair</td>\n",
       "    </tr>\n",
       "  </tbody>\n",
       "</table>\n",
       "<p>563126 rows × 24 columns</p>\n",
       "</div>"
      ],
      "text/plain": [
       "       origin                               origin_city day_of_month  \\\n",
       "0         ABR  aberdeen,sd                                2019-01-01   \n",
       "1         ABR  aberdeen,sd                                2019-01-01   \n",
       "2         ABR  aberdeen,sd                                2019-01-02   \n",
       "3         ABR  aberdeen,sd                                2019-01-02   \n",
       "4         ABR  aberdeen,sd                                2019-01-03   \n",
       "...       ...                                       ...          ...   \n",
       "563121    LYH  lynchburg,va                               2019-01-29   \n",
       "563122    LYH  lynchburg,va                               2019-01-30   \n",
       "563123    LYH  lynchburg,va                               2019-01-30   \n",
       "563124    LYH  lynchburg,va                               2019-01-31   \n",
       "563125    LYH  lynchburg,va                               2019-01-31   \n",
       "\n",
       "        day_of_week op_carrier_airline_id_x op_carrier tail_num  \\\n",
       "0                 2                   20304         OO   N910EV   \n",
       "1                 2                   20304         OO   N432SW   \n",
       "2                 3                   20304         OO   N498CA   \n",
       "3                 3                   20304         OO   N439SW   \n",
       "4                 4                   20304         OO   N8965E   \n",
       "...             ...                     ...        ...      ...   \n",
       "563121            2                   20397         OH   N519AE   \n",
       "563122            3                   20397         OH   N563NN   \n",
       "563123            3                   20397         OH   N712PS   \n",
       "563124            4                   20397         OH   N709PS   \n",
       "563125            4                   20397         OH   N723PS   \n",
       "\n",
       "       op_carrier_fl_num origin_airport_id origin_airport_seq_id  ...  \\\n",
       "0                   7363             10141               1014106  ...   \n",
       "1                   7365             10141               1014106  ...   \n",
       "2                   7363             10141               1014106  ...   \n",
       "3                   7365             10141               1014106  ...   \n",
       "4                   7363             10141               1014106  ...   \n",
       "...                  ...               ...                   ...  ...   \n",
       "563121              5174             13139               1313902  ...   \n",
       "563122              5116             13139               1313902  ...   \n",
       "563123              5174             13139               1313902  ...   \n",
       "563124              5116             13139               1313902  ...   \n",
       "563125              5174             13139               1313902  ...   \n",
       "\n",
       "       dep_del15 dep_time_blk arr_time  arr_del15  cancelled diverted  \\\n",
       "0            1.0    1300-1359   1521.0        1.0        0.0      0.0   \n",
       "1            0.0    0600-0659    800.0        0.0        0.0      0.0   \n",
       "2            0.0    1300-1359   1424.0        0.0        0.0      0.0   \n",
       "3            0.0    0001-0559    622.0        0.0        0.0      0.0   \n",
       "4            0.0    1300-1359   1411.0        0.0        0.0      0.0   \n",
       "...          ...          ...      ...        ...        ...      ...   \n",
       "563121       0.0    1100-1159   1223.0        0.0        0.0      0.0   \n",
       "563122       0.0    0600-0659    744.0        0.0        0.0      0.0   \n",
       "563123       0.0    1100-1159   1220.0        0.0        0.0      0.0   \n",
       "563124       0.0    0600-0659    746.0        0.0        0.0      0.0   \n",
       "563125       0.0    1100-1159   1232.0        0.0        0.0      0.0   \n",
       "\n",
       "        distance                                 dest_city    weekday  \\\n",
       "0            257  minneapolis,mn                              Tuesday   \n",
       "1            257  minneapolis,mn                              Tuesday   \n",
       "2            257  minneapolis,mn                            Wednesday   \n",
       "3            257  minneapolis,mn                            Wednesday   \n",
       "4            257  minneapolis,mn                             Thursday   \n",
       "...          ...                                       ...        ...   \n",
       "563121       175  charlotte,nc                                Tuesday   \n",
       "563122       175  charlotte,nc                              Wednesday   \n",
       "563123       175  charlotte,nc                              Wednesday   \n",
       "563124       175  charlotte,nc                               Thursday   \n",
       "563125       175  charlotte,nc                               Thursday   \n",
       "\n",
       "           op_carrier_name  \n",
       "0       SkyWest Airlines    \n",
       "1       SkyWest Airlines    \n",
       "2       SkyWest Airlines    \n",
       "3       SkyWest Airlines    \n",
       "4       SkyWest Airlines    \n",
       "...                    ...  \n",
       "563121              Comair  \n",
       "563122              Comair  \n",
       "563123              Comair  \n",
       "563124              Comair  \n",
       "563125              Comair  \n",
       "\n",
       "[563126 rows x 24 columns]"
      ]
     },
     "execution_count": 34,
     "metadata": {},
     "output_type": "execute_result"
    }
   ],
   "source": [
    "import datetime as dt\n",
    "flight_2019['weekday'] = flight_2019[['day_of_month']].apply(lambda x: dt.datetime.strftime(x['day_of_month'], '%A'), axis=1)\n",
    "flight_2019 = flight_2019.drop('op_carrier_airline_id_y', axis=1)\n",
    "flight_2019"
   ]
  },
  {
   "cell_type": "code",
   "execution_count": 5,
   "metadata": {},
   "outputs": [
    {
     "data": {
      "text/html": [
       "<div>\n",
       "<style scoped>\n",
       "    .dataframe tbody tr th:only-of-type {\n",
       "        vertical-align: middle;\n",
       "    }\n",
       "\n",
       "    .dataframe tbody tr th {\n",
       "        vertical-align: top;\n",
       "    }\n",
       "\n",
       "    .dataframe thead th {\n",
       "        text-align: right;\n",
       "    }\n",
       "</style>\n",
       "<table border=\"1\" class=\"dataframe\">\n",
       "  <thead>\n",
       "    <tr style=\"text-align: right;\">\n",
       "      <th></th>\n",
       "      <th>origin</th>\n",
       "      <th>origin_city</th>\n",
       "      <th>day_of_month</th>\n",
       "      <th>day_of_week</th>\n",
       "      <th>op_carrier_airline_id</th>\n",
       "      <th>op_carrier</th>\n",
       "      <th>tail_num</th>\n",
       "      <th>op_carrier_fl_num</th>\n",
       "      <th>origin_airport_id</th>\n",
       "      <th>origin_airport_seq_id</th>\n",
       "      <th>...</th>\n",
       "      <th>dest</th>\n",
       "      <th>dep_time</th>\n",
       "      <th>dep_del15</th>\n",
       "      <th>dep_time_blk</th>\n",
       "      <th>arr_time</th>\n",
       "      <th>arr_del15</th>\n",
       "      <th>cancelled</th>\n",
       "      <th>diverted</th>\n",
       "      <th>distance</th>\n",
       "      <th>dest_city</th>\n",
       "    </tr>\n",
       "  </thead>\n",
       "  <tbody>\n",
       "    <tr>\n",
       "      <th>0</th>\n",
       "      <td>ABR</td>\n",
       "      <td>aberdeen,sd</td>\n",
       "      <td>2020-01-01</td>\n",
       "      <td>3</td>\n",
       "      <td>20304</td>\n",
       "      <td>OO</td>\n",
       "      <td>N878AS</td>\n",
       "      <td>4244</td>\n",
       "      <td>10141</td>\n",
       "      <td>1014106</td>\n",
       "      <td>...</td>\n",
       "      <td>MSP</td>\n",
       "      <td>1316.0</td>\n",
       "      <td>0.0</td>\n",
       "      <td>1300-1359</td>\n",
       "      <td>1438.0</td>\n",
       "      <td>0.0</td>\n",
       "      <td>0.0</td>\n",
       "      <td>0.0</td>\n",
       "      <td>257</td>\n",
       "      <td>minneapolis,mn</td>\n",
       "    </tr>\n",
       "    <tr>\n",
       "      <th>1</th>\n",
       "      <td>ABR</td>\n",
       "      <td>aberdeen,sd</td>\n",
       "      <td>2020-01-01</td>\n",
       "      <td>3</td>\n",
       "      <td>20304</td>\n",
       "      <td>OO</td>\n",
       "      <td>N8942A</td>\n",
       "      <td>4255</td>\n",
       "      <td>10141</td>\n",
       "      <td>1014106</td>\n",
       "      <td>...</td>\n",
       "      <td>MSP</td>\n",
       "      <td>459.0</td>\n",
       "      <td>0.0</td>\n",
       "      <td>0001-0559</td>\n",
       "      <td>605.0</td>\n",
       "      <td>0.0</td>\n",
       "      <td>0.0</td>\n",
       "      <td>0.0</td>\n",
       "      <td>257</td>\n",
       "      <td>minneapolis,mn</td>\n",
       "    </tr>\n",
       "    <tr>\n",
       "      <th>2</th>\n",
       "      <td>ABR</td>\n",
       "      <td>aberdeen,sd</td>\n",
       "      <td>2020-01-02</td>\n",
       "      <td>4</td>\n",
       "      <td>20304</td>\n",
       "      <td>OO</td>\n",
       "      <td>N8965E</td>\n",
       "      <td>4244</td>\n",
       "      <td>10141</td>\n",
       "      <td>1014106</td>\n",
       "      <td>...</td>\n",
       "      <td>MSP</td>\n",
       "      <td>1417.0</td>\n",
       "      <td>1.0</td>\n",
       "      <td>1300-1359</td>\n",
       "      <td>1518.0</td>\n",
       "      <td>1.0</td>\n",
       "      <td>0.0</td>\n",
       "      <td>0.0</td>\n",
       "      <td>257</td>\n",
       "      <td>minneapolis,mn</td>\n",
       "    </tr>\n",
       "    <tr>\n",
       "      <th>3</th>\n",
       "      <td>ABR</td>\n",
       "      <td>aberdeen,sd</td>\n",
       "      <td>2020-01-02</td>\n",
       "      <td>4</td>\n",
       "      <td>20304</td>\n",
       "      <td>OO</td>\n",
       "      <td>N8933B</td>\n",
       "      <td>4255</td>\n",
       "      <td>10141</td>\n",
       "      <td>1014106</td>\n",
       "      <td>...</td>\n",
       "      <td>MSP</td>\n",
       "      <td>455.0</td>\n",
       "      <td>0.0</td>\n",
       "      <td>0001-0559</td>\n",
       "      <td>616.0</td>\n",
       "      <td>0.0</td>\n",
       "      <td>0.0</td>\n",
       "      <td>0.0</td>\n",
       "      <td>257</td>\n",
       "      <td>minneapolis,mn</td>\n",
       "    </tr>\n",
       "    <tr>\n",
       "      <th>4</th>\n",
       "      <td>ABR</td>\n",
       "      <td>aberdeen,sd</td>\n",
       "      <td>2020-01-03</td>\n",
       "      <td>5</td>\n",
       "      <td>20304</td>\n",
       "      <td>OO</td>\n",
       "      <td>N477CA</td>\n",
       "      <td>4244</td>\n",
       "      <td>10141</td>\n",
       "      <td>1014106</td>\n",
       "      <td>...</td>\n",
       "      <td>MSP</td>\n",
       "      <td>1316.0</td>\n",
       "      <td>0.0</td>\n",
       "      <td>1300-1359</td>\n",
       "      <td>1438.0</td>\n",
       "      <td>0.0</td>\n",
       "      <td>0.0</td>\n",
       "      <td>0.0</td>\n",
       "      <td>257</td>\n",
       "      <td>minneapolis,mn</td>\n",
       "    </tr>\n",
       "    <tr>\n",
       "      <th>...</th>\n",
       "      <td>...</td>\n",
       "      <td>...</td>\n",
       "      <td>...</td>\n",
       "      <td>...</td>\n",
       "      <td>...</td>\n",
       "      <td>...</td>\n",
       "      <td>...</td>\n",
       "      <td>...</td>\n",
       "      <td>...</td>\n",
       "      <td>...</td>\n",
       "      <td>...</td>\n",
       "      <td>...</td>\n",
       "      <td>...</td>\n",
       "      <td>...</td>\n",
       "      <td>...</td>\n",
       "      <td>...</td>\n",
       "      <td>...</td>\n",
       "      <td>...</td>\n",
       "      <td>...</td>\n",
       "      <td>...</td>\n",
       "      <td>...</td>\n",
       "    </tr>\n",
       "    <tr>\n",
       "      <th>596152</th>\n",
       "      <td>BFM</td>\n",
       "      <td>mobile,al</td>\n",
       "      <td>2020-01-22</td>\n",
       "      <td>3</td>\n",
       "      <td>20436</td>\n",
       "      <td>F9</td>\n",
       "      <td>N939FR</td>\n",
       "      <td>235</td>\n",
       "      <td>10562</td>\n",
       "      <td>1056202</td>\n",
       "      <td>...</td>\n",
       "      <td>DEN</td>\n",
       "      <td>1218.0</td>\n",
       "      <td>0.0</td>\n",
       "      <td>1200-1259</td>\n",
       "      <td>1418.0</td>\n",
       "      <td>0.0</td>\n",
       "      <td>0.0</td>\n",
       "      <td>0.0</td>\n",
       "      <td>1132</td>\n",
       "      <td>denver,co</td>\n",
       "    </tr>\n",
       "    <tr>\n",
       "      <th>596153</th>\n",
       "      <td>BFM</td>\n",
       "      <td>mobile,al</td>\n",
       "      <td>2020-01-24</td>\n",
       "      <td>5</td>\n",
       "      <td>20436</td>\n",
       "      <td>F9</td>\n",
       "      <td>N202FR</td>\n",
       "      <td>235</td>\n",
       "      <td>10562</td>\n",
       "      <td>1056202</td>\n",
       "      <td>...</td>\n",
       "      <td>DEN</td>\n",
       "      <td>1225.0</td>\n",
       "      <td>0.0</td>\n",
       "      <td>1200-1259</td>\n",
       "      <td>1417.0</td>\n",
       "      <td>0.0</td>\n",
       "      <td>0.0</td>\n",
       "      <td>0.0</td>\n",
       "      <td>1132</td>\n",
       "      <td>denver,co</td>\n",
       "    </tr>\n",
       "    <tr>\n",
       "      <th>596154</th>\n",
       "      <td>BFM</td>\n",
       "      <td>mobile,al</td>\n",
       "      <td>2020-01-27</td>\n",
       "      <td>1</td>\n",
       "      <td>20436</td>\n",
       "      <td>F9</td>\n",
       "      <td>N941FR</td>\n",
       "      <td>235</td>\n",
       "      <td>10562</td>\n",
       "      <td>1056202</td>\n",
       "      <td>...</td>\n",
       "      <td>DEN</td>\n",
       "      <td>1229.0</td>\n",
       "      <td>0.0</td>\n",
       "      <td>1200-1259</td>\n",
       "      <td>1430.0</td>\n",
       "      <td>0.0</td>\n",
       "      <td>0.0</td>\n",
       "      <td>0.0</td>\n",
       "      <td>1132</td>\n",
       "      <td>denver,co</td>\n",
       "    </tr>\n",
       "    <tr>\n",
       "      <th>596155</th>\n",
       "      <td>BFM</td>\n",
       "      <td>mobile,al</td>\n",
       "      <td>2020-01-29</td>\n",
       "      <td>3</td>\n",
       "      <td>20436</td>\n",
       "      <td>F9</td>\n",
       "      <td>N941FR</td>\n",
       "      <td>235</td>\n",
       "      <td>10562</td>\n",
       "      <td>1056202</td>\n",
       "      <td>...</td>\n",
       "      <td>DEN</td>\n",
       "      <td>1234.0</td>\n",
       "      <td>0.0</td>\n",
       "      <td>1200-1259</td>\n",
       "      <td>1445.0</td>\n",
       "      <td>0.0</td>\n",
       "      <td>0.0</td>\n",
       "      <td>0.0</td>\n",
       "      <td>1132</td>\n",
       "      <td>denver,co</td>\n",
       "    </tr>\n",
       "    <tr>\n",
       "      <th>596156</th>\n",
       "      <td>BFM</td>\n",
       "      <td>mobile,al</td>\n",
       "      <td>2020-01-31</td>\n",
       "      <td>5</td>\n",
       "      <td>20436</td>\n",
       "      <td>F9</td>\n",
       "      <td>N943FR</td>\n",
       "      <td>235</td>\n",
       "      <td>10562</td>\n",
       "      <td>1056202</td>\n",
       "      <td>...</td>\n",
       "      <td>DEN</td>\n",
       "      <td>1436.0</td>\n",
       "      <td>1.0</td>\n",
       "      <td>1200-1259</td>\n",
       "      <td>1633.0</td>\n",
       "      <td>1.0</td>\n",
       "      <td>0.0</td>\n",
       "      <td>0.0</td>\n",
       "      <td>1132</td>\n",
       "      <td>denver,co</td>\n",
       "    </tr>\n",
       "  </tbody>\n",
       "</table>\n",
       "<p>596157 rows × 22 columns</p>\n",
       "</div>"
      ],
      "text/plain": [
       "       origin                               origin_city day_of_month  \\\n",
       "0         ABR  aberdeen,sd                                2020-01-01   \n",
       "1         ABR  aberdeen,sd                                2020-01-01   \n",
       "2         ABR  aberdeen,sd                                2020-01-02   \n",
       "3         ABR  aberdeen,sd                                2020-01-02   \n",
       "4         ABR  aberdeen,sd                                2020-01-03   \n",
       "...       ...                                       ...          ...   \n",
       "596152    BFM  mobile,al                                  2020-01-22   \n",
       "596153    BFM  mobile,al                                  2020-01-24   \n",
       "596154    BFM  mobile,al                                  2020-01-27   \n",
       "596155    BFM  mobile,al                                  2020-01-29   \n",
       "596156    BFM  mobile,al                                  2020-01-31   \n",
       "\n",
       "        day_of_week op_carrier_airline_id op_carrier tail_num  \\\n",
       "0                 3                 20304         OO   N878AS   \n",
       "1                 3                 20304         OO   N8942A   \n",
       "2                 4                 20304         OO   N8965E   \n",
       "3                 4                 20304         OO   N8933B   \n",
       "4                 5                 20304         OO   N477CA   \n",
       "...             ...                   ...        ...      ...   \n",
       "596152            3                 20436         F9   N939FR   \n",
       "596153            5                 20436         F9   N202FR   \n",
       "596154            1                 20436         F9   N941FR   \n",
       "596155            3                 20436         F9   N941FR   \n",
       "596156            5                 20436         F9   N943FR   \n",
       "\n",
       "       op_carrier_fl_num origin_airport_id origin_airport_seq_id  ... dest  \\\n",
       "0                   4244             10141               1014106  ...  MSP   \n",
       "1                   4255             10141               1014106  ...  MSP   \n",
       "2                   4244             10141               1014106  ...  MSP   \n",
       "3                   4255             10141               1014106  ...  MSP   \n",
       "4                   4244             10141               1014106  ...  MSP   \n",
       "...                  ...               ...                   ...  ...  ...   \n",
       "596152               235             10562               1056202  ...  DEN   \n",
       "596153               235             10562               1056202  ...  DEN   \n",
       "596154               235             10562               1056202  ...  DEN   \n",
       "596155               235             10562               1056202  ...  DEN   \n",
       "596156               235             10562               1056202  ...  DEN   \n",
       "\n",
       "       dep_time dep_del15  dep_time_blk  arr_time arr_del15  cancelled  \\\n",
       "0        1316.0       0.0     1300-1359    1438.0       0.0        0.0   \n",
       "1         459.0       0.0     0001-0559     605.0       0.0        0.0   \n",
       "2        1417.0       1.0     1300-1359    1518.0       1.0        0.0   \n",
       "3         455.0       0.0     0001-0559     616.0       0.0        0.0   \n",
       "4        1316.0       0.0     1300-1359    1438.0       0.0        0.0   \n",
       "...         ...       ...           ...       ...       ...        ...   \n",
       "596152   1218.0       0.0     1200-1259    1418.0       0.0        0.0   \n",
       "596153   1225.0       0.0     1200-1259    1417.0       0.0        0.0   \n",
       "596154   1229.0       0.0     1200-1259    1430.0       0.0        0.0   \n",
       "596155   1234.0       0.0     1200-1259    1445.0       0.0        0.0   \n",
       "596156   1436.0       1.0     1200-1259    1633.0       1.0        0.0   \n",
       "\n",
       "        diverted  distance                                 dest_city  \n",
       "0            0.0       257  minneapolis,mn                            \n",
       "1            0.0       257  minneapolis,mn                            \n",
       "2            0.0       257  minneapolis,mn                            \n",
       "3            0.0       257  minneapolis,mn                            \n",
       "4            0.0       257  minneapolis,mn                            \n",
       "...          ...       ...                                       ...  \n",
       "596152       0.0      1132  denver,co                                 \n",
       "596153       0.0      1132  denver,co                                 \n",
       "596154       0.0      1132  denver,co                                 \n",
       "596155       0.0      1132  denver,co                                 \n",
       "596156       0.0      1132  denver,co                                 \n",
       "\n",
       "[596157 rows x 22 columns]"
      ]
     },
     "execution_count": 5,
     "metadata": {},
     "output_type": "execute_result"
    }
   ],
   "source": [
    "#Create a database for 2020 flight data\n",
    "flight_2020 = pd.read_sql_query(\"SELECT * FROM flight_data_2020\", engine)\n",
    "flight_2020"
   ]
  },
  {
   "cell_type": "code",
   "execution_count": 35,
   "metadata": {},
   "outputs": [
    {
     "data": {
      "text/html": [
       "<div>\n",
       "<style scoped>\n",
       "    .dataframe tbody tr th:only-of-type {\n",
       "        vertical-align: middle;\n",
       "    }\n",
       "\n",
       "    .dataframe tbody tr th {\n",
       "        vertical-align: top;\n",
       "    }\n",
       "\n",
       "    .dataframe thead th {\n",
       "        text-align: right;\n",
       "    }\n",
       "</style>\n",
       "<table border=\"1\" class=\"dataframe\">\n",
       "  <thead>\n",
       "    <tr style=\"text-align: right;\">\n",
       "      <th></th>\n",
       "      <th>origin</th>\n",
       "      <th>origin_city</th>\n",
       "      <th>day_of_month</th>\n",
       "      <th>day_of_week</th>\n",
       "      <th>op_carrier_airline_id_x</th>\n",
       "      <th>op_carrier</th>\n",
       "      <th>tail_num</th>\n",
       "      <th>op_carrier_fl_num</th>\n",
       "      <th>origin_airport_id</th>\n",
       "      <th>origin_airport_seq_id</th>\n",
       "      <th>...</th>\n",
       "      <th>dep_time_blk</th>\n",
       "      <th>arr_time</th>\n",
       "      <th>arr_del15</th>\n",
       "      <th>cancelled</th>\n",
       "      <th>diverted</th>\n",
       "      <th>distance</th>\n",
       "      <th>dest_city</th>\n",
       "      <th>weekday</th>\n",
       "      <th>op_carrier_airline_id_y</th>\n",
       "      <th>op_carrier_name</th>\n",
       "    </tr>\n",
       "  </thead>\n",
       "  <tbody>\n",
       "    <tr>\n",
       "      <th>0</th>\n",
       "      <td>ABR</td>\n",
       "      <td>aberdeen,sd</td>\n",
       "      <td>2020-01-01</td>\n",
       "      <td>3</td>\n",
       "      <td>20304</td>\n",
       "      <td>OO</td>\n",
       "      <td>N878AS</td>\n",
       "      <td>4244</td>\n",
       "      <td>10141</td>\n",
       "      <td>1014106</td>\n",
       "      <td>...</td>\n",
       "      <td>1300-1359</td>\n",
       "      <td>1438.0</td>\n",
       "      <td>0.0</td>\n",
       "      <td>0.0</td>\n",
       "      <td>0.0</td>\n",
       "      <td>257</td>\n",
       "      <td>minneapolis,mn</td>\n",
       "      <td>Wednesday</td>\n",
       "      <td>20304</td>\n",
       "      <td>SkyWest Airlines</td>\n",
       "    </tr>\n",
       "    <tr>\n",
       "      <th>1</th>\n",
       "      <td>ABR</td>\n",
       "      <td>aberdeen,sd</td>\n",
       "      <td>2020-01-01</td>\n",
       "      <td>3</td>\n",
       "      <td>20304</td>\n",
       "      <td>OO</td>\n",
       "      <td>N8942A</td>\n",
       "      <td>4255</td>\n",
       "      <td>10141</td>\n",
       "      <td>1014106</td>\n",
       "      <td>...</td>\n",
       "      <td>0001-0559</td>\n",
       "      <td>605.0</td>\n",
       "      <td>0.0</td>\n",
       "      <td>0.0</td>\n",
       "      <td>0.0</td>\n",
       "      <td>257</td>\n",
       "      <td>minneapolis,mn</td>\n",
       "      <td>Wednesday</td>\n",
       "      <td>20304</td>\n",
       "      <td>SkyWest Airlines</td>\n",
       "    </tr>\n",
       "    <tr>\n",
       "      <th>2</th>\n",
       "      <td>ABR</td>\n",
       "      <td>aberdeen,sd</td>\n",
       "      <td>2020-01-02</td>\n",
       "      <td>4</td>\n",
       "      <td>20304</td>\n",
       "      <td>OO</td>\n",
       "      <td>N8965E</td>\n",
       "      <td>4244</td>\n",
       "      <td>10141</td>\n",
       "      <td>1014106</td>\n",
       "      <td>...</td>\n",
       "      <td>1300-1359</td>\n",
       "      <td>1518.0</td>\n",
       "      <td>1.0</td>\n",
       "      <td>0.0</td>\n",
       "      <td>0.0</td>\n",
       "      <td>257</td>\n",
       "      <td>minneapolis,mn</td>\n",
       "      <td>Thursday</td>\n",
       "      <td>20304</td>\n",
       "      <td>SkyWest Airlines</td>\n",
       "    </tr>\n",
       "    <tr>\n",
       "      <th>3</th>\n",
       "      <td>ABR</td>\n",
       "      <td>aberdeen,sd</td>\n",
       "      <td>2020-01-02</td>\n",
       "      <td>4</td>\n",
       "      <td>20304</td>\n",
       "      <td>OO</td>\n",
       "      <td>N8933B</td>\n",
       "      <td>4255</td>\n",
       "      <td>10141</td>\n",
       "      <td>1014106</td>\n",
       "      <td>...</td>\n",
       "      <td>0001-0559</td>\n",
       "      <td>616.0</td>\n",
       "      <td>0.0</td>\n",
       "      <td>0.0</td>\n",
       "      <td>0.0</td>\n",
       "      <td>257</td>\n",
       "      <td>minneapolis,mn</td>\n",
       "      <td>Thursday</td>\n",
       "      <td>20304</td>\n",
       "      <td>SkyWest Airlines</td>\n",
       "    </tr>\n",
       "    <tr>\n",
       "      <th>4</th>\n",
       "      <td>ABR</td>\n",
       "      <td>aberdeen,sd</td>\n",
       "      <td>2020-01-03</td>\n",
       "      <td>5</td>\n",
       "      <td>20304</td>\n",
       "      <td>OO</td>\n",
       "      <td>N477CA</td>\n",
       "      <td>4244</td>\n",
       "      <td>10141</td>\n",
       "      <td>1014106</td>\n",
       "      <td>...</td>\n",
       "      <td>1300-1359</td>\n",
       "      <td>1438.0</td>\n",
       "      <td>0.0</td>\n",
       "      <td>0.0</td>\n",
       "      <td>0.0</td>\n",
       "      <td>257</td>\n",
       "      <td>minneapolis,mn</td>\n",
       "      <td>Friday</td>\n",
       "      <td>20304</td>\n",
       "      <td>SkyWest Airlines</td>\n",
       "    </tr>\n",
       "  </tbody>\n",
       "</table>\n",
       "<p>5 rows × 25 columns</p>\n",
       "</div>"
      ],
      "text/plain": [
       "  origin                               origin_city day_of_month  day_of_week  \\\n",
       "0    ABR  aberdeen,sd                                2020-01-01            3   \n",
       "1    ABR  aberdeen,sd                                2020-01-01            3   \n",
       "2    ABR  aberdeen,sd                                2020-01-02            4   \n",
       "3    ABR  aberdeen,sd                                2020-01-02            4   \n",
       "4    ABR  aberdeen,sd                                2020-01-03            5   \n",
       "\n",
       "  op_carrier_airline_id_x op_carrier tail_num op_carrier_fl_num  \\\n",
       "0                   20304         OO   N878AS              4244   \n",
       "1                   20304         OO   N8942A              4255   \n",
       "2                   20304         OO   N8965E              4244   \n",
       "3                   20304         OO   N8933B              4255   \n",
       "4                   20304         OO   N477CA              4244   \n",
       "\n",
       "  origin_airport_id origin_airport_seq_id  ... dep_time_blk arr_time  \\\n",
       "0             10141               1014106  ...    1300-1359   1438.0   \n",
       "1             10141               1014106  ...    0001-0559    605.0   \n",
       "2             10141               1014106  ...    1300-1359   1518.0   \n",
       "3             10141               1014106  ...    0001-0559    616.0   \n",
       "4             10141               1014106  ...    1300-1359   1438.0   \n",
       "\n",
       "  arr_del15  cancelled  diverted distance  \\\n",
       "0       0.0        0.0       0.0      257   \n",
       "1       0.0        0.0       0.0      257   \n",
       "2       1.0        0.0       0.0      257   \n",
       "3       0.0        0.0       0.0      257   \n",
       "4       0.0        0.0       0.0      257   \n",
       "\n",
       "                                  dest_city    weekday  \\\n",
       "0  minneapolis,mn                            Wednesday   \n",
       "1  minneapolis,mn                            Wednesday   \n",
       "2  minneapolis,mn                             Thursday   \n",
       "3  minneapolis,mn                             Thursday   \n",
       "4  minneapolis,mn                               Friday   \n",
       "\n",
       "   op_carrier_airline_id_y     op_carrier_name  \n",
       "0                    20304  SkyWest Airlines    \n",
       "1                    20304  SkyWest Airlines    \n",
       "2                    20304  SkyWest Airlines    \n",
       "3                    20304  SkyWest Airlines    \n",
       "4                    20304  SkyWest Airlines    \n",
       "\n",
       "[5 rows x 25 columns]"
      ]
     },
     "execution_count": 35,
     "metadata": {},
     "output_type": "execute_result"
    }
   ],
   "source": [
    "flight_2020 = flight_2020.merge(airlines, on =\"op_carrier\", how=\"left\")\n",
    "flight_2020.head()"
   ]
  },
  {
   "cell_type": "code",
   "execution_count": 36,
   "metadata": {},
   "outputs": [
    {
     "data": {
      "text/html": [
       "<div>\n",
       "<style scoped>\n",
       "    .dataframe tbody tr th:only-of-type {\n",
       "        vertical-align: middle;\n",
       "    }\n",
       "\n",
       "    .dataframe tbody tr th {\n",
       "        vertical-align: top;\n",
       "    }\n",
       "\n",
       "    .dataframe thead th {\n",
       "        text-align: right;\n",
       "    }\n",
       "</style>\n",
       "<table border=\"1\" class=\"dataframe\">\n",
       "  <thead>\n",
       "    <tr style=\"text-align: right;\">\n",
       "      <th></th>\n",
       "      <th>origin</th>\n",
       "      <th>origin_city</th>\n",
       "      <th>day_of_month</th>\n",
       "      <th>day_of_week</th>\n",
       "      <th>op_carrier_airline_id_x</th>\n",
       "      <th>op_carrier</th>\n",
       "      <th>tail_num</th>\n",
       "      <th>op_carrier_fl_num</th>\n",
       "      <th>origin_airport_id</th>\n",
       "      <th>origin_airport_seq_id</th>\n",
       "      <th>...</th>\n",
       "      <th>dep_del15</th>\n",
       "      <th>dep_time_blk</th>\n",
       "      <th>arr_time</th>\n",
       "      <th>arr_del15</th>\n",
       "      <th>cancelled</th>\n",
       "      <th>diverted</th>\n",
       "      <th>distance</th>\n",
       "      <th>dest_city</th>\n",
       "      <th>weekday</th>\n",
       "      <th>op_carrier_name</th>\n",
       "    </tr>\n",
       "  </thead>\n",
       "  <tbody>\n",
       "    <tr>\n",
       "      <th>0</th>\n",
       "      <td>ABR</td>\n",
       "      <td>aberdeen,sd</td>\n",
       "      <td>2020-01-01</td>\n",
       "      <td>3</td>\n",
       "      <td>20304</td>\n",
       "      <td>OO</td>\n",
       "      <td>N878AS</td>\n",
       "      <td>4244</td>\n",
       "      <td>10141</td>\n",
       "      <td>1014106</td>\n",
       "      <td>...</td>\n",
       "      <td>0.0</td>\n",
       "      <td>1300-1359</td>\n",
       "      <td>1438.0</td>\n",
       "      <td>0.0</td>\n",
       "      <td>0.0</td>\n",
       "      <td>0.0</td>\n",
       "      <td>257</td>\n",
       "      <td>minneapolis,mn</td>\n",
       "      <td>Wednesday</td>\n",
       "      <td>SkyWest Airlines</td>\n",
       "    </tr>\n",
       "    <tr>\n",
       "      <th>1</th>\n",
       "      <td>ABR</td>\n",
       "      <td>aberdeen,sd</td>\n",
       "      <td>2020-01-01</td>\n",
       "      <td>3</td>\n",
       "      <td>20304</td>\n",
       "      <td>OO</td>\n",
       "      <td>N8942A</td>\n",
       "      <td>4255</td>\n",
       "      <td>10141</td>\n",
       "      <td>1014106</td>\n",
       "      <td>...</td>\n",
       "      <td>0.0</td>\n",
       "      <td>0001-0559</td>\n",
       "      <td>605.0</td>\n",
       "      <td>0.0</td>\n",
       "      <td>0.0</td>\n",
       "      <td>0.0</td>\n",
       "      <td>257</td>\n",
       "      <td>minneapolis,mn</td>\n",
       "      <td>Wednesday</td>\n",
       "      <td>SkyWest Airlines</td>\n",
       "    </tr>\n",
       "    <tr>\n",
       "      <th>2</th>\n",
       "      <td>ABR</td>\n",
       "      <td>aberdeen,sd</td>\n",
       "      <td>2020-01-02</td>\n",
       "      <td>4</td>\n",
       "      <td>20304</td>\n",
       "      <td>OO</td>\n",
       "      <td>N8965E</td>\n",
       "      <td>4244</td>\n",
       "      <td>10141</td>\n",
       "      <td>1014106</td>\n",
       "      <td>...</td>\n",
       "      <td>1.0</td>\n",
       "      <td>1300-1359</td>\n",
       "      <td>1518.0</td>\n",
       "      <td>1.0</td>\n",
       "      <td>0.0</td>\n",
       "      <td>0.0</td>\n",
       "      <td>257</td>\n",
       "      <td>minneapolis,mn</td>\n",
       "      <td>Thursday</td>\n",
       "      <td>SkyWest Airlines</td>\n",
       "    </tr>\n",
       "    <tr>\n",
       "      <th>3</th>\n",
       "      <td>ABR</td>\n",
       "      <td>aberdeen,sd</td>\n",
       "      <td>2020-01-02</td>\n",
       "      <td>4</td>\n",
       "      <td>20304</td>\n",
       "      <td>OO</td>\n",
       "      <td>N8933B</td>\n",
       "      <td>4255</td>\n",
       "      <td>10141</td>\n",
       "      <td>1014106</td>\n",
       "      <td>...</td>\n",
       "      <td>0.0</td>\n",
       "      <td>0001-0559</td>\n",
       "      <td>616.0</td>\n",
       "      <td>0.0</td>\n",
       "      <td>0.0</td>\n",
       "      <td>0.0</td>\n",
       "      <td>257</td>\n",
       "      <td>minneapolis,mn</td>\n",
       "      <td>Thursday</td>\n",
       "      <td>SkyWest Airlines</td>\n",
       "    </tr>\n",
       "    <tr>\n",
       "      <th>4</th>\n",
       "      <td>ABR</td>\n",
       "      <td>aberdeen,sd</td>\n",
       "      <td>2020-01-03</td>\n",
       "      <td>5</td>\n",
       "      <td>20304</td>\n",
       "      <td>OO</td>\n",
       "      <td>N477CA</td>\n",
       "      <td>4244</td>\n",
       "      <td>10141</td>\n",
       "      <td>1014106</td>\n",
       "      <td>...</td>\n",
       "      <td>0.0</td>\n",
       "      <td>1300-1359</td>\n",
       "      <td>1438.0</td>\n",
       "      <td>0.0</td>\n",
       "      <td>0.0</td>\n",
       "      <td>0.0</td>\n",
       "      <td>257</td>\n",
       "      <td>minneapolis,mn</td>\n",
       "      <td>Friday</td>\n",
       "      <td>SkyWest Airlines</td>\n",
       "    </tr>\n",
       "    <tr>\n",
       "      <th>...</th>\n",
       "      <td>...</td>\n",
       "      <td>...</td>\n",
       "      <td>...</td>\n",
       "      <td>...</td>\n",
       "      <td>...</td>\n",
       "      <td>...</td>\n",
       "      <td>...</td>\n",
       "      <td>...</td>\n",
       "      <td>...</td>\n",
       "      <td>...</td>\n",
       "      <td>...</td>\n",
       "      <td>...</td>\n",
       "      <td>...</td>\n",
       "      <td>...</td>\n",
       "      <td>...</td>\n",
       "      <td>...</td>\n",
       "      <td>...</td>\n",
       "      <td>...</td>\n",
       "      <td>...</td>\n",
       "      <td>...</td>\n",
       "      <td>...</td>\n",
       "    </tr>\n",
       "    <tr>\n",
       "      <th>596152</th>\n",
       "      <td>BFM</td>\n",
       "      <td>mobile,al</td>\n",
       "      <td>2020-01-22</td>\n",
       "      <td>3</td>\n",
       "      <td>20436</td>\n",
       "      <td>F9</td>\n",
       "      <td>N939FR</td>\n",
       "      <td>235</td>\n",
       "      <td>10562</td>\n",
       "      <td>1056202</td>\n",
       "      <td>...</td>\n",
       "      <td>0.0</td>\n",
       "      <td>1200-1259</td>\n",
       "      <td>1418.0</td>\n",
       "      <td>0.0</td>\n",
       "      <td>0.0</td>\n",
       "      <td>0.0</td>\n",
       "      <td>1132</td>\n",
       "      <td>denver,co</td>\n",
       "      <td>Wednesday</td>\n",
       "      <td>Frontier Airlines</td>\n",
       "    </tr>\n",
       "    <tr>\n",
       "      <th>596153</th>\n",
       "      <td>BFM</td>\n",
       "      <td>mobile,al</td>\n",
       "      <td>2020-01-24</td>\n",
       "      <td>5</td>\n",
       "      <td>20436</td>\n",
       "      <td>F9</td>\n",
       "      <td>N202FR</td>\n",
       "      <td>235</td>\n",
       "      <td>10562</td>\n",
       "      <td>1056202</td>\n",
       "      <td>...</td>\n",
       "      <td>0.0</td>\n",
       "      <td>1200-1259</td>\n",
       "      <td>1417.0</td>\n",
       "      <td>0.0</td>\n",
       "      <td>0.0</td>\n",
       "      <td>0.0</td>\n",
       "      <td>1132</td>\n",
       "      <td>denver,co</td>\n",
       "      <td>Friday</td>\n",
       "      <td>Frontier Airlines</td>\n",
       "    </tr>\n",
       "    <tr>\n",
       "      <th>596154</th>\n",
       "      <td>BFM</td>\n",
       "      <td>mobile,al</td>\n",
       "      <td>2020-01-27</td>\n",
       "      <td>1</td>\n",
       "      <td>20436</td>\n",
       "      <td>F9</td>\n",
       "      <td>N941FR</td>\n",
       "      <td>235</td>\n",
       "      <td>10562</td>\n",
       "      <td>1056202</td>\n",
       "      <td>...</td>\n",
       "      <td>0.0</td>\n",
       "      <td>1200-1259</td>\n",
       "      <td>1430.0</td>\n",
       "      <td>0.0</td>\n",
       "      <td>0.0</td>\n",
       "      <td>0.0</td>\n",
       "      <td>1132</td>\n",
       "      <td>denver,co</td>\n",
       "      <td>Monday</td>\n",
       "      <td>Frontier Airlines</td>\n",
       "    </tr>\n",
       "    <tr>\n",
       "      <th>596155</th>\n",
       "      <td>BFM</td>\n",
       "      <td>mobile,al</td>\n",
       "      <td>2020-01-29</td>\n",
       "      <td>3</td>\n",
       "      <td>20436</td>\n",
       "      <td>F9</td>\n",
       "      <td>N941FR</td>\n",
       "      <td>235</td>\n",
       "      <td>10562</td>\n",
       "      <td>1056202</td>\n",
       "      <td>...</td>\n",
       "      <td>0.0</td>\n",
       "      <td>1200-1259</td>\n",
       "      <td>1445.0</td>\n",
       "      <td>0.0</td>\n",
       "      <td>0.0</td>\n",
       "      <td>0.0</td>\n",
       "      <td>1132</td>\n",
       "      <td>denver,co</td>\n",
       "      <td>Wednesday</td>\n",
       "      <td>Frontier Airlines</td>\n",
       "    </tr>\n",
       "    <tr>\n",
       "      <th>596156</th>\n",
       "      <td>BFM</td>\n",
       "      <td>mobile,al</td>\n",
       "      <td>2020-01-31</td>\n",
       "      <td>5</td>\n",
       "      <td>20436</td>\n",
       "      <td>F9</td>\n",
       "      <td>N943FR</td>\n",
       "      <td>235</td>\n",
       "      <td>10562</td>\n",
       "      <td>1056202</td>\n",
       "      <td>...</td>\n",
       "      <td>1.0</td>\n",
       "      <td>1200-1259</td>\n",
       "      <td>1633.0</td>\n",
       "      <td>1.0</td>\n",
       "      <td>0.0</td>\n",
       "      <td>0.0</td>\n",
       "      <td>1132</td>\n",
       "      <td>denver,co</td>\n",
       "      <td>Friday</td>\n",
       "      <td>Frontier Airlines</td>\n",
       "    </tr>\n",
       "  </tbody>\n",
       "</table>\n",
       "<p>596157 rows × 24 columns</p>\n",
       "</div>"
      ],
      "text/plain": [
       "       origin                               origin_city day_of_month  \\\n",
       "0         ABR  aberdeen,sd                                2020-01-01   \n",
       "1         ABR  aberdeen,sd                                2020-01-01   \n",
       "2         ABR  aberdeen,sd                                2020-01-02   \n",
       "3         ABR  aberdeen,sd                                2020-01-02   \n",
       "4         ABR  aberdeen,sd                                2020-01-03   \n",
       "...       ...                                       ...          ...   \n",
       "596152    BFM  mobile,al                                  2020-01-22   \n",
       "596153    BFM  mobile,al                                  2020-01-24   \n",
       "596154    BFM  mobile,al                                  2020-01-27   \n",
       "596155    BFM  mobile,al                                  2020-01-29   \n",
       "596156    BFM  mobile,al                                  2020-01-31   \n",
       "\n",
       "        day_of_week op_carrier_airline_id_x op_carrier tail_num  \\\n",
       "0                 3                   20304         OO   N878AS   \n",
       "1                 3                   20304         OO   N8942A   \n",
       "2                 4                   20304         OO   N8965E   \n",
       "3                 4                   20304         OO   N8933B   \n",
       "4                 5                   20304         OO   N477CA   \n",
       "...             ...                     ...        ...      ...   \n",
       "596152            3                   20436         F9   N939FR   \n",
       "596153            5                   20436         F9   N202FR   \n",
       "596154            1                   20436         F9   N941FR   \n",
       "596155            3                   20436         F9   N941FR   \n",
       "596156            5                   20436         F9   N943FR   \n",
       "\n",
       "       op_carrier_fl_num origin_airport_id origin_airport_seq_id  ...  \\\n",
       "0                   4244             10141               1014106  ...   \n",
       "1                   4255             10141               1014106  ...   \n",
       "2                   4244             10141               1014106  ...   \n",
       "3                   4255             10141               1014106  ...   \n",
       "4                   4244             10141               1014106  ...   \n",
       "...                  ...               ...                   ...  ...   \n",
       "596152               235             10562               1056202  ...   \n",
       "596153               235             10562               1056202  ...   \n",
       "596154               235             10562               1056202  ...   \n",
       "596155               235             10562               1056202  ...   \n",
       "596156               235             10562               1056202  ...   \n",
       "\n",
       "       dep_del15 dep_time_blk arr_time  arr_del15  cancelled diverted  \\\n",
       "0            0.0    1300-1359   1438.0        0.0        0.0      0.0   \n",
       "1            0.0    0001-0559    605.0        0.0        0.0      0.0   \n",
       "2            1.0    1300-1359   1518.0        1.0        0.0      0.0   \n",
       "3            0.0    0001-0559    616.0        0.0        0.0      0.0   \n",
       "4            0.0    1300-1359   1438.0        0.0        0.0      0.0   \n",
       "...          ...          ...      ...        ...        ...      ...   \n",
       "596152       0.0    1200-1259   1418.0        0.0        0.0      0.0   \n",
       "596153       0.0    1200-1259   1417.0        0.0        0.0      0.0   \n",
       "596154       0.0    1200-1259   1430.0        0.0        0.0      0.0   \n",
       "596155       0.0    1200-1259   1445.0        0.0        0.0      0.0   \n",
       "596156       1.0    1200-1259   1633.0        1.0        0.0      0.0   \n",
       "\n",
       "        distance                                 dest_city    weekday  \\\n",
       "0            257  minneapolis,mn                            Wednesday   \n",
       "1            257  minneapolis,mn                            Wednesday   \n",
       "2            257  minneapolis,mn                             Thursday   \n",
       "3            257  minneapolis,mn                             Thursday   \n",
       "4            257  minneapolis,mn                               Friday   \n",
       "...          ...                                       ...        ...   \n",
       "596152      1132  denver,co                                 Wednesday   \n",
       "596153      1132  denver,co                                    Friday   \n",
       "596154      1132  denver,co                                    Monday   \n",
       "596155      1132  denver,co                                 Wednesday   \n",
       "596156      1132  denver,co                                    Friday   \n",
       "\n",
       "           op_carrier_name  \n",
       "0       SkyWest Airlines    \n",
       "1       SkyWest Airlines    \n",
       "2       SkyWest Airlines    \n",
       "3       SkyWest Airlines    \n",
       "4       SkyWest Airlines    \n",
       "...                    ...  \n",
       "596152   Frontier Airlines  \n",
       "596153   Frontier Airlines  \n",
       "596154   Frontier Airlines  \n",
       "596155   Frontier Airlines  \n",
       "596156   Frontier Airlines  \n",
       "\n",
       "[596157 rows x 24 columns]"
      ]
     },
     "execution_count": 36,
     "metadata": {},
     "output_type": "execute_result"
    }
   ],
   "source": [
    "flight_2020['weekday'] = flight_2020[['day_of_month']].apply(lambda x: dt.datetime.strftime(x['day_of_month'], '%A'), axis=1)\n",
    "flight_2020 = flight_2020.drop('op_carrier_airline_id_y', axis=1)\n",
    "flight_2020"
   ]
  },
  {
   "cell_type": "code",
   "execution_count": 37,
   "metadata": {},
   "outputs": [
    {
     "data": {
      "text/plain": [
       "origin                     563126\n",
       "origin_city                563126\n",
       "day_of_month               563126\n",
       "day_of_week                563126\n",
       "op_carrier_airline_id_x    563126\n",
       "op_carrier                 563126\n",
       "tail_num                   563126\n",
       "op_carrier_fl_num          563126\n",
       "origin_airport_id          563126\n",
       "origin_airport_seq_id      563126\n",
       "dest_airport_id            563126\n",
       "dest_airport_seq_id        563126\n",
       "dest                       563126\n",
       "dep_time                   563126\n",
       "dep_del15                  563126\n",
       "dep_time_blk               563126\n",
       "arr_time                   563126\n",
       "arr_del15                  563126\n",
       "cancelled                  563126\n",
       "diverted                   563126\n",
       "distance                   563126\n",
       "dest_city                  563126\n",
       "weekday                    563126\n",
       "op_carrier_name            563126\n",
       "dtype: int64"
      ]
     },
     "execution_count": 37,
     "metadata": {},
     "output_type": "execute_result"
    }
   ],
   "source": [
    "flight_2019.count()"
   ]
  },
  {
   "cell_type": "code",
   "execution_count": 38,
   "metadata": {},
   "outputs": [
    {
     "data": {
      "text/plain": [
       "origin                     596157\n",
       "origin_city                596157\n",
       "day_of_month               596157\n",
       "day_of_week                596157\n",
       "op_carrier_airline_id_x    596157\n",
       "op_carrier                 596157\n",
       "tail_num                   596157\n",
       "op_carrier_fl_num          596157\n",
       "origin_airport_id          596157\n",
       "origin_airport_seq_id      596157\n",
       "dest_airport_id            596157\n",
       "dest_airport_seq_id        596157\n",
       "dest                       596157\n",
       "dep_time                   596157\n",
       "dep_del15                  596157\n",
       "dep_time_blk               596157\n",
       "arr_time                   596157\n",
       "arr_del15                  596157\n",
       "cancelled                  596157\n",
       "diverted                   596157\n",
       "distance                   596157\n",
       "dest_city                  596157\n",
       "weekday                    596157\n",
       "op_carrier_name            596157\n",
       "dtype: int64"
      ]
     },
     "execution_count": 38,
     "metadata": {},
     "output_type": "execute_result"
    }
   ],
   "source": [
    "flight_2020.count()"
   ]
  },
  {
   "cell_type": "code",
   "execution_count": 9,
   "metadata": {},
   "outputs": [],
   "source": [
    "# # Airlines and the percentage of delayed flight vs total flights.\n",
    "# df_carrier_19=pd.DataFrame(flights_19.groupby([\"op_carrier\",\"dep_del15\"])[\"origin_airport_id\"].count().unstack(\"dep_del15\").reset_index().values,columns=[\"Carrier\",\"Not_Delayed\",\"Delayed\"])\n",
    "# df_carrier['Flights']= df_carrier.Delayed+ df_carrier.Not_Delayed\n",
    "# df_carrier[\"Percent_of_delayed\"]=df_carrier.Delayed /( df_carrier.Delayed+ df_carrier.Not_Delayed)\n",
    "# df_carrier['Flights']= df_carrier.Delayed+ df_carrier.Not_Delayed\n",
    "# df_carrier.sort_values(by=\"Percent_of_delayed\",ascending=False,inplace=True)\n",
    "# df_carrier.head(18)"
   ]
  },
  {
   "cell_type": "code",
   "execution_count": 10,
   "metadata": {},
   "outputs": [],
   "source": [
    "# df_carrier[['Carrier', 'Not_Delayed', 'Delayed']].head(10).set_index(\"Carrier\").plot(kind='bar',stacked=True)\n",
    "# plt.xlabel(\"Airline\") \n",
    "# plt.ylabel(\"Flights\")\n",
    "# plt.show()"
   ]
  },
  {
   "cell_type": "code",
   "execution_count": 11,
   "metadata": {},
   "outputs": [],
   "source": [
    "# #prepare the data\n",
    "# df_carrier = pd.DataFrame(full_flight_2019_df['op_carrier'].value_counts().reset_index().values, columns=[\"Carrier\", \"Flights\"])\n",
    "# # df_carieer = df_carieer.sort_index(axis = 0, ascending=True)\n",
    "# df_carrier= df_carrier.sort_values('Flights',ascending=False)\n",
    "# df_carrier"
   ]
  },
  {
   "cell_type": "code",
   "execution_count": 12,
   "metadata": {},
   "outputs": [],
   "source": [
    "# fig = px.bar(df_carrier, y=\"Percent_of_delayed\", x='Carrier', text='Flights', opacity = 0.8)\n",
    "# fig.update_traces(texttemplate='%{text:.1s}', textposition='outside')\n",
    "# fig.update_layout(uniformtext_minsize=4, uniformtext_mode='hide', title_x = 0.5,title_text='Percentage of Delayed Flights per Carrier', yaxis=dict(title='Percentage of Delay'),\n",
    "#                   xaxis=dict(title='OP Carrier Name'))\n",
    "# # fig.add_annotation( x='WN', y=100000, text=\"Highest OP CARRIER - WN\",showarrow=True, font=dict( family=\"Courier New, monospace\", size=10, color=\"#ffffff\" ), align=\"right\", arrowhead=2, arrowsize=1, arrowwidth=2, arrowcolor=\"#636363\", ax=120, ay=0, bordercolor=\"#c7c7c7\", borderwidth=2, borderpad=4, bgcolor=\"#ff7f0e\", opacity=0.8)\n",
    "\n",
    "# fig.add_trace(go.Scatter(x=df_carrier['Carrier'], y=df_carrier['Percent_of_delayed'],\n",
    "#                     mode='lines+markers',opacity = 0.3,showlegend=False,\n",
    "#                    line = dict(\n",
    "#         smoothing = 1.2, color = 'yellow',\n",
    "#         shape = \"spline\"\n",
    "#     )))\n",
    "\n",
    "# fig.show()"
   ]
  },
  {
   "cell_type": "code",
   "execution_count": 13,
   "metadata": {},
   "outputs": [],
   "source": [
    "# # Airlines and the percentage of delayed flight vs total flights.\n",
    "# df_carrier=pd.DataFrame(full_flight_2020_df.groupby([\"op_carrier\",\"dep_del15\"])[\"origin_airport_id\"].count().unstack(\"dep_del15\").reset_index().values,columns=[\"Carrier\",\"Not_Delayed\",\"Delayed\"])\n",
    "# df_carrier['Flights']= df_carrier.Delayed+ df_carrier.Not_Delayed\n",
    "# df_carrier[\"Percent_of_delayed\"]=df_carrier.Delayed /( df_carrier.Delayed+ df_carrier.Not_Delayed)\n",
    "# df_carrier['Flights']= df_carrier.Delayed+ df_carrier.Not_Delayed\n",
    "# df_carrier.sort_values(by=\"Percent_of_delayed\",ascending=False,inplace=True)\n",
    "# df_carrier.head(18)"
   ]
  },
  {
   "cell_type": "code",
   "execution_count": 39,
   "metadata": {},
   "outputs": [
    {
     "data": {
      "text/html": [
       "<div>\n",
       "<style scoped>\n",
       "    .dataframe tbody tr th:only-of-type {\n",
       "        vertical-align: middle;\n",
       "    }\n",
       "\n",
       "    .dataframe tbody tr th {\n",
       "        vertical-align: top;\n",
       "    }\n",
       "\n",
       "    .dataframe thead th {\n",
       "        text-align: right;\n",
       "    }\n",
       "</style>\n",
       "<table border=\"1\" class=\"dataframe\">\n",
       "  <thead>\n",
       "    <tr style=\"text-align: right;\">\n",
       "      <th></th>\n",
       "      <th>origin</th>\n",
       "      <th>origin_city</th>\n",
       "      <th>day_of_month</th>\n",
       "      <th>day_of_week</th>\n",
       "      <th>op_carrier_airline_id_x</th>\n",
       "      <th>op_carrier</th>\n",
       "      <th>tail_num</th>\n",
       "      <th>op_carrier_fl_num</th>\n",
       "      <th>origin_airport_id</th>\n",
       "      <th>origin_airport_seq_id</th>\n",
       "      <th>...</th>\n",
       "      <th>dep_del15</th>\n",
       "      <th>dep_time_blk</th>\n",
       "      <th>arr_time</th>\n",
       "      <th>arr_del15</th>\n",
       "      <th>cancelled</th>\n",
       "      <th>diverted</th>\n",
       "      <th>distance</th>\n",
       "      <th>dest_city</th>\n",
       "      <th>weekday</th>\n",
       "      <th>op_carrier_name</th>\n",
       "    </tr>\n",
       "  </thead>\n",
       "  <tbody>\n",
       "    <tr>\n",
       "      <th>0</th>\n",
       "      <td>ABR</td>\n",
       "      <td>aberdeen,sd</td>\n",
       "      <td>2019-01-01</td>\n",
       "      <td>2</td>\n",
       "      <td>20304</td>\n",
       "      <td>OO</td>\n",
       "      <td>N910EV</td>\n",
       "      <td>7363</td>\n",
       "      <td>10141</td>\n",
       "      <td>1014106</td>\n",
       "      <td>...</td>\n",
       "      <td>1.0</td>\n",
       "      <td>1300-1359</td>\n",
       "      <td>1521.0</td>\n",
       "      <td>1.0</td>\n",
       "      <td>0.0</td>\n",
       "      <td>0.0</td>\n",
       "      <td>257</td>\n",
       "      <td>minneapolis,mn</td>\n",
       "      <td>Tuesday</td>\n",
       "      <td>SkyWest Airlines</td>\n",
       "    </tr>\n",
       "    <tr>\n",
       "      <th>1</th>\n",
       "      <td>ABR</td>\n",
       "      <td>aberdeen,sd</td>\n",
       "      <td>2019-01-01</td>\n",
       "      <td>2</td>\n",
       "      <td>20304</td>\n",
       "      <td>OO</td>\n",
       "      <td>N432SW</td>\n",
       "      <td>7365</td>\n",
       "      <td>10141</td>\n",
       "      <td>1014106</td>\n",
       "      <td>...</td>\n",
       "      <td>0.0</td>\n",
       "      <td>0600-0659</td>\n",
       "      <td>800.0</td>\n",
       "      <td>0.0</td>\n",
       "      <td>0.0</td>\n",
       "      <td>0.0</td>\n",
       "      <td>257</td>\n",
       "      <td>minneapolis,mn</td>\n",
       "      <td>Tuesday</td>\n",
       "      <td>SkyWest Airlines</td>\n",
       "    </tr>\n",
       "    <tr>\n",
       "      <th>2</th>\n",
       "      <td>ABR</td>\n",
       "      <td>aberdeen,sd</td>\n",
       "      <td>2019-01-02</td>\n",
       "      <td>3</td>\n",
       "      <td>20304</td>\n",
       "      <td>OO</td>\n",
       "      <td>N498CA</td>\n",
       "      <td>7363</td>\n",
       "      <td>10141</td>\n",
       "      <td>1014106</td>\n",
       "      <td>...</td>\n",
       "      <td>0.0</td>\n",
       "      <td>1300-1359</td>\n",
       "      <td>1424.0</td>\n",
       "      <td>0.0</td>\n",
       "      <td>0.0</td>\n",
       "      <td>0.0</td>\n",
       "      <td>257</td>\n",
       "      <td>minneapolis,mn</td>\n",
       "      <td>Wednesday</td>\n",
       "      <td>SkyWest Airlines</td>\n",
       "    </tr>\n",
       "    <tr>\n",
       "      <th>3</th>\n",
       "      <td>ABR</td>\n",
       "      <td>aberdeen,sd</td>\n",
       "      <td>2019-01-02</td>\n",
       "      <td>3</td>\n",
       "      <td>20304</td>\n",
       "      <td>OO</td>\n",
       "      <td>N439SW</td>\n",
       "      <td>7365</td>\n",
       "      <td>10141</td>\n",
       "      <td>1014106</td>\n",
       "      <td>...</td>\n",
       "      <td>0.0</td>\n",
       "      <td>0001-0559</td>\n",
       "      <td>622.0</td>\n",
       "      <td>0.0</td>\n",
       "      <td>0.0</td>\n",
       "      <td>0.0</td>\n",
       "      <td>257</td>\n",
       "      <td>minneapolis,mn</td>\n",
       "      <td>Wednesday</td>\n",
       "      <td>SkyWest Airlines</td>\n",
       "    </tr>\n",
       "    <tr>\n",
       "      <th>4</th>\n",
       "      <td>ABR</td>\n",
       "      <td>aberdeen,sd</td>\n",
       "      <td>2019-01-03</td>\n",
       "      <td>4</td>\n",
       "      <td>20304</td>\n",
       "      <td>OO</td>\n",
       "      <td>N8965E</td>\n",
       "      <td>7363</td>\n",
       "      <td>10141</td>\n",
       "      <td>1014106</td>\n",
       "      <td>...</td>\n",
       "      <td>0.0</td>\n",
       "      <td>1300-1359</td>\n",
       "      <td>1411.0</td>\n",
       "      <td>0.0</td>\n",
       "      <td>0.0</td>\n",
       "      <td>0.0</td>\n",
       "      <td>257</td>\n",
       "      <td>minneapolis,mn</td>\n",
       "      <td>Thursday</td>\n",
       "      <td>SkyWest Airlines</td>\n",
       "    </tr>\n",
       "  </tbody>\n",
       "</table>\n",
       "<p>5 rows × 24 columns</p>\n",
       "</div>"
      ],
      "text/plain": [
       "  origin                               origin_city day_of_month  day_of_week  \\\n",
       "0    ABR  aberdeen,sd                                2019-01-01            2   \n",
       "1    ABR  aberdeen,sd                                2019-01-01            2   \n",
       "2    ABR  aberdeen,sd                                2019-01-02            3   \n",
       "3    ABR  aberdeen,sd                                2019-01-02            3   \n",
       "4    ABR  aberdeen,sd                                2019-01-03            4   \n",
       "\n",
       "  op_carrier_airline_id_x op_carrier tail_num op_carrier_fl_num  \\\n",
       "0                   20304         OO   N910EV              7363   \n",
       "1                   20304         OO   N432SW              7365   \n",
       "2                   20304         OO   N498CA              7363   \n",
       "3                   20304         OO   N439SW              7365   \n",
       "4                   20304         OO   N8965E              7363   \n",
       "\n",
       "  origin_airport_id origin_airport_seq_id  ... dep_del15 dep_time_blk  \\\n",
       "0             10141               1014106  ...       1.0    1300-1359   \n",
       "1             10141               1014106  ...       0.0    0600-0659   \n",
       "2             10141               1014106  ...       0.0    1300-1359   \n",
       "3             10141               1014106  ...       0.0    0001-0559   \n",
       "4             10141               1014106  ...       0.0    1300-1359   \n",
       "\n",
       "  arr_time  arr_del15  cancelled diverted  distance  \\\n",
       "0   1521.0        1.0        0.0      0.0       257   \n",
       "1    800.0        0.0        0.0      0.0       257   \n",
       "2   1424.0        0.0        0.0      0.0       257   \n",
       "3    622.0        0.0        0.0      0.0       257   \n",
       "4   1411.0        0.0        0.0      0.0       257   \n",
       "\n",
       "                                  dest_city    weekday     op_carrier_name  \n",
       "0  minneapolis,mn                              Tuesday  SkyWest Airlines    \n",
       "1  minneapolis,mn                              Tuesday  SkyWest Airlines    \n",
       "2  minneapolis,mn                            Wednesday  SkyWest Airlines    \n",
       "3  minneapolis,mn                            Wednesday  SkyWest Airlines    \n",
       "4  minneapolis,mn                             Thursday  SkyWest Airlines    \n",
       "\n",
       "[5 rows x 24 columns]"
      ]
     },
     "execution_count": 39,
     "metadata": {},
     "output_type": "execute_result"
    }
   ],
   "source": [
    "complete_flights = pd.concat([flight_2019, flight_2020])\n",
    "complete_flights.head()"
   ]
  },
  {
   "cell_type": "code",
   "execution_count": 40,
   "metadata": {},
   "outputs": [
    {
     "data": {
      "text/html": [
       "<div>\n",
       "<style scoped>\n",
       "    .dataframe tbody tr th:only-of-type {\n",
       "        vertical-align: middle;\n",
       "    }\n",
       "\n",
       "    .dataframe tbody tr th {\n",
       "        vertical-align: top;\n",
       "    }\n",
       "\n",
       "    .dataframe thead th {\n",
       "        text-align: right;\n",
       "    }\n",
       "</style>\n",
       "<table border=\"1\" class=\"dataframe\">\n",
       "  <thead>\n",
       "    <tr style=\"text-align: right;\">\n",
       "      <th></th>\n",
       "      <th>Carrier</th>\n",
       "      <th>Not_Delayed</th>\n",
       "      <th>Delayed</th>\n",
       "      <th>Flights</th>\n",
       "      <th>Percent_of_delayed</th>\n",
       "    </tr>\n",
       "  </thead>\n",
       "  <tbody>\n",
       "    <tr>\n",
       "      <th>10</th>\n",
       "      <td>Jet Blue</td>\n",
       "      <td>37981</td>\n",
       "      <td>10035</td>\n",
       "      <td>48016</td>\n",
       "      <td>0.208993</td>\n",
       "    </tr>\n",
       "    <tr>\n",
       "      <th>8</th>\n",
       "      <td>Frontier Airlines</td>\n",
       "      <td>17590</td>\n",
       "      <td>4212</td>\n",
       "      <td>21802</td>\n",
       "      <td>0.193193</td>\n",
       "    </tr>\n",
       "    <tr>\n",
       "      <th>1</th>\n",
       "      <td>Allegiant Air</td>\n",
       "      <td>8667</td>\n",
       "      <td>1973</td>\n",
       "      <td>10640</td>\n",
       "      <td>0.185432</td>\n",
       "    </tr>\n",
       "    <tr>\n",
       "      <th>7</th>\n",
       "      <td>Envoy Air</td>\n",
       "      <td>39045</td>\n",
       "      <td>8793</td>\n",
       "      <td>47838</td>\n",
       "      <td>0.183808</td>\n",
       "    </tr>\n",
       "    <tr>\n",
       "      <th>13</th>\n",
       "      <td>SkyWest Airlines</td>\n",
       "      <td>107926</td>\n",
       "      <td>23326</td>\n",
       "      <td>131252</td>\n",
       "      <td>0.177719</td>\n",
       "    </tr>\n",
       "    <tr>\n",
       "      <th>4</th>\n",
       "      <td>Comair</td>\n",
       "      <td>37998</td>\n",
       "      <td>7844</td>\n",
       "      <td>45842</td>\n",
       "      <td>0.171109</td>\n",
       "    </tr>\n",
       "    <tr>\n",
       "      <th>3</th>\n",
       "      <td>Atlantic Southeast Airlines</td>\n",
       "      <td>18517</td>\n",
       "      <td>3757</td>\n",
       "      <td>22274</td>\n",
       "      <td>0.168672</td>\n",
       "    </tr>\n",
       "    <tr>\n",
       "      <th>11</th>\n",
       "      <td>Mesa Airlines</td>\n",
       "      <td>29623</td>\n",
       "      <td>5679</td>\n",
       "      <td>35302</td>\n",
       "      <td>0.160869</td>\n",
       "    </tr>\n",
       "    <tr>\n",
       "      <th>0</th>\n",
       "      <td>Alaska Airlines</td>\n",
       "      <td>34422</td>\n",
       "      <td>6565</td>\n",
       "      <td>40987</td>\n",
       "      <td>0.160173</td>\n",
       "    </tr>\n",
       "    <tr>\n",
       "      <th>16</th>\n",
       "      <td>United Airlines</td>\n",
       "      <td>79653</td>\n",
       "      <td>14492</td>\n",
       "      <td>94145</td>\n",
       "      <td>0.153933</td>\n",
       "    </tr>\n",
       "    <tr>\n",
       "      <th>2</th>\n",
       "      <td>American Airlines</td>\n",
       "      <td>127877</td>\n",
       "      <td>22949</td>\n",
       "      <td>150826</td>\n",
       "      <td>0.152155</td>\n",
       "    </tr>\n",
       "    <tr>\n",
       "      <th>14</th>\n",
       "      <td>Southwest Airlines</td>\n",
       "      <td>183147</td>\n",
       "      <td>31796</td>\n",
       "      <td>214943</td>\n",
       "      <td>0.147928</td>\n",
       "    </tr>\n",
       "    <tr>\n",
       "      <th>6</th>\n",
       "      <td>Endeavor Air</td>\n",
       "      <td>36284</td>\n",
       "      <td>6270</td>\n",
       "      <td>42554</td>\n",
       "      <td>0.147342</td>\n",
       "    </tr>\n",
       "    <tr>\n",
       "      <th>12</th>\n",
       "      <td>Midwest Airlines</td>\n",
       "      <td>45643</td>\n",
       "      <td>7746</td>\n",
       "      <td>53389</td>\n",
       "      <td>0.145086</td>\n",
       "    </tr>\n",
       "    <tr>\n",
       "      <th>15</th>\n",
       "      <td>Spirit Airlines</td>\n",
       "      <td>27784</td>\n",
       "      <td>4558</td>\n",
       "      <td>32342</td>\n",
       "      <td>0.140931</td>\n",
       "    </tr>\n",
       "    <tr>\n",
       "      <th>5</th>\n",
       "      <td>Delta Air Lines</td>\n",
       "      <td>135848</td>\n",
       "      <td>17483</td>\n",
       "      <td>153331</td>\n",
       "      <td>0.114021</td>\n",
       "    </tr>\n",
       "    <tr>\n",
       "      <th>9</th>\n",
       "      <td>Hawaiian Airlines</td>\n",
       "      <td>12658</td>\n",
       "      <td>1142</td>\n",
       "      <td>13800</td>\n",
       "      <td>0.0827536</td>\n",
       "    </tr>\n",
       "  </tbody>\n",
       "</table>\n",
       "</div>"
      ],
      "text/plain": [
       "                        Carrier Not_Delayed Delayed Flights Percent_of_delayed\n",
       "10                     Jet Blue       37981   10035   48016           0.208993\n",
       "8             Frontier Airlines       17590    4212   21802           0.193193\n",
       "1                 Allegiant Air        8667    1973   10640           0.185432\n",
       "7                     Envoy Air       39045    8793   47838           0.183808\n",
       "13           SkyWest Airlines        107926   23326  131252           0.177719\n",
       "4                        Comair       37998    7844   45842           0.171109\n",
       "3   Atlantic Southeast Airlines       18517    3757   22274           0.168672\n",
       "11                Mesa Airlines       29623    5679   35302           0.160869\n",
       "0               Alaska Airlines       34422    6565   40987           0.160173\n",
       "16              United Airlines       79653   14492   94145           0.153933\n",
       "2             American Airlines      127877   22949  150826           0.152155\n",
       "14           Southwest Airlines      183147   31796  214943           0.147928\n",
       "6                  Endeavor Air       36284    6270   42554           0.147342\n",
       "12             Midwest Airlines       45643    7746   53389           0.145086\n",
       "15              Spirit Airlines       27784    4558   32342           0.140931\n",
       "5               Delta Air Lines      135848   17483  153331           0.114021\n",
       "9             Hawaiian Airlines       12658    1142   13800          0.0827536"
      ]
     },
     "execution_count": 40,
     "metadata": {},
     "output_type": "execute_result"
    }
   ],
   "source": [
    "# Airlines and the percentage of delayed flight vs total flights.\n",
    "df_carrier=pd.DataFrame(complete_flights.groupby([\"op_carrier_name\",\"dep_del15\"])[\"origin_airport_id\"].count().unstack(\"dep_del15\").reset_index().values,columns=[\"Carrier\",\"Not_Delayed\",\"Delayed\"])\n",
    "df_carrier['Flights']= df_carrier.Delayed+ df_carrier.Not_Delayed\n",
    "df_carrier[\"Percent_of_delayed\"]=df_carrier.Delayed /( df_carrier.Delayed+ df_carrier.Not_Delayed)\n",
    "df_carrier['Flights']= df_carrier.Delayed+ df_carrier.Not_Delayed\n",
    "df_carrier.sort_values(by=\"Percent_of_delayed\",ascending=False,inplace=True)\n",
    "df_carrier.head(18)"
   ]
  },
  {
   "cell_type": "code",
   "execution_count": 41,
   "metadata": {},
   "outputs": [
    {
     "data": {
      "application/vnd.plotly.v1+json": {
       "config": {
        "plotlyServerURL": "https://plot.ly"
       },
       "data": [
        {
         "alignmentgroup": "True",
         "hovertemplate": "Carrier=%{x}<br>Percent_of_delayed=%{y}<br>Flights=%{text}<extra></extra>",
         "legendgroup": "",
         "marker": {
          "color": "#636efa",
          "opacity": 0.8
         },
         "name": "",
         "offsetgroup": "",
         "orientation": "v",
         "showlegend": false,
         "text": [
          48016,
          21802,
          10640,
          47838,
          131252,
          45842,
          22274,
          35302,
          40987,
          94145,
          150826,
          214943,
          42554,
          53389,
          32342,
          153331,
          13800
         ],
         "textposition": "inside",
         "texttemplate": "%{text:,6}",
         "type": "bar",
         "x": [
          "Jet Blue",
          "Frontier Airlines",
          "Allegiant Air",
          "Envoy Air",
          "SkyWest Airlines  ",
          "Comair",
          "Atlantic Southeast Airlines",
          "Mesa Airlines",
          "Alaska Airlines",
          "United Airlines",
          "American Airlines",
          "Southwest Airlines",
          "Endeavor Air",
          "Midwest Airlines",
          "Spirit Airlines",
          "Delta Air Lines",
          "Hawaiian Airlines"
         ],
         "xaxis": "x",
         "y": [
          0.20899283572142618,
          0.19319328501972297,
          0.18543233082706767,
          0.1838078514988085,
          0.1777191966598604,
          0.1711094629379172,
          0.1686719942533896,
          0.16086907257379185,
          0.16017273769731866,
          0.15393276329066866,
          0.15215546391205761,
          0.14792759010528372,
          0.14734220049819052,
          0.14508606641817604,
          0.14093129676581534,
          0.11402130032413536,
          0.0827536231884058
         ],
         "yaxis": "y"
        },
        {
         "line": {
          "color": "yellow",
          "shape": "spline",
          "smoothing": 1.2
         },
         "mode": "lines+markers",
         "opacity": 0.3,
         "showlegend": false,
         "type": "scatter",
         "x": [
          "Jet Blue",
          "Frontier Airlines",
          "Allegiant Air",
          "Envoy Air",
          "SkyWest Airlines  ",
          "Comair",
          "Atlantic Southeast Airlines",
          "Mesa Airlines",
          "Alaska Airlines",
          "United Airlines",
          "American Airlines",
          "Southwest Airlines",
          "Endeavor Air",
          "Midwest Airlines",
          "Spirit Airlines",
          "Delta Air Lines",
          "Hawaiian Airlines"
         ],
         "y": [
          0.20899283572142618,
          0.19319328501972297,
          0.18543233082706767,
          0.1838078514988085,
          0.1777191966598604,
          0.1711094629379172,
          0.1686719942533896,
          0.16086907257379185,
          0.16017273769731866,
          0.15393276329066866,
          0.15215546391205761,
          0.14792759010528372,
          0.14734220049819052,
          0.14508606641817604,
          0.14093129676581534,
          0.11402130032413536,
          0.0827536231884058
         ]
        }
       ],
       "layout": {
        "barmode": "relative",
        "legend": {
         "tracegroupgap": 0
        },
        "margin": {
         "t": 60
        },
        "template": {
         "data": {
          "bar": [
           {
            "error_x": {
             "color": "#2a3f5f"
            },
            "error_y": {
             "color": "#2a3f5f"
            },
            "marker": {
             "line": {
              "color": "#E5ECF6",
              "width": 0.5
             }
            },
            "type": "bar"
           }
          ],
          "barpolar": [
           {
            "marker": {
             "line": {
              "color": "#E5ECF6",
              "width": 0.5
             }
            },
            "type": "barpolar"
           }
          ],
          "carpet": [
           {
            "aaxis": {
             "endlinecolor": "#2a3f5f",
             "gridcolor": "white",
             "linecolor": "white",
             "minorgridcolor": "white",
             "startlinecolor": "#2a3f5f"
            },
            "baxis": {
             "endlinecolor": "#2a3f5f",
             "gridcolor": "white",
             "linecolor": "white",
             "minorgridcolor": "white",
             "startlinecolor": "#2a3f5f"
            },
            "type": "carpet"
           }
          ],
          "choropleth": [
           {
            "colorbar": {
             "outlinewidth": 0,
             "ticks": ""
            },
            "type": "choropleth"
           }
          ],
          "contour": [
           {
            "colorbar": {
             "outlinewidth": 0,
             "ticks": ""
            },
            "colorscale": [
             [
              0,
              "#0d0887"
             ],
             [
              0.1111111111111111,
              "#46039f"
             ],
             [
              0.2222222222222222,
              "#7201a8"
             ],
             [
              0.3333333333333333,
              "#9c179e"
             ],
             [
              0.4444444444444444,
              "#bd3786"
             ],
             [
              0.5555555555555556,
              "#d8576b"
             ],
             [
              0.6666666666666666,
              "#ed7953"
             ],
             [
              0.7777777777777778,
              "#fb9f3a"
             ],
             [
              0.8888888888888888,
              "#fdca26"
             ],
             [
              1,
              "#f0f921"
             ]
            ],
            "type": "contour"
           }
          ],
          "contourcarpet": [
           {
            "colorbar": {
             "outlinewidth": 0,
             "ticks": ""
            },
            "type": "contourcarpet"
           }
          ],
          "heatmap": [
           {
            "colorbar": {
             "outlinewidth": 0,
             "ticks": ""
            },
            "colorscale": [
             [
              0,
              "#0d0887"
             ],
             [
              0.1111111111111111,
              "#46039f"
             ],
             [
              0.2222222222222222,
              "#7201a8"
             ],
             [
              0.3333333333333333,
              "#9c179e"
             ],
             [
              0.4444444444444444,
              "#bd3786"
             ],
             [
              0.5555555555555556,
              "#d8576b"
             ],
             [
              0.6666666666666666,
              "#ed7953"
             ],
             [
              0.7777777777777778,
              "#fb9f3a"
             ],
             [
              0.8888888888888888,
              "#fdca26"
             ],
             [
              1,
              "#f0f921"
             ]
            ],
            "type": "heatmap"
           }
          ],
          "heatmapgl": [
           {
            "colorbar": {
             "outlinewidth": 0,
             "ticks": ""
            },
            "colorscale": [
             [
              0,
              "#0d0887"
             ],
             [
              0.1111111111111111,
              "#46039f"
             ],
             [
              0.2222222222222222,
              "#7201a8"
             ],
             [
              0.3333333333333333,
              "#9c179e"
             ],
             [
              0.4444444444444444,
              "#bd3786"
             ],
             [
              0.5555555555555556,
              "#d8576b"
             ],
             [
              0.6666666666666666,
              "#ed7953"
             ],
             [
              0.7777777777777778,
              "#fb9f3a"
             ],
             [
              0.8888888888888888,
              "#fdca26"
             ],
             [
              1,
              "#f0f921"
             ]
            ],
            "type": "heatmapgl"
           }
          ],
          "histogram": [
           {
            "marker": {
             "colorbar": {
              "outlinewidth": 0,
              "ticks": ""
             }
            },
            "type": "histogram"
           }
          ],
          "histogram2d": [
           {
            "colorbar": {
             "outlinewidth": 0,
             "ticks": ""
            },
            "colorscale": [
             [
              0,
              "#0d0887"
             ],
             [
              0.1111111111111111,
              "#46039f"
             ],
             [
              0.2222222222222222,
              "#7201a8"
             ],
             [
              0.3333333333333333,
              "#9c179e"
             ],
             [
              0.4444444444444444,
              "#bd3786"
             ],
             [
              0.5555555555555556,
              "#d8576b"
             ],
             [
              0.6666666666666666,
              "#ed7953"
             ],
             [
              0.7777777777777778,
              "#fb9f3a"
             ],
             [
              0.8888888888888888,
              "#fdca26"
             ],
             [
              1,
              "#f0f921"
             ]
            ],
            "type": "histogram2d"
           }
          ],
          "histogram2dcontour": [
           {
            "colorbar": {
             "outlinewidth": 0,
             "ticks": ""
            },
            "colorscale": [
             [
              0,
              "#0d0887"
             ],
             [
              0.1111111111111111,
              "#46039f"
             ],
             [
              0.2222222222222222,
              "#7201a8"
             ],
             [
              0.3333333333333333,
              "#9c179e"
             ],
             [
              0.4444444444444444,
              "#bd3786"
             ],
             [
              0.5555555555555556,
              "#d8576b"
             ],
             [
              0.6666666666666666,
              "#ed7953"
             ],
             [
              0.7777777777777778,
              "#fb9f3a"
             ],
             [
              0.8888888888888888,
              "#fdca26"
             ],
             [
              1,
              "#f0f921"
             ]
            ],
            "type": "histogram2dcontour"
           }
          ],
          "mesh3d": [
           {
            "colorbar": {
             "outlinewidth": 0,
             "ticks": ""
            },
            "type": "mesh3d"
           }
          ],
          "parcoords": [
           {
            "line": {
             "colorbar": {
              "outlinewidth": 0,
              "ticks": ""
             }
            },
            "type": "parcoords"
           }
          ],
          "pie": [
           {
            "automargin": true,
            "type": "pie"
           }
          ],
          "scatter": [
           {
            "marker": {
             "colorbar": {
              "outlinewidth": 0,
              "ticks": ""
             }
            },
            "type": "scatter"
           }
          ],
          "scatter3d": [
           {
            "line": {
             "colorbar": {
              "outlinewidth": 0,
              "ticks": ""
             }
            },
            "marker": {
             "colorbar": {
              "outlinewidth": 0,
              "ticks": ""
             }
            },
            "type": "scatter3d"
           }
          ],
          "scattercarpet": [
           {
            "marker": {
             "colorbar": {
              "outlinewidth": 0,
              "ticks": ""
             }
            },
            "type": "scattercarpet"
           }
          ],
          "scattergeo": [
           {
            "marker": {
             "colorbar": {
              "outlinewidth": 0,
              "ticks": ""
             }
            },
            "type": "scattergeo"
           }
          ],
          "scattergl": [
           {
            "marker": {
             "colorbar": {
              "outlinewidth": 0,
              "ticks": ""
             }
            },
            "type": "scattergl"
           }
          ],
          "scattermapbox": [
           {
            "marker": {
             "colorbar": {
              "outlinewidth": 0,
              "ticks": ""
             }
            },
            "type": "scattermapbox"
           }
          ],
          "scatterpolar": [
           {
            "marker": {
             "colorbar": {
              "outlinewidth": 0,
              "ticks": ""
             }
            },
            "type": "scatterpolar"
           }
          ],
          "scatterpolargl": [
           {
            "marker": {
             "colorbar": {
              "outlinewidth": 0,
              "ticks": ""
             }
            },
            "type": "scatterpolargl"
           }
          ],
          "scatterternary": [
           {
            "marker": {
             "colorbar": {
              "outlinewidth": 0,
              "ticks": ""
             }
            },
            "type": "scatterternary"
           }
          ],
          "surface": [
           {
            "colorbar": {
             "outlinewidth": 0,
             "ticks": ""
            },
            "colorscale": [
             [
              0,
              "#0d0887"
             ],
             [
              0.1111111111111111,
              "#46039f"
             ],
             [
              0.2222222222222222,
              "#7201a8"
             ],
             [
              0.3333333333333333,
              "#9c179e"
             ],
             [
              0.4444444444444444,
              "#bd3786"
             ],
             [
              0.5555555555555556,
              "#d8576b"
             ],
             [
              0.6666666666666666,
              "#ed7953"
             ],
             [
              0.7777777777777778,
              "#fb9f3a"
             ],
             [
              0.8888888888888888,
              "#fdca26"
             ],
             [
              1,
              "#f0f921"
             ]
            ],
            "type": "surface"
           }
          ],
          "table": [
           {
            "cells": {
             "fill": {
              "color": "#EBF0F8"
             },
             "line": {
              "color": "white"
             }
            },
            "header": {
             "fill": {
              "color": "#C8D4E3"
             },
             "line": {
              "color": "white"
             }
            },
            "type": "table"
           }
          ]
         },
         "layout": {
          "annotationdefaults": {
           "arrowcolor": "#2a3f5f",
           "arrowhead": 0,
           "arrowwidth": 1
          },
          "coloraxis": {
           "colorbar": {
            "outlinewidth": 0,
            "ticks": ""
           }
          },
          "colorscale": {
           "diverging": [
            [
             0,
             "#8e0152"
            ],
            [
             0.1,
             "#c51b7d"
            ],
            [
             0.2,
             "#de77ae"
            ],
            [
             0.3,
             "#f1b6da"
            ],
            [
             0.4,
             "#fde0ef"
            ],
            [
             0.5,
             "#f7f7f7"
            ],
            [
             0.6,
             "#e6f5d0"
            ],
            [
             0.7,
             "#b8e186"
            ],
            [
             0.8,
             "#7fbc41"
            ],
            [
             0.9,
             "#4d9221"
            ],
            [
             1,
             "#276419"
            ]
           ],
           "sequential": [
            [
             0,
             "#0d0887"
            ],
            [
             0.1111111111111111,
             "#46039f"
            ],
            [
             0.2222222222222222,
             "#7201a8"
            ],
            [
             0.3333333333333333,
             "#9c179e"
            ],
            [
             0.4444444444444444,
             "#bd3786"
            ],
            [
             0.5555555555555556,
             "#d8576b"
            ],
            [
             0.6666666666666666,
             "#ed7953"
            ],
            [
             0.7777777777777778,
             "#fb9f3a"
            ],
            [
             0.8888888888888888,
             "#fdca26"
            ],
            [
             1,
             "#f0f921"
            ]
           ],
           "sequentialminus": [
            [
             0,
             "#0d0887"
            ],
            [
             0.1111111111111111,
             "#46039f"
            ],
            [
             0.2222222222222222,
             "#7201a8"
            ],
            [
             0.3333333333333333,
             "#9c179e"
            ],
            [
             0.4444444444444444,
             "#bd3786"
            ],
            [
             0.5555555555555556,
             "#d8576b"
            ],
            [
             0.6666666666666666,
             "#ed7953"
            ],
            [
             0.7777777777777778,
             "#fb9f3a"
            ],
            [
             0.8888888888888888,
             "#fdca26"
            ],
            [
             1,
             "#f0f921"
            ]
           ]
          },
          "colorway": [
           "#636efa",
           "#EF553B",
           "#00cc96",
           "#ab63fa",
           "#FFA15A",
           "#19d3f3",
           "#FF6692",
           "#B6E880",
           "#FF97FF",
           "#FECB52"
          ],
          "font": {
           "color": "#2a3f5f"
          },
          "geo": {
           "bgcolor": "white",
           "lakecolor": "white",
           "landcolor": "#E5ECF6",
           "showlakes": true,
           "showland": true,
           "subunitcolor": "white"
          },
          "hoverlabel": {
           "align": "left"
          },
          "hovermode": "closest",
          "mapbox": {
           "style": "light"
          },
          "paper_bgcolor": "white",
          "plot_bgcolor": "#E5ECF6",
          "polar": {
           "angularaxis": {
            "gridcolor": "white",
            "linecolor": "white",
            "ticks": ""
           },
           "bgcolor": "#E5ECF6",
           "radialaxis": {
            "gridcolor": "white",
            "linecolor": "white",
            "ticks": ""
           }
          },
          "scene": {
           "xaxis": {
            "backgroundcolor": "#E5ECF6",
            "gridcolor": "white",
            "gridwidth": 2,
            "linecolor": "white",
            "showbackground": true,
            "ticks": "",
            "zerolinecolor": "white"
           },
           "yaxis": {
            "backgroundcolor": "#E5ECF6",
            "gridcolor": "white",
            "gridwidth": 2,
            "linecolor": "white",
            "showbackground": true,
            "ticks": "",
            "zerolinecolor": "white"
           },
           "zaxis": {
            "backgroundcolor": "#E5ECF6",
            "gridcolor": "white",
            "gridwidth": 2,
            "linecolor": "white",
            "showbackground": true,
            "ticks": "",
            "zerolinecolor": "white"
           }
          },
          "shapedefaults": {
           "line": {
            "color": "#2a3f5f"
           }
          },
          "ternary": {
           "aaxis": {
            "gridcolor": "white",
            "linecolor": "white",
            "ticks": ""
           },
           "baxis": {
            "gridcolor": "white",
            "linecolor": "white",
            "ticks": ""
           },
           "bgcolor": "#E5ECF6",
           "caxis": {
            "gridcolor": "white",
            "linecolor": "white",
            "ticks": ""
           }
          },
          "title": {
           "x": 0.05
          },
          "xaxis": {
           "automargin": true,
           "gridcolor": "white",
           "linecolor": "white",
           "ticks": "",
           "title": {
            "standoff": 15
           },
           "zerolinecolor": "white",
           "zerolinewidth": 2
          },
          "yaxis": {
           "automargin": true,
           "gridcolor": "white",
           "linecolor": "white",
           "ticks": "",
           "title": {
            "standoff": 15
           },
           "zerolinecolor": "white",
           "zerolinewidth": 2
          }
         }
        },
        "title": {
         "text": "Percentage of Delayed Flights per Carrier",
         "x": 0.5
        },
        "uniformtext": {
         "minsize": 4,
         "mode": "hide"
        },
        "xaxis": {
         "anchor": "y",
         "domain": [
          0,
          1
         ],
         "title": {
          "text": "OP Carrier Name"
         }
        },
        "yaxis": {
         "anchor": "x",
         "domain": [
          0,
          1
         ],
         "title": {
          "text": "Percentage of Delay"
         }
        }
       }
      },
      "text/html": [
       "<div>\n",
       "        \n",
       "        \n",
       "            <div id=\"bb08d52e-c87b-475a-a759-700def2573c6\" class=\"plotly-graph-div\" style=\"height:525px; width:100%;\"></div>\n",
       "            <script type=\"text/javascript\">\n",
       "                require([\"plotly\"], function(Plotly) {\n",
       "                    window.PLOTLYENV=window.PLOTLYENV || {};\n",
       "                    \n",
       "                if (document.getElementById(\"bb08d52e-c87b-475a-a759-700def2573c6\")) {\n",
       "                    Plotly.newPlot(\n",
       "                        'bb08d52e-c87b-475a-a759-700def2573c6',\n",
       "                        [{\"alignmentgroup\": \"True\", \"hovertemplate\": \"Carrier=%{x}<br>Percent_of_delayed=%{y}<br>Flights=%{text}<extra></extra>\", \"legendgroup\": \"\", \"marker\": {\"color\": \"#636efa\", \"opacity\": 0.8}, \"name\": \"\", \"offsetgroup\": \"\", \"orientation\": \"v\", \"showlegend\": false, \"text\": [48016, 21802, 10640, 47838, 131252, 45842, 22274, 35302, 40987, 94145, 150826, 214943, 42554, 53389, 32342, 153331, 13800], \"textposition\": \"inside\", \"texttemplate\": \"%{text:,6}\", \"type\": \"bar\", \"x\": [\"Jet Blue\", \"Frontier Airlines\", \"Allegiant Air\", \"Envoy Air\", \"SkyWest Airlines  \", \"Comair\", \"Atlantic Southeast Airlines\", \"Mesa Airlines\", \"Alaska Airlines\", \"United Airlines\", \"American Airlines\", \"Southwest Airlines\", \"Endeavor Air\", \"Midwest Airlines\", \"Spirit Airlines\", \"Delta Air Lines\", \"Hawaiian Airlines\"], \"xaxis\": \"x\", \"y\": [0.20899283572142618, 0.19319328501972297, 0.18543233082706767, 0.1838078514988085, 0.1777191966598604, 0.1711094629379172, 0.1686719942533896, 0.16086907257379185, 0.16017273769731866, 0.15393276329066866, 0.15215546391205761, 0.14792759010528372, 0.14734220049819052, 0.14508606641817604, 0.14093129676581534, 0.11402130032413536, 0.0827536231884058], \"yaxis\": \"y\"}, {\"line\": {\"color\": \"yellow\", \"shape\": \"spline\", \"smoothing\": 1.2}, \"mode\": \"lines+markers\", \"opacity\": 0.3, \"showlegend\": false, \"type\": \"scatter\", \"x\": [\"Jet Blue\", \"Frontier Airlines\", \"Allegiant Air\", \"Envoy Air\", \"SkyWest Airlines  \", \"Comair\", \"Atlantic Southeast Airlines\", \"Mesa Airlines\", \"Alaska Airlines\", \"United Airlines\", \"American Airlines\", \"Southwest Airlines\", \"Endeavor Air\", \"Midwest Airlines\", \"Spirit Airlines\", \"Delta Air Lines\", \"Hawaiian Airlines\"], \"y\": [0.20899283572142618, 0.19319328501972297, 0.18543233082706767, 0.1838078514988085, 0.1777191966598604, 0.1711094629379172, 0.1686719942533896, 0.16086907257379185, 0.16017273769731866, 0.15393276329066866, 0.15215546391205761, 0.14792759010528372, 0.14734220049819052, 0.14508606641817604, 0.14093129676581534, 0.11402130032413536, 0.0827536231884058]}],\n",
       "                        {\"barmode\": \"relative\", \"legend\": {\"tracegroupgap\": 0}, \"margin\": {\"t\": 60}, \"template\": {\"data\": {\"bar\": [{\"error_x\": {\"color\": \"#2a3f5f\"}, \"error_y\": {\"color\": \"#2a3f5f\"}, \"marker\": {\"line\": {\"color\": \"#E5ECF6\", \"width\": 0.5}}, \"type\": \"bar\"}], \"barpolar\": [{\"marker\": {\"line\": {\"color\": \"#E5ECF6\", \"width\": 0.5}}, \"type\": \"barpolar\"}], \"carpet\": [{\"aaxis\": {\"endlinecolor\": \"#2a3f5f\", \"gridcolor\": \"white\", \"linecolor\": \"white\", \"minorgridcolor\": \"white\", \"startlinecolor\": \"#2a3f5f\"}, \"baxis\": {\"endlinecolor\": \"#2a3f5f\", \"gridcolor\": \"white\", \"linecolor\": \"white\", \"minorgridcolor\": \"white\", \"startlinecolor\": \"#2a3f5f\"}, \"type\": \"carpet\"}], \"choropleth\": [{\"colorbar\": {\"outlinewidth\": 0, \"ticks\": \"\"}, \"type\": \"choropleth\"}], \"contour\": [{\"colorbar\": {\"outlinewidth\": 0, \"ticks\": \"\"}, \"colorscale\": [[0.0, \"#0d0887\"], [0.1111111111111111, \"#46039f\"], [0.2222222222222222, \"#7201a8\"], [0.3333333333333333, \"#9c179e\"], [0.4444444444444444, \"#bd3786\"], [0.5555555555555556, \"#d8576b\"], [0.6666666666666666, \"#ed7953\"], [0.7777777777777778, \"#fb9f3a\"], [0.8888888888888888, \"#fdca26\"], [1.0, \"#f0f921\"]], \"type\": \"contour\"}], \"contourcarpet\": [{\"colorbar\": {\"outlinewidth\": 0, \"ticks\": \"\"}, \"type\": \"contourcarpet\"}], \"heatmap\": [{\"colorbar\": {\"outlinewidth\": 0, \"ticks\": \"\"}, \"colorscale\": [[0.0, \"#0d0887\"], [0.1111111111111111, \"#46039f\"], [0.2222222222222222, \"#7201a8\"], [0.3333333333333333, \"#9c179e\"], [0.4444444444444444, \"#bd3786\"], [0.5555555555555556, \"#d8576b\"], [0.6666666666666666, \"#ed7953\"], [0.7777777777777778, \"#fb9f3a\"], [0.8888888888888888, \"#fdca26\"], [1.0, \"#f0f921\"]], \"type\": \"heatmap\"}], \"heatmapgl\": [{\"colorbar\": {\"outlinewidth\": 0, \"ticks\": \"\"}, \"colorscale\": [[0.0, \"#0d0887\"], [0.1111111111111111, \"#46039f\"], [0.2222222222222222, \"#7201a8\"], [0.3333333333333333, \"#9c179e\"], [0.4444444444444444, \"#bd3786\"], [0.5555555555555556, \"#d8576b\"], [0.6666666666666666, \"#ed7953\"], [0.7777777777777778, \"#fb9f3a\"], [0.8888888888888888, \"#fdca26\"], [1.0, \"#f0f921\"]], \"type\": \"heatmapgl\"}], \"histogram\": [{\"marker\": {\"colorbar\": {\"outlinewidth\": 0, \"ticks\": \"\"}}, \"type\": \"histogram\"}], \"histogram2d\": [{\"colorbar\": {\"outlinewidth\": 0, \"ticks\": \"\"}, \"colorscale\": [[0.0, \"#0d0887\"], [0.1111111111111111, \"#46039f\"], [0.2222222222222222, \"#7201a8\"], [0.3333333333333333, \"#9c179e\"], [0.4444444444444444, \"#bd3786\"], [0.5555555555555556, \"#d8576b\"], [0.6666666666666666, \"#ed7953\"], [0.7777777777777778, \"#fb9f3a\"], [0.8888888888888888, \"#fdca26\"], [1.0, \"#f0f921\"]], \"type\": \"histogram2d\"}], \"histogram2dcontour\": [{\"colorbar\": {\"outlinewidth\": 0, \"ticks\": \"\"}, \"colorscale\": [[0.0, \"#0d0887\"], [0.1111111111111111, \"#46039f\"], [0.2222222222222222, \"#7201a8\"], [0.3333333333333333, \"#9c179e\"], [0.4444444444444444, \"#bd3786\"], [0.5555555555555556, \"#d8576b\"], [0.6666666666666666, \"#ed7953\"], [0.7777777777777778, \"#fb9f3a\"], [0.8888888888888888, \"#fdca26\"], [1.0, \"#f0f921\"]], \"type\": \"histogram2dcontour\"}], \"mesh3d\": [{\"colorbar\": {\"outlinewidth\": 0, \"ticks\": \"\"}, \"type\": \"mesh3d\"}], \"parcoords\": [{\"line\": {\"colorbar\": {\"outlinewidth\": 0, \"ticks\": \"\"}}, \"type\": \"parcoords\"}], \"pie\": [{\"automargin\": true, \"type\": \"pie\"}], \"scatter\": [{\"marker\": {\"colorbar\": {\"outlinewidth\": 0, \"ticks\": \"\"}}, \"type\": \"scatter\"}], \"scatter3d\": [{\"line\": {\"colorbar\": {\"outlinewidth\": 0, \"ticks\": \"\"}}, \"marker\": {\"colorbar\": {\"outlinewidth\": 0, \"ticks\": \"\"}}, \"type\": \"scatter3d\"}], \"scattercarpet\": [{\"marker\": {\"colorbar\": {\"outlinewidth\": 0, \"ticks\": \"\"}}, \"type\": \"scattercarpet\"}], \"scattergeo\": [{\"marker\": {\"colorbar\": {\"outlinewidth\": 0, \"ticks\": \"\"}}, \"type\": \"scattergeo\"}], \"scattergl\": [{\"marker\": {\"colorbar\": {\"outlinewidth\": 0, \"ticks\": \"\"}}, \"type\": \"scattergl\"}], \"scattermapbox\": [{\"marker\": {\"colorbar\": {\"outlinewidth\": 0, \"ticks\": \"\"}}, \"type\": \"scattermapbox\"}], \"scatterpolar\": [{\"marker\": {\"colorbar\": {\"outlinewidth\": 0, \"ticks\": \"\"}}, \"type\": \"scatterpolar\"}], \"scatterpolargl\": [{\"marker\": {\"colorbar\": {\"outlinewidth\": 0, \"ticks\": \"\"}}, \"type\": \"scatterpolargl\"}], \"scatterternary\": [{\"marker\": {\"colorbar\": {\"outlinewidth\": 0, \"ticks\": \"\"}}, \"type\": \"scatterternary\"}], \"surface\": [{\"colorbar\": {\"outlinewidth\": 0, \"ticks\": \"\"}, \"colorscale\": [[0.0, \"#0d0887\"], [0.1111111111111111, \"#46039f\"], [0.2222222222222222, \"#7201a8\"], [0.3333333333333333, \"#9c179e\"], [0.4444444444444444, \"#bd3786\"], [0.5555555555555556, \"#d8576b\"], [0.6666666666666666, \"#ed7953\"], [0.7777777777777778, \"#fb9f3a\"], [0.8888888888888888, \"#fdca26\"], [1.0, \"#f0f921\"]], \"type\": \"surface\"}], \"table\": [{\"cells\": {\"fill\": {\"color\": \"#EBF0F8\"}, \"line\": {\"color\": \"white\"}}, \"header\": {\"fill\": {\"color\": \"#C8D4E3\"}, \"line\": {\"color\": \"white\"}}, \"type\": \"table\"}]}, \"layout\": {\"annotationdefaults\": {\"arrowcolor\": \"#2a3f5f\", \"arrowhead\": 0, \"arrowwidth\": 1}, \"coloraxis\": {\"colorbar\": {\"outlinewidth\": 0, \"ticks\": \"\"}}, \"colorscale\": {\"diverging\": [[0, \"#8e0152\"], [0.1, \"#c51b7d\"], [0.2, \"#de77ae\"], [0.3, \"#f1b6da\"], [0.4, \"#fde0ef\"], [0.5, \"#f7f7f7\"], [0.6, \"#e6f5d0\"], [0.7, \"#b8e186\"], [0.8, \"#7fbc41\"], [0.9, \"#4d9221\"], [1, \"#276419\"]], \"sequential\": [[0.0, \"#0d0887\"], [0.1111111111111111, \"#46039f\"], [0.2222222222222222, \"#7201a8\"], [0.3333333333333333, \"#9c179e\"], [0.4444444444444444, \"#bd3786\"], [0.5555555555555556, \"#d8576b\"], [0.6666666666666666, \"#ed7953\"], [0.7777777777777778, \"#fb9f3a\"], [0.8888888888888888, \"#fdca26\"], [1.0, \"#f0f921\"]], \"sequentialminus\": [[0.0, \"#0d0887\"], [0.1111111111111111, \"#46039f\"], [0.2222222222222222, \"#7201a8\"], [0.3333333333333333, \"#9c179e\"], [0.4444444444444444, \"#bd3786\"], [0.5555555555555556, \"#d8576b\"], [0.6666666666666666, \"#ed7953\"], [0.7777777777777778, \"#fb9f3a\"], [0.8888888888888888, \"#fdca26\"], [1.0, \"#f0f921\"]]}, \"colorway\": [\"#636efa\", \"#EF553B\", \"#00cc96\", \"#ab63fa\", \"#FFA15A\", \"#19d3f3\", \"#FF6692\", \"#B6E880\", \"#FF97FF\", \"#FECB52\"], \"font\": {\"color\": \"#2a3f5f\"}, \"geo\": {\"bgcolor\": \"white\", \"lakecolor\": \"white\", \"landcolor\": \"#E5ECF6\", \"showlakes\": true, \"showland\": true, \"subunitcolor\": \"white\"}, \"hoverlabel\": {\"align\": \"left\"}, \"hovermode\": \"closest\", \"mapbox\": {\"style\": \"light\"}, \"paper_bgcolor\": \"white\", \"plot_bgcolor\": \"#E5ECF6\", \"polar\": {\"angularaxis\": {\"gridcolor\": \"white\", \"linecolor\": \"white\", \"ticks\": \"\"}, \"bgcolor\": \"#E5ECF6\", \"radialaxis\": {\"gridcolor\": \"white\", \"linecolor\": \"white\", \"ticks\": \"\"}}, \"scene\": {\"xaxis\": {\"backgroundcolor\": \"#E5ECF6\", \"gridcolor\": \"white\", \"gridwidth\": 2, \"linecolor\": \"white\", \"showbackground\": true, \"ticks\": \"\", \"zerolinecolor\": \"white\"}, \"yaxis\": {\"backgroundcolor\": \"#E5ECF6\", \"gridcolor\": \"white\", \"gridwidth\": 2, \"linecolor\": \"white\", \"showbackground\": true, \"ticks\": \"\", \"zerolinecolor\": \"white\"}, \"zaxis\": {\"backgroundcolor\": \"#E5ECF6\", \"gridcolor\": \"white\", \"gridwidth\": 2, \"linecolor\": \"white\", \"showbackground\": true, \"ticks\": \"\", \"zerolinecolor\": \"white\"}}, \"shapedefaults\": {\"line\": {\"color\": \"#2a3f5f\"}}, \"ternary\": {\"aaxis\": {\"gridcolor\": \"white\", \"linecolor\": \"white\", \"ticks\": \"\"}, \"baxis\": {\"gridcolor\": \"white\", \"linecolor\": \"white\", \"ticks\": \"\"}, \"bgcolor\": \"#E5ECF6\", \"caxis\": {\"gridcolor\": \"white\", \"linecolor\": \"white\", \"ticks\": \"\"}}, \"title\": {\"x\": 0.05}, \"xaxis\": {\"automargin\": true, \"gridcolor\": \"white\", \"linecolor\": \"white\", \"ticks\": \"\", \"title\": {\"standoff\": 15}, \"zerolinecolor\": \"white\", \"zerolinewidth\": 2}, \"yaxis\": {\"automargin\": true, \"gridcolor\": \"white\", \"linecolor\": \"white\", \"ticks\": \"\", \"title\": {\"standoff\": 15}, \"zerolinecolor\": \"white\", \"zerolinewidth\": 2}}}, \"title\": {\"text\": \"Percentage of Delayed Flights per Carrier\", \"x\": 0.5}, \"uniformtext\": {\"minsize\": 4, \"mode\": \"hide\"}, \"xaxis\": {\"anchor\": \"y\", \"domain\": [0.0, 1.0], \"title\": {\"text\": \"OP Carrier Name\"}}, \"yaxis\": {\"anchor\": \"x\", \"domain\": [0.0, 1.0], \"title\": {\"text\": \"Percentage of Delay\"}}},\n",
       "                        {\"responsive\": true}\n",
       "                    ).then(function(){\n",
       "                            \n",
       "var gd = document.getElementById('bb08d52e-c87b-475a-a759-700def2573c6');\n",
       "var x = new MutationObserver(function (mutations, observer) {{\n",
       "        var display = window.getComputedStyle(gd).display;\n",
       "        if (!display || display === 'none') {{\n",
       "            console.log([gd, 'removed!']);\n",
       "            Plotly.purge(gd);\n",
       "            observer.disconnect();\n",
       "        }}\n",
       "}});\n",
       "\n",
       "// Listen for the removal of the full notebook cells\n",
       "var notebookContainer = gd.closest('#notebook-container');\n",
       "if (notebookContainer) {{\n",
       "    x.observe(notebookContainer, {childList: true});\n",
       "}}\n",
       "\n",
       "// Listen for the clearing of the current output cell\n",
       "var outputEl = gd.closest('.output');\n",
       "if (outputEl) {{\n",
       "    x.observe(outputEl, {childList: true});\n",
       "}}\n",
       "\n",
       "                        })\n",
       "                };\n",
       "                });\n",
       "            </script>\n",
       "        </div>"
      ]
     },
     "metadata": {},
     "output_type": "display_data"
    }
   ],
   "source": [
    "fig = px.bar(df_carrier, y=\"Percent_of_delayed\", x='Carrier', text='Flights', opacity = 0.8)\n",
    "fig.update_traces(texttemplate='%{text:,6}', textposition='inside')\n",
    "fig.update_layout(uniformtext_minsize=4, uniformtext_mode='hide', title_x = 0.5,title_text='Percentage of Delayed Flights per Carrier', yaxis=dict(title='Percentage of Delay'),\n",
    "                  xaxis=dict(title='OP Carrier Name'))\n",
    "# fig.add_annotation( x='WN', y=100000, text=\"Highest OP CARRIER - WN\",showarrow=True, font=dict( family=\"Courier New, monospace\", size=10, color=\"#ffffff\" ), align=\"right\", arrowhead=2, arrowsize=1, arrowwidth=2, arrowcolor=\"#636363\", ax=120, ay=0, bordercolor=\"#c7c7c7\", borderwidth=2, borderpad=4, bgcolor=\"#ff7f0e\", opacity=0.8)\n",
    "\n",
    "fig.add_trace(go.Scatter(x=df_carrier['Carrier'], y=df_carrier['Percent_of_delayed'],\n",
    "                    mode='lines+markers',opacity = 0.3,showlegend=False,\n",
    "                   line = dict(\n",
    "        smoothing = 1.2, color = 'yellow',\n",
    "        shape = \"spline\"\n",
    "    )))\n",
    "\n",
    "fig.show()"
   ]
  },
  {
   "cell_type": "code",
   "execution_count": 17,
   "metadata": {},
   "outputs": [
    {
     "data": {
      "text/html": [
       "<div>\n",
       "<style scoped>\n",
       "    .dataframe tbody tr th:only-of-type {\n",
       "        vertical-align: middle;\n",
       "    }\n",
       "\n",
       "    .dataframe tbody tr th {\n",
       "        vertical-align: top;\n",
       "    }\n",
       "\n",
       "    .dataframe thead th {\n",
       "        text-align: right;\n",
       "    }\n",
       "</style>\n",
       "<table border=\"1\" class=\"dataframe\">\n",
       "  <thead>\n",
       "    <tr style=\"text-align: right;\">\n",
       "      <th></th>\n",
       "      <th>Departure_Time_Block</th>\n",
       "      <th>Not_Delayed</th>\n",
       "      <th>Delayed</th>\n",
       "      <th>Flights</th>\n",
       "      <th>Percent_of_delayed</th>\n",
       "    </tr>\n",
       "  </thead>\n",
       "  <tbody>\n",
       "    <tr>\n",
       "      <th>0</th>\n",
       "      <td>0001-0559</td>\n",
       "      <td>28805</td>\n",
       "      <td>2475</td>\n",
       "      <td>31280</td>\n",
       "      <td>0.079124</td>\n",
       "    </tr>\n",
       "    <tr>\n",
       "      <th>1</th>\n",
       "      <td>0600-0659</td>\n",
       "      <td>78433</td>\n",
       "      <td>5406</td>\n",
       "      <td>83839</td>\n",
       "      <td>0.0644807</td>\n",
       "    </tr>\n",
       "    <tr>\n",
       "      <th>2</th>\n",
       "      <td>0700-0759</td>\n",
       "      <td>70740</td>\n",
       "      <td>6290</td>\n",
       "      <td>77030</td>\n",
       "      <td>0.0816565</td>\n",
       "    </tr>\n",
       "    <tr>\n",
       "      <th>3</th>\n",
       "      <td>0800-0859</td>\n",
       "      <td>69046</td>\n",
       "      <td>7641</td>\n",
       "      <td>76687</td>\n",
       "      <td>0.0996388</td>\n",
       "    </tr>\n",
       "    <tr>\n",
       "      <th>4</th>\n",
       "      <td>0900-0959</td>\n",
       "      <td>61251</td>\n",
       "      <td>8262</td>\n",
       "      <td>69513</td>\n",
       "      <td>0.118855</td>\n",
       "    </tr>\n",
       "    <tr>\n",
       "      <th>5</th>\n",
       "      <td>1000-1059</td>\n",
       "      <td>59747</td>\n",
       "      <td>10088</td>\n",
       "      <td>69835</td>\n",
       "      <td>0.144455</td>\n",
       "    </tr>\n",
       "    <tr>\n",
       "      <th>6</th>\n",
       "      <td>1100-1159</td>\n",
       "      <td>62287</td>\n",
       "      <td>10850</td>\n",
       "      <td>73137</td>\n",
       "      <td>0.148352</td>\n",
       "    </tr>\n",
       "    <tr>\n",
       "      <th>7</th>\n",
       "      <td>1200-1259</td>\n",
       "      <td>61290</td>\n",
       "      <td>11733</td>\n",
       "      <td>73023</td>\n",
       "      <td>0.160675</td>\n",
       "    </tr>\n",
       "    <tr>\n",
       "      <th>8</th>\n",
       "      <td>1300-1359</td>\n",
       "      <td>54858</td>\n",
       "      <td>11378</td>\n",
       "      <td>66236</td>\n",
       "      <td>0.17178</td>\n",
       "    </tr>\n",
       "    <tr>\n",
       "      <th>9</th>\n",
       "      <td>1400-1459</td>\n",
       "      <td>56754</td>\n",
       "      <td>12804</td>\n",
       "      <td>69558</td>\n",
       "      <td>0.184077</td>\n",
       "    </tr>\n",
       "    <tr>\n",
       "      <th>10</th>\n",
       "      <td>1500-1559</td>\n",
       "      <td>57330</td>\n",
       "      <td>12939</td>\n",
       "      <td>70269</td>\n",
       "      <td>0.184135</td>\n",
       "    </tr>\n",
       "    <tr>\n",
       "      <th>11</th>\n",
       "      <td>1600-1659</td>\n",
       "      <td>56275</td>\n",
       "      <td>13217</td>\n",
       "      <td>69492</td>\n",
       "      <td>0.190195</td>\n",
       "    </tr>\n",
       "    <tr>\n",
       "      <th>12</th>\n",
       "      <td>1700-1759</td>\n",
       "      <td>60247</td>\n",
       "      <td>14736</td>\n",
       "      <td>74983</td>\n",
       "      <td>0.196525</td>\n",
       "    </tr>\n",
       "    <tr>\n",
       "      <th>13</th>\n",
       "      <td>1800-1859</td>\n",
       "      <td>53586</td>\n",
       "      <td>13987</td>\n",
       "      <td>67573</td>\n",
       "      <td>0.206991</td>\n",
       "    </tr>\n",
       "    <tr>\n",
       "      <th>14</th>\n",
       "      <td>1900-1959</td>\n",
       "      <td>49644</td>\n",
       "      <td>13414</td>\n",
       "      <td>63058</td>\n",
       "      <td>0.212725</td>\n",
       "    </tr>\n",
       "    <tr>\n",
       "      <th>15</th>\n",
       "      <td>2000-2059</td>\n",
       "      <td>43037</td>\n",
       "      <td>10733</td>\n",
       "      <td>53770</td>\n",
       "      <td>0.199609</td>\n",
       "    </tr>\n",
       "    <tr>\n",
       "      <th>16</th>\n",
       "      <td>2100-2159</td>\n",
       "      <td>28653</td>\n",
       "      <td>7002</td>\n",
       "      <td>35655</td>\n",
       "      <td>0.196382</td>\n",
       "    </tr>\n",
       "    <tr>\n",
       "      <th>17</th>\n",
       "      <td>2200-2259</td>\n",
       "      <td>22130</td>\n",
       "      <td>4427</td>\n",
       "      <td>26557</td>\n",
       "      <td>0.166698</td>\n",
       "    </tr>\n",
       "  </tbody>\n",
       "</table>\n",
       "</div>"
      ],
      "text/plain": [
       "   Departure_Time_Block Not_Delayed Delayed Flights Percent_of_delayed\n",
       "0             0001-0559       28805    2475   31280           0.079124\n",
       "1             0600-0659       78433    5406   83839          0.0644807\n",
       "2             0700-0759       70740    6290   77030          0.0816565\n",
       "3             0800-0859       69046    7641   76687          0.0996388\n",
       "4             0900-0959       61251    8262   69513           0.118855\n",
       "5             1000-1059       59747   10088   69835           0.144455\n",
       "6             1100-1159       62287   10850   73137           0.148352\n",
       "7             1200-1259       61290   11733   73023           0.160675\n",
       "8             1300-1359       54858   11378   66236            0.17178\n",
       "9             1400-1459       56754   12804   69558           0.184077\n",
       "10            1500-1559       57330   12939   70269           0.184135\n",
       "11            1600-1659       56275   13217   69492           0.190195\n",
       "12            1700-1759       60247   14736   74983           0.196525\n",
       "13            1800-1859       53586   13987   67573           0.206991\n",
       "14            1900-1959       49644   13414   63058           0.212725\n",
       "15            2000-2059       43037   10733   53770           0.199609\n",
       "16            2100-2159       28653    7002   35655           0.196382\n",
       "17            2200-2259       22130    4427   26557           0.166698"
      ]
     },
     "execution_count": 17,
     "metadata": {},
     "output_type": "execute_result"
    }
   ],
   "source": [
    "# top 10 departure time blocks and the percentage of delayed flight vs total flights.\n",
    "df_time_blk=pd.DataFrame(complete_flights.groupby([\"dep_time_blk\",\"dep_del15\"])[\"origin_airport_id\"].count().unstack(\"dep_del15\").reset_index().values,columns=[\"Departure_Time_Block\",\"Not_Delayed\",\"Delayed\"])\n",
    "df_time_blk['Flights']= df_time_blk.Delayed+ df_time_blk.Not_Delayed\n",
    "df_time_blk[\"Percent_of_delayed\"]=df_time_blk.Delayed /( df_time_blk.Delayed+ df_time_blk.Not_Delayed)\n",
    "df_time_blk['Flights']= df_time_blk.Delayed+ df_time_blk.Not_Delayed\n",
    "df_time_blk.sort_values(by=\"Departure_Time_Block\",inplace=True)\n",
    "df_time_blk.head(18)"
   ]
  },
  {
   "cell_type": "code",
   "execution_count": 18,
   "metadata": {},
   "outputs": [
    {
     "data": {
      "application/vnd.plotly.v1+json": {
       "config": {
        "plotlyServerURL": "https://plot.ly"
       },
       "data": [
        {
         "alignmentgroup": "True",
         "hovertemplate": "Departure_Time_Block=%{x}<br>Percent_of_delayed=%{y}<br>Flights=%{text}<extra></extra>",
         "legendgroup": "",
         "marker": {
          "color": "#636efa",
          "opacity": 0.8
         },
         "name": "",
         "offsetgroup": "",
         "orientation": "v",
         "showlegend": false,
         "text": [
          31280,
          83839,
          77030,
          76687,
          69513,
          69835,
          73137,
          73023,
          66236,
          69558,
          70269,
          69492,
          74983,
          67573,
          63058,
          53770,
          35655,
          26557,
          7788
         ],
         "textposition": "inside",
         "texttemplate": "%{text:,6}",
         "type": "bar",
         "x": [
          "0001-0559",
          "0600-0659",
          "0700-0759",
          "0800-0859",
          "0900-0959",
          "1000-1059",
          "1100-1159",
          "1200-1259",
          "1300-1359",
          "1400-1459",
          "1500-1559",
          "1600-1659",
          "1700-1759",
          "1800-1859",
          "1900-1959",
          "2000-2059",
          "2100-2159",
          "2200-2259",
          "2300-2359"
         ],
         "xaxis": "x",
         "y": [
          0.07912404092071611,
          0.06448073092474862,
          0.08165649746851876,
          0.09963879145096301,
          0.11885546588407923,
          0.1444547862819503,
          0.14835172347785663,
          0.16067540363994906,
          0.17177969684159672,
          0.184076597947037,
          0.18413525167570338,
          0.19019455476889427,
          0.19652454556366108,
          0.20699095792698266,
          0.2127247930476704,
          0.19960944764738703,
          0.19638199411022297,
          0.16669804571299468,
          0.15896250642013354
         ],
         "yaxis": "y"
        },
        {
         "line": {
          "color": "green",
          "shape": "spline",
          "smoothing": 1.2
         },
         "mode": "lines+markers",
         "opacity": 0.3,
         "showlegend": false,
         "type": "scatter",
         "x": [
          "0001-0559",
          "0600-0659",
          "0700-0759",
          "0800-0859",
          "0900-0959",
          "1000-1059",
          "1100-1159",
          "1200-1259",
          "1300-1359",
          "1400-1459",
          "1500-1559",
          "1600-1659",
          "1700-1759",
          "1800-1859",
          "1900-1959",
          "2000-2059",
          "2100-2159",
          "2200-2259",
          "2300-2359"
         ],
         "y": [
          0.07912404092071611,
          0.06448073092474862,
          0.08165649746851876,
          0.09963879145096301,
          0.11885546588407923,
          0.1444547862819503,
          0.14835172347785663,
          0.16067540363994906,
          0.17177969684159672,
          0.184076597947037,
          0.18413525167570338,
          0.19019455476889427,
          0.19652454556366108,
          0.20699095792698266,
          0.2127247930476704,
          0.19960944764738703,
          0.19638199411022297,
          0.16669804571299468,
          0.15896250642013354
         ]
        }
       ],
       "layout": {
        "barmode": "relative",
        "legend": {
         "tracegroupgap": 0
        },
        "margin": {
         "t": 60
        },
        "template": {
         "data": {
          "bar": [
           {
            "error_x": {
             "color": "#2a3f5f"
            },
            "error_y": {
             "color": "#2a3f5f"
            },
            "marker": {
             "line": {
              "color": "#E5ECF6",
              "width": 0.5
             }
            },
            "type": "bar"
           }
          ],
          "barpolar": [
           {
            "marker": {
             "line": {
              "color": "#E5ECF6",
              "width": 0.5
             }
            },
            "type": "barpolar"
           }
          ],
          "carpet": [
           {
            "aaxis": {
             "endlinecolor": "#2a3f5f",
             "gridcolor": "white",
             "linecolor": "white",
             "minorgridcolor": "white",
             "startlinecolor": "#2a3f5f"
            },
            "baxis": {
             "endlinecolor": "#2a3f5f",
             "gridcolor": "white",
             "linecolor": "white",
             "minorgridcolor": "white",
             "startlinecolor": "#2a3f5f"
            },
            "type": "carpet"
           }
          ],
          "choropleth": [
           {
            "colorbar": {
             "outlinewidth": 0,
             "ticks": ""
            },
            "type": "choropleth"
           }
          ],
          "contour": [
           {
            "colorbar": {
             "outlinewidth": 0,
             "ticks": ""
            },
            "colorscale": [
             [
              0,
              "#0d0887"
             ],
             [
              0.1111111111111111,
              "#46039f"
             ],
             [
              0.2222222222222222,
              "#7201a8"
             ],
             [
              0.3333333333333333,
              "#9c179e"
             ],
             [
              0.4444444444444444,
              "#bd3786"
             ],
             [
              0.5555555555555556,
              "#d8576b"
             ],
             [
              0.6666666666666666,
              "#ed7953"
             ],
             [
              0.7777777777777778,
              "#fb9f3a"
             ],
             [
              0.8888888888888888,
              "#fdca26"
             ],
             [
              1,
              "#f0f921"
             ]
            ],
            "type": "contour"
           }
          ],
          "contourcarpet": [
           {
            "colorbar": {
             "outlinewidth": 0,
             "ticks": ""
            },
            "type": "contourcarpet"
           }
          ],
          "heatmap": [
           {
            "colorbar": {
             "outlinewidth": 0,
             "ticks": ""
            },
            "colorscale": [
             [
              0,
              "#0d0887"
             ],
             [
              0.1111111111111111,
              "#46039f"
             ],
             [
              0.2222222222222222,
              "#7201a8"
             ],
             [
              0.3333333333333333,
              "#9c179e"
             ],
             [
              0.4444444444444444,
              "#bd3786"
             ],
             [
              0.5555555555555556,
              "#d8576b"
             ],
             [
              0.6666666666666666,
              "#ed7953"
             ],
             [
              0.7777777777777778,
              "#fb9f3a"
             ],
             [
              0.8888888888888888,
              "#fdca26"
             ],
             [
              1,
              "#f0f921"
             ]
            ],
            "type": "heatmap"
           }
          ],
          "heatmapgl": [
           {
            "colorbar": {
             "outlinewidth": 0,
             "ticks": ""
            },
            "colorscale": [
             [
              0,
              "#0d0887"
             ],
             [
              0.1111111111111111,
              "#46039f"
             ],
             [
              0.2222222222222222,
              "#7201a8"
             ],
             [
              0.3333333333333333,
              "#9c179e"
             ],
             [
              0.4444444444444444,
              "#bd3786"
             ],
             [
              0.5555555555555556,
              "#d8576b"
             ],
             [
              0.6666666666666666,
              "#ed7953"
             ],
             [
              0.7777777777777778,
              "#fb9f3a"
             ],
             [
              0.8888888888888888,
              "#fdca26"
             ],
             [
              1,
              "#f0f921"
             ]
            ],
            "type": "heatmapgl"
           }
          ],
          "histogram": [
           {
            "marker": {
             "colorbar": {
              "outlinewidth": 0,
              "ticks": ""
             }
            },
            "type": "histogram"
           }
          ],
          "histogram2d": [
           {
            "colorbar": {
             "outlinewidth": 0,
             "ticks": ""
            },
            "colorscale": [
             [
              0,
              "#0d0887"
             ],
             [
              0.1111111111111111,
              "#46039f"
             ],
             [
              0.2222222222222222,
              "#7201a8"
             ],
             [
              0.3333333333333333,
              "#9c179e"
             ],
             [
              0.4444444444444444,
              "#bd3786"
             ],
             [
              0.5555555555555556,
              "#d8576b"
             ],
             [
              0.6666666666666666,
              "#ed7953"
             ],
             [
              0.7777777777777778,
              "#fb9f3a"
             ],
             [
              0.8888888888888888,
              "#fdca26"
             ],
             [
              1,
              "#f0f921"
             ]
            ],
            "type": "histogram2d"
           }
          ],
          "histogram2dcontour": [
           {
            "colorbar": {
             "outlinewidth": 0,
             "ticks": ""
            },
            "colorscale": [
             [
              0,
              "#0d0887"
             ],
             [
              0.1111111111111111,
              "#46039f"
             ],
             [
              0.2222222222222222,
              "#7201a8"
             ],
             [
              0.3333333333333333,
              "#9c179e"
             ],
             [
              0.4444444444444444,
              "#bd3786"
             ],
             [
              0.5555555555555556,
              "#d8576b"
             ],
             [
              0.6666666666666666,
              "#ed7953"
             ],
             [
              0.7777777777777778,
              "#fb9f3a"
             ],
             [
              0.8888888888888888,
              "#fdca26"
             ],
             [
              1,
              "#f0f921"
             ]
            ],
            "type": "histogram2dcontour"
           }
          ],
          "mesh3d": [
           {
            "colorbar": {
             "outlinewidth": 0,
             "ticks": ""
            },
            "type": "mesh3d"
           }
          ],
          "parcoords": [
           {
            "line": {
             "colorbar": {
              "outlinewidth": 0,
              "ticks": ""
             }
            },
            "type": "parcoords"
           }
          ],
          "pie": [
           {
            "automargin": true,
            "type": "pie"
           }
          ],
          "scatter": [
           {
            "marker": {
             "colorbar": {
              "outlinewidth": 0,
              "ticks": ""
             }
            },
            "type": "scatter"
           }
          ],
          "scatter3d": [
           {
            "line": {
             "colorbar": {
              "outlinewidth": 0,
              "ticks": ""
             }
            },
            "marker": {
             "colorbar": {
              "outlinewidth": 0,
              "ticks": ""
             }
            },
            "type": "scatter3d"
           }
          ],
          "scattercarpet": [
           {
            "marker": {
             "colorbar": {
              "outlinewidth": 0,
              "ticks": ""
             }
            },
            "type": "scattercarpet"
           }
          ],
          "scattergeo": [
           {
            "marker": {
             "colorbar": {
              "outlinewidth": 0,
              "ticks": ""
             }
            },
            "type": "scattergeo"
           }
          ],
          "scattergl": [
           {
            "marker": {
             "colorbar": {
              "outlinewidth": 0,
              "ticks": ""
             }
            },
            "type": "scattergl"
           }
          ],
          "scattermapbox": [
           {
            "marker": {
             "colorbar": {
              "outlinewidth": 0,
              "ticks": ""
             }
            },
            "type": "scattermapbox"
           }
          ],
          "scatterpolar": [
           {
            "marker": {
             "colorbar": {
              "outlinewidth": 0,
              "ticks": ""
             }
            },
            "type": "scatterpolar"
           }
          ],
          "scatterpolargl": [
           {
            "marker": {
             "colorbar": {
              "outlinewidth": 0,
              "ticks": ""
             }
            },
            "type": "scatterpolargl"
           }
          ],
          "scatterternary": [
           {
            "marker": {
             "colorbar": {
              "outlinewidth": 0,
              "ticks": ""
             }
            },
            "type": "scatterternary"
           }
          ],
          "surface": [
           {
            "colorbar": {
             "outlinewidth": 0,
             "ticks": ""
            },
            "colorscale": [
             [
              0,
              "#0d0887"
             ],
             [
              0.1111111111111111,
              "#46039f"
             ],
             [
              0.2222222222222222,
              "#7201a8"
             ],
             [
              0.3333333333333333,
              "#9c179e"
             ],
             [
              0.4444444444444444,
              "#bd3786"
             ],
             [
              0.5555555555555556,
              "#d8576b"
             ],
             [
              0.6666666666666666,
              "#ed7953"
             ],
             [
              0.7777777777777778,
              "#fb9f3a"
             ],
             [
              0.8888888888888888,
              "#fdca26"
             ],
             [
              1,
              "#f0f921"
             ]
            ],
            "type": "surface"
           }
          ],
          "table": [
           {
            "cells": {
             "fill": {
              "color": "#EBF0F8"
             },
             "line": {
              "color": "white"
             }
            },
            "header": {
             "fill": {
              "color": "#C8D4E3"
             },
             "line": {
              "color": "white"
             }
            },
            "type": "table"
           }
          ]
         },
         "layout": {
          "annotationdefaults": {
           "arrowcolor": "#2a3f5f",
           "arrowhead": 0,
           "arrowwidth": 1
          },
          "coloraxis": {
           "colorbar": {
            "outlinewidth": 0,
            "ticks": ""
           }
          },
          "colorscale": {
           "diverging": [
            [
             0,
             "#8e0152"
            ],
            [
             0.1,
             "#c51b7d"
            ],
            [
             0.2,
             "#de77ae"
            ],
            [
             0.3,
             "#f1b6da"
            ],
            [
             0.4,
             "#fde0ef"
            ],
            [
             0.5,
             "#f7f7f7"
            ],
            [
             0.6,
             "#e6f5d0"
            ],
            [
             0.7,
             "#b8e186"
            ],
            [
             0.8,
             "#7fbc41"
            ],
            [
             0.9,
             "#4d9221"
            ],
            [
             1,
             "#276419"
            ]
           ],
           "sequential": [
            [
             0,
             "#0d0887"
            ],
            [
             0.1111111111111111,
             "#46039f"
            ],
            [
             0.2222222222222222,
             "#7201a8"
            ],
            [
             0.3333333333333333,
             "#9c179e"
            ],
            [
             0.4444444444444444,
             "#bd3786"
            ],
            [
             0.5555555555555556,
             "#d8576b"
            ],
            [
             0.6666666666666666,
             "#ed7953"
            ],
            [
             0.7777777777777778,
             "#fb9f3a"
            ],
            [
             0.8888888888888888,
             "#fdca26"
            ],
            [
             1,
             "#f0f921"
            ]
           ],
           "sequentialminus": [
            [
             0,
             "#0d0887"
            ],
            [
             0.1111111111111111,
             "#46039f"
            ],
            [
             0.2222222222222222,
             "#7201a8"
            ],
            [
             0.3333333333333333,
             "#9c179e"
            ],
            [
             0.4444444444444444,
             "#bd3786"
            ],
            [
             0.5555555555555556,
             "#d8576b"
            ],
            [
             0.6666666666666666,
             "#ed7953"
            ],
            [
             0.7777777777777778,
             "#fb9f3a"
            ],
            [
             0.8888888888888888,
             "#fdca26"
            ],
            [
             1,
             "#f0f921"
            ]
           ]
          },
          "colorway": [
           "#636efa",
           "#EF553B",
           "#00cc96",
           "#ab63fa",
           "#FFA15A",
           "#19d3f3",
           "#FF6692",
           "#B6E880",
           "#FF97FF",
           "#FECB52"
          ],
          "font": {
           "color": "#2a3f5f"
          },
          "geo": {
           "bgcolor": "white",
           "lakecolor": "white",
           "landcolor": "#E5ECF6",
           "showlakes": true,
           "showland": true,
           "subunitcolor": "white"
          },
          "hoverlabel": {
           "align": "left"
          },
          "hovermode": "closest",
          "mapbox": {
           "style": "light"
          },
          "paper_bgcolor": "white",
          "plot_bgcolor": "#E5ECF6",
          "polar": {
           "angularaxis": {
            "gridcolor": "white",
            "linecolor": "white",
            "ticks": ""
           },
           "bgcolor": "#E5ECF6",
           "radialaxis": {
            "gridcolor": "white",
            "linecolor": "white",
            "ticks": ""
           }
          },
          "scene": {
           "xaxis": {
            "backgroundcolor": "#E5ECF6",
            "gridcolor": "white",
            "gridwidth": 2,
            "linecolor": "white",
            "showbackground": true,
            "ticks": "",
            "zerolinecolor": "white"
           },
           "yaxis": {
            "backgroundcolor": "#E5ECF6",
            "gridcolor": "white",
            "gridwidth": 2,
            "linecolor": "white",
            "showbackground": true,
            "ticks": "",
            "zerolinecolor": "white"
           },
           "zaxis": {
            "backgroundcolor": "#E5ECF6",
            "gridcolor": "white",
            "gridwidth": 2,
            "linecolor": "white",
            "showbackground": true,
            "ticks": "",
            "zerolinecolor": "white"
           }
          },
          "shapedefaults": {
           "line": {
            "color": "#2a3f5f"
           }
          },
          "ternary": {
           "aaxis": {
            "gridcolor": "white",
            "linecolor": "white",
            "ticks": ""
           },
           "baxis": {
            "gridcolor": "white",
            "linecolor": "white",
            "ticks": ""
           },
           "bgcolor": "#E5ECF6",
           "caxis": {
            "gridcolor": "white",
            "linecolor": "white",
            "ticks": ""
           }
          },
          "title": {
           "x": 0.05
          },
          "xaxis": {
           "automargin": true,
           "gridcolor": "white",
           "linecolor": "white",
           "ticks": "",
           "title": {
            "standoff": 15
           },
           "zerolinecolor": "white",
           "zerolinewidth": 2
          },
          "yaxis": {
           "automargin": true,
           "gridcolor": "white",
           "linecolor": "white",
           "ticks": "",
           "title": {
            "standoff": 15
           },
           "zerolinecolor": "white",
           "zerolinewidth": 2
          }
         }
        },
        "title": {
         "text": "Percentage of Delayed Flights per Departure Time",
         "x": 0.5
        },
        "uniformtext": {
         "minsize": 4,
         "mode": "hide"
        },
        "xaxis": {
         "anchor": "y",
         "domain": [
          0,
          1
         ],
         "title": {
          "text": "Departure Time Block"
         }
        },
        "yaxis": {
         "anchor": "x",
         "domain": [
          0,
          1
         ],
         "title": {
          "text": "Percentage of Delay"
         }
        }
       }
      },
      "text/html": [
       "<div>\n",
       "        \n",
       "        \n",
       "            <div id=\"cccc08de-10d8-43c7-ae06-1044b0974b2d\" class=\"plotly-graph-div\" style=\"height:525px; width:100%;\"></div>\n",
       "            <script type=\"text/javascript\">\n",
       "                require([\"plotly\"], function(Plotly) {\n",
       "                    window.PLOTLYENV=window.PLOTLYENV || {};\n",
       "                    \n",
       "                if (document.getElementById(\"cccc08de-10d8-43c7-ae06-1044b0974b2d\")) {\n",
       "                    Plotly.newPlot(\n",
       "                        'cccc08de-10d8-43c7-ae06-1044b0974b2d',\n",
       "                        [{\"alignmentgroup\": \"True\", \"hovertemplate\": \"Departure_Time_Block=%{x}<br>Percent_of_delayed=%{y}<br>Flights=%{text}<extra></extra>\", \"legendgroup\": \"\", \"marker\": {\"color\": \"#636efa\", \"opacity\": 0.8}, \"name\": \"\", \"offsetgroup\": \"\", \"orientation\": \"v\", \"showlegend\": false, \"text\": [31280, 83839, 77030, 76687, 69513, 69835, 73137, 73023, 66236, 69558, 70269, 69492, 74983, 67573, 63058, 53770, 35655, 26557, 7788], \"textposition\": \"inside\", \"texttemplate\": \"%{text:,6}\", \"type\": \"bar\", \"x\": [\"0001-0559\", \"0600-0659\", \"0700-0759\", \"0800-0859\", \"0900-0959\", \"1000-1059\", \"1100-1159\", \"1200-1259\", \"1300-1359\", \"1400-1459\", \"1500-1559\", \"1600-1659\", \"1700-1759\", \"1800-1859\", \"1900-1959\", \"2000-2059\", \"2100-2159\", \"2200-2259\", \"2300-2359\"], \"xaxis\": \"x\", \"y\": [0.07912404092071611, 0.06448073092474862, 0.08165649746851876, 0.09963879145096301, 0.11885546588407923, 0.1444547862819503, 0.14835172347785663, 0.16067540363994906, 0.17177969684159672, 0.184076597947037, 0.18413525167570338, 0.19019455476889427, 0.19652454556366108, 0.20699095792698266, 0.2127247930476704, 0.19960944764738703, 0.19638199411022297, 0.16669804571299468, 0.15896250642013354], \"yaxis\": \"y\"}, {\"line\": {\"color\": \"green\", \"shape\": \"spline\", \"smoothing\": 1.2}, \"mode\": \"lines+markers\", \"opacity\": 0.3, \"showlegend\": false, \"type\": \"scatter\", \"x\": [\"0001-0559\", \"0600-0659\", \"0700-0759\", \"0800-0859\", \"0900-0959\", \"1000-1059\", \"1100-1159\", \"1200-1259\", \"1300-1359\", \"1400-1459\", \"1500-1559\", \"1600-1659\", \"1700-1759\", \"1800-1859\", \"1900-1959\", \"2000-2059\", \"2100-2159\", \"2200-2259\", \"2300-2359\"], \"y\": [0.07912404092071611, 0.06448073092474862, 0.08165649746851876, 0.09963879145096301, 0.11885546588407923, 0.1444547862819503, 0.14835172347785663, 0.16067540363994906, 0.17177969684159672, 0.184076597947037, 0.18413525167570338, 0.19019455476889427, 0.19652454556366108, 0.20699095792698266, 0.2127247930476704, 0.19960944764738703, 0.19638199411022297, 0.16669804571299468, 0.15896250642013354]}],\n",
       "                        {\"barmode\": \"relative\", \"legend\": {\"tracegroupgap\": 0}, \"margin\": {\"t\": 60}, \"template\": {\"data\": {\"bar\": [{\"error_x\": {\"color\": \"#2a3f5f\"}, \"error_y\": {\"color\": \"#2a3f5f\"}, \"marker\": {\"line\": {\"color\": \"#E5ECF6\", \"width\": 0.5}}, \"type\": \"bar\"}], \"barpolar\": [{\"marker\": {\"line\": {\"color\": \"#E5ECF6\", \"width\": 0.5}}, \"type\": \"barpolar\"}], \"carpet\": [{\"aaxis\": {\"endlinecolor\": \"#2a3f5f\", \"gridcolor\": \"white\", \"linecolor\": \"white\", \"minorgridcolor\": \"white\", \"startlinecolor\": \"#2a3f5f\"}, \"baxis\": {\"endlinecolor\": \"#2a3f5f\", \"gridcolor\": \"white\", \"linecolor\": \"white\", \"minorgridcolor\": \"white\", \"startlinecolor\": \"#2a3f5f\"}, \"type\": \"carpet\"}], \"choropleth\": [{\"colorbar\": {\"outlinewidth\": 0, \"ticks\": \"\"}, \"type\": \"choropleth\"}], \"contour\": [{\"colorbar\": {\"outlinewidth\": 0, \"ticks\": \"\"}, \"colorscale\": [[0.0, \"#0d0887\"], [0.1111111111111111, \"#46039f\"], [0.2222222222222222, \"#7201a8\"], [0.3333333333333333, \"#9c179e\"], [0.4444444444444444, \"#bd3786\"], [0.5555555555555556, \"#d8576b\"], [0.6666666666666666, \"#ed7953\"], [0.7777777777777778, \"#fb9f3a\"], [0.8888888888888888, \"#fdca26\"], [1.0, \"#f0f921\"]], \"type\": \"contour\"}], \"contourcarpet\": [{\"colorbar\": {\"outlinewidth\": 0, \"ticks\": \"\"}, \"type\": \"contourcarpet\"}], \"heatmap\": [{\"colorbar\": {\"outlinewidth\": 0, \"ticks\": \"\"}, \"colorscale\": [[0.0, \"#0d0887\"], [0.1111111111111111, \"#46039f\"], [0.2222222222222222, \"#7201a8\"], [0.3333333333333333, \"#9c179e\"], [0.4444444444444444, \"#bd3786\"], [0.5555555555555556, \"#d8576b\"], [0.6666666666666666, \"#ed7953\"], [0.7777777777777778, \"#fb9f3a\"], [0.8888888888888888, \"#fdca26\"], [1.0, \"#f0f921\"]], \"type\": \"heatmap\"}], \"heatmapgl\": [{\"colorbar\": {\"outlinewidth\": 0, \"ticks\": \"\"}, \"colorscale\": [[0.0, \"#0d0887\"], [0.1111111111111111, \"#46039f\"], [0.2222222222222222, \"#7201a8\"], [0.3333333333333333, \"#9c179e\"], [0.4444444444444444, \"#bd3786\"], [0.5555555555555556, \"#d8576b\"], [0.6666666666666666, \"#ed7953\"], [0.7777777777777778, \"#fb9f3a\"], [0.8888888888888888, \"#fdca26\"], [1.0, \"#f0f921\"]], \"type\": \"heatmapgl\"}], \"histogram\": [{\"marker\": {\"colorbar\": {\"outlinewidth\": 0, \"ticks\": \"\"}}, \"type\": \"histogram\"}], \"histogram2d\": [{\"colorbar\": {\"outlinewidth\": 0, \"ticks\": \"\"}, \"colorscale\": [[0.0, \"#0d0887\"], [0.1111111111111111, \"#46039f\"], [0.2222222222222222, \"#7201a8\"], [0.3333333333333333, \"#9c179e\"], [0.4444444444444444, \"#bd3786\"], [0.5555555555555556, \"#d8576b\"], [0.6666666666666666, \"#ed7953\"], [0.7777777777777778, \"#fb9f3a\"], [0.8888888888888888, \"#fdca26\"], [1.0, \"#f0f921\"]], \"type\": \"histogram2d\"}], \"histogram2dcontour\": [{\"colorbar\": {\"outlinewidth\": 0, \"ticks\": \"\"}, \"colorscale\": [[0.0, \"#0d0887\"], [0.1111111111111111, \"#46039f\"], [0.2222222222222222, \"#7201a8\"], [0.3333333333333333, \"#9c179e\"], [0.4444444444444444, \"#bd3786\"], [0.5555555555555556, \"#d8576b\"], [0.6666666666666666, \"#ed7953\"], [0.7777777777777778, \"#fb9f3a\"], [0.8888888888888888, \"#fdca26\"], [1.0, \"#f0f921\"]], \"type\": \"histogram2dcontour\"}], \"mesh3d\": [{\"colorbar\": {\"outlinewidth\": 0, \"ticks\": \"\"}, \"type\": \"mesh3d\"}], \"parcoords\": [{\"line\": {\"colorbar\": {\"outlinewidth\": 0, \"ticks\": \"\"}}, \"type\": \"parcoords\"}], \"pie\": [{\"automargin\": true, \"type\": \"pie\"}], \"scatter\": [{\"marker\": {\"colorbar\": {\"outlinewidth\": 0, \"ticks\": \"\"}}, \"type\": \"scatter\"}], \"scatter3d\": [{\"line\": {\"colorbar\": {\"outlinewidth\": 0, \"ticks\": \"\"}}, \"marker\": {\"colorbar\": {\"outlinewidth\": 0, \"ticks\": \"\"}}, \"type\": \"scatter3d\"}], \"scattercarpet\": [{\"marker\": {\"colorbar\": {\"outlinewidth\": 0, \"ticks\": \"\"}}, \"type\": \"scattercarpet\"}], \"scattergeo\": [{\"marker\": {\"colorbar\": {\"outlinewidth\": 0, \"ticks\": \"\"}}, \"type\": \"scattergeo\"}], \"scattergl\": [{\"marker\": {\"colorbar\": {\"outlinewidth\": 0, \"ticks\": \"\"}}, \"type\": \"scattergl\"}], \"scattermapbox\": [{\"marker\": {\"colorbar\": {\"outlinewidth\": 0, \"ticks\": \"\"}}, \"type\": \"scattermapbox\"}], \"scatterpolar\": [{\"marker\": {\"colorbar\": {\"outlinewidth\": 0, \"ticks\": \"\"}}, \"type\": \"scatterpolar\"}], \"scatterpolargl\": [{\"marker\": {\"colorbar\": {\"outlinewidth\": 0, \"ticks\": \"\"}}, \"type\": \"scatterpolargl\"}], \"scatterternary\": [{\"marker\": {\"colorbar\": {\"outlinewidth\": 0, \"ticks\": \"\"}}, \"type\": \"scatterternary\"}], \"surface\": [{\"colorbar\": {\"outlinewidth\": 0, \"ticks\": \"\"}, \"colorscale\": [[0.0, \"#0d0887\"], [0.1111111111111111, \"#46039f\"], [0.2222222222222222, \"#7201a8\"], [0.3333333333333333, \"#9c179e\"], [0.4444444444444444, \"#bd3786\"], [0.5555555555555556, \"#d8576b\"], [0.6666666666666666, \"#ed7953\"], [0.7777777777777778, \"#fb9f3a\"], [0.8888888888888888, \"#fdca26\"], [1.0, \"#f0f921\"]], \"type\": \"surface\"}], \"table\": [{\"cells\": {\"fill\": {\"color\": \"#EBF0F8\"}, \"line\": {\"color\": \"white\"}}, \"header\": {\"fill\": {\"color\": \"#C8D4E3\"}, \"line\": {\"color\": \"white\"}}, \"type\": \"table\"}]}, \"layout\": {\"annotationdefaults\": {\"arrowcolor\": \"#2a3f5f\", \"arrowhead\": 0, \"arrowwidth\": 1}, \"coloraxis\": {\"colorbar\": {\"outlinewidth\": 0, \"ticks\": \"\"}}, \"colorscale\": {\"diverging\": [[0, \"#8e0152\"], [0.1, \"#c51b7d\"], [0.2, \"#de77ae\"], [0.3, \"#f1b6da\"], [0.4, \"#fde0ef\"], [0.5, \"#f7f7f7\"], [0.6, \"#e6f5d0\"], [0.7, \"#b8e186\"], [0.8, \"#7fbc41\"], [0.9, \"#4d9221\"], [1, \"#276419\"]], \"sequential\": [[0.0, \"#0d0887\"], [0.1111111111111111, \"#46039f\"], [0.2222222222222222, \"#7201a8\"], [0.3333333333333333, \"#9c179e\"], [0.4444444444444444, \"#bd3786\"], [0.5555555555555556, \"#d8576b\"], [0.6666666666666666, \"#ed7953\"], [0.7777777777777778, \"#fb9f3a\"], [0.8888888888888888, \"#fdca26\"], [1.0, \"#f0f921\"]], \"sequentialminus\": [[0.0, \"#0d0887\"], [0.1111111111111111, \"#46039f\"], [0.2222222222222222, \"#7201a8\"], [0.3333333333333333, \"#9c179e\"], [0.4444444444444444, \"#bd3786\"], [0.5555555555555556, \"#d8576b\"], [0.6666666666666666, \"#ed7953\"], [0.7777777777777778, \"#fb9f3a\"], [0.8888888888888888, \"#fdca26\"], [1.0, \"#f0f921\"]]}, \"colorway\": [\"#636efa\", \"#EF553B\", \"#00cc96\", \"#ab63fa\", \"#FFA15A\", \"#19d3f3\", \"#FF6692\", \"#B6E880\", \"#FF97FF\", \"#FECB52\"], \"font\": {\"color\": \"#2a3f5f\"}, \"geo\": {\"bgcolor\": \"white\", \"lakecolor\": \"white\", \"landcolor\": \"#E5ECF6\", \"showlakes\": true, \"showland\": true, \"subunitcolor\": \"white\"}, \"hoverlabel\": {\"align\": \"left\"}, \"hovermode\": \"closest\", \"mapbox\": {\"style\": \"light\"}, \"paper_bgcolor\": \"white\", \"plot_bgcolor\": \"#E5ECF6\", \"polar\": {\"angularaxis\": {\"gridcolor\": \"white\", \"linecolor\": \"white\", \"ticks\": \"\"}, \"bgcolor\": \"#E5ECF6\", \"radialaxis\": {\"gridcolor\": \"white\", \"linecolor\": \"white\", \"ticks\": \"\"}}, \"scene\": {\"xaxis\": {\"backgroundcolor\": \"#E5ECF6\", \"gridcolor\": \"white\", \"gridwidth\": 2, \"linecolor\": \"white\", \"showbackground\": true, \"ticks\": \"\", \"zerolinecolor\": \"white\"}, \"yaxis\": {\"backgroundcolor\": \"#E5ECF6\", \"gridcolor\": \"white\", \"gridwidth\": 2, \"linecolor\": \"white\", \"showbackground\": true, \"ticks\": \"\", \"zerolinecolor\": \"white\"}, \"zaxis\": {\"backgroundcolor\": \"#E5ECF6\", \"gridcolor\": \"white\", \"gridwidth\": 2, \"linecolor\": \"white\", \"showbackground\": true, \"ticks\": \"\", \"zerolinecolor\": \"white\"}}, \"shapedefaults\": {\"line\": {\"color\": \"#2a3f5f\"}}, \"ternary\": {\"aaxis\": {\"gridcolor\": \"white\", \"linecolor\": \"white\", \"ticks\": \"\"}, \"baxis\": {\"gridcolor\": \"white\", \"linecolor\": \"white\", \"ticks\": \"\"}, \"bgcolor\": \"#E5ECF6\", \"caxis\": {\"gridcolor\": \"white\", \"linecolor\": \"white\", \"ticks\": \"\"}}, \"title\": {\"x\": 0.05}, \"xaxis\": {\"automargin\": true, \"gridcolor\": \"white\", \"linecolor\": \"white\", \"ticks\": \"\", \"title\": {\"standoff\": 15}, \"zerolinecolor\": \"white\", \"zerolinewidth\": 2}, \"yaxis\": {\"automargin\": true, \"gridcolor\": \"white\", \"linecolor\": \"white\", \"ticks\": \"\", \"title\": {\"standoff\": 15}, \"zerolinecolor\": \"white\", \"zerolinewidth\": 2}}}, \"title\": {\"text\": \"Percentage of Delayed Flights per Departure Time\", \"x\": 0.5}, \"uniformtext\": {\"minsize\": 4, \"mode\": \"hide\"}, \"xaxis\": {\"anchor\": \"y\", \"domain\": [0.0, 1.0], \"title\": {\"text\": \"Departure Time Block\"}}, \"yaxis\": {\"anchor\": \"x\", \"domain\": [0.0, 1.0], \"title\": {\"text\": \"Percentage of Delay\"}}},\n",
       "                        {\"responsive\": true}\n",
       "                    ).then(function(){\n",
       "                            \n",
       "var gd = document.getElementById('cccc08de-10d8-43c7-ae06-1044b0974b2d');\n",
       "var x = new MutationObserver(function (mutations, observer) {{\n",
       "        var display = window.getComputedStyle(gd).display;\n",
       "        if (!display || display === 'none') {{\n",
       "            console.log([gd, 'removed!']);\n",
       "            Plotly.purge(gd);\n",
       "            observer.disconnect();\n",
       "        }}\n",
       "}});\n",
       "\n",
       "// Listen for the removal of the full notebook cells\n",
       "var notebookContainer = gd.closest('#notebook-container');\n",
       "if (notebookContainer) {{\n",
       "    x.observe(notebookContainer, {childList: true});\n",
       "}}\n",
       "\n",
       "// Listen for the clearing of the current output cell\n",
       "var outputEl = gd.closest('.output');\n",
       "if (outputEl) {{\n",
       "    x.observe(outputEl, {childList: true});\n",
       "}}\n",
       "\n",
       "                        })\n",
       "                };\n",
       "                });\n",
       "            </script>\n",
       "        </div>"
      ]
     },
     "metadata": {},
     "output_type": "display_data"
    }
   ],
   "source": [
    "fig = px.bar(df_time_blk, y=\"Percent_of_delayed\", x='Departure_Time_Block', text='Flights', opacity = 0.8)\n",
    "fig.update_traces(texttemplate='%{text:,6}', textposition='inside')\n",
    "fig.update_layout(uniformtext_minsize=4, uniformtext_mode='hide', title_x = 0.5,title_text='Percentage of Delayed Flights per Departure Time', yaxis=dict(title='Percentage of Delay'),\n",
    "                  xaxis=dict(title='Departure Time Block'))\n",
    "# fig.add_annotation( x='WN', y=100000, text=\"Highest OP CARRIER - WN\",showarrow=True, font=dict( family=\"Courier New, monospace\", size=10, color=\"#ffffff\" ), align=\"right\", arrowhead=2, arrowsize=1, arrowwidth=2, arrowcolor=\"#636363\", ax=120, ay=0, bordercolor=\"#c7c7c7\", borderwidth=2, borderpad=4, bgcolor=\"#ff7f0e\", opacity=0.8)\n",
    "\n",
    "fig.add_trace(go.Scatter(x=df_time_blk['Departure_Time_Block'], y=df_time_blk['Percent_of_delayed'],\n",
    "                    mode='lines+markers',opacity = 0.3,showlegend=False,\n",
    "                   line = dict(\n",
    "        smoothing = 1.2, color = 'green',\n",
    "        shape = \"spline\"\n",
    "    )))\n",
    "\n",
    "fig.show()"
   ]
  },
  {
   "cell_type": "code",
   "execution_count": 19,
   "metadata": {},
   "outputs": [
    {
     "data": {
      "text/plain": [
       "distance\n",
       "(0, 250]        149607\n",
       "(250, 500]      288804\n",
       "(500, 750]      225753\n",
       "(750, 1000]     176970\n",
       "(1000, 1500]    179385\n",
       "(1500, 2000]     71496\n",
       "(2000, 2500]     45510\n",
       "(2500, 5000]     21715\n",
       "Name: distance, dtype: int64"
      ]
     },
     "execution_count": 19,
     "metadata": {},
     "output_type": "execute_result"
    }
   ],
   "source": [
    "# Cut the per distance into the distance ranges.\n",
    "distance = complete_flights[\"distance\"]\n",
    "distance_bins = [0, 250, 500, 750, 1000, 1500, 2000, 2500, 5000]\n",
    "distance.groupby(pd.cut(distance, distance_bins)).count()"
   ]
  },
  {
   "cell_type": "code",
   "execution_count": 20,
   "metadata": {},
   "outputs": [],
   "source": [
    "# Establish the distance bins and group names.\n",
    "distance_bins = [0, 250, 500, 750, 1000, 1500, 2000, 2500, 5000]\n",
    "group_names = [\"<250\", \"250-500\", \"500-750\", \"750-1000\", \"1000-1500\", \"1500-2000\", \"2000-2500\", \"2500-5000\"]"
   ]
  },
  {
   "cell_type": "code",
   "execution_count": 21,
   "metadata": {},
   "outputs": [
    {
     "data": {
      "text/html": [
       "<div>\n",
       "<style scoped>\n",
       "    .dataframe tbody tr th:only-of-type {\n",
       "        vertical-align: middle;\n",
       "    }\n",
       "\n",
       "    .dataframe tbody tr th {\n",
       "        vertical-align: top;\n",
       "    }\n",
       "\n",
       "    .dataframe thead th {\n",
       "        text-align: right;\n",
       "    }\n",
       "</style>\n",
       "<table border=\"1\" class=\"dataframe\">\n",
       "  <thead>\n",
       "    <tr style=\"text-align: right;\">\n",
       "      <th></th>\n",
       "      <th>origin</th>\n",
       "      <th>origin_city</th>\n",
       "      <th>day_of_month</th>\n",
       "      <th>day_of_week</th>\n",
       "      <th>op_carrier_airline_id</th>\n",
       "      <th>op_carrier</th>\n",
       "      <th>tail_num</th>\n",
       "      <th>op_carrier_fl_num</th>\n",
       "      <th>origin_airport_id</th>\n",
       "      <th>origin_airport_seq_id</th>\n",
       "      <th>...</th>\n",
       "      <th>dep_del15</th>\n",
       "      <th>dep_time_blk</th>\n",
       "      <th>arr_time</th>\n",
       "      <th>arr_del15</th>\n",
       "      <th>cancelled</th>\n",
       "      <th>diverted</th>\n",
       "      <th>distance</th>\n",
       "      <th>dest_city</th>\n",
       "      <th>weekday</th>\n",
       "      <th>Distance Range (in Miles)</th>\n",
       "    </tr>\n",
       "  </thead>\n",
       "  <tbody>\n",
       "    <tr>\n",
       "      <th>0</th>\n",
       "      <td>ABR</td>\n",
       "      <td>aberdeen,sd</td>\n",
       "      <td>2019-01-01</td>\n",
       "      <td>2</td>\n",
       "      <td>20304</td>\n",
       "      <td>OO</td>\n",
       "      <td>N910EV</td>\n",
       "      <td>7363</td>\n",
       "      <td>10141</td>\n",
       "      <td>1014106</td>\n",
       "      <td>...</td>\n",
       "      <td>1.0</td>\n",
       "      <td>1300-1359</td>\n",
       "      <td>1521.0</td>\n",
       "      <td>1.0</td>\n",
       "      <td>0.0</td>\n",
       "      <td>0.0</td>\n",
       "      <td>257</td>\n",
       "      <td>minneapolis,mn</td>\n",
       "      <td>Tuesday</td>\n",
       "      <td>250-500</td>\n",
       "    </tr>\n",
       "    <tr>\n",
       "      <th>1</th>\n",
       "      <td>ABR</td>\n",
       "      <td>aberdeen,sd</td>\n",
       "      <td>2019-01-01</td>\n",
       "      <td>2</td>\n",
       "      <td>20304</td>\n",
       "      <td>OO</td>\n",
       "      <td>N432SW</td>\n",
       "      <td>7365</td>\n",
       "      <td>10141</td>\n",
       "      <td>1014106</td>\n",
       "      <td>...</td>\n",
       "      <td>0.0</td>\n",
       "      <td>0600-0659</td>\n",
       "      <td>800.0</td>\n",
       "      <td>0.0</td>\n",
       "      <td>0.0</td>\n",
       "      <td>0.0</td>\n",
       "      <td>257</td>\n",
       "      <td>minneapolis,mn</td>\n",
       "      <td>Tuesday</td>\n",
       "      <td>250-500</td>\n",
       "    </tr>\n",
       "    <tr>\n",
       "      <th>2</th>\n",
       "      <td>ABR</td>\n",
       "      <td>aberdeen,sd</td>\n",
       "      <td>2019-01-02</td>\n",
       "      <td>3</td>\n",
       "      <td>20304</td>\n",
       "      <td>OO</td>\n",
       "      <td>N498CA</td>\n",
       "      <td>7363</td>\n",
       "      <td>10141</td>\n",
       "      <td>1014106</td>\n",
       "      <td>...</td>\n",
       "      <td>0.0</td>\n",
       "      <td>1300-1359</td>\n",
       "      <td>1424.0</td>\n",
       "      <td>0.0</td>\n",
       "      <td>0.0</td>\n",
       "      <td>0.0</td>\n",
       "      <td>257</td>\n",
       "      <td>minneapolis,mn</td>\n",
       "      <td>Wednesday</td>\n",
       "      <td>250-500</td>\n",
       "    </tr>\n",
       "    <tr>\n",
       "      <th>3</th>\n",
       "      <td>ABR</td>\n",
       "      <td>aberdeen,sd</td>\n",
       "      <td>2019-01-02</td>\n",
       "      <td>3</td>\n",
       "      <td>20304</td>\n",
       "      <td>OO</td>\n",
       "      <td>N439SW</td>\n",
       "      <td>7365</td>\n",
       "      <td>10141</td>\n",
       "      <td>1014106</td>\n",
       "      <td>...</td>\n",
       "      <td>0.0</td>\n",
       "      <td>0001-0559</td>\n",
       "      <td>622.0</td>\n",
       "      <td>0.0</td>\n",
       "      <td>0.0</td>\n",
       "      <td>0.0</td>\n",
       "      <td>257</td>\n",
       "      <td>minneapolis,mn</td>\n",
       "      <td>Wednesday</td>\n",
       "      <td>250-500</td>\n",
       "    </tr>\n",
       "    <tr>\n",
       "      <th>4</th>\n",
       "      <td>ABR</td>\n",
       "      <td>aberdeen,sd</td>\n",
       "      <td>2019-01-03</td>\n",
       "      <td>4</td>\n",
       "      <td>20304</td>\n",
       "      <td>OO</td>\n",
       "      <td>N8965E</td>\n",
       "      <td>7363</td>\n",
       "      <td>10141</td>\n",
       "      <td>1014106</td>\n",
       "      <td>...</td>\n",
       "      <td>0.0</td>\n",
       "      <td>1300-1359</td>\n",
       "      <td>1411.0</td>\n",
       "      <td>0.0</td>\n",
       "      <td>0.0</td>\n",
       "      <td>0.0</td>\n",
       "      <td>257</td>\n",
       "      <td>minneapolis,mn</td>\n",
       "      <td>Thursday</td>\n",
       "      <td>250-500</td>\n",
       "    </tr>\n",
       "  </tbody>\n",
       "</table>\n",
       "<p>5 rows × 24 columns</p>\n",
       "</div>"
      ],
      "text/plain": [
       "  origin                               origin_city day_of_month  day_of_week  \\\n",
       "0    ABR  aberdeen,sd                                2019-01-01            2   \n",
       "1    ABR  aberdeen,sd                                2019-01-01            2   \n",
       "2    ABR  aberdeen,sd                                2019-01-02            3   \n",
       "3    ABR  aberdeen,sd                                2019-01-02            3   \n",
       "4    ABR  aberdeen,sd                                2019-01-03            4   \n",
       "\n",
       "  op_carrier_airline_id op_carrier tail_num op_carrier_fl_num  \\\n",
       "0                 20304         OO   N910EV              7363   \n",
       "1                 20304         OO   N432SW              7365   \n",
       "2                 20304         OO   N498CA              7363   \n",
       "3                 20304         OO   N439SW              7365   \n",
       "4                 20304         OO   N8965E              7363   \n",
       "\n",
       "  origin_airport_id origin_airport_seq_id  ... dep_del15 dep_time_blk  \\\n",
       "0             10141               1014106  ...       1.0    1300-1359   \n",
       "1             10141               1014106  ...       0.0    0600-0659   \n",
       "2             10141               1014106  ...       0.0    1300-1359   \n",
       "3             10141               1014106  ...       0.0    0001-0559   \n",
       "4             10141               1014106  ...       0.0    1300-1359   \n",
       "\n",
       "  arr_time  arr_del15  cancelled diverted  distance  \\\n",
       "0   1521.0        1.0        0.0      0.0       257   \n",
       "1    800.0        0.0        0.0      0.0       257   \n",
       "2   1424.0        0.0        0.0      0.0       257   \n",
       "3    622.0        0.0        0.0      0.0       257   \n",
       "4   1411.0        0.0        0.0      0.0       257   \n",
       "\n",
       "                                  dest_city    weekday  \\\n",
       "0  minneapolis,mn                              Tuesday   \n",
       "1  minneapolis,mn                              Tuesday   \n",
       "2  minneapolis,mn                            Wednesday   \n",
       "3  minneapolis,mn                            Wednesday   \n",
       "4  minneapolis,mn                             Thursday   \n",
       "\n",
       "   Distance Range (in Miles)  \n",
       "0                    250-500  \n",
       "1                    250-500  \n",
       "2                    250-500  \n",
       "3                    250-500  \n",
       "4                    250-500  \n",
       "\n",
       "[5 rows x 24 columns]"
      ]
     },
     "execution_count": 21,
     "metadata": {},
     "output_type": "execute_result"
    }
   ],
   "source": [
    "# Categorize distance based on the bins.\n",
    "complete_flights[\"Distance Range (in Miles)\"] = pd.cut(distance, distance_bins, labels=group_names)\n",
    "\n",
    "complete_flights.head()"
   ]
  },
  {
   "cell_type": "code",
   "execution_count": 22,
   "metadata": {},
   "outputs": [
    {
     "data": {
      "text/html": [
       "<div>\n",
       "<style scoped>\n",
       "    .dataframe tbody tr th:only-of-type {\n",
       "        vertical-align: middle;\n",
       "    }\n",
       "\n",
       "    .dataframe tbody tr th {\n",
       "        vertical-align: top;\n",
       "    }\n",
       "\n",
       "    .dataframe thead th {\n",
       "        text-align: right;\n",
       "    }\n",
       "</style>\n",
       "<table border=\"1\" class=\"dataframe\">\n",
       "  <thead>\n",
       "    <tr style=\"text-align: right;\">\n",
       "      <th></th>\n",
       "      <th>Distance</th>\n",
       "      <th>Not_Delayed</th>\n",
       "      <th>Delayed</th>\n",
       "      <th>Flights</th>\n",
       "      <th>Percent_of_delayed</th>\n",
       "    </tr>\n",
       "  </thead>\n",
       "  <tbody>\n",
       "    <tr>\n",
       "      <th>1</th>\n",
       "      <td>250-500</td>\n",
       "      <td>246276</td>\n",
       "      <td>42528</td>\n",
       "      <td>288804</td>\n",
       "      <td>0.147256</td>\n",
       "    </tr>\n",
       "    <tr>\n",
       "      <th>2</th>\n",
       "      <td>500-750</td>\n",
       "      <td>190772</td>\n",
       "      <td>34981</td>\n",
       "      <td>225753</td>\n",
       "      <td>0.154953</td>\n",
       "    </tr>\n",
       "    <tr>\n",
       "      <th>4</th>\n",
       "      <td>1000-1500</td>\n",
       "      <td>149793</td>\n",
       "      <td>29592</td>\n",
       "      <td>179385</td>\n",
       "      <td>0.164964</td>\n",
       "    </tr>\n",
       "    <tr>\n",
       "      <th>3</th>\n",
       "      <td>750-1000</td>\n",
       "      <td>149698</td>\n",
       "      <td>27272</td>\n",
       "      <td>176970</td>\n",
       "      <td>0.154105</td>\n",
       "    </tr>\n",
       "    <tr>\n",
       "      <th>0</th>\n",
       "      <td>&lt;250</td>\n",
       "      <td>127543</td>\n",
       "      <td>22064</td>\n",
       "      <td>149607</td>\n",
       "      <td>0.14748</td>\n",
       "    </tr>\n",
       "    <tr>\n",
       "      <th>5</th>\n",
       "      <td>1500-2000</td>\n",
       "      <td>59604</td>\n",
       "      <td>11892</td>\n",
       "      <td>71496</td>\n",
       "      <td>0.166331</td>\n",
       "    </tr>\n",
       "    <tr>\n",
       "      <th>6</th>\n",
       "      <td>2000-2500</td>\n",
       "      <td>38844</td>\n",
       "      <td>6666</td>\n",
       "      <td>45510</td>\n",
       "      <td>0.146473</td>\n",
       "    </tr>\n",
       "    <tr>\n",
       "      <th>7</th>\n",
       "      <td>2500-5000</td>\n",
       "      <td>18098</td>\n",
       "      <td>3617</td>\n",
       "      <td>21715</td>\n",
       "      <td>0.166567</td>\n",
       "    </tr>\n",
       "  </tbody>\n",
       "</table>\n",
       "</div>"
      ],
      "text/plain": [
       "    Distance Not_Delayed Delayed Flights Percent_of_delayed\n",
       "1    250-500      246276   42528  288804           0.147256\n",
       "2    500-750      190772   34981  225753           0.154953\n",
       "4  1000-1500      149793   29592  179385           0.164964\n",
       "3   750-1000      149698   27272  176970           0.154105\n",
       "0       <250      127543   22064  149607            0.14748\n",
       "5  1500-2000       59604   11892   71496           0.166331\n",
       "6  2000-2500       38844    6666   45510           0.146473\n",
       "7  2500-5000       18098    3617   21715           0.166567"
      ]
     },
     "execution_count": 22,
     "metadata": {},
     "output_type": "execute_result"
    }
   ],
   "source": [
    "# Establishing percentage of delay per distance range\n",
    "df_distance=pd.DataFrame(complete_flights.groupby([\"Distance Range (in Miles)\",\"dep_del15\"])[\"origin_airport_id\"].count().unstack(\"dep_del15\").reset_index().values,columns=[\"Distance\",\"Not_Delayed\",\"Delayed\"])\n",
    "df_distance['Flights']= df_distance.Delayed+ df_distance.Not_Delayed\n",
    "df_distance[\"Percent_of_delayed\"]=df_distance.Delayed /(df_distance.Delayed+ df_distance.Not_Delayed)\n",
    "df_distance.sort_values(by=\"Flights\",ascending=False,inplace=True)\n",
    "df_distance.head(8)"
   ]
  },
  {
   "cell_type": "code",
   "execution_count": 23,
   "metadata": {},
   "outputs": [
    {
     "data": {
      "application/vnd.plotly.v1+json": {
       "config": {
        "plotlyServerURL": "https://plot.ly"
       },
       "data": [
        {
         "alignmentgroup": "True",
         "hovertemplate": "Distance=%{x}<br>Percent_of_delayed=%{y}<br>Flights=%{text}<extra></extra>",
         "legendgroup": "",
         "marker": {
          "color": "#636efa",
          "opacity": 0.8
         },
         "name": "",
         "offsetgroup": "",
         "orientation": "v",
         "showlegend": false,
         "text": [
          288804,
          225753,
          179385,
          176970,
          149607,
          71496,
          45510,
          21715
         ],
         "textposition": "inside",
         "texttemplate": "%{text:,6}",
         "type": "bar",
         "x": [
          "250-500",
          "500-750",
          "1000-1500",
          "750-1000",
          "<250",
          "1500-2000",
          "2000-2500",
          "2500-5000"
         ],
         "xaxis": "x",
         "y": [
          0.14725557817758758,
          0.1549525366218832,
          0.16496362572121415,
          0.154105215573261,
          0.14747973022652683,
          0.16633098355152737,
          0.14647330257086355,
          0.16656688924706425
         ],
         "yaxis": "y"
        },
        {
         "line": {
          "color": "orange",
          "shape": "spline",
          "smoothing": 1.2
         },
         "mode": "lines+markers",
         "opacity": 0.3,
         "showlegend": false,
         "type": "scatter",
         "x": [
          "250-500",
          "500-750",
          "1000-1500",
          "750-1000",
          "<250",
          "1500-2000",
          "2000-2500",
          "2500-5000"
         ],
         "y": [
          0.14725557817758758,
          0.1549525366218832,
          0.16496362572121415,
          0.154105215573261,
          0.14747973022652683,
          0.16633098355152737,
          0.14647330257086355,
          0.16656688924706425
         ]
        }
       ],
       "layout": {
        "barmode": "relative",
        "legend": {
         "tracegroupgap": 0
        },
        "margin": {
         "t": 60
        },
        "template": {
         "data": {
          "bar": [
           {
            "error_x": {
             "color": "#2a3f5f"
            },
            "error_y": {
             "color": "#2a3f5f"
            },
            "marker": {
             "line": {
              "color": "#E5ECF6",
              "width": 0.5
             }
            },
            "type": "bar"
           }
          ],
          "barpolar": [
           {
            "marker": {
             "line": {
              "color": "#E5ECF6",
              "width": 0.5
             }
            },
            "type": "barpolar"
           }
          ],
          "carpet": [
           {
            "aaxis": {
             "endlinecolor": "#2a3f5f",
             "gridcolor": "white",
             "linecolor": "white",
             "minorgridcolor": "white",
             "startlinecolor": "#2a3f5f"
            },
            "baxis": {
             "endlinecolor": "#2a3f5f",
             "gridcolor": "white",
             "linecolor": "white",
             "minorgridcolor": "white",
             "startlinecolor": "#2a3f5f"
            },
            "type": "carpet"
           }
          ],
          "choropleth": [
           {
            "colorbar": {
             "outlinewidth": 0,
             "ticks": ""
            },
            "type": "choropleth"
           }
          ],
          "contour": [
           {
            "colorbar": {
             "outlinewidth": 0,
             "ticks": ""
            },
            "colorscale": [
             [
              0,
              "#0d0887"
             ],
             [
              0.1111111111111111,
              "#46039f"
             ],
             [
              0.2222222222222222,
              "#7201a8"
             ],
             [
              0.3333333333333333,
              "#9c179e"
             ],
             [
              0.4444444444444444,
              "#bd3786"
             ],
             [
              0.5555555555555556,
              "#d8576b"
             ],
             [
              0.6666666666666666,
              "#ed7953"
             ],
             [
              0.7777777777777778,
              "#fb9f3a"
             ],
             [
              0.8888888888888888,
              "#fdca26"
             ],
             [
              1,
              "#f0f921"
             ]
            ],
            "type": "contour"
           }
          ],
          "contourcarpet": [
           {
            "colorbar": {
             "outlinewidth": 0,
             "ticks": ""
            },
            "type": "contourcarpet"
           }
          ],
          "heatmap": [
           {
            "colorbar": {
             "outlinewidth": 0,
             "ticks": ""
            },
            "colorscale": [
             [
              0,
              "#0d0887"
             ],
             [
              0.1111111111111111,
              "#46039f"
             ],
             [
              0.2222222222222222,
              "#7201a8"
             ],
             [
              0.3333333333333333,
              "#9c179e"
             ],
             [
              0.4444444444444444,
              "#bd3786"
             ],
             [
              0.5555555555555556,
              "#d8576b"
             ],
             [
              0.6666666666666666,
              "#ed7953"
             ],
             [
              0.7777777777777778,
              "#fb9f3a"
             ],
             [
              0.8888888888888888,
              "#fdca26"
             ],
             [
              1,
              "#f0f921"
             ]
            ],
            "type": "heatmap"
           }
          ],
          "heatmapgl": [
           {
            "colorbar": {
             "outlinewidth": 0,
             "ticks": ""
            },
            "colorscale": [
             [
              0,
              "#0d0887"
             ],
             [
              0.1111111111111111,
              "#46039f"
             ],
             [
              0.2222222222222222,
              "#7201a8"
             ],
             [
              0.3333333333333333,
              "#9c179e"
             ],
             [
              0.4444444444444444,
              "#bd3786"
             ],
             [
              0.5555555555555556,
              "#d8576b"
             ],
             [
              0.6666666666666666,
              "#ed7953"
             ],
             [
              0.7777777777777778,
              "#fb9f3a"
             ],
             [
              0.8888888888888888,
              "#fdca26"
             ],
             [
              1,
              "#f0f921"
             ]
            ],
            "type": "heatmapgl"
           }
          ],
          "histogram": [
           {
            "marker": {
             "colorbar": {
              "outlinewidth": 0,
              "ticks": ""
             }
            },
            "type": "histogram"
           }
          ],
          "histogram2d": [
           {
            "colorbar": {
             "outlinewidth": 0,
             "ticks": ""
            },
            "colorscale": [
             [
              0,
              "#0d0887"
             ],
             [
              0.1111111111111111,
              "#46039f"
             ],
             [
              0.2222222222222222,
              "#7201a8"
             ],
             [
              0.3333333333333333,
              "#9c179e"
             ],
             [
              0.4444444444444444,
              "#bd3786"
             ],
             [
              0.5555555555555556,
              "#d8576b"
             ],
             [
              0.6666666666666666,
              "#ed7953"
             ],
             [
              0.7777777777777778,
              "#fb9f3a"
             ],
             [
              0.8888888888888888,
              "#fdca26"
             ],
             [
              1,
              "#f0f921"
             ]
            ],
            "type": "histogram2d"
           }
          ],
          "histogram2dcontour": [
           {
            "colorbar": {
             "outlinewidth": 0,
             "ticks": ""
            },
            "colorscale": [
             [
              0,
              "#0d0887"
             ],
             [
              0.1111111111111111,
              "#46039f"
             ],
             [
              0.2222222222222222,
              "#7201a8"
             ],
             [
              0.3333333333333333,
              "#9c179e"
             ],
             [
              0.4444444444444444,
              "#bd3786"
             ],
             [
              0.5555555555555556,
              "#d8576b"
             ],
             [
              0.6666666666666666,
              "#ed7953"
             ],
             [
              0.7777777777777778,
              "#fb9f3a"
             ],
             [
              0.8888888888888888,
              "#fdca26"
             ],
             [
              1,
              "#f0f921"
             ]
            ],
            "type": "histogram2dcontour"
           }
          ],
          "mesh3d": [
           {
            "colorbar": {
             "outlinewidth": 0,
             "ticks": ""
            },
            "type": "mesh3d"
           }
          ],
          "parcoords": [
           {
            "line": {
             "colorbar": {
              "outlinewidth": 0,
              "ticks": ""
             }
            },
            "type": "parcoords"
           }
          ],
          "pie": [
           {
            "automargin": true,
            "type": "pie"
           }
          ],
          "scatter": [
           {
            "marker": {
             "colorbar": {
              "outlinewidth": 0,
              "ticks": ""
             }
            },
            "type": "scatter"
           }
          ],
          "scatter3d": [
           {
            "line": {
             "colorbar": {
              "outlinewidth": 0,
              "ticks": ""
             }
            },
            "marker": {
             "colorbar": {
              "outlinewidth": 0,
              "ticks": ""
             }
            },
            "type": "scatter3d"
           }
          ],
          "scattercarpet": [
           {
            "marker": {
             "colorbar": {
              "outlinewidth": 0,
              "ticks": ""
             }
            },
            "type": "scattercarpet"
           }
          ],
          "scattergeo": [
           {
            "marker": {
             "colorbar": {
              "outlinewidth": 0,
              "ticks": ""
             }
            },
            "type": "scattergeo"
           }
          ],
          "scattergl": [
           {
            "marker": {
             "colorbar": {
              "outlinewidth": 0,
              "ticks": ""
             }
            },
            "type": "scattergl"
           }
          ],
          "scattermapbox": [
           {
            "marker": {
             "colorbar": {
              "outlinewidth": 0,
              "ticks": ""
             }
            },
            "type": "scattermapbox"
           }
          ],
          "scatterpolar": [
           {
            "marker": {
             "colorbar": {
              "outlinewidth": 0,
              "ticks": ""
             }
            },
            "type": "scatterpolar"
           }
          ],
          "scatterpolargl": [
           {
            "marker": {
             "colorbar": {
              "outlinewidth": 0,
              "ticks": ""
             }
            },
            "type": "scatterpolargl"
           }
          ],
          "scatterternary": [
           {
            "marker": {
             "colorbar": {
              "outlinewidth": 0,
              "ticks": ""
             }
            },
            "type": "scatterternary"
           }
          ],
          "surface": [
           {
            "colorbar": {
             "outlinewidth": 0,
             "ticks": ""
            },
            "colorscale": [
             [
              0,
              "#0d0887"
             ],
             [
              0.1111111111111111,
              "#46039f"
             ],
             [
              0.2222222222222222,
              "#7201a8"
             ],
             [
              0.3333333333333333,
              "#9c179e"
             ],
             [
              0.4444444444444444,
              "#bd3786"
             ],
             [
              0.5555555555555556,
              "#d8576b"
             ],
             [
              0.6666666666666666,
              "#ed7953"
             ],
             [
              0.7777777777777778,
              "#fb9f3a"
             ],
             [
              0.8888888888888888,
              "#fdca26"
             ],
             [
              1,
              "#f0f921"
             ]
            ],
            "type": "surface"
           }
          ],
          "table": [
           {
            "cells": {
             "fill": {
              "color": "#EBF0F8"
             },
             "line": {
              "color": "white"
             }
            },
            "header": {
             "fill": {
              "color": "#C8D4E3"
             },
             "line": {
              "color": "white"
             }
            },
            "type": "table"
           }
          ]
         },
         "layout": {
          "annotationdefaults": {
           "arrowcolor": "#2a3f5f",
           "arrowhead": 0,
           "arrowwidth": 1
          },
          "coloraxis": {
           "colorbar": {
            "outlinewidth": 0,
            "ticks": ""
           }
          },
          "colorscale": {
           "diverging": [
            [
             0,
             "#8e0152"
            ],
            [
             0.1,
             "#c51b7d"
            ],
            [
             0.2,
             "#de77ae"
            ],
            [
             0.3,
             "#f1b6da"
            ],
            [
             0.4,
             "#fde0ef"
            ],
            [
             0.5,
             "#f7f7f7"
            ],
            [
             0.6,
             "#e6f5d0"
            ],
            [
             0.7,
             "#b8e186"
            ],
            [
             0.8,
             "#7fbc41"
            ],
            [
             0.9,
             "#4d9221"
            ],
            [
             1,
             "#276419"
            ]
           ],
           "sequential": [
            [
             0,
             "#0d0887"
            ],
            [
             0.1111111111111111,
             "#46039f"
            ],
            [
             0.2222222222222222,
             "#7201a8"
            ],
            [
             0.3333333333333333,
             "#9c179e"
            ],
            [
             0.4444444444444444,
             "#bd3786"
            ],
            [
             0.5555555555555556,
             "#d8576b"
            ],
            [
             0.6666666666666666,
             "#ed7953"
            ],
            [
             0.7777777777777778,
             "#fb9f3a"
            ],
            [
             0.8888888888888888,
             "#fdca26"
            ],
            [
             1,
             "#f0f921"
            ]
           ],
           "sequentialminus": [
            [
             0,
             "#0d0887"
            ],
            [
             0.1111111111111111,
             "#46039f"
            ],
            [
             0.2222222222222222,
             "#7201a8"
            ],
            [
             0.3333333333333333,
             "#9c179e"
            ],
            [
             0.4444444444444444,
             "#bd3786"
            ],
            [
             0.5555555555555556,
             "#d8576b"
            ],
            [
             0.6666666666666666,
             "#ed7953"
            ],
            [
             0.7777777777777778,
             "#fb9f3a"
            ],
            [
             0.8888888888888888,
             "#fdca26"
            ],
            [
             1,
             "#f0f921"
            ]
           ]
          },
          "colorway": [
           "#636efa",
           "#EF553B",
           "#00cc96",
           "#ab63fa",
           "#FFA15A",
           "#19d3f3",
           "#FF6692",
           "#B6E880",
           "#FF97FF",
           "#FECB52"
          ],
          "font": {
           "color": "#2a3f5f"
          },
          "geo": {
           "bgcolor": "white",
           "lakecolor": "white",
           "landcolor": "#E5ECF6",
           "showlakes": true,
           "showland": true,
           "subunitcolor": "white"
          },
          "hoverlabel": {
           "align": "left"
          },
          "hovermode": "closest",
          "mapbox": {
           "style": "light"
          },
          "paper_bgcolor": "white",
          "plot_bgcolor": "#E5ECF6",
          "polar": {
           "angularaxis": {
            "gridcolor": "white",
            "linecolor": "white",
            "ticks": ""
           },
           "bgcolor": "#E5ECF6",
           "radialaxis": {
            "gridcolor": "white",
            "linecolor": "white",
            "ticks": ""
           }
          },
          "scene": {
           "xaxis": {
            "backgroundcolor": "#E5ECF6",
            "gridcolor": "white",
            "gridwidth": 2,
            "linecolor": "white",
            "showbackground": true,
            "ticks": "",
            "zerolinecolor": "white"
           },
           "yaxis": {
            "backgroundcolor": "#E5ECF6",
            "gridcolor": "white",
            "gridwidth": 2,
            "linecolor": "white",
            "showbackground": true,
            "ticks": "",
            "zerolinecolor": "white"
           },
           "zaxis": {
            "backgroundcolor": "#E5ECF6",
            "gridcolor": "white",
            "gridwidth": 2,
            "linecolor": "white",
            "showbackground": true,
            "ticks": "",
            "zerolinecolor": "white"
           }
          },
          "shapedefaults": {
           "line": {
            "color": "#2a3f5f"
           }
          },
          "ternary": {
           "aaxis": {
            "gridcolor": "white",
            "linecolor": "white",
            "ticks": ""
           },
           "baxis": {
            "gridcolor": "white",
            "linecolor": "white",
            "ticks": ""
           },
           "bgcolor": "#E5ECF6",
           "caxis": {
            "gridcolor": "white",
            "linecolor": "white",
            "ticks": ""
           }
          },
          "title": {
           "x": 0.05
          },
          "xaxis": {
           "automargin": true,
           "gridcolor": "white",
           "linecolor": "white",
           "ticks": "",
           "title": {
            "standoff": 15
           },
           "zerolinecolor": "white",
           "zerolinewidth": 2
          },
          "yaxis": {
           "automargin": true,
           "gridcolor": "white",
           "linecolor": "white",
           "ticks": "",
           "title": {
            "standoff": 15
           },
           "zerolinecolor": "white",
           "zerolinewidth": 2
          }
         }
        },
        "title": {
         "text": "Percentage of Delayed Flights per Flight Distance",
         "x": 0.5
        },
        "uniformtext": {
         "minsize": 4,
         "mode": "hide"
        },
        "xaxis": {
         "anchor": "y",
         "domain": [
          0,
          1
         ],
         "title": {
          "text": "Distance"
         }
        },
        "yaxis": {
         "anchor": "x",
         "domain": [
          0,
          1
         ],
         "title": {
          "text": "Percentage of Delay"
         }
        }
       }
      },
      "text/html": [
       "<div>\n",
       "        \n",
       "        \n",
       "            <div id=\"888a7b74-79e2-43e3-8931-10507d3e39eb\" class=\"plotly-graph-div\" style=\"height:525px; width:100%;\"></div>\n",
       "            <script type=\"text/javascript\">\n",
       "                require([\"plotly\"], function(Plotly) {\n",
       "                    window.PLOTLYENV=window.PLOTLYENV || {};\n",
       "                    \n",
       "                if (document.getElementById(\"888a7b74-79e2-43e3-8931-10507d3e39eb\")) {\n",
       "                    Plotly.newPlot(\n",
       "                        '888a7b74-79e2-43e3-8931-10507d3e39eb',\n",
       "                        [{\"alignmentgroup\": \"True\", \"hovertemplate\": \"Distance=%{x}<br>Percent_of_delayed=%{y}<br>Flights=%{text}<extra></extra>\", \"legendgroup\": \"\", \"marker\": {\"color\": \"#636efa\", \"opacity\": 0.8}, \"name\": \"\", \"offsetgroup\": \"\", \"orientation\": \"v\", \"showlegend\": false, \"text\": [288804, 225753, 179385, 176970, 149607, 71496, 45510, 21715], \"textposition\": \"inside\", \"texttemplate\": \"%{text:,6}\", \"type\": \"bar\", \"x\": [\"250-500\", \"500-750\", \"1000-1500\", \"750-1000\", \"<250\", \"1500-2000\", \"2000-2500\", \"2500-5000\"], \"xaxis\": \"x\", \"y\": [0.14725557817758758, 0.1549525366218832, 0.16496362572121415, 0.154105215573261, 0.14747973022652683, 0.16633098355152737, 0.14647330257086355, 0.16656688924706425], \"yaxis\": \"y\"}, {\"line\": {\"color\": \"orange\", \"shape\": \"spline\", \"smoothing\": 1.2}, \"mode\": \"lines+markers\", \"opacity\": 0.3, \"showlegend\": false, \"type\": \"scatter\", \"x\": [\"250-500\", \"500-750\", \"1000-1500\", \"750-1000\", \"<250\", \"1500-2000\", \"2000-2500\", \"2500-5000\"], \"y\": [0.14725557817758758, 0.1549525366218832, 0.16496362572121415, 0.154105215573261, 0.14747973022652683, 0.16633098355152737, 0.14647330257086355, 0.16656688924706425]}],\n",
       "                        {\"barmode\": \"relative\", \"legend\": {\"tracegroupgap\": 0}, \"margin\": {\"t\": 60}, \"template\": {\"data\": {\"bar\": [{\"error_x\": {\"color\": \"#2a3f5f\"}, \"error_y\": {\"color\": \"#2a3f5f\"}, \"marker\": {\"line\": {\"color\": \"#E5ECF6\", \"width\": 0.5}}, \"type\": \"bar\"}], \"barpolar\": [{\"marker\": {\"line\": {\"color\": \"#E5ECF6\", \"width\": 0.5}}, \"type\": \"barpolar\"}], \"carpet\": [{\"aaxis\": {\"endlinecolor\": \"#2a3f5f\", \"gridcolor\": \"white\", \"linecolor\": \"white\", \"minorgridcolor\": \"white\", \"startlinecolor\": \"#2a3f5f\"}, \"baxis\": {\"endlinecolor\": \"#2a3f5f\", \"gridcolor\": \"white\", \"linecolor\": \"white\", \"minorgridcolor\": \"white\", \"startlinecolor\": \"#2a3f5f\"}, \"type\": \"carpet\"}], \"choropleth\": [{\"colorbar\": {\"outlinewidth\": 0, \"ticks\": \"\"}, \"type\": \"choropleth\"}], \"contour\": [{\"colorbar\": {\"outlinewidth\": 0, \"ticks\": \"\"}, \"colorscale\": [[0.0, \"#0d0887\"], [0.1111111111111111, \"#46039f\"], [0.2222222222222222, \"#7201a8\"], [0.3333333333333333, \"#9c179e\"], [0.4444444444444444, \"#bd3786\"], [0.5555555555555556, \"#d8576b\"], [0.6666666666666666, \"#ed7953\"], [0.7777777777777778, \"#fb9f3a\"], [0.8888888888888888, \"#fdca26\"], [1.0, \"#f0f921\"]], \"type\": \"contour\"}], \"contourcarpet\": [{\"colorbar\": {\"outlinewidth\": 0, \"ticks\": \"\"}, \"type\": \"contourcarpet\"}], \"heatmap\": [{\"colorbar\": {\"outlinewidth\": 0, \"ticks\": \"\"}, \"colorscale\": [[0.0, \"#0d0887\"], [0.1111111111111111, \"#46039f\"], [0.2222222222222222, \"#7201a8\"], [0.3333333333333333, \"#9c179e\"], [0.4444444444444444, \"#bd3786\"], [0.5555555555555556, \"#d8576b\"], [0.6666666666666666, \"#ed7953\"], [0.7777777777777778, \"#fb9f3a\"], [0.8888888888888888, \"#fdca26\"], [1.0, \"#f0f921\"]], \"type\": \"heatmap\"}], \"heatmapgl\": [{\"colorbar\": {\"outlinewidth\": 0, \"ticks\": \"\"}, \"colorscale\": [[0.0, \"#0d0887\"], [0.1111111111111111, \"#46039f\"], [0.2222222222222222, \"#7201a8\"], [0.3333333333333333, \"#9c179e\"], [0.4444444444444444, \"#bd3786\"], [0.5555555555555556, \"#d8576b\"], [0.6666666666666666, \"#ed7953\"], [0.7777777777777778, \"#fb9f3a\"], [0.8888888888888888, \"#fdca26\"], [1.0, \"#f0f921\"]], \"type\": \"heatmapgl\"}], \"histogram\": [{\"marker\": {\"colorbar\": {\"outlinewidth\": 0, \"ticks\": \"\"}}, \"type\": \"histogram\"}], \"histogram2d\": [{\"colorbar\": {\"outlinewidth\": 0, \"ticks\": \"\"}, \"colorscale\": [[0.0, \"#0d0887\"], [0.1111111111111111, \"#46039f\"], [0.2222222222222222, \"#7201a8\"], [0.3333333333333333, \"#9c179e\"], [0.4444444444444444, \"#bd3786\"], [0.5555555555555556, \"#d8576b\"], [0.6666666666666666, \"#ed7953\"], [0.7777777777777778, \"#fb9f3a\"], [0.8888888888888888, \"#fdca26\"], [1.0, \"#f0f921\"]], \"type\": \"histogram2d\"}], \"histogram2dcontour\": [{\"colorbar\": {\"outlinewidth\": 0, \"ticks\": \"\"}, \"colorscale\": [[0.0, \"#0d0887\"], [0.1111111111111111, \"#46039f\"], [0.2222222222222222, \"#7201a8\"], [0.3333333333333333, \"#9c179e\"], [0.4444444444444444, \"#bd3786\"], [0.5555555555555556, \"#d8576b\"], [0.6666666666666666, \"#ed7953\"], [0.7777777777777778, \"#fb9f3a\"], [0.8888888888888888, \"#fdca26\"], [1.0, \"#f0f921\"]], \"type\": \"histogram2dcontour\"}], \"mesh3d\": [{\"colorbar\": {\"outlinewidth\": 0, \"ticks\": \"\"}, \"type\": \"mesh3d\"}], \"parcoords\": [{\"line\": {\"colorbar\": {\"outlinewidth\": 0, \"ticks\": \"\"}}, \"type\": \"parcoords\"}], \"pie\": [{\"automargin\": true, \"type\": \"pie\"}], \"scatter\": [{\"marker\": {\"colorbar\": {\"outlinewidth\": 0, \"ticks\": \"\"}}, \"type\": \"scatter\"}], \"scatter3d\": [{\"line\": {\"colorbar\": {\"outlinewidth\": 0, \"ticks\": \"\"}}, \"marker\": {\"colorbar\": {\"outlinewidth\": 0, \"ticks\": \"\"}}, \"type\": \"scatter3d\"}], \"scattercarpet\": [{\"marker\": {\"colorbar\": {\"outlinewidth\": 0, \"ticks\": \"\"}}, \"type\": \"scattercarpet\"}], \"scattergeo\": [{\"marker\": {\"colorbar\": {\"outlinewidth\": 0, \"ticks\": \"\"}}, \"type\": \"scattergeo\"}], \"scattergl\": [{\"marker\": {\"colorbar\": {\"outlinewidth\": 0, \"ticks\": \"\"}}, \"type\": \"scattergl\"}], \"scattermapbox\": [{\"marker\": {\"colorbar\": {\"outlinewidth\": 0, \"ticks\": \"\"}}, \"type\": \"scattermapbox\"}], \"scatterpolar\": [{\"marker\": {\"colorbar\": {\"outlinewidth\": 0, \"ticks\": \"\"}}, \"type\": \"scatterpolar\"}], \"scatterpolargl\": [{\"marker\": {\"colorbar\": {\"outlinewidth\": 0, \"ticks\": \"\"}}, \"type\": \"scatterpolargl\"}], \"scatterternary\": [{\"marker\": {\"colorbar\": {\"outlinewidth\": 0, \"ticks\": \"\"}}, \"type\": \"scatterternary\"}], \"surface\": [{\"colorbar\": {\"outlinewidth\": 0, \"ticks\": \"\"}, \"colorscale\": [[0.0, \"#0d0887\"], [0.1111111111111111, \"#46039f\"], [0.2222222222222222, \"#7201a8\"], [0.3333333333333333, \"#9c179e\"], [0.4444444444444444, \"#bd3786\"], [0.5555555555555556, \"#d8576b\"], [0.6666666666666666, \"#ed7953\"], [0.7777777777777778, \"#fb9f3a\"], [0.8888888888888888, \"#fdca26\"], [1.0, \"#f0f921\"]], \"type\": \"surface\"}], \"table\": [{\"cells\": {\"fill\": {\"color\": \"#EBF0F8\"}, \"line\": {\"color\": \"white\"}}, \"header\": {\"fill\": {\"color\": \"#C8D4E3\"}, \"line\": {\"color\": \"white\"}}, \"type\": \"table\"}]}, \"layout\": {\"annotationdefaults\": {\"arrowcolor\": \"#2a3f5f\", \"arrowhead\": 0, \"arrowwidth\": 1}, \"coloraxis\": {\"colorbar\": {\"outlinewidth\": 0, \"ticks\": \"\"}}, \"colorscale\": {\"diverging\": [[0, \"#8e0152\"], [0.1, \"#c51b7d\"], [0.2, \"#de77ae\"], [0.3, \"#f1b6da\"], [0.4, \"#fde0ef\"], [0.5, \"#f7f7f7\"], [0.6, \"#e6f5d0\"], [0.7, \"#b8e186\"], [0.8, \"#7fbc41\"], [0.9, \"#4d9221\"], [1, \"#276419\"]], \"sequential\": [[0.0, \"#0d0887\"], [0.1111111111111111, \"#46039f\"], [0.2222222222222222, \"#7201a8\"], [0.3333333333333333, \"#9c179e\"], [0.4444444444444444, \"#bd3786\"], [0.5555555555555556, \"#d8576b\"], [0.6666666666666666, \"#ed7953\"], [0.7777777777777778, \"#fb9f3a\"], [0.8888888888888888, \"#fdca26\"], [1.0, \"#f0f921\"]], \"sequentialminus\": [[0.0, \"#0d0887\"], [0.1111111111111111, \"#46039f\"], [0.2222222222222222, \"#7201a8\"], [0.3333333333333333, \"#9c179e\"], [0.4444444444444444, \"#bd3786\"], [0.5555555555555556, \"#d8576b\"], [0.6666666666666666, \"#ed7953\"], [0.7777777777777778, \"#fb9f3a\"], [0.8888888888888888, \"#fdca26\"], [1.0, \"#f0f921\"]]}, \"colorway\": [\"#636efa\", \"#EF553B\", \"#00cc96\", \"#ab63fa\", \"#FFA15A\", \"#19d3f3\", \"#FF6692\", \"#B6E880\", \"#FF97FF\", \"#FECB52\"], \"font\": {\"color\": \"#2a3f5f\"}, \"geo\": {\"bgcolor\": \"white\", \"lakecolor\": \"white\", \"landcolor\": \"#E5ECF6\", \"showlakes\": true, \"showland\": true, \"subunitcolor\": \"white\"}, \"hoverlabel\": {\"align\": \"left\"}, \"hovermode\": \"closest\", \"mapbox\": {\"style\": \"light\"}, \"paper_bgcolor\": \"white\", \"plot_bgcolor\": \"#E5ECF6\", \"polar\": {\"angularaxis\": {\"gridcolor\": \"white\", \"linecolor\": \"white\", \"ticks\": \"\"}, \"bgcolor\": \"#E5ECF6\", \"radialaxis\": {\"gridcolor\": \"white\", \"linecolor\": \"white\", \"ticks\": \"\"}}, \"scene\": {\"xaxis\": {\"backgroundcolor\": \"#E5ECF6\", \"gridcolor\": \"white\", \"gridwidth\": 2, \"linecolor\": \"white\", \"showbackground\": true, \"ticks\": \"\", \"zerolinecolor\": \"white\"}, \"yaxis\": {\"backgroundcolor\": \"#E5ECF6\", \"gridcolor\": \"white\", \"gridwidth\": 2, \"linecolor\": \"white\", \"showbackground\": true, \"ticks\": \"\", \"zerolinecolor\": \"white\"}, \"zaxis\": {\"backgroundcolor\": \"#E5ECF6\", \"gridcolor\": \"white\", \"gridwidth\": 2, \"linecolor\": \"white\", \"showbackground\": true, \"ticks\": \"\", \"zerolinecolor\": \"white\"}}, \"shapedefaults\": {\"line\": {\"color\": \"#2a3f5f\"}}, \"ternary\": {\"aaxis\": {\"gridcolor\": \"white\", \"linecolor\": \"white\", \"ticks\": \"\"}, \"baxis\": {\"gridcolor\": \"white\", \"linecolor\": \"white\", \"ticks\": \"\"}, \"bgcolor\": \"#E5ECF6\", \"caxis\": {\"gridcolor\": \"white\", \"linecolor\": \"white\", \"ticks\": \"\"}}, \"title\": {\"x\": 0.05}, \"xaxis\": {\"automargin\": true, \"gridcolor\": \"white\", \"linecolor\": \"white\", \"ticks\": \"\", \"title\": {\"standoff\": 15}, \"zerolinecolor\": \"white\", \"zerolinewidth\": 2}, \"yaxis\": {\"automargin\": true, \"gridcolor\": \"white\", \"linecolor\": \"white\", \"ticks\": \"\", \"title\": {\"standoff\": 15}, \"zerolinecolor\": \"white\", \"zerolinewidth\": 2}}}, \"title\": {\"text\": \"Percentage of Delayed Flights per Flight Distance\", \"x\": 0.5}, \"uniformtext\": {\"minsize\": 4, \"mode\": \"hide\"}, \"xaxis\": {\"anchor\": \"y\", \"domain\": [0.0, 1.0], \"title\": {\"text\": \"Distance\"}}, \"yaxis\": {\"anchor\": \"x\", \"domain\": [0.0, 1.0], \"title\": {\"text\": \"Percentage of Delay\"}}},\n",
       "                        {\"responsive\": true}\n",
       "                    ).then(function(){\n",
       "                            \n",
       "var gd = document.getElementById('888a7b74-79e2-43e3-8931-10507d3e39eb');\n",
       "var x = new MutationObserver(function (mutations, observer) {{\n",
       "        var display = window.getComputedStyle(gd).display;\n",
       "        if (!display || display === 'none') {{\n",
       "            console.log([gd, 'removed!']);\n",
       "            Plotly.purge(gd);\n",
       "            observer.disconnect();\n",
       "        }}\n",
       "}});\n",
       "\n",
       "// Listen for the removal of the full notebook cells\n",
       "var notebookContainer = gd.closest('#notebook-container');\n",
       "if (notebookContainer) {{\n",
       "    x.observe(notebookContainer, {childList: true});\n",
       "}}\n",
       "\n",
       "// Listen for the clearing of the current output cell\n",
       "var outputEl = gd.closest('.output');\n",
       "if (outputEl) {{\n",
       "    x.observe(outputEl, {childList: true});\n",
       "}}\n",
       "\n",
       "                        })\n",
       "                };\n",
       "                });\n",
       "            </script>\n",
       "        </div>"
      ]
     },
     "metadata": {},
     "output_type": "display_data"
    }
   ],
   "source": [
    "fig = px.bar(df_distance, y=\"Percent_of_delayed\", x='Distance', text='Flights', opacity = 0.8)\n",
    "fig.update_traces(texttemplate='%{text:,6}', textposition='inside')\n",
    "fig.update_layout(uniformtext_minsize=4, uniformtext_mode='hide', title_x = 0.5,title_text='Percentage of Delayed Flights per Flight Distance', yaxis=dict(title='Percentage of Delay'),\n",
    "                  xaxis=dict(title='Distance'))\n",
    "# fig.add_annotation( x='WN', y=100000, text=\"Highest OP CARRIER - WN\",showarrow=True, font=dict( family=\"Courier New, monospace\", size=10, color=\"#ffffff\" ), align=\"right\", arrowhead=2, arrowsize=1, arrowwidth=2, arrowcolor=\"#636363\", ax=120, ay=0, bordercolor=\"#c7c7c7\", borderwidth=2, borderpad=4, bgcolor=\"#ff7f0e\", opacity=0.8)\n",
    "\n",
    "fig.add_trace(go.Scatter(x=df_distance['Distance'], y=df_distance['Percent_of_delayed'],\n",
    "                    mode='lines+markers',opacity = 0.3,showlegend=False,\n",
    "                   line = dict(\n",
    "        smoothing = 1.2, color = 'orange',\n",
    "        shape = \"spline\"\n",
    "    )))\n",
    "\n",
    "fig.show()"
   ]
  },
  {
   "cell_type": "code",
   "execution_count": 68,
   "metadata": {},
   "outputs": [
    {
     "data": {
      "text/html": [
       "<div>\n",
       "<style scoped>\n",
       "    .dataframe tbody tr th:only-of-type {\n",
       "        vertical-align: middle;\n",
       "    }\n",
       "\n",
       "    .dataframe tbody tr th {\n",
       "        vertical-align: top;\n",
       "    }\n",
       "\n",
       "    .dataframe thead th {\n",
       "        text-align: right;\n",
       "    }\n",
       "</style>\n",
       "<table border=\"1\" class=\"dataframe\">\n",
       "  <thead>\n",
       "    <tr style=\"text-align: right;\">\n",
       "      <th></th>\n",
       "      <th>Origin</th>\n",
       "      <th>Not_Delayed</th>\n",
       "      <th>Delayed</th>\n",
       "      <th>Flights</th>\n",
       "      <th>Percent of Delayed</th>\n",
       "    </tr>\n",
       "  </thead>\n",
       "  <tbody>\n",
       "    <tr>\n",
       "      <th>16</th>\n",
       "      <td>atlanta,ga</td>\n",
       "      <td>54973</td>\n",
       "      <td>7723</td>\n",
       "      <td>62696</td>\n",
       "      <td>0.123182</td>\n",
       "    </tr>\n",
       "    <tr>\n",
       "      <th>56</th>\n",
       "      <td>chicago,il</td>\n",
       "      <td>46210</td>\n",
       "      <td>13341</td>\n",
       "      <td>59551</td>\n",
       "      <td>0.224026</td>\n",
       "    </tr>\n",
       "    <tr>\n",
       "      <th>212</th>\n",
       "      <td>newyork,ny</td>\n",
       "      <td>38813</td>\n",
       "      <td>8761</td>\n",
       "      <td>47574</td>\n",
       "      <td>0.184155</td>\n",
       "    </tr>\n",
       "    <tr>\n",
       "      <th>104</th>\n",
       "      <td>fortworth,tx</td>\n",
       "      <td>37456</td>\n",
       "      <td>8478</td>\n",
       "      <td>45934</td>\n",
       "      <td>0.184569</td>\n",
       "    </tr>\n",
       "    <tr>\n",
       "      <th>131</th>\n",
       "      <td>houston,tx</td>\n",
       "      <td>33199</td>\n",
       "      <td>5544</td>\n",
       "      <td>38743</td>\n",
       "      <td>0.143097</td>\n",
       "    </tr>\n",
       "    <tr>\n",
       "      <th>52</th>\n",
       "      <td>charlotte,nc</td>\n",
       "      <td>32714</td>\n",
       "      <td>5663</td>\n",
       "      <td>38377</td>\n",
       "      <td>0.147562</td>\n",
       "    </tr>\n",
       "    <tr>\n",
       "      <th>74</th>\n",
       "      <td>denver,co</td>\n",
       "      <td>32219</td>\n",
       "      <td>6154</td>\n",
       "      <td>38373</td>\n",
       "      <td>0.160373</td>\n",
       "    </tr>\n",
       "    <tr>\n",
       "      <th>178</th>\n",
       "      <td>losangeles,ca</td>\n",
       "      <td>29913</td>\n",
       "      <td>5394</td>\n",
       "      <td>35307</td>\n",
       "      <td>0.152774</td>\n",
       "    </tr>\n",
       "    <tr>\n",
       "      <th>322</th>\n",
       "      <td>washingtondc</td>\n",
       "      <td>27807</td>\n",
       "      <td>4968</td>\n",
       "      <td>32775</td>\n",
       "      <td>0.151579</td>\n",
       "    </tr>\n",
       "    <tr>\n",
       "      <th>235</th>\n",
       "      <td>phoenix,az</td>\n",
       "      <td>25769</td>\n",
       "      <td>3962</td>\n",
       "      <td>29731</td>\n",
       "      <td>0.133262</td>\n",
       "    </tr>\n",
       "  </tbody>\n",
       "</table>\n",
       "</div>"
      ],
      "text/plain": [
       "                                       Origin Not_Delayed Delayed Flights  \\\n",
       "16   atlanta,ga                                     54973    7723   62696   \n",
       "56   chicago,il                                     46210   13341   59551   \n",
       "212  newyork,ny                                     38813    8761   47574   \n",
       "104  fortworth,tx                                   37456    8478   45934   \n",
       "131  houston,tx                                     33199    5544   38743   \n",
       "52   charlotte,nc                                   32714    5663   38377   \n",
       "74   denver,co                                      32219    6154   38373   \n",
       "178  losangeles,ca                                  29913    5394   35307   \n",
       "322  washingtondc                                   27807    4968   32775   \n",
       "235  phoenix,az                                     25769    3962   29731   \n",
       "\n",
       "    Percent of Delayed  \n",
       "16            0.123182  \n",
       "56            0.224026  \n",
       "212           0.184155  \n",
       "104           0.184569  \n",
       "131           0.143097  \n",
       "52            0.147562  \n",
       "74            0.160373  \n",
       "178           0.152774  \n",
       "322           0.151579  \n",
       "235           0.133262  "
      ]
     },
     "execution_count": 68,
     "metadata": {},
     "output_type": "execute_result"
    }
   ],
   "source": [
    "# Top 10 origin airports and the percentage of delayed flight vs total flights.\n",
    "df_org=pd.DataFrame(complete_flights.groupby([\"origin_city\",\"dep_del15\"])[\"origin_airport_id\"].count().unstack(\"dep_del15\").reset_index().values,columns=[\"Origin\",\"Not_Delayed\",\"Delayed\"])\n",
    "df_org['Flights']= df_org.Delayed+ df_org.Not_Delayed\n",
    "df_org[\"Percent of Delayed\"]=df_org.Delayed /( df_org.Delayed+ df_org.Not_Delayed)\n",
    "df_org.sort_values(by=\"Flights\",ascending=False,inplace=True)\n",
    "df_org.head(10)"
   ]
  },
  {
   "cell_type": "code",
   "execution_count": 69,
   "metadata": {},
   "outputs": [
    {
     "data": {
      "text/html": [
       "<div>\n",
       "<style scoped>\n",
       "    .dataframe tbody tr th:only-of-type {\n",
       "        vertical-align: middle;\n",
       "    }\n",
       "\n",
       "    .dataframe tbody tr th {\n",
       "        vertical-align: top;\n",
       "    }\n",
       "\n",
       "    .dataframe thead th {\n",
       "        text-align: right;\n",
       "    }\n",
       "</style>\n",
       "<table border=\"1\" class=\"dataframe\">\n",
       "  <thead>\n",
       "    <tr style=\"text-align: right;\">\n",
       "      <th></th>\n",
       "      <th>Origin</th>\n",
       "      <th>Not_Delayed</th>\n",
       "      <th>Delayed</th>\n",
       "      <th>Flights</th>\n",
       "      <th>Percent of Delayed</th>\n",
       "    </tr>\n",
       "  </thead>\n",
       "  <tbody>\n",
       "    <tr>\n",
       "      <th>16</th>\n",
       "      <td>atlanta,ga</td>\n",
       "      <td>54973</td>\n",
       "      <td>7723</td>\n",
       "      <td>62696</td>\n",
       "      <td>0.123182</td>\n",
       "    </tr>\n",
       "    <tr>\n",
       "      <th>56</th>\n",
       "      <td>chicago,il</td>\n",
       "      <td>46210</td>\n",
       "      <td>13341</td>\n",
       "      <td>59551</td>\n",
       "      <td>0.224026</td>\n",
       "    </tr>\n",
       "    <tr>\n",
       "      <th>212</th>\n",
       "      <td>newyork,ny</td>\n",
       "      <td>38813</td>\n",
       "      <td>8761</td>\n",
       "      <td>47574</td>\n",
       "      <td>0.184155</td>\n",
       "    </tr>\n",
       "    <tr>\n",
       "      <th>104</th>\n",
       "      <td>fortworth,tx</td>\n",
       "      <td>37456</td>\n",
       "      <td>8478</td>\n",
       "      <td>45934</td>\n",
       "      <td>0.184569</td>\n",
       "    </tr>\n",
       "    <tr>\n",
       "      <th>131</th>\n",
       "      <td>houston,tx</td>\n",
       "      <td>33199</td>\n",
       "      <td>5544</td>\n",
       "      <td>38743</td>\n",
       "      <td>0.143097</td>\n",
       "    </tr>\n",
       "    <tr>\n",
       "      <th>52</th>\n",
       "      <td>charlotte,nc</td>\n",
       "      <td>32714</td>\n",
       "      <td>5663</td>\n",
       "      <td>38377</td>\n",
       "      <td>0.147562</td>\n",
       "    </tr>\n",
       "    <tr>\n",
       "      <th>74</th>\n",
       "      <td>denver,co</td>\n",
       "      <td>32219</td>\n",
       "      <td>6154</td>\n",
       "      <td>38373</td>\n",
       "      <td>0.160373</td>\n",
       "    </tr>\n",
       "    <tr>\n",
       "      <th>178</th>\n",
       "      <td>losangeles,ca</td>\n",
       "      <td>29913</td>\n",
       "      <td>5394</td>\n",
       "      <td>35307</td>\n",
       "      <td>0.152774</td>\n",
       "    </tr>\n",
       "    <tr>\n",
       "      <th>322</th>\n",
       "      <td>washingtondc</td>\n",
       "      <td>27807</td>\n",
       "      <td>4968</td>\n",
       "      <td>32775</td>\n",
       "      <td>0.151579</td>\n",
       "    </tr>\n",
       "    <tr>\n",
       "      <th>235</th>\n",
       "      <td>phoenix,az</td>\n",
       "      <td>25769</td>\n",
       "      <td>3962</td>\n",
       "      <td>29731</td>\n",
       "      <td>0.133262</td>\n",
       "    </tr>\n",
       "  </tbody>\n",
       "</table>\n",
       "</div>"
      ],
      "text/plain": [
       "                                       Origin Not_Delayed Delayed Flights  \\\n",
       "16   atlanta,ga                                     54973    7723   62696   \n",
       "56   chicago,il                                     46210   13341   59551   \n",
       "212  newyork,ny                                     38813    8761   47574   \n",
       "104  fortworth,tx                                   37456    8478   45934   \n",
       "131  houston,tx                                     33199    5544   38743   \n",
       "52   charlotte,nc                                   32714    5663   38377   \n",
       "74   denver,co                                      32219    6154   38373   \n",
       "178  losangeles,ca                                  29913    5394   35307   \n",
       "322  washingtondc                                   27807    4968   32775   \n",
       "235  phoenix,az                                     25769    3962   29731   \n",
       "\n",
       "    Percent of Delayed  \n",
       "16            0.123182  \n",
       "56            0.224026  \n",
       "212           0.184155  \n",
       "104           0.184569  \n",
       "131           0.143097  \n",
       "52            0.147562  \n",
       "74            0.160373  \n",
       "178           0.152774  \n",
       "322           0.151579  \n",
       "235           0.133262  "
      ]
     },
     "execution_count": 69,
     "metadata": {},
     "output_type": "execute_result"
    }
   ],
   "source": [
    "df_origin = df_org.head(10)\n",
    "df_origin"
   ]
  },
  {
   "cell_type": "code",
   "execution_count": 75,
   "metadata": {},
   "outputs": [
    {
     "data": {
      "application/vnd.plotly.v1+json": {
       "config": {
        "plotlyServerURL": "https://plot.ly"
       },
       "data": [
        {
         "alignmentgroup": "True",
         "hovertemplate": "Origin=%{x}<br>Percent of Delayed=%{y}<br>Flights=%{text}<extra></extra>",
         "legendgroup": "",
         "marker": {
          "color": "#636efa",
          "opacity": 0.8
         },
         "name": "",
         "offsetgroup": "",
         "orientation": "v",
         "showlegend": false,
         "text": [
          62696,
          59551,
          47574,
          45934,
          38743,
          38377,
          38373,
          35307,
          32775,
          29731
         ],
         "textposition": "inside",
         "texttemplate": "%{text:,6}",
         "type": "bar",
         "x": [
          "atlanta,ga                              ",
          "chicago,il                              ",
          "newyork,ny                              ",
          "fortworth,tx                            ",
          "houston,tx                              ",
          "charlotte,nc                            ",
          "denver,co                               ",
          "losangeles,ca                           ",
          "washingtondc                            ",
          "phoenix,az                              "
         ],
         "xaxis": "x",
         "y": [
          0.12318170218195738,
          0.22402646471092005,
          0.18415521082944467,
          0.18456916445334612,
          0.14309681748961103,
          0.14756234202777704,
          0.16037317905819196,
          0.15277423740334778,
          0.15157894736842106,
          0.13326157882345027
         ],
         "yaxis": "y"
        },
        {
         "line": {
          "color": "purple",
          "shape": "spline",
          "smoothing": 1.2
         },
         "mode": "lines+markers",
         "opacity": 0.3,
         "showlegend": false,
         "type": "scatter",
         "x": [
          "atlanta,ga                              ",
          "chicago,il                              ",
          "newyork,ny                              ",
          "fortworth,tx                            ",
          "houston,tx                              ",
          "charlotte,nc                            ",
          "denver,co                               ",
          "losangeles,ca                           ",
          "washingtondc                            ",
          "phoenix,az                              "
         ],
         "y": [
          0.12318170218195738,
          0.22402646471092005,
          0.18415521082944467,
          0.18456916445334612,
          0.14309681748961103,
          0.14756234202777704,
          0.16037317905819196,
          0.15277423740334778,
          0.15157894736842106,
          0.13326157882345027
         ]
        }
       ],
       "layout": {
        "barmode": "relative",
        "legend": {
         "tracegroupgap": 0
        },
        "margin": {
         "t": 60
        },
        "template": {
         "data": {
          "bar": [
           {
            "error_x": {
             "color": "#2a3f5f"
            },
            "error_y": {
             "color": "#2a3f5f"
            },
            "marker": {
             "line": {
              "color": "#E5ECF6",
              "width": 0.5
             }
            },
            "type": "bar"
           }
          ],
          "barpolar": [
           {
            "marker": {
             "line": {
              "color": "#E5ECF6",
              "width": 0.5
             }
            },
            "type": "barpolar"
           }
          ],
          "carpet": [
           {
            "aaxis": {
             "endlinecolor": "#2a3f5f",
             "gridcolor": "white",
             "linecolor": "white",
             "minorgridcolor": "white",
             "startlinecolor": "#2a3f5f"
            },
            "baxis": {
             "endlinecolor": "#2a3f5f",
             "gridcolor": "white",
             "linecolor": "white",
             "minorgridcolor": "white",
             "startlinecolor": "#2a3f5f"
            },
            "type": "carpet"
           }
          ],
          "choropleth": [
           {
            "colorbar": {
             "outlinewidth": 0,
             "ticks": ""
            },
            "type": "choropleth"
           }
          ],
          "contour": [
           {
            "colorbar": {
             "outlinewidth": 0,
             "ticks": ""
            },
            "colorscale": [
             [
              0,
              "#0d0887"
             ],
             [
              0.1111111111111111,
              "#46039f"
             ],
             [
              0.2222222222222222,
              "#7201a8"
             ],
             [
              0.3333333333333333,
              "#9c179e"
             ],
             [
              0.4444444444444444,
              "#bd3786"
             ],
             [
              0.5555555555555556,
              "#d8576b"
             ],
             [
              0.6666666666666666,
              "#ed7953"
             ],
             [
              0.7777777777777778,
              "#fb9f3a"
             ],
             [
              0.8888888888888888,
              "#fdca26"
             ],
             [
              1,
              "#f0f921"
             ]
            ],
            "type": "contour"
           }
          ],
          "contourcarpet": [
           {
            "colorbar": {
             "outlinewidth": 0,
             "ticks": ""
            },
            "type": "contourcarpet"
           }
          ],
          "heatmap": [
           {
            "colorbar": {
             "outlinewidth": 0,
             "ticks": ""
            },
            "colorscale": [
             [
              0,
              "#0d0887"
             ],
             [
              0.1111111111111111,
              "#46039f"
             ],
             [
              0.2222222222222222,
              "#7201a8"
             ],
             [
              0.3333333333333333,
              "#9c179e"
             ],
             [
              0.4444444444444444,
              "#bd3786"
             ],
             [
              0.5555555555555556,
              "#d8576b"
             ],
             [
              0.6666666666666666,
              "#ed7953"
             ],
             [
              0.7777777777777778,
              "#fb9f3a"
             ],
             [
              0.8888888888888888,
              "#fdca26"
             ],
             [
              1,
              "#f0f921"
             ]
            ],
            "type": "heatmap"
           }
          ],
          "heatmapgl": [
           {
            "colorbar": {
             "outlinewidth": 0,
             "ticks": ""
            },
            "colorscale": [
             [
              0,
              "#0d0887"
             ],
             [
              0.1111111111111111,
              "#46039f"
             ],
             [
              0.2222222222222222,
              "#7201a8"
             ],
             [
              0.3333333333333333,
              "#9c179e"
             ],
             [
              0.4444444444444444,
              "#bd3786"
             ],
             [
              0.5555555555555556,
              "#d8576b"
             ],
             [
              0.6666666666666666,
              "#ed7953"
             ],
             [
              0.7777777777777778,
              "#fb9f3a"
             ],
             [
              0.8888888888888888,
              "#fdca26"
             ],
             [
              1,
              "#f0f921"
             ]
            ],
            "type": "heatmapgl"
           }
          ],
          "histogram": [
           {
            "marker": {
             "colorbar": {
              "outlinewidth": 0,
              "ticks": ""
             }
            },
            "type": "histogram"
           }
          ],
          "histogram2d": [
           {
            "colorbar": {
             "outlinewidth": 0,
             "ticks": ""
            },
            "colorscale": [
             [
              0,
              "#0d0887"
             ],
             [
              0.1111111111111111,
              "#46039f"
             ],
             [
              0.2222222222222222,
              "#7201a8"
             ],
             [
              0.3333333333333333,
              "#9c179e"
             ],
             [
              0.4444444444444444,
              "#bd3786"
             ],
             [
              0.5555555555555556,
              "#d8576b"
             ],
             [
              0.6666666666666666,
              "#ed7953"
             ],
             [
              0.7777777777777778,
              "#fb9f3a"
             ],
             [
              0.8888888888888888,
              "#fdca26"
             ],
             [
              1,
              "#f0f921"
             ]
            ],
            "type": "histogram2d"
           }
          ],
          "histogram2dcontour": [
           {
            "colorbar": {
             "outlinewidth": 0,
             "ticks": ""
            },
            "colorscale": [
             [
              0,
              "#0d0887"
             ],
             [
              0.1111111111111111,
              "#46039f"
             ],
             [
              0.2222222222222222,
              "#7201a8"
             ],
             [
              0.3333333333333333,
              "#9c179e"
             ],
             [
              0.4444444444444444,
              "#bd3786"
             ],
             [
              0.5555555555555556,
              "#d8576b"
             ],
             [
              0.6666666666666666,
              "#ed7953"
             ],
             [
              0.7777777777777778,
              "#fb9f3a"
             ],
             [
              0.8888888888888888,
              "#fdca26"
             ],
             [
              1,
              "#f0f921"
             ]
            ],
            "type": "histogram2dcontour"
           }
          ],
          "mesh3d": [
           {
            "colorbar": {
             "outlinewidth": 0,
             "ticks": ""
            },
            "type": "mesh3d"
           }
          ],
          "parcoords": [
           {
            "line": {
             "colorbar": {
              "outlinewidth": 0,
              "ticks": ""
             }
            },
            "type": "parcoords"
           }
          ],
          "pie": [
           {
            "automargin": true,
            "type": "pie"
           }
          ],
          "scatter": [
           {
            "marker": {
             "colorbar": {
              "outlinewidth": 0,
              "ticks": ""
             }
            },
            "type": "scatter"
           }
          ],
          "scatter3d": [
           {
            "line": {
             "colorbar": {
              "outlinewidth": 0,
              "ticks": ""
             }
            },
            "marker": {
             "colorbar": {
              "outlinewidth": 0,
              "ticks": ""
             }
            },
            "type": "scatter3d"
           }
          ],
          "scattercarpet": [
           {
            "marker": {
             "colorbar": {
              "outlinewidth": 0,
              "ticks": ""
             }
            },
            "type": "scattercarpet"
           }
          ],
          "scattergeo": [
           {
            "marker": {
             "colorbar": {
              "outlinewidth": 0,
              "ticks": ""
             }
            },
            "type": "scattergeo"
           }
          ],
          "scattergl": [
           {
            "marker": {
             "colorbar": {
              "outlinewidth": 0,
              "ticks": ""
             }
            },
            "type": "scattergl"
           }
          ],
          "scattermapbox": [
           {
            "marker": {
             "colorbar": {
              "outlinewidth": 0,
              "ticks": ""
             }
            },
            "type": "scattermapbox"
           }
          ],
          "scatterpolar": [
           {
            "marker": {
             "colorbar": {
              "outlinewidth": 0,
              "ticks": ""
             }
            },
            "type": "scatterpolar"
           }
          ],
          "scatterpolargl": [
           {
            "marker": {
             "colorbar": {
              "outlinewidth": 0,
              "ticks": ""
             }
            },
            "type": "scatterpolargl"
           }
          ],
          "scatterternary": [
           {
            "marker": {
             "colorbar": {
              "outlinewidth": 0,
              "ticks": ""
             }
            },
            "type": "scatterternary"
           }
          ],
          "surface": [
           {
            "colorbar": {
             "outlinewidth": 0,
             "ticks": ""
            },
            "colorscale": [
             [
              0,
              "#0d0887"
             ],
             [
              0.1111111111111111,
              "#46039f"
             ],
             [
              0.2222222222222222,
              "#7201a8"
             ],
             [
              0.3333333333333333,
              "#9c179e"
             ],
             [
              0.4444444444444444,
              "#bd3786"
             ],
             [
              0.5555555555555556,
              "#d8576b"
             ],
             [
              0.6666666666666666,
              "#ed7953"
             ],
             [
              0.7777777777777778,
              "#fb9f3a"
             ],
             [
              0.8888888888888888,
              "#fdca26"
             ],
             [
              1,
              "#f0f921"
             ]
            ],
            "type": "surface"
           }
          ],
          "table": [
           {
            "cells": {
             "fill": {
              "color": "#EBF0F8"
             },
             "line": {
              "color": "white"
             }
            },
            "header": {
             "fill": {
              "color": "#C8D4E3"
             },
             "line": {
              "color": "white"
             }
            },
            "type": "table"
           }
          ]
         },
         "layout": {
          "annotationdefaults": {
           "arrowcolor": "#2a3f5f",
           "arrowhead": 0,
           "arrowwidth": 1
          },
          "coloraxis": {
           "colorbar": {
            "outlinewidth": 0,
            "ticks": ""
           }
          },
          "colorscale": {
           "diverging": [
            [
             0,
             "#8e0152"
            ],
            [
             0.1,
             "#c51b7d"
            ],
            [
             0.2,
             "#de77ae"
            ],
            [
             0.3,
             "#f1b6da"
            ],
            [
             0.4,
             "#fde0ef"
            ],
            [
             0.5,
             "#f7f7f7"
            ],
            [
             0.6,
             "#e6f5d0"
            ],
            [
             0.7,
             "#b8e186"
            ],
            [
             0.8,
             "#7fbc41"
            ],
            [
             0.9,
             "#4d9221"
            ],
            [
             1,
             "#276419"
            ]
           ],
           "sequential": [
            [
             0,
             "#0d0887"
            ],
            [
             0.1111111111111111,
             "#46039f"
            ],
            [
             0.2222222222222222,
             "#7201a8"
            ],
            [
             0.3333333333333333,
             "#9c179e"
            ],
            [
             0.4444444444444444,
             "#bd3786"
            ],
            [
             0.5555555555555556,
             "#d8576b"
            ],
            [
             0.6666666666666666,
             "#ed7953"
            ],
            [
             0.7777777777777778,
             "#fb9f3a"
            ],
            [
             0.8888888888888888,
             "#fdca26"
            ],
            [
             1,
             "#f0f921"
            ]
           ],
           "sequentialminus": [
            [
             0,
             "#0d0887"
            ],
            [
             0.1111111111111111,
             "#46039f"
            ],
            [
             0.2222222222222222,
             "#7201a8"
            ],
            [
             0.3333333333333333,
             "#9c179e"
            ],
            [
             0.4444444444444444,
             "#bd3786"
            ],
            [
             0.5555555555555556,
             "#d8576b"
            ],
            [
             0.6666666666666666,
             "#ed7953"
            ],
            [
             0.7777777777777778,
             "#fb9f3a"
            ],
            [
             0.8888888888888888,
             "#fdca26"
            ],
            [
             1,
             "#f0f921"
            ]
           ]
          },
          "colorway": [
           "#636efa",
           "#EF553B",
           "#00cc96",
           "#ab63fa",
           "#FFA15A",
           "#19d3f3",
           "#FF6692",
           "#B6E880",
           "#FF97FF",
           "#FECB52"
          ],
          "font": {
           "color": "#2a3f5f"
          },
          "geo": {
           "bgcolor": "white",
           "lakecolor": "white",
           "landcolor": "#E5ECF6",
           "showlakes": true,
           "showland": true,
           "subunitcolor": "white"
          },
          "hoverlabel": {
           "align": "left"
          },
          "hovermode": "closest",
          "mapbox": {
           "style": "light"
          },
          "paper_bgcolor": "white",
          "plot_bgcolor": "#E5ECF6",
          "polar": {
           "angularaxis": {
            "gridcolor": "white",
            "linecolor": "white",
            "ticks": ""
           },
           "bgcolor": "#E5ECF6",
           "radialaxis": {
            "gridcolor": "white",
            "linecolor": "white",
            "ticks": ""
           }
          },
          "scene": {
           "xaxis": {
            "backgroundcolor": "#E5ECF6",
            "gridcolor": "white",
            "gridwidth": 2,
            "linecolor": "white",
            "showbackground": true,
            "ticks": "",
            "zerolinecolor": "white"
           },
           "yaxis": {
            "backgroundcolor": "#E5ECF6",
            "gridcolor": "white",
            "gridwidth": 2,
            "linecolor": "white",
            "showbackground": true,
            "ticks": "",
            "zerolinecolor": "white"
           },
           "zaxis": {
            "backgroundcolor": "#E5ECF6",
            "gridcolor": "white",
            "gridwidth": 2,
            "linecolor": "white",
            "showbackground": true,
            "ticks": "",
            "zerolinecolor": "white"
           }
          },
          "shapedefaults": {
           "line": {
            "color": "#2a3f5f"
           }
          },
          "ternary": {
           "aaxis": {
            "gridcolor": "white",
            "linecolor": "white",
            "ticks": ""
           },
           "baxis": {
            "gridcolor": "white",
            "linecolor": "white",
            "ticks": ""
           },
           "bgcolor": "#E5ECF6",
           "caxis": {
            "gridcolor": "white",
            "linecolor": "white",
            "ticks": ""
           }
          },
          "title": {
           "x": 0.05
          },
          "xaxis": {
           "automargin": true,
           "gridcolor": "white",
           "linecolor": "white",
           "ticks": "",
           "title": {
            "standoff": 15
           },
           "zerolinecolor": "white",
           "zerolinewidth": 2
          },
          "yaxis": {
           "automargin": true,
           "gridcolor": "white",
           "linecolor": "white",
           "ticks": "",
           "title": {
            "standoff": 15
           },
           "zerolinecolor": "white",
           "zerolinewidth": 2
          }
         }
        },
        "title": {
         "text": "Percentage of Delayed Flights per Flight Origin City",
         "x": 0.5
        },
        "uniformtext": {
         "minsize": 4,
         "mode": "hide"
        },
        "xaxis": {
         "anchor": "y",
         "domain": [
          0,
          1
         ],
         "title": {
          "text": "Origin"
         }
        },
        "yaxis": {
         "anchor": "x",
         "domain": [
          0,
          1
         ],
         "title": {
          "text": "Percentage of Delayed"
         }
        }
       }
      },
      "text/html": [
       "<div>\n",
       "        \n",
       "        \n",
       "            <div id=\"e0857327-e650-4afd-97ae-7e6030f1ab02\" class=\"plotly-graph-div\" style=\"height:525px; width:100%;\"></div>\n",
       "            <script type=\"text/javascript\">\n",
       "                require([\"plotly\"], function(Plotly) {\n",
       "                    window.PLOTLYENV=window.PLOTLYENV || {};\n",
       "                    \n",
       "                if (document.getElementById(\"e0857327-e650-4afd-97ae-7e6030f1ab02\")) {\n",
       "                    Plotly.newPlot(\n",
       "                        'e0857327-e650-4afd-97ae-7e6030f1ab02',\n",
       "                        [{\"alignmentgroup\": \"True\", \"hovertemplate\": \"Origin=%{x}<br>Percent of Delayed=%{y}<br>Flights=%{text}<extra></extra>\", \"legendgroup\": \"\", \"marker\": {\"color\": \"#636efa\", \"opacity\": 0.8}, \"name\": \"\", \"offsetgroup\": \"\", \"orientation\": \"v\", \"showlegend\": false, \"text\": [62696, 59551, 47574, 45934, 38743, 38377, 38373, 35307, 32775, 29731], \"textposition\": \"inside\", \"texttemplate\": \"%{text:,6}\", \"type\": \"bar\", \"x\": [\"atlanta,ga                              \", \"chicago,il                              \", \"newyork,ny                              \", \"fortworth,tx                            \", \"houston,tx                              \", \"charlotte,nc                            \", \"denver,co                               \", \"losangeles,ca                           \", \"washingtondc                            \", \"phoenix,az                              \"], \"xaxis\": \"x\", \"y\": [0.12318170218195738, 0.22402646471092005, 0.18415521082944467, 0.18456916445334612, 0.14309681748961103, 0.14756234202777704, 0.16037317905819196, 0.15277423740334778, 0.15157894736842106, 0.13326157882345027], \"yaxis\": \"y\"}, {\"line\": {\"color\": \"purple\", \"shape\": \"spline\", \"smoothing\": 1.2}, \"mode\": \"lines+markers\", \"opacity\": 0.3, \"showlegend\": false, \"type\": \"scatter\", \"x\": [\"atlanta,ga                              \", \"chicago,il                              \", \"newyork,ny                              \", \"fortworth,tx                            \", \"houston,tx                              \", \"charlotte,nc                            \", \"denver,co                               \", \"losangeles,ca                           \", \"washingtondc                            \", \"phoenix,az                              \"], \"y\": [0.12318170218195738, 0.22402646471092005, 0.18415521082944467, 0.18456916445334612, 0.14309681748961103, 0.14756234202777704, 0.16037317905819196, 0.15277423740334778, 0.15157894736842106, 0.13326157882345027]}],\n",
       "                        {\"barmode\": \"relative\", \"legend\": {\"tracegroupgap\": 0}, \"margin\": {\"t\": 60}, \"template\": {\"data\": {\"bar\": [{\"error_x\": {\"color\": \"#2a3f5f\"}, \"error_y\": {\"color\": \"#2a3f5f\"}, \"marker\": {\"line\": {\"color\": \"#E5ECF6\", \"width\": 0.5}}, \"type\": \"bar\"}], \"barpolar\": [{\"marker\": {\"line\": {\"color\": \"#E5ECF6\", \"width\": 0.5}}, \"type\": \"barpolar\"}], \"carpet\": [{\"aaxis\": {\"endlinecolor\": \"#2a3f5f\", \"gridcolor\": \"white\", \"linecolor\": \"white\", \"minorgridcolor\": \"white\", \"startlinecolor\": \"#2a3f5f\"}, \"baxis\": {\"endlinecolor\": \"#2a3f5f\", \"gridcolor\": \"white\", \"linecolor\": \"white\", \"minorgridcolor\": \"white\", \"startlinecolor\": \"#2a3f5f\"}, \"type\": \"carpet\"}], \"choropleth\": [{\"colorbar\": {\"outlinewidth\": 0, \"ticks\": \"\"}, \"type\": \"choropleth\"}], \"contour\": [{\"colorbar\": {\"outlinewidth\": 0, \"ticks\": \"\"}, \"colorscale\": [[0.0, \"#0d0887\"], [0.1111111111111111, \"#46039f\"], [0.2222222222222222, \"#7201a8\"], [0.3333333333333333, \"#9c179e\"], [0.4444444444444444, \"#bd3786\"], [0.5555555555555556, \"#d8576b\"], [0.6666666666666666, \"#ed7953\"], [0.7777777777777778, \"#fb9f3a\"], [0.8888888888888888, \"#fdca26\"], [1.0, \"#f0f921\"]], \"type\": \"contour\"}], \"contourcarpet\": [{\"colorbar\": {\"outlinewidth\": 0, \"ticks\": \"\"}, \"type\": \"contourcarpet\"}], \"heatmap\": [{\"colorbar\": {\"outlinewidth\": 0, \"ticks\": \"\"}, \"colorscale\": [[0.0, \"#0d0887\"], [0.1111111111111111, \"#46039f\"], [0.2222222222222222, \"#7201a8\"], [0.3333333333333333, \"#9c179e\"], [0.4444444444444444, \"#bd3786\"], [0.5555555555555556, \"#d8576b\"], [0.6666666666666666, \"#ed7953\"], [0.7777777777777778, \"#fb9f3a\"], [0.8888888888888888, \"#fdca26\"], [1.0, \"#f0f921\"]], \"type\": \"heatmap\"}], \"heatmapgl\": [{\"colorbar\": {\"outlinewidth\": 0, \"ticks\": \"\"}, \"colorscale\": [[0.0, \"#0d0887\"], [0.1111111111111111, \"#46039f\"], [0.2222222222222222, \"#7201a8\"], [0.3333333333333333, \"#9c179e\"], [0.4444444444444444, \"#bd3786\"], [0.5555555555555556, \"#d8576b\"], [0.6666666666666666, \"#ed7953\"], [0.7777777777777778, \"#fb9f3a\"], [0.8888888888888888, \"#fdca26\"], [1.0, \"#f0f921\"]], \"type\": \"heatmapgl\"}], \"histogram\": [{\"marker\": {\"colorbar\": {\"outlinewidth\": 0, \"ticks\": \"\"}}, \"type\": \"histogram\"}], \"histogram2d\": [{\"colorbar\": {\"outlinewidth\": 0, \"ticks\": \"\"}, \"colorscale\": [[0.0, \"#0d0887\"], [0.1111111111111111, \"#46039f\"], [0.2222222222222222, \"#7201a8\"], [0.3333333333333333, \"#9c179e\"], [0.4444444444444444, \"#bd3786\"], [0.5555555555555556, \"#d8576b\"], [0.6666666666666666, \"#ed7953\"], [0.7777777777777778, \"#fb9f3a\"], [0.8888888888888888, \"#fdca26\"], [1.0, \"#f0f921\"]], \"type\": \"histogram2d\"}], \"histogram2dcontour\": [{\"colorbar\": {\"outlinewidth\": 0, \"ticks\": \"\"}, \"colorscale\": [[0.0, \"#0d0887\"], [0.1111111111111111, \"#46039f\"], [0.2222222222222222, \"#7201a8\"], [0.3333333333333333, \"#9c179e\"], [0.4444444444444444, \"#bd3786\"], [0.5555555555555556, \"#d8576b\"], [0.6666666666666666, \"#ed7953\"], [0.7777777777777778, \"#fb9f3a\"], [0.8888888888888888, \"#fdca26\"], [1.0, \"#f0f921\"]], \"type\": \"histogram2dcontour\"}], \"mesh3d\": [{\"colorbar\": {\"outlinewidth\": 0, \"ticks\": \"\"}, \"type\": \"mesh3d\"}], \"parcoords\": [{\"line\": {\"colorbar\": {\"outlinewidth\": 0, \"ticks\": \"\"}}, \"type\": \"parcoords\"}], \"pie\": [{\"automargin\": true, \"type\": \"pie\"}], \"scatter\": [{\"marker\": {\"colorbar\": {\"outlinewidth\": 0, \"ticks\": \"\"}}, \"type\": \"scatter\"}], \"scatter3d\": [{\"line\": {\"colorbar\": {\"outlinewidth\": 0, \"ticks\": \"\"}}, \"marker\": {\"colorbar\": {\"outlinewidth\": 0, \"ticks\": \"\"}}, \"type\": \"scatter3d\"}], \"scattercarpet\": [{\"marker\": {\"colorbar\": {\"outlinewidth\": 0, \"ticks\": \"\"}}, \"type\": \"scattercarpet\"}], \"scattergeo\": [{\"marker\": {\"colorbar\": {\"outlinewidth\": 0, \"ticks\": \"\"}}, \"type\": \"scattergeo\"}], \"scattergl\": [{\"marker\": {\"colorbar\": {\"outlinewidth\": 0, \"ticks\": \"\"}}, \"type\": \"scattergl\"}], \"scattermapbox\": [{\"marker\": {\"colorbar\": {\"outlinewidth\": 0, \"ticks\": \"\"}}, \"type\": \"scattermapbox\"}], \"scatterpolar\": [{\"marker\": {\"colorbar\": {\"outlinewidth\": 0, \"ticks\": \"\"}}, \"type\": \"scatterpolar\"}], \"scatterpolargl\": [{\"marker\": {\"colorbar\": {\"outlinewidth\": 0, \"ticks\": \"\"}}, \"type\": \"scatterpolargl\"}], \"scatterternary\": [{\"marker\": {\"colorbar\": {\"outlinewidth\": 0, \"ticks\": \"\"}}, \"type\": \"scatterternary\"}], \"surface\": [{\"colorbar\": {\"outlinewidth\": 0, \"ticks\": \"\"}, \"colorscale\": [[0.0, \"#0d0887\"], [0.1111111111111111, \"#46039f\"], [0.2222222222222222, \"#7201a8\"], [0.3333333333333333, \"#9c179e\"], [0.4444444444444444, \"#bd3786\"], [0.5555555555555556, \"#d8576b\"], [0.6666666666666666, \"#ed7953\"], [0.7777777777777778, \"#fb9f3a\"], [0.8888888888888888, \"#fdca26\"], [1.0, \"#f0f921\"]], \"type\": \"surface\"}], \"table\": [{\"cells\": {\"fill\": {\"color\": \"#EBF0F8\"}, \"line\": {\"color\": \"white\"}}, \"header\": {\"fill\": {\"color\": \"#C8D4E3\"}, \"line\": {\"color\": \"white\"}}, \"type\": \"table\"}]}, \"layout\": {\"annotationdefaults\": {\"arrowcolor\": \"#2a3f5f\", \"arrowhead\": 0, \"arrowwidth\": 1}, \"coloraxis\": {\"colorbar\": {\"outlinewidth\": 0, \"ticks\": \"\"}}, \"colorscale\": {\"diverging\": [[0, \"#8e0152\"], [0.1, \"#c51b7d\"], [0.2, \"#de77ae\"], [0.3, \"#f1b6da\"], [0.4, \"#fde0ef\"], [0.5, \"#f7f7f7\"], [0.6, \"#e6f5d0\"], [0.7, \"#b8e186\"], [0.8, \"#7fbc41\"], [0.9, \"#4d9221\"], [1, \"#276419\"]], \"sequential\": [[0.0, \"#0d0887\"], [0.1111111111111111, \"#46039f\"], [0.2222222222222222, \"#7201a8\"], [0.3333333333333333, \"#9c179e\"], [0.4444444444444444, \"#bd3786\"], [0.5555555555555556, \"#d8576b\"], [0.6666666666666666, \"#ed7953\"], [0.7777777777777778, \"#fb9f3a\"], [0.8888888888888888, \"#fdca26\"], [1.0, \"#f0f921\"]], \"sequentialminus\": [[0.0, \"#0d0887\"], [0.1111111111111111, \"#46039f\"], [0.2222222222222222, \"#7201a8\"], [0.3333333333333333, \"#9c179e\"], [0.4444444444444444, \"#bd3786\"], [0.5555555555555556, \"#d8576b\"], [0.6666666666666666, \"#ed7953\"], [0.7777777777777778, \"#fb9f3a\"], [0.8888888888888888, \"#fdca26\"], [1.0, \"#f0f921\"]]}, \"colorway\": [\"#636efa\", \"#EF553B\", \"#00cc96\", \"#ab63fa\", \"#FFA15A\", \"#19d3f3\", \"#FF6692\", \"#B6E880\", \"#FF97FF\", \"#FECB52\"], \"font\": {\"color\": \"#2a3f5f\"}, \"geo\": {\"bgcolor\": \"white\", \"lakecolor\": \"white\", \"landcolor\": \"#E5ECF6\", \"showlakes\": true, \"showland\": true, \"subunitcolor\": \"white\"}, \"hoverlabel\": {\"align\": \"left\"}, \"hovermode\": \"closest\", \"mapbox\": {\"style\": \"light\"}, \"paper_bgcolor\": \"white\", \"plot_bgcolor\": \"#E5ECF6\", \"polar\": {\"angularaxis\": {\"gridcolor\": \"white\", \"linecolor\": \"white\", \"ticks\": \"\"}, \"bgcolor\": \"#E5ECF6\", \"radialaxis\": {\"gridcolor\": \"white\", \"linecolor\": \"white\", \"ticks\": \"\"}}, \"scene\": {\"xaxis\": {\"backgroundcolor\": \"#E5ECF6\", \"gridcolor\": \"white\", \"gridwidth\": 2, \"linecolor\": \"white\", \"showbackground\": true, \"ticks\": \"\", \"zerolinecolor\": \"white\"}, \"yaxis\": {\"backgroundcolor\": \"#E5ECF6\", \"gridcolor\": \"white\", \"gridwidth\": 2, \"linecolor\": \"white\", \"showbackground\": true, \"ticks\": \"\", \"zerolinecolor\": \"white\"}, \"zaxis\": {\"backgroundcolor\": \"#E5ECF6\", \"gridcolor\": \"white\", \"gridwidth\": 2, \"linecolor\": \"white\", \"showbackground\": true, \"ticks\": \"\", \"zerolinecolor\": \"white\"}}, \"shapedefaults\": {\"line\": {\"color\": \"#2a3f5f\"}}, \"ternary\": {\"aaxis\": {\"gridcolor\": \"white\", \"linecolor\": \"white\", \"ticks\": \"\"}, \"baxis\": {\"gridcolor\": \"white\", \"linecolor\": \"white\", \"ticks\": \"\"}, \"bgcolor\": \"#E5ECF6\", \"caxis\": {\"gridcolor\": \"white\", \"linecolor\": \"white\", \"ticks\": \"\"}}, \"title\": {\"x\": 0.05}, \"xaxis\": {\"automargin\": true, \"gridcolor\": \"white\", \"linecolor\": \"white\", \"ticks\": \"\", \"title\": {\"standoff\": 15}, \"zerolinecolor\": \"white\", \"zerolinewidth\": 2}, \"yaxis\": {\"automargin\": true, \"gridcolor\": \"white\", \"linecolor\": \"white\", \"ticks\": \"\", \"title\": {\"standoff\": 15}, \"zerolinecolor\": \"white\", \"zerolinewidth\": 2}}}, \"title\": {\"text\": \"Percentage of Delayed Flights per Flight Origin City\", \"x\": 0.5}, \"uniformtext\": {\"minsize\": 4, \"mode\": \"hide\"}, \"xaxis\": {\"anchor\": \"y\", \"domain\": [0.0, 1.0], \"title\": {\"text\": \"Origin\"}}, \"yaxis\": {\"anchor\": \"x\", \"domain\": [0.0, 1.0], \"title\": {\"text\": \"Percentage of Delayed\"}}},\n",
       "                        {\"responsive\": true}\n",
       "                    ).then(function(){\n",
       "                            \n",
       "var gd = document.getElementById('e0857327-e650-4afd-97ae-7e6030f1ab02');\n",
       "var x = new MutationObserver(function (mutations, observer) {{\n",
       "        var display = window.getComputedStyle(gd).display;\n",
       "        if (!display || display === 'none') {{\n",
       "            console.log([gd, 'removed!']);\n",
       "            Plotly.purge(gd);\n",
       "            observer.disconnect();\n",
       "        }}\n",
       "}});\n",
       "\n",
       "// Listen for the removal of the full notebook cells\n",
       "var notebookContainer = gd.closest('#notebook-container');\n",
       "if (notebookContainer) {{\n",
       "    x.observe(notebookContainer, {childList: true});\n",
       "}}\n",
       "\n",
       "// Listen for the clearing of the current output cell\n",
       "var outputEl = gd.closest('.output');\n",
       "if (outputEl) {{\n",
       "    x.observe(outputEl, {childList: true});\n",
       "}}\n",
       "\n",
       "                        })\n",
       "                };\n",
       "                });\n",
       "            </script>\n",
       "        </div>"
      ]
     },
     "metadata": {},
     "output_type": "display_data"
    }
   ],
   "source": [
    "fig = px.bar(df_origin, y=\"Percent of Delayed\", x='Origin', text='Flights', opacity = 0.8)\n",
    "fig.update_traces(texttemplate='%{text:,6}', textposition='inside')\n",
    "fig.update_layout(uniformtext_minsize=4, uniformtext_mode='hide', title_x = 0.5,title_text='Percentage of Delayed Flights per Flight Origin City', yaxis=dict(title='Percentage of Delayed'),\n",
    "                  xaxis=dict(title='Origin'))\n",
    "# fig.add_annotation( x='WN', y=100000, text=\"Highest OP CARRIER - WN\",showarrow=True, font=dict( family=\"Courier New, monospace\", size=10, color=\"#ffffff\" ), align=\"right\", arrowhead=2, arrowsize=1, arrowwidth=2, arrowcolor=\"#636363\", ax=120, ay=0, bordercolor=\"#c7c7c7\", borderwidth=2, borderpad=4, bgcolor=\"#ff7f0e\", opacity=0.8)\n",
    "\n",
    "fig.add_trace(go.Scatter(x=df_origin['Origin'], y=df_origin['Percent of Delayed'],\n",
    "                    mode='lines+markers',opacity = 0.3,showlegend=False,\n",
    "                   line = dict(\n",
    "        smoothing = 1.2, color = 'purple',\n",
    "        shape = \"spline\"\n",
    "    )))\n",
    "\n",
    "fig.show()"
   ]
  },
  {
   "cell_type": "code",
   "execution_count": 89,
   "metadata": {},
   "outputs": [
    {
     "data": {
      "text/html": [
       "<div>\n",
       "<style scoped>\n",
       "    .dataframe tbody tr th:only-of-type {\n",
       "        vertical-align: middle;\n",
       "    }\n",
       "\n",
       "    .dataframe tbody tr th {\n",
       "        vertical-align: top;\n",
       "    }\n",
       "\n",
       "    .dataframe thead th {\n",
       "        text-align: right;\n",
       "    }\n",
       "</style>\n",
       "<table border=\"1\" class=\"dataframe\">\n",
       "  <thead>\n",
       "    <tr style=\"text-align: right;\">\n",
       "      <th></th>\n",
       "      <th>Weekday</th>\n",
       "      <th>Not_Delayed</th>\n",
       "      <th>Delayed</th>\n",
       "      <th>Flights</th>\n",
       "      <th>Percent of Delayed</th>\n",
       "    </tr>\n",
       "  </thead>\n",
       "  <tbody>\n",
       "    <tr>\n",
       "      <th>4</th>\n",
       "      <td>Thursday</td>\n",
       "      <td>165648</td>\n",
       "      <td>32709</td>\n",
       "      <td>198357</td>\n",
       "      <td>0.1649</td>\n",
       "    </tr>\n",
       "    <tr>\n",
       "      <th>6</th>\n",
       "      <td>Wednesday</td>\n",
       "      <td>162711</td>\n",
       "      <td>26172</td>\n",
       "      <td>188883</td>\n",
       "      <td>0.138562</td>\n",
       "    </tr>\n",
       "    <tr>\n",
       "      <th>0</th>\n",
       "      <td>Friday</td>\n",
       "      <td>149335</td>\n",
       "      <td>28984</td>\n",
       "      <td>178319</td>\n",
       "      <td>0.16254</td>\n",
       "    </tr>\n",
       "    <tr>\n",
       "      <th>5</th>\n",
       "      <td>Tuesday</td>\n",
       "      <td>143573</td>\n",
       "      <td>21734</td>\n",
       "      <td>165307</td>\n",
       "      <td>0.131477</td>\n",
       "    </tr>\n",
       "    <tr>\n",
       "      <th>1</th>\n",
       "      <td>Monday</td>\n",
       "      <td>133130</td>\n",
       "      <td>24433</td>\n",
       "      <td>157563</td>\n",
       "      <td>0.155068</td>\n",
       "    </tr>\n",
       "    <tr>\n",
       "      <th>3</th>\n",
       "      <td>Sunday</td>\n",
       "      <td>124379</td>\n",
       "      <td>23587</td>\n",
       "      <td>147966</td>\n",
       "      <td>0.159408</td>\n",
       "    </tr>\n",
       "    <tr>\n",
       "      <th>2</th>\n",
       "      <td>Saturday</td>\n",
       "      <td>101887</td>\n",
       "      <td>21001</td>\n",
       "      <td>122888</td>\n",
       "      <td>0.170895</td>\n",
       "    </tr>\n",
       "  </tbody>\n",
       "</table>\n",
       "</div>"
      ],
      "text/plain": [
       "     Weekday Not_Delayed Delayed Flights Percent of Delayed\n",
       "4   Thursday      165648   32709  198357             0.1649\n",
       "6  Wednesday      162711   26172  188883           0.138562\n",
       "0     Friday      149335   28984  178319            0.16254\n",
       "5    Tuesday      143573   21734  165307           0.131477\n",
       "1     Monday      133130   24433  157563           0.155068\n",
       "3     Sunday      124379   23587  147966           0.159408\n",
       "2   Saturday      101887   21001  122888           0.170895"
      ]
     },
     "execution_count": 89,
     "metadata": {},
     "output_type": "execute_result"
    }
   ],
   "source": [
    "# Its clearly seen that most of the flights are on the 4th day. Nearly %20 of flights are delayed of 6th day.\n",
    "df_weekday=pd.DataFrame(complete_flights.groupby([\"weekday\",\"dep_del15\"])[\"origin_airport_id\"].count().unstack(\"dep_del15\").reset_index().values,columns=[\"Weekday\",\"Not_Delayed\",\"Delayed\"])\n",
    "df_weekday['Flights']= df_weekday.Delayed+ df_weekday.Not_Delayed\n",
    "df_weekday[\"Percent of Delayed\"]=df_weekday.Delayed /( df_weekday.Delayed+ df_weekday.Not_Delayed)\n",
    "df_weekday.sort_values(by=\"Not_Delayed\",ascending=False,inplace=True)\n",
    "df_weekday.head(10)"
   ]
  },
  {
   "cell_type": "code",
   "execution_count": 91,
   "metadata": {},
   "outputs": [
    {
     "data": {
      "application/vnd.plotly.v1+json": {
       "config": {
        "plotlyServerURL": "https://plot.ly"
       },
       "data": [
        {
         "alignmentgroup": "True",
         "hovertemplate": "Weekday=%{x}<br>Percent of Delayed=%{y}<br>Flights=%{text}<extra></extra>",
         "legendgroup": "",
         "marker": {
          "color": "#636efa",
          "opacity": 0.8
         },
         "name": "",
         "offsetgroup": "",
         "orientation": "v",
         "showlegend": false,
         "text": [
          198357,
          188883,
          178319,
          165307,
          157563,
          147966,
          122888
         ],
         "textposition": "inside",
         "texttemplate": "%{text:,6}",
         "type": "bar",
         "x": [
          "Thursday",
          "Wednesday",
          "Friday",
          "Tuesday",
          "Monday",
          "Sunday",
          "Saturday"
         ],
         "xaxis": "x",
         "y": [
          0.16489965062992484,
          0.13856196693191022,
          0.16254016677975988,
          0.13147658598849413,
          0.1550681314775677,
          0.1594082424340727,
          0.17089544951500554
         ],
         "yaxis": "y"
        },
        {
         "line": {
          "color": "red",
          "shape": "spline",
          "smoothing": 1.2
         },
         "mode": "lines+markers",
         "opacity": 0.3,
         "showlegend": false,
         "type": "scatter",
         "x": [
          "Thursday",
          "Wednesday",
          "Friday",
          "Tuesday",
          "Monday",
          "Sunday",
          "Saturday"
         ],
         "y": [
          0.16489965062992484,
          0.13856196693191022,
          0.16254016677975988,
          0.13147658598849413,
          0.1550681314775677,
          0.1594082424340727,
          0.17089544951500554
         ]
        }
       ],
       "layout": {
        "barmode": "relative",
        "legend": {
         "tracegroupgap": 0
        },
        "margin": {
         "t": 60
        },
        "template": {
         "data": {
          "bar": [
           {
            "error_x": {
             "color": "#2a3f5f"
            },
            "error_y": {
             "color": "#2a3f5f"
            },
            "marker": {
             "line": {
              "color": "#E5ECF6",
              "width": 0.5
             }
            },
            "type": "bar"
           }
          ],
          "barpolar": [
           {
            "marker": {
             "line": {
              "color": "#E5ECF6",
              "width": 0.5
             }
            },
            "type": "barpolar"
           }
          ],
          "carpet": [
           {
            "aaxis": {
             "endlinecolor": "#2a3f5f",
             "gridcolor": "white",
             "linecolor": "white",
             "minorgridcolor": "white",
             "startlinecolor": "#2a3f5f"
            },
            "baxis": {
             "endlinecolor": "#2a3f5f",
             "gridcolor": "white",
             "linecolor": "white",
             "minorgridcolor": "white",
             "startlinecolor": "#2a3f5f"
            },
            "type": "carpet"
           }
          ],
          "choropleth": [
           {
            "colorbar": {
             "outlinewidth": 0,
             "ticks": ""
            },
            "type": "choropleth"
           }
          ],
          "contour": [
           {
            "colorbar": {
             "outlinewidth": 0,
             "ticks": ""
            },
            "colorscale": [
             [
              0,
              "#0d0887"
             ],
             [
              0.1111111111111111,
              "#46039f"
             ],
             [
              0.2222222222222222,
              "#7201a8"
             ],
             [
              0.3333333333333333,
              "#9c179e"
             ],
             [
              0.4444444444444444,
              "#bd3786"
             ],
             [
              0.5555555555555556,
              "#d8576b"
             ],
             [
              0.6666666666666666,
              "#ed7953"
             ],
             [
              0.7777777777777778,
              "#fb9f3a"
             ],
             [
              0.8888888888888888,
              "#fdca26"
             ],
             [
              1,
              "#f0f921"
             ]
            ],
            "type": "contour"
           }
          ],
          "contourcarpet": [
           {
            "colorbar": {
             "outlinewidth": 0,
             "ticks": ""
            },
            "type": "contourcarpet"
           }
          ],
          "heatmap": [
           {
            "colorbar": {
             "outlinewidth": 0,
             "ticks": ""
            },
            "colorscale": [
             [
              0,
              "#0d0887"
             ],
             [
              0.1111111111111111,
              "#46039f"
             ],
             [
              0.2222222222222222,
              "#7201a8"
             ],
             [
              0.3333333333333333,
              "#9c179e"
             ],
             [
              0.4444444444444444,
              "#bd3786"
             ],
             [
              0.5555555555555556,
              "#d8576b"
             ],
             [
              0.6666666666666666,
              "#ed7953"
             ],
             [
              0.7777777777777778,
              "#fb9f3a"
             ],
             [
              0.8888888888888888,
              "#fdca26"
             ],
             [
              1,
              "#f0f921"
             ]
            ],
            "type": "heatmap"
           }
          ],
          "heatmapgl": [
           {
            "colorbar": {
             "outlinewidth": 0,
             "ticks": ""
            },
            "colorscale": [
             [
              0,
              "#0d0887"
             ],
             [
              0.1111111111111111,
              "#46039f"
             ],
             [
              0.2222222222222222,
              "#7201a8"
             ],
             [
              0.3333333333333333,
              "#9c179e"
             ],
             [
              0.4444444444444444,
              "#bd3786"
             ],
             [
              0.5555555555555556,
              "#d8576b"
             ],
             [
              0.6666666666666666,
              "#ed7953"
             ],
             [
              0.7777777777777778,
              "#fb9f3a"
             ],
             [
              0.8888888888888888,
              "#fdca26"
             ],
             [
              1,
              "#f0f921"
             ]
            ],
            "type": "heatmapgl"
           }
          ],
          "histogram": [
           {
            "marker": {
             "colorbar": {
              "outlinewidth": 0,
              "ticks": ""
             }
            },
            "type": "histogram"
           }
          ],
          "histogram2d": [
           {
            "colorbar": {
             "outlinewidth": 0,
             "ticks": ""
            },
            "colorscale": [
             [
              0,
              "#0d0887"
             ],
             [
              0.1111111111111111,
              "#46039f"
             ],
             [
              0.2222222222222222,
              "#7201a8"
             ],
             [
              0.3333333333333333,
              "#9c179e"
             ],
             [
              0.4444444444444444,
              "#bd3786"
             ],
             [
              0.5555555555555556,
              "#d8576b"
             ],
             [
              0.6666666666666666,
              "#ed7953"
             ],
             [
              0.7777777777777778,
              "#fb9f3a"
             ],
             [
              0.8888888888888888,
              "#fdca26"
             ],
             [
              1,
              "#f0f921"
             ]
            ],
            "type": "histogram2d"
           }
          ],
          "histogram2dcontour": [
           {
            "colorbar": {
             "outlinewidth": 0,
             "ticks": ""
            },
            "colorscale": [
             [
              0,
              "#0d0887"
             ],
             [
              0.1111111111111111,
              "#46039f"
             ],
             [
              0.2222222222222222,
              "#7201a8"
             ],
             [
              0.3333333333333333,
              "#9c179e"
             ],
             [
              0.4444444444444444,
              "#bd3786"
             ],
             [
              0.5555555555555556,
              "#d8576b"
             ],
             [
              0.6666666666666666,
              "#ed7953"
             ],
             [
              0.7777777777777778,
              "#fb9f3a"
             ],
             [
              0.8888888888888888,
              "#fdca26"
             ],
             [
              1,
              "#f0f921"
             ]
            ],
            "type": "histogram2dcontour"
           }
          ],
          "mesh3d": [
           {
            "colorbar": {
             "outlinewidth": 0,
             "ticks": ""
            },
            "type": "mesh3d"
           }
          ],
          "parcoords": [
           {
            "line": {
             "colorbar": {
              "outlinewidth": 0,
              "ticks": ""
             }
            },
            "type": "parcoords"
           }
          ],
          "pie": [
           {
            "automargin": true,
            "type": "pie"
           }
          ],
          "scatter": [
           {
            "marker": {
             "colorbar": {
              "outlinewidth": 0,
              "ticks": ""
             }
            },
            "type": "scatter"
           }
          ],
          "scatter3d": [
           {
            "line": {
             "colorbar": {
              "outlinewidth": 0,
              "ticks": ""
             }
            },
            "marker": {
             "colorbar": {
              "outlinewidth": 0,
              "ticks": ""
             }
            },
            "type": "scatter3d"
           }
          ],
          "scattercarpet": [
           {
            "marker": {
             "colorbar": {
              "outlinewidth": 0,
              "ticks": ""
             }
            },
            "type": "scattercarpet"
           }
          ],
          "scattergeo": [
           {
            "marker": {
             "colorbar": {
              "outlinewidth": 0,
              "ticks": ""
             }
            },
            "type": "scattergeo"
           }
          ],
          "scattergl": [
           {
            "marker": {
             "colorbar": {
              "outlinewidth": 0,
              "ticks": ""
             }
            },
            "type": "scattergl"
           }
          ],
          "scattermapbox": [
           {
            "marker": {
             "colorbar": {
              "outlinewidth": 0,
              "ticks": ""
             }
            },
            "type": "scattermapbox"
           }
          ],
          "scatterpolar": [
           {
            "marker": {
             "colorbar": {
              "outlinewidth": 0,
              "ticks": ""
             }
            },
            "type": "scatterpolar"
           }
          ],
          "scatterpolargl": [
           {
            "marker": {
             "colorbar": {
              "outlinewidth": 0,
              "ticks": ""
             }
            },
            "type": "scatterpolargl"
           }
          ],
          "scatterternary": [
           {
            "marker": {
             "colorbar": {
              "outlinewidth": 0,
              "ticks": ""
             }
            },
            "type": "scatterternary"
           }
          ],
          "surface": [
           {
            "colorbar": {
             "outlinewidth": 0,
             "ticks": ""
            },
            "colorscale": [
             [
              0,
              "#0d0887"
             ],
             [
              0.1111111111111111,
              "#46039f"
             ],
             [
              0.2222222222222222,
              "#7201a8"
             ],
             [
              0.3333333333333333,
              "#9c179e"
             ],
             [
              0.4444444444444444,
              "#bd3786"
             ],
             [
              0.5555555555555556,
              "#d8576b"
             ],
             [
              0.6666666666666666,
              "#ed7953"
             ],
             [
              0.7777777777777778,
              "#fb9f3a"
             ],
             [
              0.8888888888888888,
              "#fdca26"
             ],
             [
              1,
              "#f0f921"
             ]
            ],
            "type": "surface"
           }
          ],
          "table": [
           {
            "cells": {
             "fill": {
              "color": "#EBF0F8"
             },
             "line": {
              "color": "white"
             }
            },
            "header": {
             "fill": {
              "color": "#C8D4E3"
             },
             "line": {
              "color": "white"
             }
            },
            "type": "table"
           }
          ]
         },
         "layout": {
          "annotationdefaults": {
           "arrowcolor": "#2a3f5f",
           "arrowhead": 0,
           "arrowwidth": 1
          },
          "coloraxis": {
           "colorbar": {
            "outlinewidth": 0,
            "ticks": ""
           }
          },
          "colorscale": {
           "diverging": [
            [
             0,
             "#8e0152"
            ],
            [
             0.1,
             "#c51b7d"
            ],
            [
             0.2,
             "#de77ae"
            ],
            [
             0.3,
             "#f1b6da"
            ],
            [
             0.4,
             "#fde0ef"
            ],
            [
             0.5,
             "#f7f7f7"
            ],
            [
             0.6,
             "#e6f5d0"
            ],
            [
             0.7,
             "#b8e186"
            ],
            [
             0.8,
             "#7fbc41"
            ],
            [
             0.9,
             "#4d9221"
            ],
            [
             1,
             "#276419"
            ]
           ],
           "sequential": [
            [
             0,
             "#0d0887"
            ],
            [
             0.1111111111111111,
             "#46039f"
            ],
            [
             0.2222222222222222,
             "#7201a8"
            ],
            [
             0.3333333333333333,
             "#9c179e"
            ],
            [
             0.4444444444444444,
             "#bd3786"
            ],
            [
             0.5555555555555556,
             "#d8576b"
            ],
            [
             0.6666666666666666,
             "#ed7953"
            ],
            [
             0.7777777777777778,
             "#fb9f3a"
            ],
            [
             0.8888888888888888,
             "#fdca26"
            ],
            [
             1,
             "#f0f921"
            ]
           ],
           "sequentialminus": [
            [
             0,
             "#0d0887"
            ],
            [
             0.1111111111111111,
             "#46039f"
            ],
            [
             0.2222222222222222,
             "#7201a8"
            ],
            [
             0.3333333333333333,
             "#9c179e"
            ],
            [
             0.4444444444444444,
             "#bd3786"
            ],
            [
             0.5555555555555556,
             "#d8576b"
            ],
            [
             0.6666666666666666,
             "#ed7953"
            ],
            [
             0.7777777777777778,
             "#fb9f3a"
            ],
            [
             0.8888888888888888,
             "#fdca26"
            ],
            [
             1,
             "#f0f921"
            ]
           ]
          },
          "colorway": [
           "#636efa",
           "#EF553B",
           "#00cc96",
           "#ab63fa",
           "#FFA15A",
           "#19d3f3",
           "#FF6692",
           "#B6E880",
           "#FF97FF",
           "#FECB52"
          ],
          "font": {
           "color": "#2a3f5f"
          },
          "geo": {
           "bgcolor": "white",
           "lakecolor": "white",
           "landcolor": "#E5ECF6",
           "showlakes": true,
           "showland": true,
           "subunitcolor": "white"
          },
          "hoverlabel": {
           "align": "left"
          },
          "hovermode": "closest",
          "mapbox": {
           "style": "light"
          },
          "paper_bgcolor": "white",
          "plot_bgcolor": "#E5ECF6",
          "polar": {
           "angularaxis": {
            "gridcolor": "white",
            "linecolor": "white",
            "ticks": ""
           },
           "bgcolor": "#E5ECF6",
           "radialaxis": {
            "gridcolor": "white",
            "linecolor": "white",
            "ticks": ""
           }
          },
          "scene": {
           "xaxis": {
            "backgroundcolor": "#E5ECF6",
            "gridcolor": "white",
            "gridwidth": 2,
            "linecolor": "white",
            "showbackground": true,
            "ticks": "",
            "zerolinecolor": "white"
           },
           "yaxis": {
            "backgroundcolor": "#E5ECF6",
            "gridcolor": "white",
            "gridwidth": 2,
            "linecolor": "white",
            "showbackground": true,
            "ticks": "",
            "zerolinecolor": "white"
           },
           "zaxis": {
            "backgroundcolor": "#E5ECF6",
            "gridcolor": "white",
            "gridwidth": 2,
            "linecolor": "white",
            "showbackground": true,
            "ticks": "",
            "zerolinecolor": "white"
           }
          },
          "shapedefaults": {
           "line": {
            "color": "#2a3f5f"
           }
          },
          "ternary": {
           "aaxis": {
            "gridcolor": "white",
            "linecolor": "white",
            "ticks": ""
           },
           "baxis": {
            "gridcolor": "white",
            "linecolor": "white",
            "ticks": ""
           },
           "bgcolor": "#E5ECF6",
           "caxis": {
            "gridcolor": "white",
            "linecolor": "white",
            "ticks": ""
           }
          },
          "title": {
           "x": 0.05
          },
          "xaxis": {
           "automargin": true,
           "gridcolor": "white",
           "linecolor": "white",
           "ticks": "",
           "title": {
            "standoff": 15
           },
           "zerolinecolor": "white",
           "zerolinewidth": 2
          },
          "yaxis": {
           "automargin": true,
           "gridcolor": "white",
           "linecolor": "white",
           "ticks": "",
           "title": {
            "standoff": 15
           },
           "zerolinecolor": "white",
           "zerolinewidth": 2
          }
         }
        },
        "title": {
         "text": "Percentage of Delayed Flights per Weekday",
         "x": 0.5
        },
        "uniformtext": {
         "minsize": 4,
         "mode": "hide"
        },
        "xaxis": {
         "anchor": "y",
         "domain": [
          0,
          1
         ],
         "title": {
          "text": "Origin"
         }
        },
        "yaxis": {
         "anchor": "x",
         "domain": [
          0,
          1
         ],
         "title": {
          "text": "Percentage of Delayed"
         }
        }
       }
      },
      "text/html": [
       "<div>\n",
       "        \n",
       "        \n",
       "            <div id=\"28271dd7-6ca2-48c0-a2fa-6b99760312b2\" class=\"plotly-graph-div\" style=\"height:525px; width:100%;\"></div>\n",
       "            <script type=\"text/javascript\">\n",
       "                require([\"plotly\"], function(Plotly) {\n",
       "                    window.PLOTLYENV=window.PLOTLYENV || {};\n",
       "                    \n",
       "                if (document.getElementById(\"28271dd7-6ca2-48c0-a2fa-6b99760312b2\")) {\n",
       "                    Plotly.newPlot(\n",
       "                        '28271dd7-6ca2-48c0-a2fa-6b99760312b2',\n",
       "                        [{\"alignmentgroup\": \"True\", \"hovertemplate\": \"Weekday=%{x}<br>Percent of Delayed=%{y}<br>Flights=%{text}<extra></extra>\", \"legendgroup\": \"\", \"marker\": {\"color\": \"#636efa\", \"opacity\": 0.8}, \"name\": \"\", \"offsetgroup\": \"\", \"orientation\": \"v\", \"showlegend\": false, \"text\": [198357, 188883, 178319, 165307, 157563, 147966, 122888], \"textposition\": \"inside\", \"texttemplate\": \"%{text:,6}\", \"type\": \"bar\", \"x\": [\"Thursday\", \"Wednesday\", \"Friday\", \"Tuesday\", \"Monday\", \"Sunday\", \"Saturday\"], \"xaxis\": \"x\", \"y\": [0.16489965062992484, 0.13856196693191022, 0.16254016677975988, 0.13147658598849413, 0.1550681314775677, 0.1594082424340727, 0.17089544951500554], \"yaxis\": \"y\"}, {\"line\": {\"color\": \"red\", \"shape\": \"spline\", \"smoothing\": 1.2}, \"mode\": \"lines+markers\", \"opacity\": 0.3, \"showlegend\": false, \"type\": \"scatter\", \"x\": [\"Thursday\", \"Wednesday\", \"Friday\", \"Tuesday\", \"Monday\", \"Sunday\", \"Saturday\"], \"y\": [0.16489965062992484, 0.13856196693191022, 0.16254016677975988, 0.13147658598849413, 0.1550681314775677, 0.1594082424340727, 0.17089544951500554]}],\n",
       "                        {\"barmode\": \"relative\", \"legend\": {\"tracegroupgap\": 0}, \"margin\": {\"t\": 60}, \"template\": {\"data\": {\"bar\": [{\"error_x\": {\"color\": \"#2a3f5f\"}, \"error_y\": {\"color\": \"#2a3f5f\"}, \"marker\": {\"line\": {\"color\": \"#E5ECF6\", \"width\": 0.5}}, \"type\": \"bar\"}], \"barpolar\": [{\"marker\": {\"line\": {\"color\": \"#E5ECF6\", \"width\": 0.5}}, \"type\": \"barpolar\"}], \"carpet\": [{\"aaxis\": {\"endlinecolor\": \"#2a3f5f\", \"gridcolor\": \"white\", \"linecolor\": \"white\", \"minorgridcolor\": \"white\", \"startlinecolor\": \"#2a3f5f\"}, \"baxis\": {\"endlinecolor\": \"#2a3f5f\", \"gridcolor\": \"white\", \"linecolor\": \"white\", \"minorgridcolor\": \"white\", \"startlinecolor\": \"#2a3f5f\"}, \"type\": \"carpet\"}], \"choropleth\": [{\"colorbar\": {\"outlinewidth\": 0, \"ticks\": \"\"}, \"type\": \"choropleth\"}], \"contour\": [{\"colorbar\": {\"outlinewidth\": 0, \"ticks\": \"\"}, \"colorscale\": [[0.0, \"#0d0887\"], [0.1111111111111111, \"#46039f\"], [0.2222222222222222, \"#7201a8\"], [0.3333333333333333, \"#9c179e\"], [0.4444444444444444, \"#bd3786\"], [0.5555555555555556, \"#d8576b\"], [0.6666666666666666, \"#ed7953\"], [0.7777777777777778, \"#fb9f3a\"], [0.8888888888888888, \"#fdca26\"], [1.0, \"#f0f921\"]], \"type\": \"contour\"}], \"contourcarpet\": [{\"colorbar\": {\"outlinewidth\": 0, \"ticks\": \"\"}, \"type\": \"contourcarpet\"}], \"heatmap\": [{\"colorbar\": {\"outlinewidth\": 0, \"ticks\": \"\"}, \"colorscale\": [[0.0, \"#0d0887\"], [0.1111111111111111, \"#46039f\"], [0.2222222222222222, \"#7201a8\"], [0.3333333333333333, \"#9c179e\"], [0.4444444444444444, \"#bd3786\"], [0.5555555555555556, \"#d8576b\"], [0.6666666666666666, \"#ed7953\"], [0.7777777777777778, \"#fb9f3a\"], [0.8888888888888888, \"#fdca26\"], [1.0, \"#f0f921\"]], \"type\": \"heatmap\"}], \"heatmapgl\": [{\"colorbar\": {\"outlinewidth\": 0, \"ticks\": \"\"}, \"colorscale\": [[0.0, \"#0d0887\"], [0.1111111111111111, \"#46039f\"], [0.2222222222222222, \"#7201a8\"], [0.3333333333333333, \"#9c179e\"], [0.4444444444444444, \"#bd3786\"], [0.5555555555555556, \"#d8576b\"], [0.6666666666666666, \"#ed7953\"], [0.7777777777777778, \"#fb9f3a\"], [0.8888888888888888, \"#fdca26\"], [1.0, \"#f0f921\"]], \"type\": \"heatmapgl\"}], \"histogram\": [{\"marker\": {\"colorbar\": {\"outlinewidth\": 0, \"ticks\": \"\"}}, \"type\": \"histogram\"}], \"histogram2d\": [{\"colorbar\": {\"outlinewidth\": 0, \"ticks\": \"\"}, \"colorscale\": [[0.0, \"#0d0887\"], [0.1111111111111111, \"#46039f\"], [0.2222222222222222, \"#7201a8\"], [0.3333333333333333, \"#9c179e\"], [0.4444444444444444, \"#bd3786\"], [0.5555555555555556, \"#d8576b\"], [0.6666666666666666, \"#ed7953\"], [0.7777777777777778, \"#fb9f3a\"], [0.8888888888888888, \"#fdca26\"], [1.0, \"#f0f921\"]], \"type\": \"histogram2d\"}], \"histogram2dcontour\": [{\"colorbar\": {\"outlinewidth\": 0, \"ticks\": \"\"}, \"colorscale\": [[0.0, \"#0d0887\"], [0.1111111111111111, \"#46039f\"], [0.2222222222222222, \"#7201a8\"], [0.3333333333333333, \"#9c179e\"], [0.4444444444444444, \"#bd3786\"], [0.5555555555555556, \"#d8576b\"], [0.6666666666666666, \"#ed7953\"], [0.7777777777777778, \"#fb9f3a\"], [0.8888888888888888, \"#fdca26\"], [1.0, \"#f0f921\"]], \"type\": \"histogram2dcontour\"}], \"mesh3d\": [{\"colorbar\": {\"outlinewidth\": 0, \"ticks\": \"\"}, \"type\": \"mesh3d\"}], \"parcoords\": [{\"line\": {\"colorbar\": {\"outlinewidth\": 0, \"ticks\": \"\"}}, \"type\": \"parcoords\"}], \"pie\": [{\"automargin\": true, \"type\": \"pie\"}], \"scatter\": [{\"marker\": {\"colorbar\": {\"outlinewidth\": 0, \"ticks\": \"\"}}, \"type\": \"scatter\"}], \"scatter3d\": [{\"line\": {\"colorbar\": {\"outlinewidth\": 0, \"ticks\": \"\"}}, \"marker\": {\"colorbar\": {\"outlinewidth\": 0, \"ticks\": \"\"}}, \"type\": \"scatter3d\"}], \"scattercarpet\": [{\"marker\": {\"colorbar\": {\"outlinewidth\": 0, \"ticks\": \"\"}}, \"type\": \"scattercarpet\"}], \"scattergeo\": [{\"marker\": {\"colorbar\": {\"outlinewidth\": 0, \"ticks\": \"\"}}, \"type\": \"scattergeo\"}], \"scattergl\": [{\"marker\": {\"colorbar\": {\"outlinewidth\": 0, \"ticks\": \"\"}}, \"type\": \"scattergl\"}], \"scattermapbox\": [{\"marker\": {\"colorbar\": {\"outlinewidth\": 0, \"ticks\": \"\"}}, \"type\": \"scattermapbox\"}], \"scatterpolar\": [{\"marker\": {\"colorbar\": {\"outlinewidth\": 0, \"ticks\": \"\"}}, \"type\": \"scatterpolar\"}], \"scatterpolargl\": [{\"marker\": {\"colorbar\": {\"outlinewidth\": 0, \"ticks\": \"\"}}, \"type\": \"scatterpolargl\"}], \"scatterternary\": [{\"marker\": {\"colorbar\": {\"outlinewidth\": 0, \"ticks\": \"\"}}, \"type\": \"scatterternary\"}], \"surface\": [{\"colorbar\": {\"outlinewidth\": 0, \"ticks\": \"\"}, \"colorscale\": [[0.0, \"#0d0887\"], [0.1111111111111111, \"#46039f\"], [0.2222222222222222, \"#7201a8\"], [0.3333333333333333, \"#9c179e\"], [0.4444444444444444, \"#bd3786\"], [0.5555555555555556, \"#d8576b\"], [0.6666666666666666, \"#ed7953\"], [0.7777777777777778, \"#fb9f3a\"], [0.8888888888888888, \"#fdca26\"], [1.0, \"#f0f921\"]], \"type\": \"surface\"}], \"table\": [{\"cells\": {\"fill\": {\"color\": \"#EBF0F8\"}, \"line\": {\"color\": \"white\"}}, \"header\": {\"fill\": {\"color\": \"#C8D4E3\"}, \"line\": {\"color\": \"white\"}}, \"type\": \"table\"}]}, \"layout\": {\"annotationdefaults\": {\"arrowcolor\": \"#2a3f5f\", \"arrowhead\": 0, \"arrowwidth\": 1}, \"coloraxis\": {\"colorbar\": {\"outlinewidth\": 0, \"ticks\": \"\"}}, \"colorscale\": {\"diverging\": [[0, \"#8e0152\"], [0.1, \"#c51b7d\"], [0.2, \"#de77ae\"], [0.3, \"#f1b6da\"], [0.4, \"#fde0ef\"], [0.5, \"#f7f7f7\"], [0.6, \"#e6f5d0\"], [0.7, \"#b8e186\"], [0.8, \"#7fbc41\"], [0.9, \"#4d9221\"], [1, \"#276419\"]], \"sequential\": [[0.0, \"#0d0887\"], [0.1111111111111111, \"#46039f\"], [0.2222222222222222, \"#7201a8\"], [0.3333333333333333, \"#9c179e\"], [0.4444444444444444, \"#bd3786\"], [0.5555555555555556, \"#d8576b\"], [0.6666666666666666, \"#ed7953\"], [0.7777777777777778, \"#fb9f3a\"], [0.8888888888888888, \"#fdca26\"], [1.0, \"#f0f921\"]], \"sequentialminus\": [[0.0, \"#0d0887\"], [0.1111111111111111, \"#46039f\"], [0.2222222222222222, \"#7201a8\"], [0.3333333333333333, \"#9c179e\"], [0.4444444444444444, \"#bd3786\"], [0.5555555555555556, \"#d8576b\"], [0.6666666666666666, \"#ed7953\"], [0.7777777777777778, \"#fb9f3a\"], [0.8888888888888888, \"#fdca26\"], [1.0, \"#f0f921\"]]}, \"colorway\": [\"#636efa\", \"#EF553B\", \"#00cc96\", \"#ab63fa\", \"#FFA15A\", \"#19d3f3\", \"#FF6692\", \"#B6E880\", \"#FF97FF\", \"#FECB52\"], \"font\": {\"color\": \"#2a3f5f\"}, \"geo\": {\"bgcolor\": \"white\", \"lakecolor\": \"white\", \"landcolor\": \"#E5ECF6\", \"showlakes\": true, \"showland\": true, \"subunitcolor\": \"white\"}, \"hoverlabel\": {\"align\": \"left\"}, \"hovermode\": \"closest\", \"mapbox\": {\"style\": \"light\"}, \"paper_bgcolor\": \"white\", \"plot_bgcolor\": \"#E5ECF6\", \"polar\": {\"angularaxis\": {\"gridcolor\": \"white\", \"linecolor\": \"white\", \"ticks\": \"\"}, \"bgcolor\": \"#E5ECF6\", \"radialaxis\": {\"gridcolor\": \"white\", \"linecolor\": \"white\", \"ticks\": \"\"}}, \"scene\": {\"xaxis\": {\"backgroundcolor\": \"#E5ECF6\", \"gridcolor\": \"white\", \"gridwidth\": 2, \"linecolor\": \"white\", \"showbackground\": true, \"ticks\": \"\", \"zerolinecolor\": \"white\"}, \"yaxis\": {\"backgroundcolor\": \"#E5ECF6\", \"gridcolor\": \"white\", \"gridwidth\": 2, \"linecolor\": \"white\", \"showbackground\": true, \"ticks\": \"\", \"zerolinecolor\": \"white\"}, \"zaxis\": {\"backgroundcolor\": \"#E5ECF6\", \"gridcolor\": \"white\", \"gridwidth\": 2, \"linecolor\": \"white\", \"showbackground\": true, \"ticks\": \"\", \"zerolinecolor\": \"white\"}}, \"shapedefaults\": {\"line\": {\"color\": \"#2a3f5f\"}}, \"ternary\": {\"aaxis\": {\"gridcolor\": \"white\", \"linecolor\": \"white\", \"ticks\": \"\"}, \"baxis\": {\"gridcolor\": \"white\", \"linecolor\": \"white\", \"ticks\": \"\"}, \"bgcolor\": \"#E5ECF6\", \"caxis\": {\"gridcolor\": \"white\", \"linecolor\": \"white\", \"ticks\": \"\"}}, \"title\": {\"x\": 0.05}, \"xaxis\": {\"automargin\": true, \"gridcolor\": \"white\", \"linecolor\": \"white\", \"ticks\": \"\", \"title\": {\"standoff\": 15}, \"zerolinecolor\": \"white\", \"zerolinewidth\": 2}, \"yaxis\": {\"automargin\": true, \"gridcolor\": \"white\", \"linecolor\": \"white\", \"ticks\": \"\", \"title\": {\"standoff\": 15}, \"zerolinecolor\": \"white\", \"zerolinewidth\": 2}}}, \"title\": {\"text\": \"Percentage of Delayed Flights per Weekday\", \"x\": 0.5}, \"uniformtext\": {\"minsize\": 4, \"mode\": \"hide\"}, \"xaxis\": {\"anchor\": \"y\", \"domain\": [0.0, 1.0], \"title\": {\"text\": \"Origin\"}}, \"yaxis\": {\"anchor\": \"x\", \"domain\": [0.0, 1.0], \"title\": {\"text\": \"Percentage of Delayed\"}}},\n",
       "                        {\"responsive\": true}\n",
       "                    ).then(function(){\n",
       "                            \n",
       "var gd = document.getElementById('28271dd7-6ca2-48c0-a2fa-6b99760312b2');\n",
       "var x = new MutationObserver(function (mutations, observer) {{\n",
       "        var display = window.getComputedStyle(gd).display;\n",
       "        if (!display || display === 'none') {{\n",
       "            console.log([gd, 'removed!']);\n",
       "            Plotly.purge(gd);\n",
       "            observer.disconnect();\n",
       "        }}\n",
       "}});\n",
       "\n",
       "// Listen for the removal of the full notebook cells\n",
       "var notebookContainer = gd.closest('#notebook-container');\n",
       "if (notebookContainer) {{\n",
       "    x.observe(notebookContainer, {childList: true});\n",
       "}}\n",
       "\n",
       "// Listen for the clearing of the current output cell\n",
       "var outputEl = gd.closest('.output');\n",
       "if (outputEl) {{\n",
       "    x.observe(outputEl, {childList: true});\n",
       "}}\n",
       "\n",
       "                        })\n",
       "                };\n",
       "                });\n",
       "            </script>\n",
       "        </div>"
      ]
     },
     "metadata": {},
     "output_type": "display_data"
    }
   ],
   "source": [
    "fig = px.bar(df_weekday, y=\"Percent of Delayed\", x='Weekday', text='Flights', opacity = 0.8)\n",
    "fig.update_traces(texttemplate='%{text:,6}', textposition='inside')\n",
    "fig.update_layout(uniformtext_minsize=4, uniformtext_mode='hide', title_x = 0.5,title_text='Percentage of Delayed Flights per Weekday', yaxis=dict(title='Percentage of Delayed'),\n",
    "                  xaxis=dict(title='Origin'))\n",
    "# fig.add_annotation( x='WN', y=100000, text=\"Highest OP CARRIER - WN\",showarrow=True, font=dict( family=\"Courier New, monospace\", size=10, color=\"#ffffff\" ), align=\"right\", arrowhead=2, arrowsize=1, arrowwidth=2, arrowcolor=\"#636363\", ax=120, ay=0, bordercolor=\"#c7c7c7\", borderwidth=2, borderpad=4, bgcolor=\"#ff7f0e\", opacity=0.8)\n",
    "\n",
    "fig.add_trace(go.Scatter(x=df_weekday['Weekday'], y=df_weekday['Percent of Delayed'],\n",
    "                    mode='lines+markers',opacity = 0.3,showlegend=False,\n",
    "                   line = dict(\n",
    "        smoothing = 1.2, color = 'red',\n",
    "        shape = \"spline\"\n",
    "    )))\n",
    "\n",
    "fig.show()"
   ]
  },
  {
   "cell_type": "code",
   "execution_count": null,
   "metadata": {},
   "outputs": [],
   "source": []
  }
 ],
 "metadata": {
  "kernelspec": {
   "display_name": "Python 3",
   "language": "python",
   "name": "python3"
  },
  "language_info": {
   "codemirror_mode": {
    "name": "ipython",
    "version": 3
   },
   "file_extension": ".py",
   "mimetype": "text/x-python",
   "name": "python",
   "nbconvert_exporter": "python",
   "pygments_lexer": "ipython3",
   "version": "3.7.6"
  }
 },
 "nbformat": 4,
 "nbformat_minor": 4
}
