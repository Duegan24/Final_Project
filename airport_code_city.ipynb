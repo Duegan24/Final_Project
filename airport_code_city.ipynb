{
 "cells": [
  {
   "cell_type": "code",
   "execution_count": 1,
   "metadata": {},
   "outputs": [],
   "source": [
    "import pandas as pd"
   ]
  },
  {
   "cell_type": "code",
   "execution_count": 2,
   "metadata": {},
   "outputs": [],
   "source": [
    "flight_data_df = pd.read_csv(\"flight_data_files/jan_2019_ontime.csv\")"
   ]
  },
  {
   "cell_type": "code",
   "execution_count": 3,
   "metadata": {},
   "outputs": [
    {
     "name": "stdout",
     "output_type": "stream",
     "text": [
      "Number of rows in the 2019 data file is: 583985\n"
     ]
    }
   ],
   "source": [
    "print(f\"Number of rows in the 2019 data file is: {len(flight_data_df)}\")"
   ]
  },
  {
   "cell_type": "code",
   "execution_count": 4,
   "metadata": {},
   "outputs": [],
   "source": [
    "flight_data_df_list = [flight_data_df]"
   ]
  },
  {
   "cell_type": "code",
   "execution_count": 5,
   "metadata": {},
   "outputs": [],
   "source": [
    "flight_data_df = pd.read_csv(\"flight_data_files/jan_2020_ontime.csv\")"
   ]
  },
  {
   "cell_type": "code",
   "execution_count": 6,
   "metadata": {},
   "outputs": [
    {
     "name": "stdout",
     "output_type": "stream",
     "text": [
      "Number of rows in the 2020 data file is: 607346\n"
     ]
    }
   ],
   "source": [
    "print(f\"Number of rows in the 2020 data file is: {len(flight_data_df)}\")"
   ]
  },
  {
   "cell_type": "code",
   "execution_count": 7,
   "metadata": {},
   "outputs": [],
   "source": [
    "flight_data_df_list.append(flight_data_df)"
   ]
  },
  {
   "cell_type": "code",
   "execution_count": 8,
   "metadata": {},
   "outputs": [],
   "source": [
    "flight_data_df = pd.concat(flight_data_df_list, axis=0, ignore_index=True)"
   ]
  },
  {
   "cell_type": "code",
   "execution_count": 9,
   "metadata": {},
   "outputs": [
    {
     "name": "stdout",
     "output_type": "stream",
     "text": [
      "Number of rows in the combined data file is: 1191331\n"
     ]
    }
   ],
   "source": [
    "print(f\"Number of rows in the combined data file is: {len(flight_data_df)}\")"
   ]
  },
  {
   "cell_type": "code",
   "execution_count": 10,
   "metadata": {},
   "outputs": [
    {
     "data": {
      "text/plain": [
       "DAY_OF_MONTH               31\n",
       "DAY_OF_WEEK                 7\n",
       "OP_UNIQUE_CARRIER          17\n",
       "OP_CARRIER_AIRLINE_ID      17\n",
       "OP_CARRIER                 17\n",
       "TAIL_NUM                 5857\n",
       "OP_CARRIER_FL_NUM        6997\n",
       "ORIGIN_AIRPORT_ID         353\n",
       "ORIGIN_AIRPORT_SEQ_ID     373\n",
       "ORIGIN                    353\n",
       "DEST_AIRPORT_ID           353\n",
       "DEST_AIRPORT_SEQ_ID       373\n",
       "DEST                      353\n",
       "DEP_TIME                 1440\n",
       "DEP_DEL15                   2\n",
       "DEP_TIME_BLK               19\n",
       "ARR_TIME                 1440\n",
       "ARR_DEL15                   2\n",
       "CANCELLED                   2\n",
       "DIVERTED                    2\n",
       "DISTANCE                 1512\n",
       "Unnamed: 21                 0\n",
       "dtype: int64"
      ]
     },
     "execution_count": 10,
     "metadata": {},
     "output_type": "execute_result"
    }
   ],
   "source": [
    "flight_data_df.nunique()"
   ]
  },
  {
   "cell_type": "code",
   "execution_count": 11,
   "metadata": {},
   "outputs": [],
   "source": [
    "airport_ORIGIN_code_list = flight_data_df[\"ORIGIN\"].unique().tolist()"
   ]
  },
  {
   "cell_type": "code",
   "execution_count": 12,
   "metadata": {},
   "outputs": [
    {
     "name": "stdout",
     "output_type": "stream",
     "text": [
      "Number of ORIGIN airport codes in the data file is: 353\n"
     ]
    }
   ],
   "source": [
    "print(f\"Number of ORIGIN airport codes in the data file is: {len(airport_ORIGIN_code_list)}\")"
   ]
  },
  {
   "cell_type": "code",
   "execution_count": 13,
   "metadata": {},
   "outputs": [],
   "source": [
    "airport_DEST_code_list = flight_data_df[\"DEST\"].unique().tolist()"
   ]
  },
  {
   "cell_type": "code",
   "execution_count": 14,
   "metadata": {},
   "outputs": [
    {
     "name": "stdout",
     "output_type": "stream",
     "text": [
      "Number of DEST airport codes in the data file is: 353\n"
     ]
    }
   ],
   "source": [
    "print(f\"Number of DEST airport codes in the data file is: {len(airport_DEST_code_list)}\")"
   ]
  },
  {
   "cell_type": "code",
   "execution_count": 15,
   "metadata": {},
   "outputs": [],
   "source": [
    "airport_code_list = airport_ORIGIN_code_list \n",
    "    \n",
    "for airport_code in airport_DEST_code_list:\n",
    "    if airport_code not in airport_code_list:\n",
    "        airport_code_list.append(airport_code)"
   ]
  },
  {
   "cell_type": "code",
   "execution_count": 16,
   "metadata": {},
   "outputs": [
    {
     "name": "stdout",
     "output_type": "stream",
     "text": [
      "Number of unique airport codes in the data file is: 353\n"
     ]
    }
   ],
   "source": [
    "print(f\"Number of unique airport codes in the data file is: {len(airport_code_list)}\")"
   ]
  },
  {
   "cell_type": "code",
   "execution_count": 17,
   "metadata": {},
   "outputs": [],
   "source": [
    "import io\n",
    "\n",
    "airport_code_city_dict = {}\n",
    "airport_codes_found_cnt = 0\n",
    "\n",
    "with io.open(\"flight_data_files/airport_codes_city_raw.txt\", 'rt', newline='\\r\\n') as f:\n",
    "    line = f.readline()[0:-2]\n",
    "    while line != 'Canadian Provinces':\n",
    "        \n",
    "        if len(line.strip()) > 1 and line not in ['return to top']:\n",
    "            \n",
    "            line_split    = line.split('(')\n",
    "            city          = line_split[0].rstrip()\n",
    "            airport_code  = line_split[1][0:3]\n",
    "            \n",
    "            if airport_code in airport_code_list:\n",
    "                \n",
    "                if airport_code in airport_code_city_dict:\n",
    "                    if city.find(\"/\") == -1:\n",
    "                        current_city = airport_code_city_dict[airport_code]\n",
    "                        comma_index  = current_city.index(\",\")\n",
    "                        airport_code_city_dict[airport_code] = current_city[:comma_index] + \"/\" + city + current_city[comma_index:]\n",
    "                else:\n",
    "                    airport_code_city_dict[airport_code] = city\n",
    "                \n",
    "                airport_codes_found_cnt += 1\n",
    "            \n",
    "        line = f.readline()[0:-2]"
   ]
  },
  {
   "cell_type": "code",
   "execution_count": 18,
   "metadata": {},
   "outputs": [
    {
     "name": "stdout",
     "output_type": "stream",
     "text": [
      "The number of airport codes found is: 363\n"
     ]
    }
   ],
   "source": [
    "print(f\"The number of airport codes found is: {airport_codes_found_cnt}\")"
   ]
  },
  {
   "cell_type": "code",
   "execution_count": 19,
   "metadata": {},
   "outputs": [
    {
     "name": "stdout",
     "output_type": "stream",
     "text": [
      "Airport code: CAK cities Akron/Canton, OH\n",
      "Airport code: ABE cities Allentown/Bethlehem/Easton, PA, PA, PA\n",
      "Airport code: AVL cities Asheville/Hendersonville, NC, NC\n",
      "Airport code: HTS cities Ashland, KY/Huntington, WV\n",
      "Airport code: MBS cities Bay City/Midland/Saginaw, MI, MI, MI\n",
      "Airport code: BPT cities Beaumont/Port Arthur, TX\n",
      "Airport code: GPT cities Biloxi/Gulfport/Gulfport, MS, MS\n",
      "Airport code: BGM cities Binghamton/Endicott/Johnson City, NY, NY, NY\n",
      "Airport code: TRI cities Bristol/Johnson City/Kingsport, TN, TN, VA\n",
      "Airport code: MRY cities Carmel/Monterey, CA, CA\n",
      "Airport code: CMI cities Champaign/Urbana, IL\n",
      "Airport code: HIB cities Chisholm/Hibbing, MN\n",
      "Airport code: PIE cities Clearwater/St Petersburg, FL\n",
      "Airport code: COD cities Cody/Yellowstone, WY\n",
      "Airport code: DFW cities Dallas/Fort Worth, TX\n",
      "Airport code: DTW cities Detroit, MI - Metro/Wayne County\n",
      "Airport code: VPS cities Fort Walton Beach/Valparaiso, FL, FL\n",
      "Airport code: GGG cities Gladewater/Kilgore/Longview, TX, TX\n",
      "Airport code: GSO cities Greensboro/High Point, NC, NC\n",
      "Airport code: GSP cities Greenville/Spartanburg, SC\n",
      "Airport code: SUN cities Hailey/Sun Valley, ID, ID\n",
      "Airport code: PHF cities Hampton/Newport News/Williamsburg, VA, VA, VA\n",
      "Airport code: BDL cities Hartford/Windsor Locks, CT, CT\n",
      "Airport code: HOU cities Houston/Houston, TX - Hobby, TX - All airports\n",
      "Airport code: OGG cities Kahului/Maui, HI, HI - Island of Maui,\n",
      "Airport code: LIH cities Kauai Island/Lihue/Lihue, HI - Island of Kaui, HI\n",
      "Airport code: MFE cities Mcallen/Mission, TX, TX\n",
      "Airport code: MAF cities Midland/Odessa, TX\n",
      "Airport code: SWF cities Newburgh/Stewart Field, NY\n",
      "Airport code: SNA cities Orange County/Santa Ana, CA, CA\n",
      "Airport code: TTN cities Philadelphia, PA - Trenton/Mercer NJ\n",
      "Airport code: SCC cities Prudhoe Bay/Deadhorse, AK\n",
      "Airport code: AVP cities Scranton/Wilkes Barre, PA, PA\n",
      "Airport code: SEA cities Seattle, WA - Seattle/Tacoma International\n",
      "Airport code: SCE cities State College/University Park, PA\n",
      "Airport code: CWA cities Stevens Point/Wausau, WI\n"
     ]
    }
   ],
   "source": [
    "for airport_code in airport_code_city_dict:\n",
    "    city = airport_code_city_dict[airport_code]\n",
    "    if city.find(\"/\") > -1:\n",
    "        print(f\"Airport code: {airport_code} cities {city}\")"
   ]
  },
  {
   "cell_type": "code",
   "execution_count": 20,
   "metadata": {},
   "outputs": [
    {
     "name": "stdout",
     "output_type": "stream",
     "text": [
      "Airport code: CAK cities Akron/Canton, OH\n",
      "Airport code: ABE cities Allentown/Bethlehem/Easton, PA\n",
      "Airport code: AVL cities Asheville/Hendersonville, NC\n",
      "Airport code: HTS cities Ashland, KY/Huntington, WV\n",
      "Airport code: MBS cities Bay City/Midland/Saginaw, MI\n",
      "Airport code: BPT cities Beaumont/Port Arthur, TX\n",
      "Airport code: GPT cities Biloxi/Gulfport/Gulfport, MS\n",
      "Airport code: BGM cities Binghamton/Endicott/Johnson City, NY\n",
      "Airport code: TRI cities Bristol/Johnson City/Kingsport, TN, VA\n",
      "Airport code: MRY cities Carmel/Monterey, CA\n",
      "Airport code: CMI cities Champaign/Urbana, IL\n",
      "Airport code: HIB cities Chisholm/Hibbing, MN\n",
      "Airport code: PIE cities Clearwater/St Petersburg, FL\n",
      "Airport code: COD cities Cody/Yellowstone, WY\n",
      "Airport code: DFW cities Dallas/Fort Worth, TX\n",
      "Airport code: DTW cities Detroit, MI - Metro/Wayne County\n",
      "Airport code: VPS cities Fort Walton Beach/Valparaiso, FL\n",
      "Airport code: GGG cities Gladewater/Kilgore/Longview, TX\n",
      "Airport code: GSO cities Greensboro/High Point, NC\n",
      "Airport code: GSP cities Greenville/Spartanburg, SC\n",
      "Airport code: SUN cities Hailey/Sun Valley, ID\n",
      "Airport code: PHF cities Hampton/Newport News/Williamsburg, VA\n",
      "Airport code: BDL cities Hartford/Windsor Locks, CT\n",
      "Airport code: HOU cities Houston/Houston, TX - Hobby, TX - All airports\n",
      "Airport code: OGG cities Kahului/Maui, HI, HI - Island of Maui,\n",
      "Airport code: LIH cities Kauai Island/Lihue/Lihue, HI - Island of Kaui, HI\n",
      "Airport code: MFE cities Mcallen/Mission, TX\n",
      "Airport code: MAF cities Midland/Odessa, TX\n",
      "Airport code: SWF cities Newburgh/Stewart Field, NY\n",
      "Airport code: SNA cities Orange County/Santa Ana, CA\n",
      "Airport code: TTN cities Philadelphia, PA - Trenton/Mercer NJ\n",
      "Airport code: SCC cities Prudhoe Bay/Deadhorse, AK\n",
      "Airport code: AVP cities Scranton/Wilkes Barre, PA\n",
      "Airport code: SEA cities Seattle, WA - Seattle/Tacoma International\n",
      "Airport code: SCE cities State College/University Park, PA\n",
      "Airport code: CWA cities Stevens Point/Wausau, WI\n"
     ]
    }
   ],
   "source": [
    "for airport_code in airport_code_city_dict:\n",
    "    \n",
    "    city = airport_code_city_dict[airport_code]\n",
    "    \n",
    "    if city.find(\"/\") > -1:\n",
    "        city_split = city.split(\",\")\n",
    "        split_length = len(city_split)\n",
    "        city = city_split[0] + \",\" + city_split[1]\n",
    "        \n",
    "        if (split_length > 2 and city_split[1] != city_split[2]):\n",
    "            city = city + \",\" + city_split[2]\n",
    "        \n",
    "        if (split_length > 3 and city_split[2] != city_split[3]):\n",
    "            city = city + \",\" + city_split[3]\n",
    "            \n",
    "        if (split_length > 4 and city_split[3] != city_split[4]):\n",
    "            city = city + \",\" + city_split[3]\n",
    "            \n",
    "        if (split_length > 5 and city_split[4] != city_split[4]):\n",
    "            city = city + \",\" + city_split[4]\n",
    "           \n",
    "        airport_code_city_dict[airport_code] = city\n",
    "        \n",
    "        print(f\"Airport code: {airport_code} cities {city}\")"
   ]
  },
  {
   "cell_type": "code",
   "execution_count": 21,
   "metadata": {},
   "outputs": [],
   "source": [
    "airport_code_city_dict[\"DTW\"] = \"Detroit, MI\"\n",
    "airport_code_city_dict[\"HOU\"] = \"Hobby-Houston, TX\"\n",
    "airport_code_city_dict[\"OGG\"] = \"Kahului - Maui, HI\"\n",
    "airport_code_city_dict[\"LIH\"] = \"Lihue - Kauai, HI\"\n",
    "airport_code_city_dict[\"TTN\"] = \"Trenton/Mercer NJ\"\n",
    "airport_code_city_dict[\"SEA\"] = \"Seattle/Tacoma, WA\"\n",
    "airport_code_city_dict[\"TRI\"] = \"Bristol, TN/Johnson City/Kingsport, VA\""
   ]
  },
  {
   "cell_type": "code",
   "execution_count": 22,
   "metadata": {},
   "outputs": [],
   "source": [
    "airport_city_code_df = pd.DataFrame.from_dict(airport_code_city_dict, orient=\"index\", columns=[\"City\"])"
   ]
  },
  {
   "cell_type": "code",
   "execution_count": 23,
   "metadata": {},
   "outputs": [
    {
     "data": {
      "text/html": [
       "<div>\n",
       "<style scoped>\n",
       "    .dataframe tbody tr th:only-of-type {\n",
       "        vertical-align: middle;\n",
       "    }\n",
       "\n",
       "    .dataframe tbody tr th {\n",
       "        vertical-align: top;\n",
       "    }\n",
       "\n",
       "    .dataframe thead th {\n",
       "        text-align: right;\n",
       "    }\n",
       "</style>\n",
       "<table border=\"1\" class=\"dataframe\">\n",
       "  <thead>\n",
       "    <tr style=\"text-align: right;\">\n",
       "      <th></th>\n",
       "      <th>City</th>\n",
       "    </tr>\n",
       "  </thead>\n",
       "  <tbody>\n",
       "    <tr>\n",
       "      <th>ABR</th>\n",
       "      <td>Aberdeen, SD</td>\n",
       "    </tr>\n",
       "    <tr>\n",
       "      <th>ABI</th>\n",
       "      <td>Abilene, TX</td>\n",
       "    </tr>\n",
       "    <tr>\n",
       "      <th>ADK</th>\n",
       "      <td>Adak Island, AK</td>\n",
       "    </tr>\n",
       "    <tr>\n",
       "      <th>CAK</th>\n",
       "      <td>Akron/Canton, OH</td>\n",
       "    </tr>\n",
       "    <tr>\n",
       "      <th>ALB</th>\n",
       "      <td>Albany, NY</td>\n",
       "    </tr>\n",
       "    <tr>\n",
       "      <th>...</th>\n",
       "      <td>...</td>\n",
       "    </tr>\n",
       "    <tr>\n",
       "      <th>ILM</th>\n",
       "      <td>Wilmington, NC</td>\n",
       "    </tr>\n",
       "    <tr>\n",
       "      <th>ORH</th>\n",
       "      <td>Worcester, MA</td>\n",
       "    </tr>\n",
       "    <tr>\n",
       "      <th>WRG</th>\n",
       "      <td>Wrangell, AK</td>\n",
       "    </tr>\n",
       "    <tr>\n",
       "      <th>YAK</th>\n",
       "      <td>Yakutat, AK</td>\n",
       "    </tr>\n",
       "    <tr>\n",
       "      <th>YUM</th>\n",
       "      <td>Yuma, AZ</td>\n",
       "    </tr>\n",
       "  </tbody>\n",
       "</table>\n",
       "<p>322 rows × 1 columns</p>\n",
       "</div>"
      ],
      "text/plain": [
       "                 City\n",
       "ABR      Aberdeen, SD\n",
       "ABI       Abilene, TX\n",
       "ADK   Adak Island, AK\n",
       "CAK  Akron/Canton, OH\n",
       "ALB        Albany, NY\n",
       "..                ...\n",
       "ILM    Wilmington, NC\n",
       "ORH     Worcester, MA\n",
       "WRG      Wrangell, AK\n",
       "YAK       Yakutat, AK\n",
       "YUM          Yuma, AZ\n",
       "\n",
       "[322 rows x 1 columns]"
      ]
     },
     "execution_count": 23,
     "metadata": {},
     "output_type": "execute_result"
    }
   ],
   "source": [
    "airport_city_code_df.head(400)"
   ]
  },
  {
   "cell_type": "code",
   "execution_count": 24,
   "metadata": {},
   "outputs": [],
   "source": [
    "airport_city_code_df.reset_index(inplace=True)\n",
    "airport_city_code_df.rename(columns={\"index\":\"Airport Code\"}, inplace=True)"
   ]
  },
  {
   "cell_type": "code",
   "execution_count": 25,
   "metadata": {},
   "outputs": [
    {
     "data": {
      "text/html": [
       "<div>\n",
       "<style scoped>\n",
       "    .dataframe tbody tr th:only-of-type {\n",
       "        vertical-align: middle;\n",
       "    }\n",
       "\n",
       "    .dataframe tbody tr th {\n",
       "        vertical-align: top;\n",
       "    }\n",
       "\n",
       "    .dataframe thead th {\n",
       "        text-align: right;\n",
       "    }\n",
       "</style>\n",
       "<table border=\"1\" class=\"dataframe\">\n",
       "  <thead>\n",
       "    <tr style=\"text-align: right;\">\n",
       "      <th></th>\n",
       "      <th>Airport Code</th>\n",
       "      <th>City</th>\n",
       "    </tr>\n",
       "  </thead>\n",
       "  <tbody>\n",
       "    <tr>\n",
       "      <th>0</th>\n",
       "      <td>ABR</td>\n",
       "      <td>Aberdeen, SD</td>\n",
       "    </tr>\n",
       "    <tr>\n",
       "      <th>1</th>\n",
       "      <td>ABI</td>\n",
       "      <td>Abilene, TX</td>\n",
       "    </tr>\n",
       "    <tr>\n",
       "      <th>2</th>\n",
       "      <td>ADK</td>\n",
       "      <td>Adak Island, AK</td>\n",
       "    </tr>\n",
       "    <tr>\n",
       "      <th>3</th>\n",
       "      <td>CAK</td>\n",
       "      <td>Akron/Canton, OH</td>\n",
       "    </tr>\n",
       "    <tr>\n",
       "      <th>4</th>\n",
       "      <td>ALB</td>\n",
       "      <td>Albany, NY</td>\n",
       "    </tr>\n",
       "  </tbody>\n",
       "</table>\n",
       "</div>"
      ],
      "text/plain": [
       "  Airport Code              City\n",
       "0          ABR      Aberdeen, SD\n",
       "1          ABI       Abilene, TX\n",
       "2          ADK   Adak Island, AK\n",
       "3          CAK  Akron/Canton, OH\n",
       "4          ALB        Albany, NY"
      ]
     },
     "execution_count": 25,
     "metadata": {},
     "output_type": "execute_result"
    }
   ],
   "source": [
    "airport_city_code_df.head()"
   ]
  },
  {
   "cell_type": "code",
   "execution_count": 26,
   "metadata": {},
   "outputs": [],
   "source": [
    "airport_city_code_df.to_csv(\"flight_data_files/airport_codes_city.csv\", index=False)"
   ]
  },
  {
   "cell_type": "code",
   "execution_count": null,
   "metadata": {},
   "outputs": [],
   "source": []
  }
 ],
 "metadata": {
  "kernelspec": {
   "display_name": "mlenv",
   "language": "python",
   "name": "mlenv"
  },
  "language_info": {
   "codemirror_mode": {
    "name": "ipython",
    "version": 3
   },
   "file_extension": ".py",
   "mimetype": "text/x-python",
   "name": "python",
   "nbconvert_exporter": "python",
   "pygments_lexer": "ipython3",
   "version": "3.7.7"
  }
 },
 "nbformat": 4,
 "nbformat_minor": 4
}
