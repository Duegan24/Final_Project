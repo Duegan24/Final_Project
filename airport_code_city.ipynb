{
 "cells": [
  {
   "cell_type": "markdown",
   "metadata": {},
   "source": [
    "# Imports"
   ]
  },
  {
   "cell_type": "code",
   "execution_count": 1,
   "metadata": {},
   "outputs": [],
   "source": [
    "import pandas as pd"
   ]
  },
  {
   "cell_type": "markdown",
   "metadata": {},
   "source": [
    "# Import Flight Data"
   ]
  },
  {
   "cell_type": "code",
   "execution_count": 2,
   "metadata": {},
   "outputs": [],
   "source": [
    "flight_data_df = pd.read_csv(\"flight_data_files/jan_2019_ontime.csv\")"
   ]
  },
  {
   "cell_type": "code",
   "execution_count": 3,
   "metadata": {},
   "outputs": [
    {
     "name": "stdout",
     "output_type": "stream",
     "text": [
      "Number of rows in the 2019 data file is: 583985\n"
     ]
    }
   ],
   "source": [
    "print(f\"Number of rows in the 2019 data file is: {len(flight_data_df)}\")"
   ]
  },
  {
   "cell_type": "code",
   "execution_count": 4,
   "metadata": {},
   "outputs": [],
   "source": [
    "flight_data_df_list = [flight_data_df]"
   ]
  },
  {
   "cell_type": "code",
   "execution_count": 5,
   "metadata": {},
   "outputs": [],
   "source": [
    "flight_data_df = pd.read_csv(\"flight_data_files/jan_2020_ontime.csv\")"
   ]
  },
  {
   "cell_type": "code",
   "execution_count": 6,
   "metadata": {},
   "outputs": [
    {
     "name": "stdout",
     "output_type": "stream",
     "text": [
      "Number of rows in the 2020 data file is: 607346\n"
     ]
    }
   ],
   "source": [
    "print(f\"Number of rows in the 2020 data file is: {len(flight_data_df)}\")"
   ]
  },
  {
   "cell_type": "code",
   "execution_count": 7,
   "metadata": {},
   "outputs": [],
   "source": [
    "flight_data_df_list.append(flight_data_df)"
   ]
  },
  {
   "cell_type": "code",
   "execution_count": 8,
   "metadata": {},
   "outputs": [],
   "source": [
    "flight_data_df = pd.concat(flight_data_df_list, axis=0, ignore_index=True)"
   ]
  },
  {
   "cell_type": "code",
   "execution_count": 9,
   "metadata": {},
   "outputs": [
    {
     "name": "stdout",
     "output_type": "stream",
     "text": [
      "Number of rows in the combined data file is: 1191331\n"
     ]
    }
   ],
   "source": [
    "print(f\"Number of rows in the combined data file is: {len(flight_data_df)}\")"
   ]
  },
  {
   "cell_type": "code",
   "execution_count": 10,
   "metadata": {},
   "outputs": [
    {
     "data": {
      "text/plain": [
       "DAY_OF_MONTH               31\n",
       "DAY_OF_WEEK                 7\n",
       "OP_UNIQUE_CARRIER          17\n",
       "OP_CARRIER_AIRLINE_ID      17\n",
       "OP_CARRIER                 17\n",
       "TAIL_NUM                 5857\n",
       "OP_CARRIER_FL_NUM        6997\n",
       "ORIGIN_AIRPORT_ID         353\n",
       "ORIGIN_AIRPORT_SEQ_ID     373\n",
       "ORIGIN                    353\n",
       "DEST_AIRPORT_ID           353\n",
       "DEST_AIRPORT_SEQ_ID       373\n",
       "DEST                      353\n",
       "DEP_TIME                 1440\n",
       "DEP_DEL15                   2\n",
       "DEP_TIME_BLK               19\n",
       "ARR_TIME                 1440\n",
       "ARR_DEL15                   2\n",
       "CANCELLED                   2\n",
       "DIVERTED                    2\n",
       "DISTANCE                 1512\n",
       "Unnamed: 21                 0\n",
       "dtype: int64"
      ]
     },
     "execution_count": 10,
     "metadata": {},
     "output_type": "execute_result"
    }
   ],
   "source": [
    "flight_data_df.nunique()"
   ]
  },
  {
   "cell_type": "markdown",
   "metadata": {},
   "source": [
    "# Get FAA Airport Three Letter Codes From Flight Data"
   ]
  },
  {
   "cell_type": "code",
   "execution_count": 11,
   "metadata": {},
   "outputs": [],
   "source": [
    "# Get origin airport code\n",
    "airport_ORIGIN_code_list = flight_data_df[\"ORIGIN\"].unique().tolist()"
   ]
  },
  {
   "cell_type": "code",
   "execution_count": 12,
   "metadata": {},
   "outputs": [
    {
     "name": "stdout",
     "output_type": "stream",
     "text": [
      "Number of ORIGIN airport codes in the data file is: 353\n"
     ]
    }
   ],
   "source": [
    "print(f\"Number of ORIGIN airport codes in the data file is: {len(airport_ORIGIN_code_list)}\")"
   ]
  },
  {
   "cell_type": "code",
   "execution_count": 13,
   "metadata": {},
   "outputs": [],
   "source": [
    "# Get destination airport code\n",
    "airport_DEST_code_list = flight_data_df[\"DEST\"].unique().tolist()"
   ]
  },
  {
   "cell_type": "code",
   "execution_count": 14,
   "metadata": {},
   "outputs": [
    {
     "name": "stdout",
     "output_type": "stream",
     "text": [
      "Number of DEST airport codes in the data file is: 353\n"
     ]
    }
   ],
   "source": [
    "print(f\"Number of DEST airport codes in the data file is: {len(airport_DEST_code_list)}\")"
   ]
  },
  {
   "cell_type": "code",
   "execution_count": 15,
   "metadata": {},
   "outputs": [],
   "source": [
    "# Combined origin and destination airport codes\n",
    "# into single unique airport code list\n",
    "airport_code_list = airport_ORIGIN_code_list \n",
    "    \n",
    "for airport_code in airport_DEST_code_list:\n",
    "    if airport_code not in airport_code_list:\n",
    "        airport_code_list.append(airport_code)"
   ]
  },
  {
   "cell_type": "code",
   "execution_count": 16,
   "metadata": {},
   "outputs": [
    {
     "name": "stdout",
     "output_type": "stream",
     "text": [
      "Number of unique airport codes in the data file is: 353\n"
     ]
    }
   ],
   "source": [
    "print(f\"Number of unique airport codes in the data file is: {len(airport_code_list)}\")"
   ]
  },
  {
   "cell_type": "markdown",
   "metadata": {},
   "source": [
    "# Get The Airport Name for Each Airport Code"
   ]
  },
  {
   "cell_type": "code",
   "execution_count": 17,
   "metadata": {},
   "outputs": [],
   "source": [
    "import io\n",
    "\n",
    "airport_code_city_dict = {}\n",
    "airport_codes_found_cnt = 0\n",
    "\n",
    "with io.open(\"flight_data_files/airport_codes_city_raw.txt\", 'rt', newline='\\r\\n') as f:\n",
    "    line = f.readline()[0:-2]\n",
    "    while line != 'Canadian Provinces':\n",
    "        \n",
    "        if len(line.strip()) > 1 and line not in ['return to top']:\n",
    "            \n",
    "            line_split    = line.split('(')\n",
    "            city_state    = line_split[0].strip()\n",
    "            airport_code  = line_split[1][0:3].strip()\n",
    "            \n",
    "            if airport_code in airport_code_list:\n",
    "                \n",
    "                # If the current airport code is already in the airport code dict, \n",
    "                # then the current airport code is associated with multiple city names\n",
    "                if airport_code in airport_code_city_dict:\n",
    "                        airport_code_city_dict[airport_code].append(city_state)\n",
    "                else:\n",
    "                    airport_code_city_dict[airport_code] = [city_state]\n",
    "                \n",
    "                airport_codes_found_cnt += 1\n",
    "            \n",
    "        line = f.readline()[0:-2]"
   ]
  },
  {
   "cell_type": "code",
   "execution_count": 18,
   "metadata": {},
   "outputs": [
    {
     "name": "stdout",
     "output_type": "stream",
     "text": [
      "The number of airport codes found is: 363\n"
     ]
    }
   ],
   "source": [
    "print(f\"The number of airport codes found is: {airport_codes_found_cnt}\")"
   ]
  },
  {
   "cell_type": "code",
   "execution_count": 19,
   "metadata": {},
   "outputs": [
    {
     "name": "stdout",
     "output_type": "stream",
     "text": [
      "Airport code:CAK city names:['Akron/Canton, OH', 'Canton/Akron, OH']\n",
      "Airport code:ABE city names:['Allentown, PA', 'Bethlehem, PA', 'Easton, PA']\n",
      "Airport code:ACV city names:['Arcata, CA', 'Eureka/Arcata, CA']\n",
      "Airport code:AVL city names:['Asheville, NC', 'Hendersonville, NC']\n",
      "Airport code:HTS city names:['Ashland, KY/Huntington, WV', 'Huntington, WV/Ashland, KY']\n",
      "Airport code:MBS city names:['Bay City, MI', 'Midland, MI', 'Saginaw, MI']\n",
      "Airport code:BPT city names:['Beaumont/Port Arthur, TX', 'Port Arthur/Beaumont, TX']\n",
      "Airport code:GPT city names:['Biloxi/Gulfport, MS', 'Gulfport, MS']\n",
      "Airport code:BGM city names:['Binghamton, NY', 'Endicott, NY', 'Johnson City, NY']\n",
      "Airport code:TRI city names:['Bristol, VA', 'Johnson City, TN', 'Kingsport, TN']\n",
      "Airport code:MRY city names:['Carmel, CA', 'Monterey, CA']\n",
      "Airport code:CMI city names:['Champaign/Urbana, IL', 'Urbana/Champaign, IL']\n",
      "Airport code:MDW city names:['Chicago, IL - Midway']\n",
      "Airport code:ORD city names:[\"Chicago, IL - O'Hare\"]\n",
      "Airport code:HIB city names:['Chisholm/Hibbing, MN', 'Hibbing/Chisholm, MN']\n",
      "Airport code:PIE city names:['Clearwater/St Petersburg, FL', 'St Petersburg/Clearwater, FL']\n",
      "Airport code:COD city names:['Cody/Yellowstone, WY', 'Yellowstone/Cody, WY']\n",
      "Airport code:DFW city names:['Dallas/Fort Worth, TX', 'Fort Worth/Dallas, TX']\n",
      "Airport code:DEN city names:['Denver, CO - International']\n",
      "Airport code:DTW city names:['Detroit, MI - Metro/Wayne County']\n",
      "Airport code:RDU city names:['Durham, NC', 'Durham/Raleigh, NC', 'Raleigh/Durham, NC']\n",
      "Airport code:XNA city names:['Fayetteville, AR - Northwest Arkansas Regional']\n",
      "Airport code:VPS city names:['Fort Walton Beach, FL', 'Valparaiso, FL']\n",
      "Airport code:GGG city names:['Gladewater/Kilgore, TX', 'Kilgore/Gladewater, TX', 'Longview, TX']\n",
      "Airport code:GSO city names:['Greensboro, NC', 'High Point, NC']\n",
      "Airport code:GSP city names:['Greenville/Spartanburg, SC', 'Spartanburg/Greenville, SC']\n",
      "Airport code:SUN city names:['Hailey, ID', 'Sun Valley, ID']\n",
      "Airport code:PHF city names:['Hampton, VA', 'Newport News, VA', 'Williamsburg, VA']\n",
      "Airport code:BDL city names:['Hartford, CT', 'Windsor Locks, CT']\n",
      "Airport code:ITO city names:['Hilo, HI - Island of Hawaii']\n",
      "Airport code:HNL city names:['Honolulu, HI - Island of Oahu']\n",
      "Airport code:HOU city names:['Houston, TX - All airports', 'Houston, TX - Hobby']\n",
      "Airport code:IAH city names:['Houston, TX - Intercontinental']\n",
      "Airport code:OGG city names:['Kahului, HI - Island of Maui,', 'Maui, HI']\n",
      "Airport code:LIH city names:['Kauai Island/Lihue, HI', 'Lihue, HI - Island of Kaui']\n",
      "Airport code:KOA city names:['Kona, HI - Island of Hawaii']\n",
      "Airport code:MFE city names:['Mcallen, TX', 'Mission, TX']\n",
      "Airport code:MIA city names:['Miami, FL - International']\n",
      "Airport code:MAF city names:['Midland/Odessa, TX', 'Odessa/Midland, TX']\n",
      "Airport code:JFK city names:['New York, NY - Kennedy']\n",
      "Airport code:LGA city names:['New York, NY - La Guardia']\n",
      "Airport code:SWF city names:['Newburgh/Stewart Field, NY', 'Stewart Field/Newburgh, NY']\n",
      "Airport code:SNA city names:['Orange County, CA', 'Santa Ana, CA']\n",
      "Airport code:MCO city names:['Orlando, FL - International']\n",
      "Airport code:PHL city names:['Philadelphia, PA - International']\n",
      "Airport code:TTN city names:['Philadelphia, PA - Trenton/Mercer NJ', 'Trenton/Mercer, NJ']\n",
      "Airport code:AVP city names:['Scranton, PA', 'Wilkes Barre, PA']\n",
      "Airport code:SEA city names:['Seattle, WA - Seattle/Tacoma International']\n",
      "Airport code:CWA city names:['Stevens Point/Wausau, WI', 'Wausau/Stevens Point, WI']\n",
      "Airport code:EGE city names:['Vail, CO - Eagle County Airport']\n",
      "Airport code:IAD city names:['Washington DC - Dulles']\n",
      "Airport code:DCA city names:['Washington DC - National']\n"
     ]
    }
   ],
   "source": [
    "# Find FAA airport codes with multiple cities associated with it\n",
    "# find airport city names with a '=' in them\n",
    "for airport_code in airport_code_city_dict:\n",
    "    if len(airport_code_city_dict[airport_code]) > 1 or airport_code_city_dict[airport_code][0].find(\"-\") > -1:\n",
    "        print(f\"Airport code:{airport_code} city names:{airport_code_city_dict[airport_code]}\")"
   ]
  },
  {
   "cell_type": "code",
   "execution_count": 20,
   "metadata": {},
   "outputs": [],
   "source": [
    "# Clean airport names\n",
    "airport_code_city_dict[\"CAK\"] = [\"Akron/Canton, OH\"]\n",
    "airport_code_city_dict[\"ABE\"] = [\"Allentown/Bethlehem/Easton, PA\"]\n",
    "airport_code_city_dict[\"ACV\"] = [\"Eureka/Arcata, CA\"]\n",
    "airport_code_city_dict[\"AVL\"] = [\"Asheville/Hendersonville, NC\"]\n",
    "airport_code_city_dict[\"HTS\"] = [\"Ashland, KY\", \"Huntington, WV\"]\n",
    "airport_code_city_dict[\"MBS\"] = [\"Bay City/Midland/Saginaw, MI\"]\n",
    "airport_code_city_dict[\"BPT\"] = [\"Beaumont/Port Arthur, TX\"]\n",
    "airport_code_city_dict[\"GPT\"] = [\"Biloxi/Gulfport, MS\"]\n",
    "airport_code_city_dict[\"BGM\"] = [\"Binghamton/Endicott/Johnson City, NY\"]\n",
    "airport_code_city_dict[\"TRI\"] = [\"Bristol, VA\", \"Bristol/Johnson City/Kingsport, TN\"]\n",
    "airport_code_city_dict[\"MRY\"] = [\"Carmel/Monterey, CA\"]\n",
    "airport_code_city_dict[\"CMI\"] = [\"Champaign/Urbana, IL\"]\n",
    "airport_code_city_dict[\"MDW\"] = [\"Chicago - Midway, IL\"]\n",
    "airport_code_city_dict[\"ORD\"] = [\"Chicago - O'Hare, IL\"]\n",
    "airport_code_city_dict[\"HIB\"] = [\"Chisholm/Hibbing, MN\"]\n",
    "airport_code_city_dict[\"PIE\"] = [\"Clearwater/St Petersburg, FL\"]\n",
    "airport_code_city_dict[\"COD\"] = [\"Cody/Yellowstone, WY\"]\n",
    "airport_code_city_dict[\"DFW\"] = [\"Dallas/Fort Worth, TX\"]\n",
    "airport_code_city_dict[\"DEN\"] = [\"Denver, CO\"]\n",
    "airport_code_city_dict[\"DTW\"] = [\"Detroit, MI\"]\n",
    "airport_code_city_dict[\"RDU\"] = [\"Raleigh/Durham, NC\"]\n",
    "airport_code_city_dict[\"XNA\"] = [\"Fayetteville, AR\"]\n",
    "airport_code_city_dict[\"VPS\"] = [\"Fort Walton Beach/Valparaiso, FL\"]\n",
    "airport_code_city_dict[\"GGG\"] = [\"Gladewater/Kilgore/Longview, TX\"]\n",
    "airport_code_city_dict[\"GSO\"] = [\"Greensboro/High Point, NC\"]\n",
    "airport_code_city_dict[\"GSP\"] = [\"Greenville/Spartanburg, SC\"]\n",
    "airport_code_city_dict[\"SUN\"] = [\"Hailey/Sun Valley, ID\"]\n",
    "airport_code_city_dict[\"PHF\"] = [\"Hampton/Williamsburg, VA\"]\n",
    "airport_code_city_dict[\"BDL\"] = [\"Hartford/Windsor Locks, CT\"]\n",
    "airport_code_city_dict[\"ITO\"] = [\"Hilo - Island of Hawaii, HI\"]\n",
    "airport_code_city_dict[\"HNL\"] = [\"Honolulu - Island of Oahu, HI\"]\n",
    "airport_code_city_dict[\"HOU\"] = [\"Houston - Hobby, TX\"]\n",
    "airport_code_city_dict[\"IAH\"] = [\"Houston - George Bush Intercontinental, TX\"]\n",
    "airport_code_city_dict[\"OGG\"] = [\"Kahului- Island of Maui, HI\"]\n",
    "airport_code_city_dict[\"LIH\"] = [\"Lihue - Island of Kaui, HI\"]\n",
    "airport_code_city_dict[\"KOA\"] = [\"Kona - Island of Hawaii, HI\"]\n",
    "airport_code_city_dict[\"MFE\"] = [\"Mcallen/Mission, TX\"]\n",
    "airport_code_city_dict[\"MIA\"] = [\"Miami, FL\"]\n",
    "airport_code_city_dict[\"MAF\"] = [\"Midland/Odessa, TX\"]\n",
    "airport_code_city_dict[\"JFK\"] = [\"New York - Kennedy, NY\"]\n",
    "airport_code_city_dict[\"LGA\"] = [\"New York - La Guardia, NY\"]\n",
    "airport_code_city_dict[\"SWF\"] = [\"Newburgh/Stewart Field, NY\"]\n",
    "airport_code_city_dict[\"SNA\"] = [\"Orange County/Santa Ana, CA\"]\n",
    "airport_code_city_dict[\"MCO\"] = [\"Orlando, FL\"]\n",
    "airport_code_city_dict[\"PHL\"] = [\"Philadelphia, PA\"]\n",
    "airport_code_city_dict[\"TTN\"] = [\"Trenton/Mercer, NJ\"]\n",
    "airport_code_city_dict[\"AVP\"] = [\"Scranton/Wilkes Barre, PA\"]\n",
    "airport_code_city_dict[\"SEA\"] = [\"Seattle/Tacoma, WA\"]\n",
    "airport_code_city_dict[\"CWA\"] = [\"Stevens Point/Wausau, WI\"]\n",
    "airport_code_city_dict[\"EGE\"] = [\"Vail, CO \"]\n",
    "airport_code_city_dict[\"IAD\"] = [\"Washington - Dulles, DC\"]\n",
    "airport_code_city_dict[\"DCA\"] = [\"Washington - Reagan National, DC\"]"
   ]
  },
  {
   "cell_type": "code",
   "execution_count": 21,
   "metadata": {},
   "outputs": [
    {
     "name": "stdout",
     "output_type": "stream",
     "text": [
      "Airport code:[ABR] City:[Aberdeen] State:[SD]\n",
      "Airport code:[ABI] City:[Abilene] State:[TX]\n",
      "Airport code:[ADK] City:[Adak Island] State:[AK]\n",
      "Airport code:[CAK] City:[Akron/Canton] State:[OH]\n",
      "Airport code:[ALB] City:[Albany] State:[NY]\n",
      "Airport code:[ABQ] City:[Albuquerque] State:[NM]\n",
      "Airport code:[AEX] City:[Alexandria] State:[LA]\n",
      "Airport code:[ABE] City:[Allentown/Bethlehem/Easton] State:[PA]\n",
      "Airport code:[APN] City:[Alpena] State:[MI]\n",
      "Airport code:[AMA] City:[Amarillo] State:[TX]\n",
      "Airport code:[ANC] City:[Anchorage] State:[AK]\n",
      "Airport code:[ATW] City:[Appleton] State:[WI]\n",
      "Airport code:[ACV] City:[Eureka/Arcata] State:[CA]\n",
      "Airport code:[AVL] City:[Asheville/Hendersonville] State:[NC]\n",
      "Airport code:[HTS] City:[Ashland] State:[KY]\n",
      "Airport code:[ASE] City:[Aspen] State:[CO]\n",
      "Airport code:[ATL] City:[Atlanta] State:[GA]\n",
      "Airport code:[AGS] City:[Augusta] State:[GA]\n",
      "Airport code:[AUS] City:[Austin] State:[TX]\n",
      "Airport code:[BFL] City:[Bakersfield] State:[CA]\n",
      "Airport code:[BWI] City:[Baltimore] State:[MD]\n",
      "Airport code:[BGR] City:[Bangor] State:[ME]\n",
      "Airport code:[BRW] City:[Barrow] State:[AK]\n",
      "Airport code:[BTR] City:[Baton Rouge] State:[LA]\n",
      "Airport code:[MBS] City:[Bay City/Midland/Saginaw] State:[MI]\n",
      "Airport code:[BPT] City:[Beaumont/Port Arthur] State:[TX]\n",
      "Airport code:[BLV] City:[Belleville] State:[IL]\n",
      "Airport code:[BLI] City:[Bellingham] State:[WA]\n",
      "Airport code:[BJI] City:[Bemidji] State:[MN]\n",
      "Airport code:[BET] City:[Bethel] State:[AK]\n",
      "Airport code:[BIL] City:[Billings] State:[MT]\n",
      "Airport code:[GPT] City:[Biloxi/Gulfport] State:[MS]\n",
      "Airport code:[BGM] City:[Binghamton/Endicott/Johnson City] State:[NY]\n",
      "Airport code:[BHM] City:[Birmingham] State:[AL]\n",
      "Airport code:[BIS] City:[Bismarck] State:[ND]\n",
      "Airport code:[BMI] City:[Bloomington] State:[IL]\n",
      "Airport code:[BOI] City:[Boise] State:[ID]\n",
      "Airport code:[BOS] City:[Boston] State:[MA]\n",
      "Airport code:[BZN] City:[Bozeman] State:[MT]\n",
      "Airport code:[BRD] City:[Brainerd] State:[MN]\n",
      "Airport code:[TRI] City:[Bristol] State:[VA]\n",
      "Airport code:[BRO] City:[Brownsville] State:[TX]\n",
      "Airport code:[BQK] City:[Brunswick] State:[GA]\n",
      "Airport code:[BUF] City:[Buffalo] State:[NY]\n",
      "Airport code:[BUR] City:[Burbank] State:[CA]\n",
      "Airport code:[BTV] City:[Burlington] State:[VT]\n",
      "Airport code:[BTM] City:[Butte] State:[MT]\n",
      "Airport code:[CGI] City:[Cape Girardeau] State:[MO]\n",
      "Airport code:[MRY] City:[Carmel/Monterey] State:[CA]\n",
      "Airport code:[CPR] City:[Casper] State:[WY]\n",
      "Airport code:[CDC] City:[Cedar City] State:[UT]\n",
      "Airport code:[CID] City:[Cedar Rapids] State:[IA]\n",
      "Airport code:[CMI] City:[Champaign/Urbana] State:[IL]\n",
      "Airport code:[CHS] City:[Charleston] State:[SC]\n",
      "Airport code:[CRW] City:[Charleston] State:[WV]\n",
      "Airport code:[CLT] City:[Charlotte] State:[NC]\n",
      "Airport code:[CHO] City:[Charlottesville] State:[VA]\n",
      "Airport code:[CHA] City:[Chattanooga] State:[TN]\n",
      "Airport code:[CYS] City:[Cheyenne] State:[WY]\n",
      "Airport code:[MDW] City:[Chicago - Midway] State:[IL]\n",
      "Airport code:[ORD] City:[Chicago - O'Hare] State:[IL]\n",
      "Airport code:[HIB] City:[Chisholm/Hibbing] State:[MN]\n",
      "Airport code:[CVG] City:[Cincinnati] State:[OH]\n",
      "Airport code:[CKB] City:[Clarksburg] State:[WV]\n",
      "Airport code:[PIE] City:[Clearwater/St Petersburg] State:[FL]\n",
      "Airport code:[CLE] City:[Cleveland] State:[OH]\n",
      "Airport code:[COD] City:[Cody/Yellowstone] State:[WY]\n",
      "Airport code:[CLL] City:[College Station] State:[TX]\n",
      "Airport code:[COS] City:[Colorado Springs] State:[CO]\n",
      "Airport code:[COU] City:[Columbia] State:[MO]\n",
      "Airport code:[CAE] City:[Columbia] State:[SC]\n",
      "Airport code:[CSG] City:[Columbus] State:[GA]\n",
      "Airport code:[GTR] City:[Columbus] State:[MS]\n",
      "Airport code:[CMH] City:[Columbus] State:[OH]\n",
      "Airport code:[CDV] City:[Cordova] State:[AK]\n",
      "Airport code:[CRP] City:[Corpus Christi] State:[TX]\n",
      "Airport code:[DFW] City:[Dallas/Fort Worth] State:[TX]\n",
      "Airport code:[DAY] City:[Dayton] State:[OH]\n",
      "Airport code:[DAB] City:[Daytona Beach] State:[FL]\n",
      "Airport code:[DEN] City:[Denver] State:[CO]\n",
      "Airport code:[DSM] City:[Des Moines] State:[IA]\n",
      "Airport code:[DTW] City:[Detroit] State:[MI]\n",
      "Airport code:[DVL] City:[Devil's Lake] State:[ND]\n",
      "Airport code:[DHN] City:[Dothan] State:[AL]\n",
      "Airport code:[DBQ] City:[Dubuque] State:[IA]\n",
      "Airport code:[DLH] City:[Duluth] State:[MN]\n",
      "Airport code:[DRO] City:[Durango] State:[CO]\n",
      "Airport code:[RDU] City:[Raleigh/Durham] State:[NC]\n",
      "Airport code:[EAU] City:[Eau Claire] State:[WI]\n",
      "Airport code:[ELP] City:[El Paso] State:[TX]\n",
      "Airport code:[EKO] City:[Elko] State:[NV]\n",
      "Airport code:[ELM] City:[Elmira] State:[NY]\n",
      "Airport code:[ERI] City:[Erie] State:[PA]\n",
      "Airport code:[ESC] City:[Escanaba] State:[MI]\n",
      "Airport code:[EUG] City:[Eugene] State:[OR]\n",
      "Airport code:[EVV] City:[Evansville] State:[IN]\n",
      "Airport code:[FAI] City:[Fairbanks] State:[AK]\n",
      "Airport code:[FAR] City:[Fargo] State:[ND]\n",
      "Airport code:[XNA] City:[Fayetteville] State:[AR]\n",
      "Airport code:[FAY] City:[Fayetteville] State:[NC]\n",
      "Airport code:[FLG] City:[Flagstaff] State:[AZ]\n",
      "Airport code:[FNT] City:[Flint] State:[MI]\n",
      "Airport code:[FLL] City:[Fort Lauderdale] State:[FL]\n",
      "Airport code:[RSW] City:[Fort Myers] State:[FL]\n",
      "Airport code:[FSM] City:[Fort Smith] State:[AR]\n",
      "Airport code:[VPS] City:[Fort Walton Beach/Valparaiso] State:[FL]\n",
      "Airport code:[FWA] City:[Fort Wayne] State:[IN]\n",
      "Airport code:[FAT] City:[Fresno] State:[CA]\n",
      "Airport code:[GNV] City:[Gainesville] State:[FL]\n",
      "Airport code:[GCK] City:[Garden City] State:[KS]\n",
      "Airport code:[GCC] City:[Gillette] State:[WY]\n",
      "Airport code:[GGG] City:[Gladewater/Kilgore/Longview] State:[TX]\n",
      "Airport code:[GFK] City:[Grand Forks] State:[ND]\n",
      "Airport code:[GRI] City:[Grand Island] State:[NE]\n",
      "Airport code:[GJT] City:[Grand Junction] State:[CO]\n",
      "Airport code:[GRR] City:[Grand Rapids] State:[MI]\n",
      "Airport code:[GTF] City:[Great Falls] State:[MT]\n",
      "Airport code:[GRB] City:[Green Bay] State:[WI]\n",
      "Airport code:[GSO] City:[Greensboro/High Point] State:[NC]\n",
      "Airport code:[GSP] City:[Greenville/Spartanburg] State:[SC]\n",
      "Airport code:[GUC] City:[Gunnison] State:[CO]\n",
      "Airport code:[HGR] City:[Hagerstown] State:[MD]\n",
      "Airport code:[SUN] City:[Hailey/Sun Valley] State:[ID]\n",
      "Airport code:[PHF] City:[Hampton/Williamsburg] State:[VA]\n",
      "Airport code:[CMX] City:[Hancock] State:[MI]\n",
      "Airport code:[HRL] City:[Harlingen] State:[TX]\n",
      "Airport code:[MDT] City:[Harrisburg] State:[PA]\n",
      "Airport code:[BDL] City:[Hartford/Windsor Locks] State:[CT]\n",
      "Airport code:[HDN] City:[Hayden] State:[CO]\n",
      "Airport code:[HYS] City:[Hays] State:[KS]\n",
      "Airport code:[HLN] City:[Helena] State:[MT]\n",
      "Airport code:[ITO] City:[Hilo - Island of Hawaii] State:[HI]\n",
      "Airport code:[HHH] City:[Hilton Head] State:[SC]\n",
      "Airport code:[HNL] City:[Honolulu - Island of Oahu] State:[HI]\n",
      "Airport code:[HOU] City:[Houston - Hobby] State:[TX]\n",
      "Airport code:[IAH] City:[Houston - George Bush Intercontinental] State:[TX]\n",
      "Airport code:[HSV] City:[Huntsville] State:[AL]\n",
      "Airport code:[IDA] City:[Idaho Falls] State:[ID]\n",
      "Airport code:[IND] City:[Indianapolis] State:[IN]\n",
      "Airport code:[INL] City:[International Falls] State:[MN]\n",
      "Airport code:[IMT] City:[Iron Mountain] State:[MI]\n",
      "Airport code:[ISP] City:[Islip] State:[NY]\n",
      "Airport code:[ITH] City:[Ithaca] State:[NY]\n",
      "Airport code:[JAC] City:[Jackson Hole] State:[WY]\n",
      "Airport code:[JAN] City:[Jackson] State:[MS]\n",
      "Airport code:[JAX] City:[Jacksonville] State:[FL]\n",
      "Airport code:[OAJ] City:[Jacksonville] State:[NC]\n",
      "Airport code:[JMS] City:[Jamestown] State:[ND]\n",
      "Airport code:[JLN] City:[Joplin] State:[MO]\n",
      "Airport code:[JNU] City:[Juneau] State:[AK]\n",
      "Airport code:[OGG] City:[Kahului- Island of Maui] State:[HI]\n",
      "Airport code:[AZO] City:[Kalamazoo] State:[MI]\n",
      "Airport code:[MCI] City:[Kansas City] State:[MO]\n",
      "Airport code:[LIH] City:[Lihue - Island of Kaui] State:[HI]\n",
      "Airport code:[EAR] City:[Kearney] State:[NE]\n",
      "Airport code:[KTN] City:[Ketchikan] State:[AK]\n",
      "Airport code:[EYW] City:[Key West] State:[FL]\n",
      "Airport code:[TYS] City:[Knoxville] State:[TN]\n",
      "Airport code:[ADQ] City:[Kodiak] State:[AK]\n",
      "Airport code:[KOA] City:[Kona - Island of Hawaii] State:[HI]\n",
      "Airport code:[OTZ] City:[Kotzebue] State:[AK]\n",
      "Airport code:[LSE] City:[La Crosse] State:[WI]\n",
      "Airport code:[LFT] City:[Lafayette] State:[LA]\n",
      "Airport code:[LCH] City:[Lake Charles] State:[LA]\n",
      "Airport code:[LAN] City:[Lansing] State:[MI]\n",
      "Airport code:[LAR] City:[Laramie] State:[WY]\n",
      "Airport code:[LRD] City:[Laredo] State:[TX]\n",
      "Airport code:[LAS] City:[Las Vegas] State:[NV]\n",
      "Airport code:[LBE] City:[Latrobe] State:[PA]\n",
      "Airport code:[PIB] City:[Laurel] State:[MS]\n",
      "Airport code:[LAW] City:[Lawton] State:[OK]\n",
      "Airport code:[LWB] City:[Lewisburg] State:[WV]\n",
      "Airport code:[LWS] City:[Lewiston] State:[ID]\n",
      "Airport code:[LEX] City:[Lexington] State:[KY]\n",
      "Airport code:[LBL] City:[Liberal] State:[KS]\n",
      "Airport code:[LNK] City:[Lincoln] State:[NE]\n",
      "Airport code:[LIT] City:[Little Rock] State:[AR]\n",
      "Airport code:[LGB] City:[Long Beach] State:[CA]\n",
      "Airport code:[LAX] City:[Los Angeles] State:[CA]\n",
      "Airport code:[SDF] City:[Louisville] State:[KY]\n",
      "Airport code:[LBB] City:[Lubbock] State:[TX]\n",
      "Airport code:[MSN] City:[Madison] State:[WI]\n",
      "Airport code:[MHT] City:[Manchester] State:[NH]\n",
      "Airport code:[MHK] City:[Manhattan] State:[KS]\n",
      "Airport code:[MQT] City:[Marquette] State:[MI]\n",
      "Airport code:[MFE] City:[Mcallen/Mission] State:[TX]\n",
      "Airport code:[MFR] City:[Medford] State:[OR]\n",
      "Airport code:[MLB] City:[Melbourne] State:[FL]\n",
      "Airport code:[MEM] City:[Memphis] State:[TN]\n",
      "Airport code:[MEI] City:[Meridian] State:[MS]\n",
      "Airport code:[MIA] City:[Miami] State:[FL]\n",
      "Airport code:[MAF] City:[Midland/Odessa] State:[TX]\n",
      "Airport code:[MKE] City:[Milwaukee] State:[WI]\n",
      "Airport code:[MSP] City:[Minneapolis] State:[MN]\n",
      "Airport code:[MOT] City:[Minot] State:[ND]\n",
      "Airport code:[MSO] City:[Missoula] State:[MT]\n",
      "Airport code:[CNY] City:[Moab] State:[UT]\n",
      "Airport code:[MOB] City:[Mobile] State:[AL]\n",
      "Airport code:[MLI] City:[Moline] State:[IL]\n",
      "Airport code:[MLU] City:[Monroe] State:[LA]\n",
      "Airport code:[MGM] City:[Montgomery] State:[AL]\n",
      "Airport code:[MTJ] City:[Montrose] State:[CO]\n",
      "Airport code:[MKG] City:[Muskegon] State:[MI]\n",
      "Airport code:[MYR] City:[Myrtle Beach] State:[SC]\n",
      "Airport code:[BNA] City:[Nashville] State:[TN]\n",
      "Airport code:[HVN] City:[New Haven] State:[CT]\n",
      "Airport code:[MSY] City:[New Orleans] State:[LA]\n",
      "Airport code:[JFK] City:[New York - Kennedy] State:[NY]\n",
      "Airport code:[LGA] City:[New York - La Guardia] State:[NY]\n",
      "Airport code:[EWR] City:[Newark] State:[NJ]\n",
      "Airport code:[SWF] City:[Newburgh/Stewart Field] State:[NY]\n",
      "Airport code:[OME] City:[Nome] State:[AK]\n",
      "Airport code:[ORF] City:[Norfolk] State:[VA]\n",
      "Airport code:[OTH] City:[North Bend] State:[OR]\n",
      "Airport code:[LBF] City:[North Platte] State:[NE]\n",
      "Airport code:[OAK] City:[Oakland] State:[CA]\n",
      "Airport code:[OGS] City:[Ogdensburg] State:[NY]\n",
      "Airport code:[OKC] City:[Oklahoma City] State:[OK]\n",
      "Airport code:[OMA] City:[Omaha] State:[NE]\n",
      "Airport code:[ONT] City:[Ontario] State:[CA]\n",
      "Airport code:[SNA] City:[Orange County/Santa Ana] State:[CA]\n",
      "Airport code:[MCO] City:[Orlando] State:[FL]\n",
      "Airport code:[OWB] City:[Owensboro] State:[KY]\n",
      "Airport code:[PAH] City:[Paducah] State:[KY]\n",
      "Airport code:[PSP] City:[Palm Springs] State:[CA]\n",
      "Airport code:[PSC] City:[Pasco] State:[WA]\n",
      "Airport code:[PLN] City:[Pellston] State:[MI]\n",
      "Airport code:[PNS] City:[Pensacola] State:[FL]\n",
      "Airport code:[PIA] City:[Peoria] State:[IL]\n",
      "Airport code:[PSG] City:[Petersburg] State:[AK]\n",
      "Airport code:[PHL] City:[Philadelphia] State:[PA]\n",
      "Airport code:[TTN] City:[Trenton/Mercer] State:[NJ]\n",
      "Airport code:[PHX] City:[Phoenix] State:[AZ]\n",
      "Airport code:[PIR] City:[Pierre] State:[SD]\n",
      "Airport code:[PIT] City:[Pittsburgh] State:[PA]\n",
      "Airport code:[PIH] City:[Pocatello] State:[ID]\n",
      "Airport code:[PSE] City:[Ponce] State:[Puerto Rico]\n",
      "Airport code:[PWM] City:[Portland] State:[ME]\n",
      "Airport code:[PDX] City:[Portland] State:[OR]\n",
      "Airport code:[PSM] City:[Portsmouth] State:[NH]\n",
      "Airport code:[PRC] City:[Prescott] State:[AZ]\n",
      "Airport code:[PVD] City:[Providence] State:[RI]\n",
      "Airport code:[SCC] City:[Prudhoe Bay/Deadhorse] State:[AK]\n",
      "Airport code:[PUB] City:[Pueblo] State:[CO]\n",
      "Airport code:[UIN] City:[Quincy] State:[IL]\n",
      "Airport code:[RAP] City:[Rapid City] State:[SD]\n",
      "Airport code:[RDD] City:[Redding] State:[CA]\n",
      "Airport code:[RDM] City:[Redmond] State:[OR]\n",
      "Airport code:[RNO] City:[Reno] State:[NV]\n",
      "Airport code:[RHI] City:[Rhinelander] State:[WI]\n",
      "Airport code:[RIC] City:[Richmond] State:[VA]\n",
      "Airport code:[RIW] City:[Riverton] State:[WY]\n",
      "Airport code:[ROA] City:[Roanoke] State:[VA]\n",
      "Airport code:[RST] City:[Rochester] State:[MN]\n",
      "Airport code:[ROC] City:[Rochester] State:[NY]\n",
      "Airport code:[RKS] City:[Rock Springs] State:[WY]\n",
      "Airport code:[ROW] City:[Roswell] State:[NM]\n",
      "Airport code:[SMF] City:[Sacramento] State:[CA]\n",
      "Airport code:[STC] City:[Saint Cloud] State:[MN]\n",
      "Airport code:[SGU] City:[Saint George] State:[UT]\n",
      "Airport code:[STL] City:[Saint Louis] State:[MO]\n",
      "Airport code:[SLN] City:[Salina] State:[KS]\n",
      "Airport code:[SLC] City:[Salt Lake City] State:[UT]\n",
      "Airport code:[SJT] City:[San Angelo] State:[TX]\n",
      "Airport code:[SAT] City:[San Antonio] State:[TX]\n",
      "Airport code:[SAN] City:[San Diego] State:[CA]\n",
      "Airport code:[SFO] City:[San Francisco] State:[CA]\n",
      "Airport code:[SJC] City:[San Jose] State:[CA]\n",
      "Airport code:[SJU] City:[San Juan] State:[Puerto Rico]\n",
      "Airport code:[SBP] City:[San Luis Obispo] State:[CA]\n",
      "Airport code:[SBA] City:[Santa Barbara] State:[CA]\n",
      "Airport code:[SAF] City:[Santa Fe] State:[NM]\n",
      "Airport code:[SMX] City:[Santa Maria] State:[CA]\n",
      "Airport code:[STS] City:[Santa Rosa] State:[CA]\n",
      "Airport code:[SRQ] City:[Sarasota] State:[FL]\n",
      "Airport code:[CIU] City:[Sault Ste Marie] State:[MI]\n",
      "Airport code:[SAV] City:[Savannah] State:[GA]\n",
      "Airport code:[BFF] City:[Scottsbluff] State:[NE]\n",
      "Airport code:[AVP] City:[Scranton/Wilkes Barre] State:[PA]\n",
      "Airport code:[SEA] City:[Seattle/Tacoma] State:[WA]\n",
      "Airport code:[SHR] City:[Sheridan] State:[WY]\n",
      "Airport code:[SHV] City:[Shreveport] State:[LA]\n",
      "Airport code:[SUX] City:[Sioux City] State:[IA]\n",
      "Airport code:[FSD] City:[Sioux Falls] State:[SD]\n",
      "Airport code:[SIT] City:[Sitka] State:[AK]\n",
      "Airport code:[SBN] City:[South Bend] State:[IN]\n",
      "Airport code:[GEG] City:[Spokane] State:[WA]\n",
      "Airport code:[SPI] City:[Springfield] State:[IL]\n",
      "Airport code:[SGF] City:[Springfield] State:[MO]\n",
      "Airport code:[SCE] City:[State College/University Park] State:[PA]\n",
      "Airport code:[SHD] City:[Staunton] State:[VA]\n",
      "Airport code:[CWA] City:[Stevens Point/Wausau] State:[WI]\n",
      "Airport code:[SCK] City:[Stockton] State:[CA]\n",
      "Airport code:[SYR] City:[Syracuse] State:[NY]\n",
      "Airport code:[TLH] City:[Tallahassee] State:[FL]\n",
      "Airport code:[TPA] City:[Tampa] State:[FL]\n",
      "Airport code:[TXK] City:[Texarkana] State:[AR]\n",
      "Airport code:[TOL] City:[Toledo] State:[OH]\n",
      "Airport code:[TVC] City:[Traverse City] State:[MI]\n",
      "Airport code:[TUS] City:[Tucson] State:[AZ]\n",
      "Airport code:[TUL] City:[Tulsa] State:[OK]\n",
      "Airport code:[TWF] City:[Twin Falls] State:[ID]\n",
      "Airport code:[TYR] City:[Tyler] State:[TX]\n",
      "Airport code:[EGE] City:[Vail] State:[CO]\n",
      "Airport code:[VLD] City:[Valdosta] State:[GA]\n",
      "Airport code:[VEL] City:[Vernal] State:[UT]\n",
      "Airport code:[ACT] City:[Waco] State:[TX]\n",
      "Airport code:[IAD] City:[Washington - Dulles] State:[DC]\n",
      "Airport code:[DCA] City:[Washington - Reagan National] State:[DC]\n",
      "Airport code:[ALO] City:[Waterloo] State:[IA]\n",
      "Airport code:[ART] City:[Watertown] State:[NY]\n",
      "Airport code:[ATY] City:[Watertown] State:[SD]\n",
      "Airport code:[PBI] City:[West Palm Beach] State:[FL]\n",
      "Airport code:[HPN] City:[Westchester County] State:[NY]\n",
      "Airport code:[SPS] City:[Wichita Falls] State:[TX]\n",
      "Airport code:[ICT] City:[Wichita] State:[KS]\n",
      "Airport code:[ISN] City:[Williston] State:[ND]\n",
      "Airport code:[ILM] City:[Wilmington] State:[NC]\n",
      "Airport code:[ORH] City:[Worcester] State:[MA]\n",
      "Airport code:[WRG] City:[Wrangell] State:[AK]\n",
      "Airport code:[YAK] City:[Yakutat] State:[AK]\n",
      "Airport code:[YUM] City:[Yuma] State:[AZ]\n"
     ]
    }
   ],
   "source": [
    "# Separate city and state from airport location string\n",
    "for airport_code in airport_code_city_dict:\n",
    "    city_state = airport_code_city_dict[airport_code][0]\n",
    "    \n",
    "    city_state_split = city_state.split(\",\")\n",
    "    city = city_state_split[0].strip()\n",
    "    state = city_state_split[1].strip()\n",
    "    \n",
    "    airport_code_city_dict[airport_code] = {\"City\":city, \"State\":state}\n",
    "    \n",
    "    city = airport_code_city_dict[airport_code][\"City\"]\n",
    "    state = airport_code_city_dict[airport_code][\"State\"]\n",
    "    print(f\"Airport code:[{airport_code}] City:[{city}] State:[{state}]\")\n",
    "    "
   ]
  },
  {
   "cell_type": "markdown",
   "metadata": {},
   "source": [
    "# Save Airport Code City Name Dataframe to CSV File"
   ]
  },
  {
   "cell_type": "code",
   "execution_count": 22,
   "metadata": {},
   "outputs": [],
   "source": [
    "# Create airport code city dataframe\n",
    "airport_city_code_df = pd.DataFrame.from_dict(airport_code_city_dict, orient=\"index\", columns=[\"City\", \"State\"])"
   ]
  },
  {
   "cell_type": "code",
   "execution_count": 23,
   "metadata": {},
   "outputs": [
    {
     "data": {
      "text/html": [
       "<div>\n",
       "<style scoped>\n",
       "    .dataframe tbody tr th:only-of-type {\n",
       "        vertical-align: middle;\n",
       "    }\n",
       "\n",
       "    .dataframe tbody tr th {\n",
       "        vertical-align: top;\n",
       "    }\n",
       "\n",
       "    .dataframe thead th {\n",
       "        text-align: right;\n",
       "    }\n",
       "</style>\n",
       "<table border=\"1\" class=\"dataframe\">\n",
       "  <thead>\n",
       "    <tr style=\"text-align: right;\">\n",
       "      <th></th>\n",
       "      <th>City</th>\n",
       "      <th>State</th>\n",
       "    </tr>\n",
       "  </thead>\n",
       "  <tbody>\n",
       "    <tr>\n",
       "      <th>ABR</th>\n",
       "      <td>Aberdeen</td>\n",
       "      <td>SD</td>\n",
       "    </tr>\n",
       "    <tr>\n",
       "      <th>ABI</th>\n",
       "      <td>Abilene</td>\n",
       "      <td>TX</td>\n",
       "    </tr>\n",
       "    <tr>\n",
       "      <th>ADK</th>\n",
       "      <td>Adak Island</td>\n",
       "      <td>AK</td>\n",
       "    </tr>\n",
       "    <tr>\n",
       "      <th>CAK</th>\n",
       "      <td>Akron/Canton</td>\n",
       "      <td>OH</td>\n",
       "    </tr>\n",
       "    <tr>\n",
       "      <th>ALB</th>\n",
       "      <td>Albany</td>\n",
       "      <td>NY</td>\n",
       "    </tr>\n",
       "    <tr>\n",
       "      <th>...</th>\n",
       "      <td>...</td>\n",
       "      <td>...</td>\n",
       "    </tr>\n",
       "    <tr>\n",
       "      <th>ILM</th>\n",
       "      <td>Wilmington</td>\n",
       "      <td>NC</td>\n",
       "    </tr>\n",
       "    <tr>\n",
       "      <th>ORH</th>\n",
       "      <td>Worcester</td>\n",
       "      <td>MA</td>\n",
       "    </tr>\n",
       "    <tr>\n",
       "      <th>WRG</th>\n",
       "      <td>Wrangell</td>\n",
       "      <td>AK</td>\n",
       "    </tr>\n",
       "    <tr>\n",
       "      <th>YAK</th>\n",
       "      <td>Yakutat</td>\n",
       "      <td>AK</td>\n",
       "    </tr>\n",
       "    <tr>\n",
       "      <th>YUM</th>\n",
       "      <td>Yuma</td>\n",
       "      <td>AZ</td>\n",
       "    </tr>\n",
       "  </tbody>\n",
       "</table>\n",
       "<p>322 rows × 2 columns</p>\n",
       "</div>"
      ],
      "text/plain": [
       "             City State\n",
       "ABR      Aberdeen    SD\n",
       "ABI       Abilene    TX\n",
       "ADK   Adak Island    AK\n",
       "CAK  Akron/Canton    OH\n",
       "ALB        Albany    NY\n",
       "..            ...   ...\n",
       "ILM    Wilmington    NC\n",
       "ORH     Worcester    MA\n",
       "WRG      Wrangell    AK\n",
       "YAK       Yakutat    AK\n",
       "YUM          Yuma    AZ\n",
       "\n",
       "[322 rows x 2 columns]"
      ]
     },
     "execution_count": 23,
     "metadata": {},
     "output_type": "execute_result"
    }
   ],
   "source": [
    "airport_city_code_df.head(400)"
   ]
  },
  {
   "cell_type": "code",
   "execution_count": 24,
   "metadata": {},
   "outputs": [],
   "source": [
    "# Reset index to integer from airport code\n",
    "airport_city_code_df.reset_index(inplace=True)\n",
    "airport_city_code_df.rename(columns={\"index\":\"Airport Code\"}, inplace=True)"
   ]
  },
  {
   "cell_type": "code",
   "execution_count": 25,
   "metadata": {},
   "outputs": [
    {
     "data": {
      "text/html": [
       "<div>\n",
       "<style scoped>\n",
       "    .dataframe tbody tr th:only-of-type {\n",
       "        vertical-align: middle;\n",
       "    }\n",
       "\n",
       "    .dataframe tbody tr th {\n",
       "        vertical-align: top;\n",
       "    }\n",
       "\n",
       "    .dataframe thead th {\n",
       "        text-align: right;\n",
       "    }\n",
       "</style>\n",
       "<table border=\"1\" class=\"dataframe\">\n",
       "  <thead>\n",
       "    <tr style=\"text-align: right;\">\n",
       "      <th></th>\n",
       "      <th>Airport Code</th>\n",
       "      <th>City</th>\n",
       "      <th>State</th>\n",
       "    </tr>\n",
       "  </thead>\n",
       "  <tbody>\n",
       "    <tr>\n",
       "      <th>0</th>\n",
       "      <td>ABR</td>\n",
       "      <td>Aberdeen</td>\n",
       "      <td>SD</td>\n",
       "    </tr>\n",
       "    <tr>\n",
       "      <th>1</th>\n",
       "      <td>ABI</td>\n",
       "      <td>Abilene</td>\n",
       "      <td>TX</td>\n",
       "    </tr>\n",
       "    <tr>\n",
       "      <th>2</th>\n",
       "      <td>ADK</td>\n",
       "      <td>Adak Island</td>\n",
       "      <td>AK</td>\n",
       "    </tr>\n",
       "    <tr>\n",
       "      <th>3</th>\n",
       "      <td>CAK</td>\n",
       "      <td>Akron/Canton</td>\n",
       "      <td>OH</td>\n",
       "    </tr>\n",
       "    <tr>\n",
       "      <th>4</th>\n",
       "      <td>ALB</td>\n",
       "      <td>Albany</td>\n",
       "      <td>NY</td>\n",
       "    </tr>\n",
       "  </tbody>\n",
       "</table>\n",
       "</div>"
      ],
      "text/plain": [
       "  Airport Code          City State\n",
       "0          ABR      Aberdeen    SD\n",
       "1          ABI       Abilene    TX\n",
       "2          ADK   Adak Island    AK\n",
       "3          CAK  Akron/Canton    OH\n",
       "4          ALB        Albany    NY"
      ]
     },
     "execution_count": 25,
     "metadata": {},
     "output_type": "execute_result"
    }
   ],
   "source": [
    "airport_city_code_df.head()"
   ]
  },
  {
   "cell_type": "code",
   "execution_count": 26,
   "metadata": {},
   "outputs": [],
   "source": [
    "airport_city_code_df.to_csv(\"flight_data_files/airport_codes_city.csv\", index=False)"
   ]
  },
  {
   "cell_type": "code",
   "execution_count": null,
   "metadata": {},
   "outputs": [],
   "source": []
  }
 ],
 "metadata": {
  "kernelspec": {
   "display_name": "Python 3",
   "language": "python",
   "name": "python3"
  },
  "language_info": {
   "codemirror_mode": {
    "name": "ipython",
    "version": 3
   },
   "file_extension": ".py",
   "mimetype": "text/x-python",
   "name": "python",
   "nbconvert_exporter": "python",
   "pygments_lexer": "ipython3",
   "version": "3.7.7"
  }
 },
 "nbformat": 4,
 "nbformat_minor": 4
}
