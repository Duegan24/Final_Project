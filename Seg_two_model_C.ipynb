{
 "cells": [
  {
   "cell_type": "code",
   "execution_count": 2,
   "metadata": {},
   "outputs": [],
   "source": [
    "# Import Dependencies\n",
    "from path import Path\n",
    "import pandas as pd\n",
    "from sklearn.preprocessing import StandardScaler,OneHotEncoder, LabelEncoder\n",
    "from sklearn.model_selection import train_test_split\n",
    "from sklearn.linear_model import LogisticRegression\n",
    "from sklearn.metrics import confusion_matrix\n",
    "from collections import defaultdict"
   ]
  },
  {
   "cell_type": "markdown",
   "metadata": {},
   "source": [
    "#  Adjuments Needed:\n",
    "onehotencoding could not be applied - too resources intensive"
   ]
  },
  {
   "cell_type": "code",
   "execution_count": 3,
   "metadata": {},
   "outputs": [
    {
     "data": {
      "text/html": [
       "<div>\n",
       "<style scoped>\n",
       "    .dataframe tbody tr th:only-of-type {\n",
       "        vertical-align: middle;\n",
       "    }\n",
       "\n",
       "    .dataframe tbody tr th {\n",
       "        vertical-align: top;\n",
       "    }\n",
       "\n",
       "    .dataframe thead th {\n",
       "        text-align: right;\n",
       "    }\n",
       "</style>\n",
       "<table border=\"1\" class=\"dataframe\">\n",
       "  <thead>\n",
       "    <tr style=\"text-align: right;\">\n",
       "      <th></th>\n",
       "      <th>DAY_OF_MONTH</th>\n",
       "      <th>DAY_OF_WEEK</th>\n",
       "      <th>OP_CARRIER_AIRLINE_ID</th>\n",
       "      <th>OP_CARRIER</th>\n",
       "      <th>TAIL_NUM</th>\n",
       "      <th>OP_CARRIER_FL_NUM</th>\n",
       "      <th>ORIGIN_AIRPORT_ID</th>\n",
       "      <th>ORIGIN_AIRPORT_SEQ_ID</th>\n",
       "      <th>ORIGIN</th>\n",
       "      <th>DEST_AIRPORT_ID</th>\n",
       "      <th>DEST_AIRPORT_SEQ_ID</th>\n",
       "      <th>DEST</th>\n",
       "      <th>DEP_TIME</th>\n",
       "      <th>DEP_DEL15</th>\n",
       "      <th>DEP_TIME_BLK</th>\n",
       "      <th>ARR_TIME</th>\n",
       "      <th>ARR_DEL15</th>\n",
       "      <th>CANCELLED</th>\n",
       "      <th>DIVERTED</th>\n",
       "      <th>DISTANCE</th>\n",
       "    </tr>\n",
       "  </thead>\n",
       "  <tbody>\n",
       "    <tr>\n",
       "      <th>0</th>\n",
       "      <td>1</td>\n",
       "      <td>2</td>\n",
       "      <td>20363</td>\n",
       "      <td>9E</td>\n",
       "      <td>N8688C</td>\n",
       "      <td>3280</td>\n",
       "      <td>11953</td>\n",
       "      <td>1195302</td>\n",
       "      <td>GNV</td>\n",
       "      <td>10397</td>\n",
       "      <td>1039707</td>\n",
       "      <td>ATL</td>\n",
       "      <td>601.0</td>\n",
       "      <td>0.0</td>\n",
       "      <td>0600-0659</td>\n",
       "      <td>722.0</td>\n",
       "      <td>0.0</td>\n",
       "      <td>0</td>\n",
       "      <td>0</td>\n",
       "      <td>300</td>\n",
       "    </tr>\n",
       "    <tr>\n",
       "      <th>1</th>\n",
       "      <td>1</td>\n",
       "      <td>2</td>\n",
       "      <td>20363</td>\n",
       "      <td>9E</td>\n",
       "      <td>N348PQ</td>\n",
       "      <td>3281</td>\n",
       "      <td>13487</td>\n",
       "      <td>1348702</td>\n",
       "      <td>MSP</td>\n",
       "      <td>11193</td>\n",
       "      <td>1119302</td>\n",
       "      <td>CVG</td>\n",
       "      <td>1359.0</td>\n",
       "      <td>0.0</td>\n",
       "      <td>1400-1459</td>\n",
       "      <td>1633.0</td>\n",
       "      <td>0.0</td>\n",
       "      <td>0</td>\n",
       "      <td>0</td>\n",
       "      <td>596</td>\n",
       "    </tr>\n",
       "    <tr>\n",
       "      <th>2</th>\n",
       "      <td>1</td>\n",
       "      <td>2</td>\n",
       "      <td>20363</td>\n",
       "      <td>9E</td>\n",
       "      <td>N8896A</td>\n",
       "      <td>3282</td>\n",
       "      <td>11433</td>\n",
       "      <td>1143302</td>\n",
       "      <td>DTW</td>\n",
       "      <td>11193</td>\n",
       "      <td>1119302</td>\n",
       "      <td>CVG</td>\n",
       "      <td>1215.0</td>\n",
       "      <td>0.0</td>\n",
       "      <td>1200-1259</td>\n",
       "      <td>1329.0</td>\n",
       "      <td>0.0</td>\n",
       "      <td>0</td>\n",
       "      <td>0</td>\n",
       "      <td>229</td>\n",
       "    </tr>\n",
       "    <tr>\n",
       "      <th>3</th>\n",
       "      <td>1</td>\n",
       "      <td>2</td>\n",
       "      <td>20363</td>\n",
       "      <td>9E</td>\n",
       "      <td>N8886A</td>\n",
       "      <td>3283</td>\n",
       "      <td>15249</td>\n",
       "      <td>1524906</td>\n",
       "      <td>TLH</td>\n",
       "      <td>10397</td>\n",
       "      <td>1039707</td>\n",
       "      <td>ATL</td>\n",
       "      <td>1521.0</td>\n",
       "      <td>0.0</td>\n",
       "      <td>1500-1559</td>\n",
       "      <td>1625.0</td>\n",
       "      <td>0.0</td>\n",
       "      <td>0</td>\n",
       "      <td>0</td>\n",
       "      <td>223</td>\n",
       "    </tr>\n",
       "    <tr>\n",
       "      <th>4</th>\n",
       "      <td>1</td>\n",
       "      <td>2</td>\n",
       "      <td>20363</td>\n",
       "      <td>9E</td>\n",
       "      <td>N8974C</td>\n",
       "      <td>3284</td>\n",
       "      <td>10397</td>\n",
       "      <td>1039707</td>\n",
       "      <td>ATL</td>\n",
       "      <td>11778</td>\n",
       "      <td>1177801</td>\n",
       "      <td>FSM</td>\n",
       "      <td>1847.0</td>\n",
       "      <td>0.0</td>\n",
       "      <td>1900-1959</td>\n",
       "      <td>1940.0</td>\n",
       "      <td>0.0</td>\n",
       "      <td>0</td>\n",
       "      <td>0</td>\n",
       "      <td>579</td>\n",
       "    </tr>\n",
       "  </tbody>\n",
       "</table>\n",
       "</div>"
      ],
      "text/plain": [
       "   DAY_OF_MONTH  DAY_OF_WEEK  OP_CARRIER_AIRLINE_ID OP_CARRIER TAIL_NUM  \\\n",
       "0             1            2                  20363         9E   N8688C   \n",
       "1             1            2                  20363         9E   N348PQ   \n",
       "2             1            2                  20363         9E   N8896A   \n",
       "3             1            2                  20363         9E   N8886A   \n",
       "4             1            2                  20363         9E   N8974C   \n",
       "\n",
       "   OP_CARRIER_FL_NUM  ORIGIN_AIRPORT_ID  ORIGIN_AIRPORT_SEQ_ID ORIGIN  \\\n",
       "0               3280              11953                1195302    GNV   \n",
       "1               3281              13487                1348702    MSP   \n",
       "2               3282              11433                1143302    DTW   \n",
       "3               3283              15249                1524906    TLH   \n",
       "4               3284              10397                1039707    ATL   \n",
       "\n",
       "   DEST_AIRPORT_ID  DEST_AIRPORT_SEQ_ID DEST  DEP_TIME  DEP_DEL15  \\\n",
       "0            10397              1039707  ATL     601.0        0.0   \n",
       "1            11193              1119302  CVG    1359.0        0.0   \n",
       "2            11193              1119302  CVG    1215.0        0.0   \n",
       "3            10397              1039707  ATL    1521.0        0.0   \n",
       "4            11778              1177801  FSM    1847.0        0.0   \n",
       "\n",
       "  DEP_TIME_BLK  ARR_TIME  ARR_DEL15  CANCELLED  DIVERTED  DISTANCE  \n",
       "0    0600-0659     722.0        0.0          0         0       300  \n",
       "1    1400-1459    1633.0        0.0          0         0       596  \n",
       "2    1200-1259    1329.0        0.0          0         0       229  \n",
       "3    1500-1559    1625.0        0.0          0         0       223  \n",
       "4    1900-1959    1940.0        0.0          0         0       579  "
      ]
     },
     "execution_count": 3,
     "metadata": {},
     "output_type": "execute_result"
    }
   ],
   "source": [
    "# Import testing dataset\n",
    "flights_2019 = pd.read_csv('Database/Data/jan_19_clean_data.csv')\n",
    "flights_2020 = pd.read_csv('Database/Data/jan_20_clean_data.csv')\n",
    "\n",
    "flights_2019.head()"
   ]
  },
  {
   "cell_type": "code",
   "execution_count": 4,
   "metadata": {},
   "outputs": [
    {
     "data": {
      "text/plain": [
       "565963"
      ]
     },
     "execution_count": 4,
     "metadata": {},
     "output_type": "execute_result"
    }
   ],
   "source": [
    "flights_2019.DAY_OF_MONTH.count()"
   ]
  },
  {
   "cell_type": "code",
   "execution_count": 5,
   "metadata": {},
   "outputs": [
    {
     "data": {
      "text/plain": [
       "565963"
      ]
     },
     "execution_count": 5,
     "metadata": {},
     "output_type": "execute_result"
    }
   ],
   "source": [
    "flights_2019.dropna(axis=0).DAY_OF_MONTH.count()"
   ]
  },
  {
   "cell_type": "code",
   "execution_count": 6,
   "metadata": {},
   "outputs": [
    {
     "data": {
      "text/plain": [
       "599268"
      ]
     },
     "execution_count": 6,
     "metadata": {},
     "output_type": "execute_result"
    }
   ],
   "source": [
    "flights_2020.DAY_OF_MONTH.count()"
   ]
  },
  {
   "cell_type": "code",
   "execution_count": 7,
   "metadata": {},
   "outputs": [
    {
     "data": {
      "text/plain": [
       "599268"
      ]
     },
     "execution_count": 7,
     "metadata": {},
     "output_type": "execute_result"
    }
   ],
   "source": [
    "flights_2020.dropna(axis=0).DAY_OF_MONTH.count()"
   ]
  },
  {
   "cell_type": "code",
   "execution_count": 8,
   "metadata": {},
   "outputs": [],
   "source": [
    "flights = pd.concat([flights_2019, flights_2020])"
   ]
  },
  {
   "cell_type": "code",
   "execution_count": 9,
   "metadata": {},
   "outputs": [
    {
     "data": {
      "text/plain": [
       "Index(['DAY_OF_MONTH', 'DAY_OF_WEEK', 'OP_CARRIER_AIRLINE_ID', 'OP_CARRIER',\n",
       "       'TAIL_NUM', 'OP_CARRIER_FL_NUM', 'ORIGIN_AIRPORT_ID',\n",
       "       'ORIGIN_AIRPORT_SEQ_ID', 'ORIGIN', 'DEST_AIRPORT_ID',\n",
       "       'DEST_AIRPORT_SEQ_ID', 'DEST', 'DEP_TIME', 'DEP_DEL15', 'DEP_TIME_BLK',\n",
       "       'ARR_TIME', 'ARR_DEL15', 'CANCELLED', 'DIVERTED', 'DISTANCE'],\n",
       "      dtype='object')"
      ]
     },
     "execution_count": 9,
     "metadata": {},
     "output_type": "execute_result"
    }
   ],
   "source": [
    "flights.columns"
   ]
  },
  {
   "cell_type": "code",
   "execution_count": 10,
   "metadata": {},
   "outputs": [
    {
     "data": {
      "text/html": [
       "<div>\n",
       "<style scoped>\n",
       "    .dataframe tbody tr th:only-of-type {\n",
       "        vertical-align: middle;\n",
       "    }\n",
       "\n",
       "    .dataframe tbody tr th {\n",
       "        vertical-align: top;\n",
       "    }\n",
       "\n",
       "    .dataframe thead th {\n",
       "        text-align: right;\n",
       "    }\n",
       "</style>\n",
       "<table border=\"1\" class=\"dataframe\">\n",
       "  <thead>\n",
       "    <tr style=\"text-align: right;\">\n",
       "      <th></th>\n",
       "      <th>DAY_OF_MONTH</th>\n",
       "      <th>DAY_OF_WEEK</th>\n",
       "      <th>OP_CARRIER</th>\n",
       "      <th>ORIGIN</th>\n",
       "      <th>DEST</th>\n",
       "      <th>DEP_DEL15</th>\n",
       "      <th>DISTANCE</th>\n",
       "      <th>DEP_TIME_BLK</th>\n",
       "      <th>TAIL_NUM</th>\n",
       "      <th>DEP_TIME</th>\n",
       "    </tr>\n",
       "  </thead>\n",
       "  <tbody>\n",
       "    <tr>\n",
       "      <th>0</th>\n",
       "      <td>1</td>\n",
       "      <td>2</td>\n",
       "      <td>9E</td>\n",
       "      <td>GNV</td>\n",
       "      <td>ATL</td>\n",
       "      <td>0.0</td>\n",
       "      <td>300</td>\n",
       "      <td>0600-0659</td>\n",
       "      <td>N8688C</td>\n",
       "      <td>601.0</td>\n",
       "    </tr>\n",
       "    <tr>\n",
       "      <th>1</th>\n",
       "      <td>1</td>\n",
       "      <td>2</td>\n",
       "      <td>9E</td>\n",
       "      <td>MSP</td>\n",
       "      <td>CVG</td>\n",
       "      <td>0.0</td>\n",
       "      <td>596</td>\n",
       "      <td>1400-1459</td>\n",
       "      <td>N348PQ</td>\n",
       "      <td>1359.0</td>\n",
       "    </tr>\n",
       "    <tr>\n",
       "      <th>2</th>\n",
       "      <td>1</td>\n",
       "      <td>2</td>\n",
       "      <td>9E</td>\n",
       "      <td>DTW</td>\n",
       "      <td>CVG</td>\n",
       "      <td>0.0</td>\n",
       "      <td>229</td>\n",
       "      <td>1200-1259</td>\n",
       "      <td>N8896A</td>\n",
       "      <td>1215.0</td>\n",
       "    </tr>\n",
       "    <tr>\n",
       "      <th>3</th>\n",
       "      <td>1</td>\n",
       "      <td>2</td>\n",
       "      <td>9E</td>\n",
       "      <td>TLH</td>\n",
       "      <td>ATL</td>\n",
       "      <td>0.0</td>\n",
       "      <td>223</td>\n",
       "      <td>1500-1559</td>\n",
       "      <td>N8886A</td>\n",
       "      <td>1521.0</td>\n",
       "    </tr>\n",
       "    <tr>\n",
       "      <th>4</th>\n",
       "      <td>1</td>\n",
       "      <td>2</td>\n",
       "      <td>9E</td>\n",
       "      <td>ATL</td>\n",
       "      <td>FSM</td>\n",
       "      <td>0.0</td>\n",
       "      <td>579</td>\n",
       "      <td>1900-1959</td>\n",
       "      <td>N8974C</td>\n",
       "      <td>1847.0</td>\n",
       "    </tr>\n",
       "  </tbody>\n",
       "</table>\n",
       "</div>"
      ],
      "text/plain": [
       "   DAY_OF_MONTH  DAY_OF_WEEK OP_CARRIER ORIGIN DEST  DEP_DEL15  DISTANCE  \\\n",
       "0             1            2         9E    GNV  ATL        0.0       300   \n",
       "1             1            2         9E    MSP  CVG        0.0       596   \n",
       "2             1            2         9E    DTW  CVG        0.0       229   \n",
       "3             1            2         9E    TLH  ATL        0.0       223   \n",
       "4             1            2         9E    ATL  FSM        0.0       579   \n",
       "\n",
       "  DEP_TIME_BLK TAIL_NUM  DEP_TIME  \n",
       "0    0600-0659   N8688C     601.0  \n",
       "1    1400-1459   N348PQ    1359.0  \n",
       "2    1200-1259   N8896A    1215.0  \n",
       "3    1500-1559   N8886A    1521.0  \n",
       "4    1900-1959   N8974C    1847.0  "
      ]
     },
     "execution_count": 10,
     "metadata": {},
     "output_type": "execute_result"
    }
   ],
   "source": [
    "#Create a new dataframe with only relavent testing data that we will be collecting from the user or building a database for.\n",
    "filteredList = ['DAY_OF_MONTH', 'DAY_OF_WEEK', 'OP_CARRIER', 'ORIGIN', 'DEST', 'DEP_DEL15', 'DISTANCE'\n",
    "                ,'DEP_TIME_BLK', 'TAIL_NUM', 'DEP_TIME']\n",
    "\n",
    "columnsRemoved = ['OP_CARRIER_AIRLINE_ID', 'DEST_AIRPORT_SEQ_ID', 'ORIGIN_AIRPORT_SEQ_ID' , 'ORIGIN_AIRPORT_ID'\n",
    "                  , 'OP_CARRIER_FL_NUM', 'DEST_AIRPORT_ID', 'ARR_TIME', 'ARR_DEL15', 'CANCELLED', 'DIVERTED', 'DEP_TIME']\n",
    "\n",
    "machine_model_df = flights.filter(filteredList)\n",
    "machine_model_df.head()"
   ]
  },
  {
   "cell_type": "code",
   "execution_count": 12,
   "metadata": {},
   "outputs": [],
   "source": [
    "machine_model_df.DEP_DEL15 = machine_model_df.DEP_DEL15.astype('int')\n",
    "machine_model_df.DEP_TIME = machine_model_df.DEP_TIME.astype('int')"
   ]
  },
  {
   "cell_type": "code",
   "execution_count": 13,
   "metadata": {},
   "outputs": [
    {
     "data": {
      "text/plain": [
       "DAY_OF_MONTH     int64\n",
       "DAY_OF_WEEK      int64\n",
       "OP_CARRIER      object\n",
       "ORIGIN          object\n",
       "DEST            object\n",
       "DEP_DEL15        int32\n",
       "DISTANCE         int64\n",
       "DEP_TIME_BLK    object\n",
       "TAIL_NUM        object\n",
       "DEP_TIME         int32\n",
       "dtype: object"
      ]
     },
     "execution_count": 13,
     "metadata": {},
     "output_type": "execute_result"
    }
   ],
   "source": [
    "machine_model_df.dtypes"
   ]
  },
  {
   "cell_type": "code",
   "execution_count": 14,
   "metadata": {},
   "outputs": [
    {
     "data": {
      "text/plain": [
       "OP_CARRIER      object\n",
       "ORIGIN          object\n",
       "DEST            object\n",
       "DEP_TIME_BLK    object\n",
       "TAIL_NUM        object\n",
       "dtype: object"
      ]
     },
     "execution_count": 14,
     "metadata": {},
     "output_type": "execute_result"
    }
   ],
   "source": [
    "machine_model_df.dtypes[machine_model_df.dtypes == \"object\"]"
   ]
  },
  {
   "cell_type": "code",
   "execution_count": 16,
   "metadata": {},
   "outputs": [
    {
     "data": {
      "text/plain": [
       "OP_CARRIER        17\n",
       "ORIGIN           353\n",
       "DEST             353\n",
       "DEP_TIME_BLK      19\n",
       "TAIL_NUM        5854\n",
       "dtype: int64"
      ]
     },
     "execution_count": 16,
     "metadata": {},
     "output_type": "execute_result"
    }
   ],
   "source": [
    "# Generate our categorical variable list\n",
    "flights_cat = machine_model_df.dtypes[machine_model_df.dtypes == \"object\"].index.tolist()\n",
    "\n",
    "# Check the number of unique values in each column\n",
    "machine_model_df[flights_cat].nunique()"
   ]
  },
  {
   "cell_type": "code",
   "execution_count": 17,
   "metadata": {},
   "outputs": [],
   "source": [
    "# Tranform each column with LabelEncoder (https://stackoverflow.com/questions/24458645/label-encoding-across-multiple-columns-in-scikit-learn)\n",
    "d = defaultdict(LabelEncoder)\n",
    "\n",
    "df = machine_model_df[flights_cat]\n",
    "\n",
    "# Encoding the variable\n",
    "encode_df = df.apply(lambda x: d[x.name].fit_transform(x))\n",
    "\n",
    "# # Inverse the encoded\n",
    "# fit.apply(lambda x: d[x.name].inverse_transform(x))\n",
    "\n",
    "# # Using the dictionary to label future data\n",
    "# df.apply(lambda x: d[x.name].transform(x))"
   ]
  },
  {
   "cell_type": "code",
   "execution_count": 18,
   "metadata": {},
   "outputs": [
    {
     "data": {
      "text/plain": [
       "OP_CARRIER        17\n",
       "ORIGIN           353\n",
       "DEST             353\n",
       "DEP_TIME_BLK      19\n",
       "TAIL_NUM        5854\n",
       "dtype: int64"
      ]
     },
     "execution_count": 18,
     "metadata": {},
     "output_type": "execute_result"
    }
   ],
   "source": [
    "encode_df.nunique()"
   ]
  },
  {
   "cell_type": "code",
   "execution_count": 19,
   "metadata": {},
   "outputs": [
    {
     "data": {
      "text/html": [
       "<div>\n",
       "<style scoped>\n",
       "    .dataframe tbody tr th:only-of-type {\n",
       "        vertical-align: middle;\n",
       "    }\n",
       "\n",
       "    .dataframe tbody tr th {\n",
       "        vertical-align: top;\n",
       "    }\n",
       "\n",
       "    .dataframe thead th {\n",
       "        text-align: right;\n",
       "    }\n",
       "</style>\n",
       "<table border=\"1\" class=\"dataframe\">\n",
       "  <thead>\n",
       "    <tr style=\"text-align: right;\">\n",
       "      <th></th>\n",
       "      <th>DAY_OF_MONTH</th>\n",
       "      <th>DAY_OF_WEEK</th>\n",
       "      <th>DEP_DEL15</th>\n",
       "      <th>DISTANCE</th>\n",
       "      <th>DEP_TIME</th>\n",
       "      <th>OP_CARRIER</th>\n",
       "      <th>ORIGIN</th>\n",
       "      <th>DEST</th>\n",
       "      <th>DEP_TIME_BLK</th>\n",
       "      <th>TAIL_NUM</th>\n",
       "    </tr>\n",
       "  </thead>\n",
       "  <tbody>\n",
       "    <tr>\n",
       "      <th>0</th>\n",
       "      <td>1</td>\n",
       "      <td>2</td>\n",
       "      <td>0</td>\n",
       "      <td>300</td>\n",
       "      <td>601</td>\n",
       "      <td>0</td>\n",
       "      <td>130</td>\n",
       "      <td>19</td>\n",
       "      <td>1</td>\n",
       "      <td>4648</td>\n",
       "    </tr>\n",
       "    <tr>\n",
       "      <th>1</th>\n",
       "      <td>1</td>\n",
       "      <td>2</td>\n",
       "      <td>0</td>\n",
       "      <td>596</td>\n",
       "      <td>1359</td>\n",
       "      <td>0</td>\n",
       "      <td>227</td>\n",
       "      <td>82</td>\n",
       "      <td>9</td>\n",
       "      <td>1542</td>\n",
       "    </tr>\n",
       "    <tr>\n",
       "      <th>2</th>\n",
       "      <td>1</td>\n",
       "      <td>2</td>\n",
       "      <td>0</td>\n",
       "      <td>229</td>\n",
       "      <td>1215</td>\n",
       "      <td>0</td>\n",
       "      <td>97</td>\n",
       "      <td>82</td>\n",
       "      <td>7</td>\n",
       "      <td>4810</td>\n",
       "    </tr>\n",
       "    <tr>\n",
       "      <th>3</th>\n",
       "      <td>1</td>\n",
       "      <td>2</td>\n",
       "      <td>0</td>\n",
       "      <td>223</td>\n",
       "      <td>1521</td>\n",
       "      <td>0</td>\n",
       "      <td>331</td>\n",
       "      <td>19</td>\n",
       "      <td>10</td>\n",
       "      <td>4806</td>\n",
       "    </tr>\n",
       "    <tr>\n",
       "      <th>4</th>\n",
       "      <td>1</td>\n",
       "      <td>2</td>\n",
       "      <td>0</td>\n",
       "      <td>579</td>\n",
       "      <td>1847</td>\n",
       "      <td>0</td>\n",
       "      <td>19</td>\n",
       "      <td>122</td>\n",
       "      <td>14</td>\n",
       "      <td>4867</td>\n",
       "    </tr>\n",
       "  </tbody>\n",
       "</table>\n",
       "</div>"
      ],
      "text/plain": [
       "   DAY_OF_MONTH  DAY_OF_WEEK  DEP_DEL15  DISTANCE  DEP_TIME  OP_CARRIER  \\\n",
       "0             1            2          0       300       601           0   \n",
       "1             1            2          0       596      1359           0   \n",
       "2             1            2          0       229      1215           0   \n",
       "3             1            2          0       223      1521           0   \n",
       "4             1            2          0       579      1847           0   \n",
       "\n",
       "   ORIGIN  DEST  DEP_TIME_BLK  TAIL_NUM  \n",
       "0     130    19             1      4648  \n",
       "1     227    82             9      1542  \n",
       "2      97    82             7      4810  \n",
       "3     331    19            10      4806  \n",
       "4      19   122            14      4867  "
      ]
     },
     "execution_count": 19,
     "metadata": {},
     "output_type": "execute_result"
    }
   ],
   "source": [
    "# Concatenate the encoded columns\n",
    "machine_model_df_encoded = machine_model_df.drop(flights_cat, axis=1)\n",
    "machine_model_df_encoded = pd.concat([machine_model_df_encoded, encode_df], axis = 1)\n",
    "machine_model_df_encoded.head()"
   ]
  },
  {
   "cell_type": "code",
   "execution_count": 20,
   "metadata": {},
   "outputs": [],
   "source": [
    "# Create Feature and Target Variables\n",
    "y = machine_model_df_encoded[\"DEP_DEL15\"]\n",
    "X = machine_model_df_encoded.drop(columns=\"DEP_DEL15\")"
   ]
  },
  {
   "cell_type": "code",
   "execution_count": 21,
   "metadata": {},
   "outputs": [
    {
     "data": {
      "text/plain": [
       "(873923, 9)"
      ]
     },
     "execution_count": 21,
     "metadata": {},
     "output_type": "execute_result"
    }
   ],
   "source": [
    "# Create X & Y train and test variables\n",
    "X_train, X_test, y_train, y_test = train_test_split(X, \n",
    "                                                    y, \n",
    "                                                    random_state=34, \n",
    "                                                    stratify=y)\n",
    "X_train.shape"
   ]
  },
  {
   "cell_type": "code",
   "execution_count": 22,
   "metadata": {},
   "outputs": [],
   "source": [
    "# Preprocess numerical data for neural network\n",
    "\n",
    "# Create a StandardScaler instance\n",
    "scaler = StandardScaler()\n",
    "\n",
    "# Fit the StandardScaler\n",
    "X_scaler = scaler.fit(X_train)\n",
    "\n",
    "# Scale the data\n",
    "X_train_scaled = X_scaler.transform(X_train)\n",
    "X_test_scaled = X_scaler.transform(X_test)"
   ]
  },
  {
   "cell_type": "code",
   "execution_count": 43,
   "metadata": {},
   "outputs": [],
   "source": [
    "# Create the Logistic Regression Model\n",
    "classifier = LogisticRegression(solver='lbfgs',\n",
    "                                max_iter=2000,\n",
    "                                random_state=10)"
   ]
  },
  {
   "cell_type": "code",
   "execution_count": 44,
   "metadata": {},
   "outputs": [
    {
     "data": {
      "text/plain": [
       "LogisticRegression(max_iter=20000, random_state=10)"
      ]
     },
     "execution_count": 44,
     "metadata": {},
     "output_type": "execute_result"
    }
   ],
   "source": [
    "# Fit the model\n",
    "classifier.fit(X_train_scaled, y_train)"
   ]
  },
  {
   "cell_type": "code",
   "execution_count": 45,
   "metadata": {},
   "outputs": [
    {
     "data": {
      "text/html": [
       "<div>\n",
       "<style scoped>\n",
       "    .dataframe tbody tr th:only-of-type {\n",
       "        vertical-align: middle;\n",
       "    }\n",
       "\n",
       "    .dataframe tbody tr th {\n",
       "        vertical-align: top;\n",
       "    }\n",
       "\n",
       "    .dataframe thead th {\n",
       "        text-align: right;\n",
       "    }\n",
       "</style>\n",
       "<table border=\"1\" class=\"dataframe\">\n",
       "  <thead>\n",
       "    <tr style=\"text-align: right;\">\n",
       "      <th></th>\n",
       "      <th>Prediction</th>\n",
       "      <th>Actual</th>\n",
       "    </tr>\n",
       "  </thead>\n",
       "  <tbody>\n",
       "    <tr>\n",
       "      <th>0</th>\n",
       "      <td>0</td>\n",
       "      <td>0</td>\n",
       "    </tr>\n",
       "    <tr>\n",
       "      <th>1</th>\n",
       "      <td>0</td>\n",
       "      <td>0</td>\n",
       "    </tr>\n",
       "    <tr>\n",
       "      <th>2</th>\n",
       "      <td>0</td>\n",
       "      <td>0</td>\n",
       "    </tr>\n",
       "    <tr>\n",
       "      <th>3</th>\n",
       "      <td>0</td>\n",
       "      <td>0</td>\n",
       "    </tr>\n",
       "    <tr>\n",
       "      <th>4</th>\n",
       "      <td>0</td>\n",
       "      <td>0</td>\n",
       "    </tr>\n",
       "    <tr>\n",
       "      <th>5</th>\n",
       "      <td>0</td>\n",
       "      <td>0</td>\n",
       "    </tr>\n",
       "    <tr>\n",
       "      <th>6</th>\n",
       "      <td>0</td>\n",
       "      <td>0</td>\n",
       "    </tr>\n",
       "    <tr>\n",
       "      <th>7</th>\n",
       "      <td>0</td>\n",
       "      <td>0</td>\n",
       "    </tr>\n",
       "    <tr>\n",
       "      <th>8</th>\n",
       "      <td>0</td>\n",
       "      <td>0</td>\n",
       "    </tr>\n",
       "    <tr>\n",
       "      <th>9</th>\n",
       "      <td>0</td>\n",
       "      <td>0</td>\n",
       "    </tr>\n",
       "    <tr>\n",
       "      <th>10</th>\n",
       "      <td>0</td>\n",
       "      <td>0</td>\n",
       "    </tr>\n",
       "    <tr>\n",
       "      <th>11</th>\n",
       "      <td>0</td>\n",
       "      <td>0</td>\n",
       "    </tr>\n",
       "    <tr>\n",
       "      <th>12</th>\n",
       "      <td>0</td>\n",
       "      <td>1</td>\n",
       "    </tr>\n",
       "    <tr>\n",
       "      <th>13</th>\n",
       "      <td>0</td>\n",
       "      <td>0</td>\n",
       "    </tr>\n",
       "    <tr>\n",
       "      <th>14</th>\n",
       "      <td>0</td>\n",
       "      <td>0</td>\n",
       "    </tr>\n",
       "    <tr>\n",
       "      <th>15</th>\n",
       "      <td>0</td>\n",
       "      <td>0</td>\n",
       "    </tr>\n",
       "    <tr>\n",
       "      <th>16</th>\n",
       "      <td>0</td>\n",
       "      <td>0</td>\n",
       "    </tr>\n",
       "    <tr>\n",
       "      <th>17</th>\n",
       "      <td>0</td>\n",
       "      <td>1</td>\n",
       "    </tr>\n",
       "    <tr>\n",
       "      <th>18</th>\n",
       "      <td>0</td>\n",
       "      <td>0</td>\n",
       "    </tr>\n",
       "    <tr>\n",
       "      <th>19</th>\n",
       "      <td>1</td>\n",
       "      <td>1</td>\n",
       "    </tr>\n",
       "  </tbody>\n",
       "</table>\n",
       "</div>"
      ],
      "text/plain": [
       "    Prediction  Actual\n",
       "0            0       0\n",
       "1            0       0\n",
       "2            0       0\n",
       "3            0       0\n",
       "4            0       0\n",
       "5            0       0\n",
       "6            0       0\n",
       "7            0       0\n",
       "8            0       0\n",
       "9            0       0\n",
       "10           0       0\n",
       "11           0       0\n",
       "12           0       1\n",
       "13           0       0\n",
       "14           0       0\n",
       "15           0       0\n",
       "16           0       0\n",
       "17           0       1\n",
       "18           0       0\n",
       "19           1       1"
      ]
     },
     "execution_count": 45,
     "metadata": {},
     "output_type": "execute_result"
    }
   ],
   "source": [
    "# Make predictions \n",
    "y_pred = classifier.predict(X_test_scaled)\n",
    "results = pd.DataFrame({\"Prediction\": y_pred, \"Actual\": y_test}).reset_index(drop=True)\n",
    "results.head(20)"
   ]
  },
  {
   "cell_type": "code",
   "execution_count": 46,
   "metadata": {},
   "outputs": [
    {
     "name": "stdout",
     "output_type": "stream",
     "text": [
      "              precision    recall  f1-score   support\n",
      "\n",
      "           0       0.88      1.00      0.94    246370\n",
      "           1       1.00      0.26      0.41     44938\n",
      "\n",
      "    accuracy                           0.89    291308\n",
      "   macro avg       0.94      0.63      0.67    291308\n",
      "weighted avg       0.90      0.89      0.86    291308\n",
      "\n"
     ]
    }
   ],
   "source": [
    "# Because dataset is imbalanced we cant use accuracy metric\n",
    "from sklearn import metrics\n",
    "print(metrics.classification_report(y_test, y_pred))"
   ]
  },
  {
   "cell_type": "code",
   "execution_count": 47,
   "metadata": {},
   "outputs": [
    {
     "data": {
      "text/plain": [
       "array([[246343,     27],\n",
       "       [ 33373,  11565]], dtype=int64)"
      ]
     },
     "execution_count": 47,
     "metadata": {},
     "output_type": "execute_result"
    }
   ],
   "source": [
    "confusion_matrix(y_test, y_pred)"
   ]
  },
  {
   "cell_type": "code",
   "execution_count": null,
   "metadata": {},
   "outputs": [],
   "source": []
  }
 ],
 "metadata": {
  "kernelspec": {
   "display_name": "mlenv",
   "language": "python",
   "name": "mlenv"
  },
  "language_info": {
   "codemirror_mode": {
    "name": "ipython",
    "version": 3
   },
   "file_extension": ".py",
   "mimetype": "text/x-python",
   "name": "python",
   "nbconvert_exporter": "python",
   "pygments_lexer": "ipython3",
   "version": "3.7.6"
  }
 },
 "nbformat": 4,
 "nbformat_minor": 4
}
